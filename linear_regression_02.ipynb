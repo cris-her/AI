{
  "nbformat": 4,
  "nbformat_minor": 0,
  "metadata": {
    "colab": {
      "name": "linear_regression_02.ipynb",
      "provenance": [],
      "authorship_tag": "ABX9TyOQYbROuM58gEYSl/WpheAr",
      "include_colab_link": true
    },
    "kernelspec": {
      "name": "python3",
      "display_name": "Python 3"
    }
  },
  "cells": [
    {
      "cell_type": "markdown",
      "metadata": {
        "id": "view-in-github",
        "colab_type": "text"
      },
      "source": [
        "<a href=\"https://colab.research.google.com/github/cris-her/AI/blob/master/linear_regression_02.ipynb\" target=\"_parent\"><img src=\"https://colab.research.google.com/assets/colab-badge.svg\" alt=\"Open In Colab\"/></a>"
      ]
    },
    {
      "cell_type": "code",
      "metadata": {
        "id": "cpBdL-16jkUT"
      },
      "source": [
        "import torch\n",
        "import numpy as np\n",
        "import torch.nn as nn #relacion lineal \n",
        "import torch.optim as optim\n",
        "\n",
        "import matplotlib.pyplot as plt"
      ],
      "execution_count": 1,
      "outputs": []
    },
    {
      "cell_type": "markdown",
      "metadata": {
        "id": "X9dHJqQ-kNWu"
      },
      "source": [
        "# **Regresión Lineal**"
      ]
    },
    {
      "cell_type": "code",
      "metadata": {
        "id": "-_AUeft7j0G8",
        "outputId": "b450dfcf-30ec-4262-f6db-2364f6ca28b8",
        "colab": {
          "base_uri": "https://localhost:8080/",
          "height": 282
        }
      },
      "source": [
        "# Unidades vendidas e autos explicadas por los precios\n",
        "car_prices = [5,6,7,8,9,10]\n",
        "units_sold = [8.5, 8, 7.5, 7.0, 6.5, 6.0]\n",
        "\n",
        "plt.scatter(car_prices, units_sold)"
      ],
      "execution_count": 2,
      "outputs": [
        {
          "output_type": "execute_result",
          "data": {
            "text/plain": [
              "<matplotlib.collections.PathCollection at 0x7fc071099d68>"
            ]
          },
          "metadata": {
            "tags": []
          },
          "execution_count": 2
        },
        {
          "output_type": "display_data",
          "data": {
            "image/png": "[encoded data removed]",
            "text/plain": [
              "<Figure size 432x288 with 1 Axes>"
            ]
          },
          "metadata": {
            "tags": [],
            "needs_background": "light"
          }
        }
      ]
    },
    {
      "cell_type": "code",
      "metadata": {
        "id": "25capT5aj4sv",
        "outputId": "ce9d75cc-94c0-4be1-dc97-ab2958172272",
        "colab": {
          "base_uri": "https://localhost:8080/"
        }
      },
      "source": [
        "prices_array = np.array(car_prices).reshape(-1,1)\n",
        "units_array = np.array(units_sold).reshape(-1,1)\n",
        "\n",
        "print(prices_array)\n",
        "\n",
        "type(prices_array)"
      ],
      "execution_count": 3,
      "outputs": [
        {
          "output_type": "stream",
          "text": [
            "[[ 5]\n",
            " [ 6]\n",
            " [ 7]\n",
            " [ 8]\n",
            " [ 9]\n",
            " [10]]\n"
          ],
          "name": "stdout"
        },
        {
          "output_type": "execute_result",
          "data": {
            "text/plain": [
              "numpy.ndarray"
            ]
          },
          "metadata": {
            "tags": []
          },
          "execution_count": 3
        }
      ]
    },
    {
      "cell_type": "code",
      "metadata": {
        "id": "eFzt_eYwj824",
        "outputId": "080a21f3-5ad2-415f-9a56-46acbc59f139",
        "colab": {
          "base_uri": "https://localhost:8080/"
        }
      },
      "source": [
        "prices = torch.from_numpy(prices_array).float().requires_grad_(True) \n",
        "# requires_grad_(True) #activa los gradientes en el tensor\n",
        "units = torch.from_numpy(units_array).float()\n",
        "\n",
        "prices, units.shape"
      ],
      "execution_count": 4,
      "outputs": [
        {
          "output_type": "execute_result",
          "data": {
            "text/plain": [
              "(tensor([[ 5.],\n",
              "         [ 6.],\n",
              "         [ 7.],\n",
              "         [ 8.],\n",
              "         [ 9.],\n",
              "         [10.]], requires_grad=True), torch.Size([6, 1]))"
            ]
          },
          "metadata": {
            "tags": []
          },
          "execution_count": 4
        }
      ]
    },
    {
      "cell_type": "code",
      "metadata": {
        "id": "JCBwSRfQkBCG",
        "outputId": "eae84175-461b-44e6-820c-97af4f92d5dd",
        "colab": {
          "base_uri": "https://localhost:8080/",
          "height": 300
        }
      },
      "source": [
        "# Declaramos el modelo\n",
        "model = nn.Linear(1,1)\n",
        "\n",
        "# Definimos la funcion de perdida\n",
        "loss_function = nn.MSELoss() \n",
        "#MSE media del cuadrado de los errores\n",
        "\n",
        "# Declaramos el optimizador y learning rate\n",
        "optimizer = optim.SGD(model.parameters(), lr=0.015) \n",
        "#lr = learning rate pasos\n",
        "\n",
        "losses = []\n",
        "iterations = 2000\n",
        "\n",
        "# Escribimos el training loop\n",
        "\n",
        "for i in range(iterations):\n",
        "  # Por cada iteracion una prediccion\n",
        "  #forwardpass\n",
        "  pred = model(prices)\n",
        "  loss = loss_function(pred, units)\n",
        "  losses.append(loss.data)\n",
        "\n",
        "  #backwardpass\n",
        "  # reiniciamos los gradientes (pytorch los acumula siempre)\n",
        "  optimizer.zero_grad()\n",
        "  loss.backward()\n",
        "  optimizer.step()\n",
        "\n",
        "print(float(loss))\n",
        "plt.plot(range(iterations), losses)"
      ],
      "execution_count": 5,
      "outputs": [
        {
          "output_type": "stream",
          "text": [
            "0.020843828096985817\n"
          ],
          "name": "stdout"
        },
        {
          "output_type": "execute_result",
          "data": {
            "text/plain": [
              "[<matplotlib.lines.Line2D at 0x7fc07032d160>]"
            ]
          },
          "metadata": {
            "tags": []
          },
          "execution_count": 5
        },
        {
          "output_type": "display_data",
          "data": {
            "image/png": "[encoded data removed]",
            "text/plain": [
              "<Figure size 432x288 with 1 Axes>"
            ]
          },
          "metadata": {
            "tags": [],
            "needs_background": "light"
          }
        }
      ]
    },
    {
      "cell_type": "code",
      "metadata": {
        "id": "CeL8f929kGBi",
        "outputId": "1f8c144e-abec-428d-906c-75dbad7a5344",
        "colab": {
          "base_uri": "https://localhost:8080/"
        }
      },
      "source": [
        "# Una vez entrenado el modelo hagamos la prediccion\n",
        "x = torch.Tensor([[4]])\n",
        "p = model(x)\n",
        "print(p)"
      ],
      "execution_count": 6,
      "outputs": [
        {
          "output_type": "stream",
          "text": [
            "tensor([[8.6802]], grad_fn=<AddmmBackward>)\n"
          ],
          "name": "stdout"
        }
      ]
    }
  ]
}