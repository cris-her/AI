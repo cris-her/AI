{
  "nbformat": 4,
  "nbformat_minor": 0,
  "metadata": {
    "colab": {
      "name": "k_means_02.ipynb",
      "provenance": [],
      "authorship_tag": "ABX9TyPkBKK27eepRdQfP5p8luzG",
      "include_colab_link": true
    },
    "kernelspec": {
      "name": "python3",
      "display_name": "Python 3"
    }
  },
  "cells": [
    {
      "cell_type": "markdown",
      "metadata": {
        "id": "view-in-github",
        "colab_type": "text"
      },
      "source": [
        "<a href=\"https://colab.research.google.com/github/cris-her/AI/blob/master/k_means_02.ipynb\" target=\"_parent\"><img src=\"https://colab.research.google.com/assets/colab-badge.svg\" alt=\"Open In Colab\"/></a>"
      ]
    },
    {
      "cell_type": "markdown",
      "metadata": {
        "id": "wCTh0r-i9peE"
      },
      "source": [
        "*Clustering*\n",
        "\n",
        "Si conocemos k,\n",
        "\n",
        "Usaremos k-means, o bien, Spectral Clustering"
      ]
    },
    {
      "cell_type": "code",
      "metadata": {
        "id": "Qr50Ik9BnAZV"
      },
      "source": [
        "import pandas as pd\n",
        "\n",
        "from sklearn.cluster import MiniBatchKMeans"
      ],
      "execution_count": 1,
      "outputs": []
    },
    {
      "cell_type": "code",
      "metadata": {
        "colab": {
          "base_uri": "https://localhost:8080/"
        },
        "id": "5QBtq6Gandug",
        "outputId": "9c59d87f-f506-4c2c-db2d-570b920dfab2"
      },
      "source": [
        "dataset = pd.read_csv('https://raw.githubusercontent.com/cris-her/AI/master/candy.csv')\n",
        "print(dataset.head(10))"
      ],
      "execution_count": 2,
      "outputs": [
        {
          "output_type": "stream",
          "text": [
            "       competitorname  chocolate  ...  pricepercent  winpercent\n",
            "0           100 Grand          1  ...         0.860   66.971725\n",
            "1        3 Musketeers          1  ...         0.511   67.602936\n",
            "2            One dime          0  ...         0.116   32.261086\n",
            "3         One quarter          0  ...         0.511   46.116505\n",
            "4           Air Heads          0  ...         0.511   52.341465\n",
            "5          Almond Joy          1  ...         0.767   50.347546\n",
            "6           Baby Ruth          1  ...         0.767   56.914547\n",
            "7  Boston Baked Beans          0  ...         0.511   23.417824\n",
            "8          Candy Corn          0  ...         0.325   38.010963\n",
            "9  Caramel Apple Pops          0  ...         0.325   34.517681\n",
            "\n",
            "[10 rows x 13 columns]\n"
          ],
          "name": "stdout"
        }
      ]
    },
    {
      "cell_type": "code",
      "metadata": {
        "colab": {
          "base_uri": "https://localhost:8080/"
        },
        "id": "rS__MzOCnmtt",
        "outputId": "7c56d171-8b29-465c-996b-98110fd1efed"
      },
      "source": [
        "X = dataset.drop('competitorname', axis=1)\n",
        "\n",
        "kmeans = MiniBatchKMeans(n_clusters=4, batch_size=8).fit(X)\n",
        "print(\"Total de centros: \" , len(kmeans.cluster_centers_))"
      ],
      "execution_count": 3,
      "outputs": [
        {
          "output_type": "stream",
          "text": [
            "Total de centros:  4\n"
          ],
          "name": "stdout"
        }
      ]
    },
    {
      "cell_type": "code",
      "metadata": {
        "colab": {
          "base_uri": "https://localhost:8080/"
        },
        "id": "JTQ0CD-_n0aQ",
        "outputId": "7d5bdc95-c765-4ecb-a49e-4eb2b1a92b18"
      },
      "source": [
        "print(\"=\"*64)\n",
        "print(kmeans.predict(X))"
      ],
      "execution_count": 4,
      "outputs": [
        {
          "output_type": "stream",
          "text": [
            "================================================================\n",
            "[1 1 0 2 3 2 3 0 0 0 0 0 0 2 0 2 0 2 3 0 2 2 3 3 3 3 0 3 1 2 0 3 1 1 2 3 1\n",
            " 3 1 2 3 3 1 1 0 0 2 1 0 2 0 1 1 1 1 0 1 0 2 0 3 3 0 2 1 3 3 3 1 0 0 0 0 3\n",
            " 2 2 2 2 2 1 2 0 2 2 2]\n"
          ],
          "name": "stdout"
        }
      ]
    },
    {
      "cell_type": "code",
      "metadata": {
        "colab": {
          "base_uri": "https://localhost:8080/"
        },
        "id": "XsxDLd1Mn7oP",
        "outputId": "4801d646-20ba-4f91-8130-72d94be14fa7"
      },
      "source": [
        "dataset['group'] = kmeans.predict(X)\n",
        "\n",
        "print(dataset)"
      ],
      "execution_count": 5,
      "outputs": [
        {
          "output_type": "stream",
          "text": [
            "                competitorname  chocolate  ...  winpercent  group\n",
            "0                    100 Grand          1  ...   66.971725      1\n",
            "1                 3 Musketeers          1  ...   67.602936      1\n",
            "2                     One dime          0  ...   32.261086      0\n",
            "3                  One quarter          0  ...   46.116505      2\n",
            "4                    Air Heads          0  ...   52.341465      3\n",
            "..                         ...        ...  ...         ...    ...\n",
            "80                   Twizzlers          0  ...   45.466282      2\n",
            "81                    Warheads          0  ...   39.011898      0\n",
            "82        WelchÕs Fruit Snacks          0  ...   44.375519      2\n",
            "83  WertherÕs Original Caramel          0  ...   41.904308      2\n",
            "84                    Whoppers          1  ...   49.524113      2\n",
            "\n",
            "[85 rows x 14 columns]\n"
          ],
          "name": "stdout"
        }
      ]
    }
  ]
}