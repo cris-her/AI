{
  "nbformat": 4,
  "nbformat_minor": 0,
  "metadata": {
    "colab": {
      "name": "logistic_regression_02.ipynb",
      "provenance": [],
      "authorship_tag": "ABX9TyPB5LJlHk9jE7qc37y2ZyxM",
      "include_colab_link": true
    },
    "kernelspec": {
      "name": "python3",
      "display_name": "Python 3"
    }
  },
  "cells": [
    {
      "cell_type": "markdown",
      "metadata": {
        "id": "view-in-github",
        "colab_type": "text"
      },
      "source": [
        "<a href=\"https://colab.research.google.com/github/cris-her/AI/blob/master/logistic_regression_02.ipynb\" target=\"_parent\"><img src=\"https://colab.research.google.com/assets/colab-badge.svg\" alt=\"Open In Colab\"/></a>"
      ]
    },
    {
      "cell_type": "code",
      "metadata": {
        "colab": {
          "base_uri": "https://localhost:8080/",
          "height": 35
        },
        "id": "KmwQTkNBplgd",
        "outputId": "74136e0f-6a55-403d-df0e-1c407cbaf266"
      },
      "source": [
        "# !/usr/bin/python\n",
        "# -*-coding: utf -8 -*-\n",
        "\n",
        "'''\n",
        "i=1\n",
        "mensaje = 'Hola' if i==1 else 'Adios'\n",
        "print(mensaje)\n",
        "'''"
      ],
      "execution_count": 1,
      "outputs": [
        {
          "output_type": "execute_result",
          "data": {
            "application/vnd.google.colaboratory.intrinsic+json": {
              "type": "string"
            },
            "text/plain": [
              "\"\\ni=1\\nmensaje = 'Hola' if i==1 else 'Adios'\\nprint(mensaje)\\n\""
            ]
          },
          "metadata": {
            "tags": []
          },
          "execution_count": 1
        }
      ]
    },
    {
      "cell_type": "code",
      "metadata": {
        "id": "O3qsR-OHqU1t"
      },
      "source": [
        "from sklearn.linear_model import LogisticRegression\n",
        "import numpy as np"
      ],
      "execution_count": 2,
      "outputs": []
    },
    {
      "cell_type": "code",
      "metadata": {
        "id": "v6Nx1hs0ptqv"
      },
      "source": [
        "x = np.array([0.5, 0.75, 1, 1.25, 1.5, 1.75, 1.75, 2, 2.25, 2.5,\n",
        "              2.75, 3, 3.25, 3.5, 4, 4.25, 4.5, 4.75, 5, 5.5]).reshape(-1, 1)\n",
        "\n",
        "y = np.array([0, 0, 0, 0, 0, 0, 1, 0, 1, 0, 1, 0, 1, 0, 1, 1, 1, 1, 1, 1])"
      ],
      "execution_count": 3,
      "outputs": []
    },
    {
      "cell_type": "code",
      "metadata": {
        "id": "onroFSG5ptvn"
      },
      "source": [
        "logistic_regression = LogisticRegression()"
      ],
      "execution_count": 4,
      "outputs": []
    },
    {
      "cell_type": "code",
      "metadata": {
        "colab": {
          "base_uri": "https://localhost:8080/"
        },
        "id": "lp8fXZ68sgRE",
        "outputId": "02db6a3c-068d-400e-927d-df8c1ed37f8d"
      },
      "source": [
        "# Training the data\n",
        "logistic_regression.fit(x, y)"
      ],
      "execution_count": 5,
      "outputs": [
        {
          "output_type": "execute_result",
          "data": {
            "text/plain": [
              "LogisticRegression(C=1.0, class_weight=None, dual=False, fit_intercept=True,\n",
              "                   intercept_scaling=1, l1_ratio=None, max_iter=100,\n",
              "                   multi_class='auto', n_jobs=None, penalty='l2',\n",
              "                   random_state=None, solver='lbfgs', tol=0.0001, verbose=0,\n",
              "                   warm_start=False)"
            ]
          },
          "metadata": {
            "tags": []
          },
          "execution_count": 5
        }
      ]
    },
    {
      "cell_type": "code",
      "metadata": {
        "colab": {
          "base_uri": "https://localhost:8080/"
        },
        "id": "UwvyCSAWpt0C",
        "outputId": "9581ba54-77c6-4b07-c406-5bad7f32f663"
      },
      "source": [
        "# Test results\n",
        "new_x = np.array([1, 2, 3, 4, 5, 6]).reshape(-1, 1)\n",
        "\n",
        "prediction = logistic_regression.predict(new_x)\n",
        "print(\"prediction:\\n\", prediction)"
      ],
      "execution_count": 6,
      "outputs": [
        {
          "output_type": "stream",
          "text": [
            "prediction:\n",
            " [0 0 1 1 1 1]\n"
          ],
          "name": "stdout"
        }
      ]
    },
    {
      "cell_type": "code",
      "metadata": {
        "colab": {
          "base_uri": "https://localhost:8080/"
        },
        "id": "L2NsEA5OpuEZ",
        "outputId": "0a9ee997-f435-4d7f-bc28-cb9a7389300a"
      },
      "source": [
        "prediction_probabilities = logistic_regression.predict_proba(new_x)\n",
        "print(\"prediction_probabilities:\\n\", prediction_probabilities)"
      ],
      "execution_count": 7,
      "outputs": [
        {
          "output_type": "stream",
          "text": [
            "prediction_probabilities:\n",
            " [[0.87984046 0.12015954]\n",
            " [0.69895285 0.30104715]\n",
            " [0.42402118 0.57597882]\n",
            " [0.18924992 0.81075008]\n",
            " [0.06891381 0.93108619]\n",
            " [0.02293029 0.97706971]]\n"
          ],
          "name": "stdout"
        }
      ]
    },
    {
      "cell_type": "code",
      "metadata": {
        "colab": {
          "base_uri": "https://localhost:8080/"
        },
        "id": "fvVvki22skG7",
        "outputId": "4170ce7f-901d-46d2-f116-2fe8b084139c"
      },
      "source": [
        "print(prediction_probabilities[:, 1])"
      ],
      "execution_count": 8,
      "outputs": [
        {
          "output_type": "stream",
          "text": [
            "[0.12015954 0.30104715 0.57597882 0.81075008 0.93108619 0.97706971]\n"
          ],
          "name": "stdout"
        }
      ]
    }
  ]
}