{
  "nbformat": 4,
  "nbformat_minor": 0,
  "metadata": {
    "colab": {
      "name": "logistic_regression_01.ipynb",
      "provenance": [],
      "authorship_tag": "ABX9TyN0t2QPQ73Ij/S7J1qxvFg6",
      "include_colab_link": true
    },
    "kernelspec": {
      "name": "python3",
      "display_name": "Python 3"
    }
  },
  "cells": [
    {
      "cell_type": "markdown",
      "metadata": {
        "id": "view-in-github",
        "colab_type": "text"
      },
      "source": [
        "<a href=\"https://colab.research.google.com/github/cris-her/AI/blob/master/logistic_regression_01.ipynb\" target=\"_parent\"><img src=\"https://colab.research.google.com/assets/colab-badge.svg\" alt=\"Open In Colab\"/></a>"
      ]
    },
    {
      "cell_type": "code",
      "metadata": {
        "id": "6nt2q4hNyYpw"
      },
      "source": [
        "import torch\n",
        "import numpy as np\n",
        "import torch.nn as nn #relacion lineal \n",
        "import torch.optim as optim\n",
        "\n",
        "import matplotlib.pyplot as plt"
      ],
      "execution_count": 1,
      "outputs": []
    },
    {
      "cell_type": "markdown",
      "metadata": {
        "id": "FQTFmHrTyo3h"
      },
      "source": [
        "# **Regresión Logística**\n",
        "Preparamos nuestros datos"
      ]
    },
    {
      "cell_type": "code",
      "metadata": {
        "id": "eW6jfRvoy1B5",
        "outputId": "53bcfc77-150e-4a77-94f2-30d88fc22e51",
        "colab": {
          "base_uri": "https://localhost:8080/"
        }
      },
      "source": [
        "n= 100\n",
        "h = n//2 # denota la mitad del dataset (50 pares)\n",
        "dimension = 2\n",
        "\n",
        "#generamos un dataset aleatorio \n",
        "# Por 3 para despues centrarlo en 3,3 y -3,3 \n",
        "data= np.random.randn(n, dimension) * 3 \n",
        "\n",
        "#muestro primeros105 valores de la data como ejemplo\n",
        "data[:10]"
      ],
      "execution_count": 2,
      "outputs": [
        {
          "output_type": "execute_result",
          "data": {
            "text/plain": [
              "array([[-5.25374874,  0.18702023],\n",
              "       [-0.92753142, -1.40934153],\n",
              "       [-1.86625052,  2.23756111],\n",
              "       [ 1.61898145,  0.08808449],\n",
              "       [ 3.44336403,  1.34057479],\n",
              "       [ 2.20798848,  6.50818424],\n",
              "       [-3.67498673, -2.16647804],\n",
              "       [-4.07371509,  1.20219182],\n",
              "       [-0.56398968, -0.80405274],\n",
              "       [ 3.99297165, -1.70146008]])"
            ]
          },
          "metadata": {
            "tags": []
          },
          "execution_count": 2
        }
      ]
    },
    {
      "cell_type": "code",
      "metadata": {
        "id": "AzkC8aWSzBtu",
        "outputId": "5daf0f9c-bd28-4e96-9405-2b732549f2e8",
        "colab": {
          "base_uri": "https://localhost:8080/",
          "height": 284
        }
      },
      "source": [
        "# Graficamos los 100 pares de puntos\n",
        "plt.scatter(data[:,0], data[:,1])"
      ],
      "execution_count": 3,
      "outputs": [
        {
          "output_type": "execute_result",
          "data": {
            "text/plain": [
              "<matplotlib.collections.PathCollection at 0x7fc07eb46c18>"
            ]
          },
          "metadata": {
            "tags": []
          },
          "execution_count": 3
        },
        {
          "output_type": "display_data",
          "data": {
            "image/png": "[encoded data removed]",
            "text/plain": [
              "<Figure size 432x288 with 1 Axes>"
            ]
          },
          "metadata": {
            "tags": [],
            "needs_background": "light"
          }
        }
      ]
    },
    {
      "cell_type": "code",
      "metadata": {
        "id": "VbpNcf1NzE2E"
      },
      "source": [
        "# Muevo la primer mitad de datos (pares de 1 al 50) centrandolos en -3\n",
        "data[:h, :] = data[:h, :] - 3 * np.ones((h, dimension))"
      ],
      "execution_count": 4,
      "outputs": []
    },
    {
      "cell_type": "code",
      "metadata": {
        "id": "K8d45vLqzI_L"
      },
      "source": [
        "# Muevo la segunda mitad (pares del 51 al 100) centrandolos en +3\n",
        "data[h:, :] = data[h:, :] + 3*np.ones((h, dimension))"
      ],
      "execution_count": 5,
      "outputs": []
    },
    {
      "cell_type": "code",
      "metadata": {
        "id": "Q7jiOe57zN1d",
        "outputId": "ce233c33-e648-457f-d681-615bd8e21a6d",
        "colab": {
          "base_uri": "https://localhost:8080/",
          "height": 286
        }
      },
      "source": [
        "# Graficamos de nuevo\n",
        "colors = ['blue', 'red']\n",
        "\n",
        "color = np.array([colors[0]] * h + [colors[1]] * h).reshape(n)\n",
        "plt.scatter(data[:,0], data[:,1], c=color, s=75, alpha=0.6)"
      ],
      "execution_count": 6,
      "outputs": [
        {
          "output_type": "execute_result",
          "data": {
            "text/plain": [
              "<matplotlib.collections.PathCollection at 0x7fc07e6b34e0>"
            ]
          },
          "metadata": {
            "tags": []
          },
          "execution_count": 6
        },
        {
          "output_type": "display_data",
          "data": {
            "image/png": "[encoded data removed]",
            "text/plain": [
              "<Figure size 432x288 with 1 Axes>"
            ]
          },
          "metadata": {
            "tags": [],
            "needs_background": "light"
          }
        }
      ]
    },
    {
      "cell_type": "code",
      "metadata": {
        "id": "zKm3HLEQzRGx",
        "outputId": "8a26bf8b-4a6b-4ad5-cc88-c8c5c5ecd72c",
        "colab": {
          "base_uri": "https://localhost:8080/"
        }
      },
      "source": [
        "target = np.array([0] * h + [1] * h).reshape(n,1)\n",
        "\n",
        "# Definimos el tensor de entrada (la data)\n",
        "x = torch.from_numpy(data).float().requires_grad_(True)\n",
        "\n",
        "# definimos el tensor de salida (0 o 1)\n",
        "y = torch.from_numpy(target).float()\n",
        "\n",
        "x.shape, y.shape"
      ],
      "execution_count": 7,
      "outputs": [
        {
          "output_type": "execute_result",
          "data": {
            "text/plain": [
              "(torch.Size([100, 2]), torch.Size([100, 1]))"
            ]
          },
          "metadata": {
            "tags": []
          },
          "execution_count": 7
        }
      ]
    },
    {
      "cell_type": "markdown",
      "metadata": {
        "id": "HY1UcDH7zXTw"
      },
      "source": [
        "Definimos el modelo"
      ]
    },
    {
      "cell_type": "code",
      "metadata": {
        "id": "e5m6aML3zUfu",
        "outputId": "a542b0c6-0fef-483f-ae19-0ce5360d4aac",
        "colab": {
          "base_uri": "https://localhost:8080/",
          "height": 300
        }
      },
      "source": [
        "model = nn.Sequential(\n",
        "            nn.Linear(2,1),\n",
        "            nn.Sigmoid()\n",
        "            )\n",
        "\n",
        "loss_function = nn.BCELoss() \n",
        "#Binary Cross Entropy/log loss\n",
        "\n",
        "optimizer = optim.SGD(model.parameters(), lr=0.01) \n",
        "#Stochastic Gradient Descent\n",
        "\n",
        "losses = []\n",
        "\n",
        "iterations = 1000\n",
        "\n",
        "\n",
        "# definimos el loop de aprendizaje\n",
        "for i in range(iterations):\n",
        "  #forwardpass\n",
        "  result = model(x)\n",
        "  loss = loss_function(result, y)\n",
        "  losses.append(loss.data)\n",
        "\n",
        "  #backward\n",
        "  optimizer.zero_grad()\n",
        "  loss.backward()\n",
        "  optimizer.step()\n",
        "\n",
        "# Graficamos \n",
        "print(loss)\n",
        "plt.plot(range(iterations), losses)"
      ],
      "execution_count": 8,
      "outputs": [
        {
          "output_type": "stream",
          "text": [
            "tensor(0.1647, grad_fn=<BinaryCrossEntropyBackward>)\n"
          ],
          "name": "stdout"
        },
        {
          "output_type": "execute_result",
          "data": {
            "text/plain": [
              "[<matplotlib.lines.Line2D at 0x7fc07ddc3b00>]"
            ]
          },
          "metadata": {
            "tags": []
          },
          "execution_count": 8
        },
        {
          "output_type": "display_data",
          "data": {
            "image/png": "[encoded data removed]",
            "text/plain": [
              "<Figure size 432x288 with 1 Axes>"
            ]
          },
          "metadata": {
            "tags": [],
            "needs_background": "light"
          }
        }
      ]
    },
    {
      "cell_type": "code",
      "metadata": {
        "id": "wVEZGQ9xzjJZ",
        "outputId": "e5a34e2a-84a0-4901-fa51-00f86ced08de",
        "colab": {
          "base_uri": "https://localhost:8080/"
        }
      },
      "source": [
        "blue = torch.Tensor([[-5, -6]])\n",
        "prediction = model(blue).data[0][0] > 0.5 \n",
        "print(colors[prediction])\n",
        "\n",
        "red = torch.Tensor([[8, 6]])\n",
        "prediction = model(red).data[0][0] >0.5 \n",
        "print(colors[prediction])"
      ],
      "execution_count": 9,
      "outputs": [
        {
          "output_type": "stream",
          "text": [
            "blue\n",
            "red\n"
          ],
          "name": "stdout"
        }
      ]
    },
    {
      "cell_type": "code",
      "metadata": {
        "id": "j7wmj3r8zmy-",
        "outputId": "e382a072-6c94-418e-fe07-a49140baef5b",
        "colab": {
          "base_uri": "https://localhost:8080/",
          "height": 282
        }
      },
      "source": [
        "# Graficamos\n",
        "w = list(model.parameters())\n",
        "w0 = w[0].data.numpy()\n",
        "w1 = w[1].data.numpy()\n",
        "\n",
        "# Hasta aqui es la grafica anterior\n",
        "plt.scatter(data[:,0], data[:,1], c=color, s=75, alpha=0.6)\n",
        "\n",
        "# graficamos una linea recta\n",
        "x_axis = np.linspace(-10,10, n) \n",
        "y_axis = -(w1[0] + x_axis*w0[0][0] / w0[0][1])\n",
        "plt.plot(x_axis, y_axis, 'g--')"
      ],
      "execution_count": 10,
      "outputs": [
        {
          "output_type": "execute_result",
          "data": {
            "text/plain": [
              "[<matplotlib.lines.Line2D at 0x7fc07ddafa58>]"
            ]
          },
          "metadata": {
            "tags": []
          },
          "execution_count": 10
        },
        {
          "output_type": "display_data",
          "data": {
            "image/png": "[encoded data removed]",
            "text/plain": [
              "<Figure size 432x288 with 1 Axes>"
            ]
          },
          "metadata": {
            "tags": [],
            "needs_background": "light"
          }
        }
      ]
    },
    {
      "cell_type": "markdown",
      "metadata": {
        "id": "d5Cjs7gAzs7t"
      },
      "source": [
        "Extras sobre la gráfica"
      ]
    },
    {
      "cell_type": "code",
      "metadata": {
        "id": "kPHmSQ2PzqRO",
        "outputId": "c1735189-419c-4f02-e534-9c2bb5e0002e",
        "colab": {
          "base_uri": "https://localhost:8080/"
        }
      },
      "source": [
        "# Valores de X\n",
        "np.linspace(-10,10, n)"
      ],
      "execution_count": 11,
      "outputs": [
        {
          "output_type": "execute_result",
          "data": {
            "text/plain": [
              "array([-10.        ,  -9.7979798 ,  -9.5959596 ,  -9.39393939,\n",
              "        -9.19191919,  -8.98989899,  -8.78787879,  -8.58585859,\n",
              "        -8.38383838,  -8.18181818,  -7.97979798,  -7.77777778,\n",
              "        -7.57575758,  -7.37373737,  -7.17171717,  -6.96969697,\n",
              "        -6.76767677,  -6.56565657,  -6.36363636,  -6.16161616,\n",
              "        -5.95959596,  -5.75757576,  -5.55555556,  -5.35353535,\n",
              "        -5.15151515,  -4.94949495,  -4.74747475,  -4.54545455,\n",
              "        -4.34343434,  -4.14141414,  -3.93939394,  -3.73737374,\n",
              "        -3.53535354,  -3.33333333,  -3.13131313,  -2.92929293,\n",
              "        -2.72727273,  -2.52525253,  -2.32323232,  -2.12121212,\n",
              "        -1.91919192,  -1.71717172,  -1.51515152,  -1.31313131,\n",
              "        -1.11111111,  -0.90909091,  -0.70707071,  -0.50505051,\n",
              "        -0.3030303 ,  -0.1010101 ,   0.1010101 ,   0.3030303 ,\n",
              "         0.50505051,   0.70707071,   0.90909091,   1.11111111,\n",
              "         1.31313131,   1.51515152,   1.71717172,   1.91919192,\n",
              "         2.12121212,   2.32323232,   2.52525253,   2.72727273,\n",
              "         2.92929293,   3.13131313,   3.33333333,   3.53535354,\n",
              "         3.73737374,   3.93939394,   4.14141414,   4.34343434,\n",
              "         4.54545455,   4.74747475,   4.94949495,   5.15151515,\n",
              "         5.35353535,   5.55555556,   5.75757576,   5.95959596,\n",
              "         6.16161616,   6.36363636,   6.56565657,   6.76767677,\n",
              "         6.96969697,   7.17171717,   7.37373737,   7.57575758,\n",
              "         7.77777778,   7.97979798,   8.18181818,   8.38383838,\n",
              "         8.58585859,   8.78787879,   8.98989899,   9.19191919,\n",
              "         9.39393939,   9.5959596 ,   9.7979798 ,  10.        ])"
            ]
          },
          "metadata": {
            "tags": []
          },
          "execution_count": 11
        }
      ]
    },
    {
      "cell_type": "code",
      "metadata": {
        "id": "SfGi5x9Oz3EE",
        "outputId": "f4b13c8e-c592-4f97-f9a4-a8ba45d680af",
        "colab": {
          "base_uri": "https://localhost:8080/"
        }
      },
      "source": [
        "# Valores de Y\n",
        "-(w1[0] + x_axis*w0[0][0] / w0[0][1])"
      ],
      "execution_count": 12,
      "outputs": [
        {
          "output_type": "execute_result",
          "data": {
            "text/plain": [
              "array([ 14.20263263,  13.90841101,  13.61418939,  13.31996777,\n",
              "        13.02574614,  12.73152452,  12.4373029 ,  12.14308128,\n",
              "        11.84885966,  11.55463804,  11.26041642,  10.9661948 ,\n",
              "        10.67197318,  10.37775156,  10.08352994,   9.78930832,\n",
              "         9.49508669,   9.20086507,   8.90664345,   8.61242183,\n",
              "         8.31820021,   8.02397859,   7.72975697,   7.43553535,\n",
              "         7.14131373,   6.84709211,   6.55287049,   6.25864887,\n",
              "         5.96442725,   5.67020562,   5.375984  ,   5.08176238,\n",
              "         4.78754076,   4.49331914,   4.19909752,   3.9048759 ,\n",
              "         3.61065428,   3.31643266,   3.02221104,   2.72798942,\n",
              "         2.4337678 ,   2.13954617,   1.84532455,   1.55110293,\n",
              "         1.25688131,   0.96265969,   0.66843807,   0.37421645,\n",
              "         0.07999483,  -0.21422679,  -0.50844841,  -0.80267003,\n",
              "        -1.09689165,  -1.39111327,  -1.6853349 ,  -1.97955652,\n",
              "        -2.27377814,  -2.56799976,  -2.86222138,  -3.156443  ,\n",
              "        -3.45066462,  -3.74488624,  -4.03910786,  -4.33332948,\n",
              "        -4.6275511 ,  -4.92177272,  -5.21599435,  -5.51021597,\n",
              "        -5.80443759,  -6.09865921,  -6.39288083,  -6.68710245,\n",
              "        -6.98132407,  -7.27554569,  -7.56976731,  -7.86398893,\n",
              "        -8.15821055,  -8.45243217,  -8.74665379,  -9.04087542,\n",
              "        -9.33509704,  -9.62931866,  -9.92354028, -10.2177619 ,\n",
              "       -10.51198352, -10.80620514, -11.10042676, -11.39464838,\n",
              "       -11.68887   , -11.98309162, -12.27731324, -12.57153487,\n",
              "       -12.86575649, -13.15997811, -13.45419973, -13.74842135,\n",
              "       -14.04264297, -14.33686459, -14.63108621, -14.92530783])"
            ]
          },
          "metadata": {
            "tags": []
          },
          "execution_count": 12
        }
      ]
    }
  ]
}