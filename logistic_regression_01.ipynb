{
  "nbformat": 4,
  "nbformat_minor": 0,
  "metadata": {
    "colab": {
      "name": "logistic_regression_01.ipynb",
      "provenance": [],
      "include_colab_link": true
    },
    "kernelspec": {
      "display_name": "Python 3",
      "language": "python",
      "name": "python3"
    },
    "language_info": {
      "codemirror_mode": {
        "name": "ipython",
        "version": 3
      },
      "file_extension": ".py",
      "mimetype": "text/x-python",
      "name": "python",
      "nbconvert_exporter": "python",
      "pygments_lexer": "ipython3",
      "version": "3.7.3"
    }
  },
  "cells": [
    {
      "cell_type": "markdown",
      "metadata": {
        "id": "view-in-github",
        "colab_type": "text"
      },
      "source": [
        "<a href=\"https://colab.research.google.com/github/cris-her/AI/blob/master/logistic_regression_01.ipynb\" target=\"_parent\"><img src=\"https://colab.research.google.com/assets/colab-badge.svg\" alt=\"Open In Colab\"/></a>"
      ]
    },
    {
      "cell_type": "code",
      "metadata": {
        "id": "6nt2q4hNyYpw"
      },
      "source": [
        "import torch\n",
        "import numpy as np\n",
        "import torch.nn as nn #relacion lineal \n",
        "import torch.optim as optim\n",
        "\n",
        "import matplotlib.pyplot as plt"
      ],
      "execution_count": 1,
      "outputs": []
    },
    {
      "cell_type": "markdown",
      "metadata": {
        "id": "FQTFmHrTyo3h"
      },
      "source": [
        "# **Regresión Logística**\n",
        "Preparamos nuestros datos"
      ]
    },
    {
      "cell_type": "code",
      "metadata": {
        "id": "eW6jfRvoy1B5",
        "outputId": "a7984f89-89d2-4d3c-eae9-9a8d07c5e6e5",
        "colab": {
          "base_uri": "https://localhost:8080/"
        }
      },
      "source": [
        "n= 100\n",
        "h = n//2 # denota la mitad del dataset (50 pares)\n",
        "dimension = 2\n",
        "\n",
        "#generamos un dataset aleatorio \n",
        "# Por 3 para despues centrarlo en 3,3 y -3,3 \n",
        "data= np.random.randn(n, dimension) * 3 \n",
        "\n",
        "#muestro primeros105 valores de la data como ejemplo\n",
        "data[:10]"
      ],
      "execution_count": 2,
      "outputs": [
        {
          "output_type": "execute_result",
          "data": {
            "text/plain": [
              "array([[ 2.55159277,  2.80366748],\n",
              "       [-0.02927494, -4.54435072],\n",
              "       [-3.80614747, -6.00070744],\n",
              "       [ 1.06305508,  0.64627275],\n",
              "       [-2.3676616 ,  3.36251076],\n",
              "       [-4.94921187,  0.50305387],\n",
              "       [-3.37133177, -0.66316657],\n",
              "       [ 0.13999846,  3.11733288],\n",
              "       [-5.46653174,  2.11197991],\n",
              "       [ 3.01959047, -5.57532682]])"
            ]
          },
          "metadata": {
            "tags": []
          },
          "execution_count": 2
        }
      ]
    },
    {
      "cell_type": "code",
      "metadata": {
        "id": "AzkC8aWSzBtu",
        "outputId": "c53dcf48-bd61-4054-c47a-dd230e034024",
        "colab": {
          "base_uri": "https://localhost:8080/",
          "height": 284
        }
      },
      "source": [
        "# Graficamos los 100 pares de puntos\n",
        "plt.scatter(data[:,0], data[:,1])"
      ],
      "execution_count": 3,
      "outputs": [
        {
          "output_type": "execute_result",
          "data": {
            "text/plain": [
              "<matplotlib.collections.PathCollection at 0x7f6159739be0>"
            ]
          },
          "metadata": {
            "tags": []
          },
          "execution_count": 3
        },
        {
          "output_type": "display_data",
          "data": {
            "image/png": "[encoded data removed]",
            "text/plain": [
              "<Figure size 432x288 with 1 Axes>"
            ]
          },
          "metadata": {
            "tags": [],
            "needs_background": "light"
          }
        }
      ]
    },
    {
      "cell_type": "code",
      "metadata": {
        "id": "VbpNcf1NzE2E"
      },
      "source": [
        "# Muevo la primer mitad de datos (pares de 1 al 50) centrandolos en -3\n",
        "data[:h, :] = data[:h, :] - 3 * np.ones((h, dimension))"
      ],
      "execution_count": 4,
      "outputs": []
    },
    {
      "cell_type": "code",
      "metadata": {
        "id": "K8d45vLqzI_L"
      },
      "source": [
        "# Muevo la segunda mitad (pares del 51 al 100) centrandolos en +3\n",
        "data[h:, :] = data[h:, :] + 3*np.ones((h, dimension))"
      ],
      "execution_count": 5,
      "outputs": []
    },
    {
      "cell_type": "code",
      "metadata": {
        "id": "Q7jiOe57zN1d",
        "outputId": "5dc09fcf-2ae3-478e-c839-a81e5779fb83",
        "colab": {
          "base_uri": "https://localhost:8080/",
          "height": 282
        }
      },
      "source": [
        "# Graficamos de nuevo\n",
        "colors = ['blue', 'red']\n",
        "\n",
        "color = np.array([colors[0]] * h + [colors[1]] * h).reshape(n)\n",
        "plt.scatter(data[:,0], data[:,1], c=color, s=75, alpha=0.6)"
      ],
      "execution_count": 6,
      "outputs": [
        {
          "output_type": "execute_result",
          "data": {
            "text/plain": [
              "<matplotlib.collections.PathCollection at 0x7f61592249b0>"
            ]
          },
          "metadata": {
            "tags": []
          },
          "execution_count": 6
        },
        {
          "output_type": "display_data",
          "data": {
            "image/png": "[encoded data removed]",
            "text/plain": [
              "<Figure size 432x288 with 1 Axes>"
            ]
          },
          "metadata": {
            "tags": [],
            "needs_background": "light"
          }
        }
      ]
    },
    {
      "cell_type": "code",
      "metadata": {
        "id": "zKm3HLEQzRGx",
        "outputId": "75586f36-03b9-4cdc-9ac4-067b41541593",
        "colab": {
          "base_uri": "https://localhost:8080/"
        }
      },
      "source": [
        "target = np.array([0] * h + [1] * h).reshape(n,1)\n",
        "\n",
        "# Definimos el tensor de entrada (la data)\n",
        "x = torch.from_numpy(data).float().requires_grad_(True)\n",
        "\n",
        "# definimos el tensor de salida (0 o 1)\n",
        "y = torch.from_numpy(target).float()\n",
        "\n",
        "x.shape, y.shape"
      ],
      "execution_count": 7,
      "outputs": [
        {
          "output_type": "execute_result",
          "data": {
            "text/plain": [
              "(torch.Size([100, 2]), torch.Size([100, 1]))"
            ]
          },
          "metadata": {
            "tags": []
          },
          "execution_count": 7
        }
      ]
    },
    {
      "cell_type": "markdown",
      "metadata": {
        "id": "HY1UcDH7zXTw"
      },
      "source": [
        "Definimos el modelo"
      ]
    },
    {
      "cell_type": "code",
      "metadata": {
        "id": "e5m6aML3zUfu",
        "outputId": "005caacb-db8a-4d38-e0b0-42518fc4a52e",
        "colab": {
          "base_uri": "https://localhost:8080/",
          "height": 300
        }
      },
      "source": [
        "model = nn.Sequential(\n",
        "            nn.Linear(2,1),\n",
        "            nn.Sigmoid()\n",
        "            )\n",
        "\n",
        "loss_function = nn.BCELoss() \n",
        "#Binary Cross Entropy/log loss\n",
        "\n",
        "optimizer = optim.SGD(model.parameters(), lr=0.01) \n",
        "#Stochastic Gradient Descent\n",
        "\n",
        "losses = []\n",
        "\n",
        "iterations = 1000\n",
        "\n",
        "\n",
        "# definimos el loop de aprendizaje\n",
        "for i in range(iterations):\n",
        "  #forwardpass\n",
        "  result = model(x)\n",
        "  loss = loss_function(result, y)\n",
        "  losses.append(loss.data)\n",
        "\n",
        "  #backward\n",
        "  optimizer.zero_grad()\n",
        "  loss.backward()\n",
        "  optimizer.step()\n",
        "\n",
        "# Graficamos \n",
        "print(loss)\n",
        "plt.plot(range(iterations), losses)"
      ],
      "execution_count": 8,
      "outputs": [
        {
          "output_type": "stream",
          "text": [
            "tensor(0.1752, grad_fn=<BinaryCrossEntropyBackward>)\n"
          ],
          "name": "stdout"
        },
        {
          "output_type": "execute_result",
          "data": {
            "text/plain": [
              "[<matplotlib.lines.Line2D at 0x7f615919bf98>]"
            ]
          },
          "metadata": {
            "tags": []
          },
          "execution_count": 8
        },
        {
          "output_type": "display_data",
          "data": {
            "image/png": "[encoded data removed]",
            "text/plain": [
              "<Figure size 432x288 with 1 Axes>"
            ]
          },
          "metadata": {
            "tags": [],
            "needs_background": "light"
          }
        }
      ]
    },
    {
      "cell_type": "code",
      "metadata": {
        "id": "wVEZGQ9xzjJZ",
        "outputId": "14b4de5d-bdb0-4b80-b644-b1b92adef6a6",
        "colab": {
          "base_uri": "https://localhost:8080/"
        }
      },
      "source": [
        "blue = torch.Tensor([[-5, -6]])\n",
        "prediction = model(blue).data[0][0] > 0.5 \n",
        "print(colors[prediction])\n",
        "\n",
        "red = torch.Tensor([[8, 6]])\n",
        "prediction = model(red).data[0][0] >0.5 \n",
        "print(colors[prediction])"
      ],
      "execution_count": 9,
      "outputs": [
        {
          "output_type": "stream",
          "text": [
            "blue\n",
            "red\n"
          ],
          "name": "stdout"
        }
      ]
    },
    {
      "cell_type": "code",
      "metadata": {
        "id": "j7wmj3r8zmy-",
        "outputId": "49857d6e-06ff-4c8e-96e7-f25eaa11edde",
        "colab": {
          "base_uri": "https://localhost:8080/",
          "height": 282
        }
      },
      "source": [
        "# Graficamos\n",
        "w = list(model.parameters())\n",
        "w0 = w[0].data.numpy()\n",
        "w1 = w[1].data.numpy()\n",
        "\n",
        "# Hasta aqui es la grafica anterior\n",
        "plt.scatter(data[:,0], data[:,1], c=color, s=75, alpha=0.6)\n",
        "\n",
        "# graficamos una linea recta\n",
        "x_axis = np.linspace(-10,10, n) \n",
        "y_axis = -(w1[0] + x_axis*w0[0][0] / w0[0][1])\n",
        "plt.plot(x_axis, y_axis, 'g--')"
      ],
      "execution_count": 10,
      "outputs": [
        {
          "output_type": "execute_result",
          "data": {
            "text/plain": [
              "[<matplotlib.lines.Line2D at 0x7f6158925828>]"
            ]
          },
          "metadata": {
            "tags": []
          },
          "execution_count": 10
        },
        {
          "output_type": "display_data",
          "data": {
            "image/png": "[encoded data removed]",
            "text/plain": [
              "<Figure size 432x288 with 1 Axes>"
            ]
          },
          "metadata": {
            "tags": [],
            "needs_background": "light"
          }
        }
      ]
    },
    {
      "cell_type": "markdown",
      "metadata": {
        "id": "d5Cjs7gAzs7t"
      },
      "source": [
        "Extras sobre la gráfica"
      ]
    },
    {
      "cell_type": "code",
      "metadata": {
        "id": "kPHmSQ2PzqRO",
        "outputId": "c0a9123d-d1fb-4247-9415-e9801e580a47",
        "colab": {
          "base_uri": "https://localhost:8080/"
        }
      },
      "source": [
        "# Valores de X\n",
        "np.linspace(-10,10, n)"
      ],
      "execution_count": 11,
      "outputs": [
        {
          "output_type": "execute_result",
          "data": {
            "text/plain": [
              "array([-10.        ,  -9.7979798 ,  -9.5959596 ,  -9.39393939,\n",
              "        -9.19191919,  -8.98989899,  -8.78787879,  -8.58585859,\n",
              "        -8.38383838,  -8.18181818,  -7.97979798,  -7.77777778,\n",
              "        -7.57575758,  -7.37373737,  -7.17171717,  -6.96969697,\n",
              "        -6.76767677,  -6.56565657,  -6.36363636,  -6.16161616,\n",
              "        -5.95959596,  -5.75757576,  -5.55555556,  -5.35353535,\n",
              "        -5.15151515,  -4.94949495,  -4.74747475,  -4.54545455,\n",
              "        -4.34343434,  -4.14141414,  -3.93939394,  -3.73737374,\n",
              "        -3.53535354,  -3.33333333,  -3.13131313,  -2.92929293,\n",
              "        -2.72727273,  -2.52525253,  -2.32323232,  -2.12121212,\n",
              "        -1.91919192,  -1.71717172,  -1.51515152,  -1.31313131,\n",
              "        -1.11111111,  -0.90909091,  -0.70707071,  -0.50505051,\n",
              "        -0.3030303 ,  -0.1010101 ,   0.1010101 ,   0.3030303 ,\n",
              "         0.50505051,   0.70707071,   0.90909091,   1.11111111,\n",
              "         1.31313131,   1.51515152,   1.71717172,   1.91919192,\n",
              "         2.12121212,   2.32323232,   2.52525253,   2.72727273,\n",
              "         2.92929293,   3.13131313,   3.33333333,   3.53535354,\n",
              "         3.73737374,   3.93939394,   4.14141414,   4.34343434,\n",
              "         4.54545455,   4.74747475,   4.94949495,   5.15151515,\n",
              "         5.35353535,   5.55555556,   5.75757576,   5.95959596,\n",
              "         6.16161616,   6.36363636,   6.56565657,   6.76767677,\n",
              "         6.96969697,   7.17171717,   7.37373737,   7.57575758,\n",
              "         7.77777778,   7.97979798,   8.18181818,   8.38383838,\n",
              "         8.58585859,   8.78787879,   8.98989899,   9.19191919,\n",
              "         9.39393939,   9.5959596 ,   9.7979798 ,  10.        ])"
            ]
          },
          "metadata": {
            "tags": []
          },
          "execution_count": 11
        }
      ]
    },
    {
      "cell_type": "code",
      "metadata": {
        "id": "SfGi5x9Oz3EE",
        "outputId": "8ebceeff-aa31-4b4e-864c-9f87820081c6",
        "colab": {
          "base_uri": "https://localhost:8080/"
        }
      },
      "source": [
        "# Valores de Y\n",
        "-(w1[0] + x_axis*w0[0][0] / w0[0][1])"
      ],
      "execution_count": 12,
      "outputs": [
        {
          "output_type": "execute_result",
          "data": {
            "text/plain": [
              "array([ 6.38453971,  6.25523907,  6.12593843,  5.99663778,  5.86733714,\n",
              "        5.73803649,  5.60873585,  5.4794352 ,  5.35013456,  5.22083392,\n",
              "        5.09153327,  4.96223263,  4.83293198,  4.70363134,  4.57433069,\n",
              "        4.44503005,  4.3157294 ,  4.18642876,  4.05712812,  3.92782747,\n",
              "        3.79852683,  3.66922618,  3.53992554,  3.41062489,  3.28132425,\n",
              "        3.15202361,  3.02272296,  2.89342232,  2.76412167,  2.63482103,\n",
              "        2.50552038,  2.37621974,  2.2469191 ,  2.11761845,  1.98831781,\n",
              "        1.85901716,  1.72971652,  1.60041587,  1.47111523,  1.34181458,\n",
              "        1.21251394,  1.0832133 ,  0.95391265,  0.82461201,  0.69531136,\n",
              "        0.56601072,  0.43671007,  0.30740943,  0.17810879,  0.04880814,\n",
              "       -0.0804925 , -0.20979315, -0.33909379, -0.46839444, -0.59769508,\n",
              "       -0.72699572, -0.85629637, -0.98559701, -1.11489766, -1.2441983 ,\n",
              "       -1.37349895, -1.50279959, -1.63210023, -1.76140088, -1.89070152,\n",
              "       -2.02000217, -2.14930281, -2.27860346, -2.4079041 , -2.53720475,\n",
              "       -2.66650539, -2.79580603, -2.92510668, -3.05440732, -3.18370797,\n",
              "       -3.31300861, -3.44230926, -3.5716099 , -3.70091054, -3.83021119,\n",
              "       -3.95951183, -4.08881248, -4.21811312, -4.34741377, -4.47671441,\n",
              "       -4.60601505, -4.7353157 , -4.86461634, -4.99391699, -5.12321763,\n",
              "       -5.25251828, -5.38181892, -5.51111957, -5.64042021, -5.76972085,\n",
              "       -5.8990215 , -6.02832214, -6.15762279, -6.28692343, -6.41622408])"
            ]
          },
          "metadata": {
            "tags": []
          },
          "execution_count": 12
        }
      ]
    }
  ]
}