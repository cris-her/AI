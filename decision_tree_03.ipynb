{
  "nbformat": 4,
  "nbformat_minor": 0,
  "metadata": {
    "colab": {
      "name": "decision_tree_03.ipynb",
      "provenance": [],
      "authorship_tag": "ABX9TyM9osyP6hh0R1zwAk1Hb9Gl",
      "include_colab_link": true
    },
    "kernelspec": {
      "name": "python3",
      "display_name": "Python 3"
    }
  },
  "cells": [
    {
      "cell_type": "markdown",
      "metadata": {
        "id": "view-in-github",
        "colab_type": "text"
      },
      "source": [
        "<a href=\"https://colab.research.google.com/github/cris-her/AI/blob/master/decision_tree_03.ipynb\" target=\"_parent\"><img src=\"https://colab.research.google.com/assets/colab-badge.svg\" alt=\"Open In Colab\"/></a>"
      ]
    },
    {
      "cell_type": "markdown",
      "metadata": {
        "id": "fKle-h9D-V8Z"
      },
      "source": [
        "*Validación de modelos*\n",
        "\n",
        "1.   La última palabra la tienen los datos.\n",
        "2.   Necesitamos mentalidad de testeo.\n",
        "3.   Todos los modelos son malos, solamente que algunos resultan útiles.\n",
        "\n",
        "*Tipos de validación*\n",
        "\n",
        "1.   Dividir nuestros datos en Entrenamiento / Prueba (Hold-On).\n",
        "2.   Usar Validación Cruzada (K-Folds).\n",
        "3.   Validación Cruzada (LOOCV)."
      ]
    },
    {
      "cell_type": "code",
      "metadata": {
        "id": "eEYIvCRtqryC"
      },
      "source": [
        "import pandas as pd\n",
        "import numpy as np\n",
        "\n",
        "from sklearn.tree import DecisionTreeRegressor\n",
        "\n",
        "from sklearn.model_selection import (\n",
        "    cross_val_score, KFold\n",
        ")"
      ],
      "execution_count": 1,
      "outputs": []
    },
    {
      "cell_type": "code",
      "metadata": {
        "id": "Wmm4u06Nq-0D"
      },
      "source": [
        "dataset = pd.read_csv('https://raw.githubusercontent.com/cris-her/AI/master/felicidad.csv')\n",
        "\n",
        "X = dataset.drop(['country', 'score'], axis=1)\n",
        "y = dataset['score']"
      ],
      "execution_count": 2,
      "outputs": []
    },
    {
      "cell_type": "code",
      "metadata": {
        "colab": {
          "base_uri": "https://localhost:8080/"
        },
        "id": "2E3MD1pDq-5P",
        "outputId": "b8dd0832-c617-4920-8e75-1c21f166843f"
      },
      "source": [
        "model = DecisionTreeRegressor()\n",
        "score = cross_val_score(model, X,y, cv= 3, scoring='neg_mean_squared_error')\n",
        "print(np.abs(np.mean(score)))"
      ],
      "execution_count": 3,
      "outputs": [
        {
          "output_type": "stream",
          "text": [
            "0.5789471654510001\n"
          ],
          "name": "stdout"
        }
      ]
    },
    {
      "cell_type": "code",
      "metadata": {
        "colab": {
          "base_uri": "https://localhost:8080/"
        },
        "id": "Yq_nlAxfq_GL",
        "outputId": "c2d6b887-42e7-431d-f5d8-8ed9bcfad0ee"
      },
      "source": [
        "kf = KFold(n_splits=3, shuffle=True, random_state=42)\n",
        "for train, test in kf.split(dataset):\n",
        "    print(train)\n",
        "    print(test)"
      ],
      "execution_count": 4,
      "outputs": [
        {
          "output_type": "stream",
          "text": [
            "[  0   1   2   3   4   5   6   7   8  10  13  14  16  17  20  21  23  25\n",
            "  28  32  33  34  35  37  38  39  40  41  43  44  46  47  48  49  50  52\n",
            "  53  54  57  58  59  61  62  63  64  67  70  71  72  73  74  77  80  83\n",
            "  87  88  89  91  92  94  97  98  99 100 101 102 103 104 105 106 107 108\n",
            " 110 111 112 113 114 115 116 120 121 123 125 127 128 129 130 132 134 135\n",
            " 136 139 140 143 144 145 146 148 149 150 151 152 154]\n",
            "[  9  11  12  15  18  19  22  24  26  27  29  30  31  36  42  45  51  55\n",
            "  56  60  65  66  68  69  75  76  78  79  81  82  84  85  86  90  93  95\n",
            "  96 109 117 118 119 122 124 126 131 133 137 138 141 142 147 153]\n",
            "[  1   2   3   6   8   9  11  12  13  14  15  17  18  19  20  21  22  24\n",
            "  26  27  29  30  31  36  37  38  42  45  48  50  51  52  54  55  56  57\n",
            "  58  59  60  63  65  66  68  69  71  72  74  75  76  78  79  81  82  83\n",
            "  84  85  86  87  88  89  90  91  92  93  95  96  99 100 102 103 106 107\n",
            " 109 112 115 116 117 118 119 120 121 122 124 126 128 129 130 131 132 133\n",
            " 135 137 138 139 140 141 142 145 147 149 152 153 154]\n",
            "[  0   4   5   7  10  16  23  25  28  32  33  34  35  39  40  41  43  44\n",
            "  46  47  49  53  61  62  64  67  70  73  77  80  94  97  98 101 104 105\n",
            " 108 110 111 113 114 123 125 127 134 136 143 144 146 148 150 151]\n",
            "[  0   4   5   7   9  10  11  12  15  16  18  19  22  23  24  25  26  27\n",
            "  28  29  30  31  32  33  34  35  36  39  40  41  42  43  44  45  46  47\n",
            "  49  51  53  55  56  60  61  62  64  65  66  67  68  69  70  73  75  76\n",
            "  77  78  79  80  81  82  84  85  86  90  93  94  95  96  97  98 101 104\n",
            " 105 108 109 110 111 113 114 117 118 119 122 123 124 125 126 127 131 133\n",
            " 134 136 137 138 141 142 143 144 146 147 148 150 151 153]\n",
            "[  1   2   3   6   8  13  14  17  20  21  37  38  48  50  52  54  57  58\n",
            "  59  63  71  72  74  83  87  88  89  91  92  99 100 102 103 106 107 112\n",
            " 115 116 120 121 128 129 130 132 135 139 140 145 149 152 154]\n"
          ],
          "name": "stdout"
        }
      ]
    }
  ]
}