{
  "nbformat": 4,
  "nbformat_minor": 0,
  "metadata": {
    "colab": {
      "name": "mean_shift_01.ipynb",
      "provenance": [],
      "authorship_tag": "ABX9TyPUuACH+JgpnuAMHTdSS2nS",
      "include_colab_link": true
    },
    "kernelspec": {
      "name": "python3",
      "display_name": "Python 3"
    }
  },
  "cells": [
    {
      "cell_type": "markdown",
      "metadata": {
        "id": "view-in-github",
        "colab_type": "text"
      },
      "source": [
        "<a href=\"https://colab.research.google.com/github/cris-her/AI/blob/master/mean_shift_01.ipynb\" target=\"_parent\"><img src=\"https://colab.research.google.com/assets/colab-badge.svg\" alt=\"Open In Colab\"/></a>"
      ]
    },
    {
      "cell_type": "markdown",
      "metadata": {
        "id": "b9hpcLZ-93Nr"
      },
      "source": [
        "*Clustering*\n",
        "\n",
        "Si no conocemos k,\n",
        "\n",
        "Usaremos Meanshift, Clustering jerárquico, o bien, DBScan"
      ]
    },
    {
      "cell_type": "code",
      "metadata": {
        "id": "gR_xXMGFoXvx"
      },
      "source": [
        "import pandas as pd\n",
        "\n",
        "from sklearn.cluster import MeanShift"
      ],
      "execution_count": 1,
      "outputs": []
    },
    {
      "cell_type": "code",
      "metadata": {
        "colab": {
          "base_uri": "https://localhost:8080/"
        },
        "id": "UxgXxRj8okhq",
        "outputId": "f035da5a-c4cf-4bbd-e584-352b5298702e"
      },
      "source": [
        "dataset = pd.read_csv(\"https://raw.githubusercontent.com/cris-her/AI/master/candy.csv\")\n",
        "print(dataset.head(5))"
      ],
      "execution_count": 2,
      "outputs": [
        {
          "output_type": "stream",
          "text": [
            "  competitorname  chocolate  fruity  ...  sugarpercent  pricepercent  winpercent\n",
            "0      100 Grand          1       0  ...         0.732         0.860   66.971725\n",
            "1   3 Musketeers          1       0  ...         0.604         0.511   67.602936\n",
            "2       One dime          0       0  ...         0.011         0.116   32.261086\n",
            "3    One quarter          0       0  ...         0.011         0.511   46.116505\n",
            "4      Air Heads          0       1  ...         0.906         0.511   52.341465\n",
            "\n",
            "[5 rows x 13 columns]\n"
          ],
          "name": "stdout"
        }
      ]
    },
    {
      "cell_type": "code",
      "metadata": {
        "colab": {
          "base_uri": "https://localhost:8080/"
        },
        "id": "7Kqub8lvonlo",
        "outputId": "f03725af-b38c-4eb6-aa06-fba4a334633a"
      },
      "source": [
        "X = dataset.drop('competitorname', axis=1)\n",
        "\n",
        "meanshift = MeanShift().fit(X)\n",
        "print(max(meanshift.labels_))"
      ],
      "execution_count": 3,
      "outputs": [
        {
          "output_type": "stream",
          "text": [
            "2\n"
          ],
          "name": "stdout"
        }
      ]
    },
    {
      "cell_type": "code",
      "metadata": {
        "colab": {
          "base_uri": "https://localhost:8080/"
        },
        "id": "inU_d2CIokVi",
        "outputId": "7c633ad3-0854-4e94-e810-c89aaa2a0821"
      },
      "source": [
        "print(\"=\"*64)\n",
        "print(meanshift.cluster_centers_)"
      ],
      "execution_count": 4,
      "outputs": [
        {
          "output_type": "stream",
          "text": [
            "================================================================\n",
            "[[2.25000000e-01 5.75000000e-01 1.00000000e-01 2.50000000e-02\n",
            "  5.00000000e-02 2.50000000e-02 3.00000000e-01 1.00000000e-01\n",
            "  5.50000000e-01 4.57599993e-01 3.67824996e-01 4.10442122e+01]\n",
            " [4.68750000e-01 5.00000000e-01 1.25000000e-01 1.56250000e-01\n",
            "  9.37500000e-02 6.25000000e-02 1.25000000e-01 3.12500000e-01\n",
            "  5.31250000e-01 4.57281243e-01 4.67874998e-01 5.21138597e+01]\n",
            " [8.26086957e-01 1.73913043e-01 3.04347826e-01 3.04347826e-01\n",
            "  1.73913043e-01 1.73913043e-01 0.00000000e+00 5.21739130e-01\n",
            "  4.34782609e-01 5.81391293e-01 6.38086963e-01 6.47120799e+01]]\n"
          ],
          "name": "stdout"
        }
      ]
    },
    {
      "cell_type": "code",
      "metadata": {
        "colab": {
          "base_uri": "https://localhost:8080/"
        },
        "id": "weWb54GnowXj",
        "outputId": "198954f6-bac8-431a-ffdb-9332e5632917"
      },
      "source": [
        "dataset['meanshift'] = meanshift.labels_\n",
        "print(\"=\"*64)\n",
        "print(dataset)"
      ],
      "execution_count": 5,
      "outputs": [
        {
          "output_type": "stream",
          "text": [
            "================================================================\n",
            "                competitorname  chocolate  ...  winpercent  meanshift\n",
            "0                    100 Grand          1  ...   66.971725          2\n",
            "1                 3 Musketeers          1  ...   67.602936          2\n",
            "2                     One dime          0  ...   32.261086          0\n",
            "3                  One quarter          0  ...   46.116505          0\n",
            "4                    Air Heads          0  ...   52.341465          1\n",
            "..                         ...        ...  ...         ...        ...\n",
            "80                   Twizzlers          0  ...   45.466282          0\n",
            "81                    Warheads          0  ...   39.011898          0\n",
            "82        WelchÕs Fruit Snacks          0  ...   44.375519          0\n",
            "83  WertherÕs Original Caramel          0  ...   41.904308          0\n",
            "84                    Whoppers          1  ...   49.524113          1\n",
            "\n",
            "[85 rows x 14 columns]\n"
          ],
          "name": "stdout"
        }
      ]
    }
  ]
}