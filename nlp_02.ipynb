{
  "nbformat": 4,
  "nbformat_minor": 0,
  "metadata": {
    "colab": {
      "name": "nlp_02.ipynb",
      "provenance": [],
      "collapsed_sections": [],
      "include_colab_link": true
    },
    "kernelspec": {
      "name": "python3",
      "display_name": "Python 3"
    }
  },
  "cells": [
    {
      "cell_type": "markdown",
      "metadata": {
        "id": "view-in-github",
        "colab_type": "text"
      },
      "source": [
        "<a href=\"https://colab.research.google.com/github/cris-her/AI/blob/master/nlp_02.ipynb\" target=\"_parent\"><img src=\"https://colab.research.google.com/assets/colab-badge.svg\" alt=\"Open In Colab\"/></a>"
      ]
    },
    {
      "cell_type": "markdown",
      "metadata": {
        "id": "Bu9C9XvfOl_J"
      },
      "source": [
        "# Etiquetado en NLTK"
      ]
    },
    {
      "cell_type": "markdown",
      "metadata": {
        "id": "5AlvswJiYTdj"
      },
      "source": [
        "## Pipeline básico para Ingles"
      ]
    },
    {
      "cell_type": "code",
      "metadata": {
        "id": "Tmb2Cr7v92E7",
        "colab": {
          "base_uri": "https://localhost:8080/",
          "height": 102
        },
        "outputId": "ed58b0b3-7b4c-46fe-f88b-98e8826c00ed"
      },
      "source": [
        "#@title Dependencias previas\n",
        "import nltk\n",
        "nltk.download('punkt')\n",
        "nltk.download('averaged_perceptron_tagger')\n",
        "from nltk import word_tokenize"
      ],
      "execution_count": null,
      "outputs": [
        {
          "output_type": "stream",
          "text": [
            "[nltk_data] Downloading package punkt to /root/nltk_data...\n",
            "[nltk_data]   Unzipping tokenizers/punkt.zip.\n",
            "[nltk_data] Downloading package averaged_perceptron_tagger to\n",
            "[nltk_data]     /root/nltk_data...\n",
            "[nltk_data]   Unzipping taggers/averaged_perceptron_tagger.zip.\n"
          ],
          "name": "stdout"
        }
      ]
    },
    {
      "cell_type": "code",
      "metadata": {
        "id": "8lefQX__OtfL",
        "colab": {
          "base_uri": "https://localhost:8080/",
          "height": 131
        },
        "outputId": "366cab1c-6f49-40cc-da9c-2c1efbe2baf4"
      },
      "source": [
        "#@title Etiquetado en una línea ...\n",
        "text = word_tokenize(\"And now here I am enjoying today\")\n",
        "nltk.pos_tag(text)"
      ],
      "execution_count": null,
      "outputs": [
        {
          "output_type": "execute_result",
          "data": {
            "text/plain": [
              "[('And', 'CC'),\n",
              " ('now', 'RB'),\n",
              " ('here', 'RB'),\n",
              " ('I', 'PRP'),\n",
              " ('am', 'VBP'),\n",
              " ('enjoying', 'VBG'),\n",
              " ('today', 'NN')]"
            ]
          },
          "metadata": {
            "tags": []
          },
          "execution_count": 2
        }
      ]
    },
    {
      "cell_type": "code",
      "metadata": {
        "id": "qocvMilXPdXs",
        "colab": {
          "base_uri": "https://localhost:8080/",
          "height": 527
        },
        "outputId": "ff0a9f52-a514-4937-c738-708a66284997"
      },
      "source": [
        "#@title Categoria gramatical de cada etiqueta\n",
        "nltk.download('tagsets')\n",
        "for tag in ['CC', 'RB', 'PRP', 'VBP', 'VBG', 'NN']:\n",
        "  print(nltk.help.upenn_tagset(tag))"
      ],
      "execution_count": null,
      "outputs": [
        {
          "output_type": "stream",
          "text": [
            "[nltk_data] Downloading package tagsets to /root/nltk_data...\n",
            "[nltk_data]   Unzipping help/tagsets.zip.\n",
            "CC: conjunction, coordinating\n",
            "    & 'n and both but either et for less minus neither nor or plus so\n",
            "    therefore times v. versus vs. whether yet\n",
            "None\n",
            "RB: adverb\n",
            "    occasionally unabatingly maddeningly adventurously professedly\n",
            "    stirringly prominently technologically magisterially predominately\n",
            "    swiftly fiscally pitilessly ...\n",
            "None\n",
            "PRP: pronoun, personal\n",
            "    hers herself him himself hisself it itself me myself one oneself ours\n",
            "    ourselves ownself self she thee theirs them themselves they thou thy us\n",
            "None\n",
            "VBP: verb, present tense, not 3rd person singular\n",
            "    predominate wrap resort sue twist spill cure lengthen brush terminate\n",
            "    appear tend stray glisten obtain comprise detest tease attract\n",
            "    emphasize mold postpone sever return wag ...\n",
            "None\n",
            "VBG: verb, present participle or gerund\n",
            "    telegraphing stirring focusing angering judging stalling lactating\n",
            "    hankerin' alleging veering capping approaching traveling besieging\n",
            "    encrypting interrupting erasing wincing ...\n",
            "None\n",
            "NN: noun, common, singular or mass\n",
            "    common-carrier cabbage knuckle-duster Casino afghan shed thermostat\n",
            "    investment slide humour falloff slick wind hyena override subhumanity\n",
            "    machinist ...\n",
            "None\n"
          ],
          "name": "stdout"
        }
      ]
    },
    {
      "cell_type": "code",
      "metadata": {
        "id": "MEo2MWrkPqrO",
        "colab": {
          "base_uri": "https://localhost:8080/",
          "height": 187
        },
        "outputId": "310b7025-dd09-4d48-fd3b-2eef90a1ca44"
      },
      "source": [
        "#@title Palabras homónimas\n",
        "text = word_tokenize(\"They do not permit other people to get residence permit\")\n",
        "nltk.pos_tag(text)"
      ],
      "execution_count": null,
      "outputs": [
        {
          "output_type": "execute_result",
          "data": {
            "text/plain": [
              "[('They', 'PRP'),\n",
              " ('do', 'VBP'),\n",
              " ('not', 'RB'),\n",
              " ('permit', 'VB'),\n",
              " ('other', 'JJ'),\n",
              " ('people', 'NNS'),\n",
              " ('to', 'TO'),\n",
              " ('get', 'VB'),\n",
              " ('residence', 'NN'),\n",
              " ('permit', 'NN')]"
            ]
          },
          "metadata": {
            "tags": []
          },
          "execution_count": 3
        }
      ]
    },
    {
      "cell_type": "markdown",
      "metadata": {
        "id": "EIIi46WzYZvc"
      },
      "source": [
        "## Etiquetado en Español \n",
        "\n",
        "Para el ingles, NLTK tiene tokenizador y etiquetador pre-entrenados por defecto. En cambio, para otros idiomas es preciso entrenarlo previamente. \n",
        "\n",
        "* usamos el corpus `cess_esp` https://mailman.uib.no/public/corpora/2007-October/005448.html\n",
        "\n",
        "* el cual usa una convención de etiquetas gramaticales dada por el grupo EAGLES https://www.cs.upc.edu/~nlp/tools/parole-sp.html"
      ]
    },
    {
      "cell_type": "code",
      "metadata": {
        "id": "1uLX4KgDX-cs",
        "colab": {
          "base_uri": "https://localhost:8080/",
          "height": 51
        },
        "outputId": "d168f329-3946-4ba4-f4b6-633992849c18"
      },
      "source": [
        "nltk.download('cess_esp')\n",
        "from nltk.corpus import cess_esp as cess\n",
        "from nltk import UnigramTagger as ut\n",
        "from nltk import BigramTagger as bt"
      ],
      "execution_count": null,
      "outputs": [
        {
          "output_type": "stream",
          "text": [
            "[nltk_data] Downloading package cess_esp to /root/nltk_data...\n",
            "[nltk_data]   Unzipping corpora/cess_esp.zip.\n"
          ],
          "name": "stdout"
        }
      ]
    },
    {
      "cell_type": "code",
      "metadata": {
        "id": "mFi7BLojYw-F",
        "colab": {
          "base_uri": "https://localhost:8080/",
          "height": 34
        },
        "outputId": "0ab4927e-8398-4b5f-eb3c-23d4d3f2e572"
      },
      "source": [
        "#@title Entrenamiendo del tagger por unigramas\n",
        "cess_sents = cess.tagged_sents()\n",
        "fraction = int(len(cess_sents)*90/100)\n",
        "cess_sents = cess.tagged_sents()\n",
        "uni_tagger = ut(cess_sents[:fraction])\n",
        "uni_tagger.evaluate(cess_sents[fraction+1:])"
      ],
      "execution_count": null,
      "outputs": [
        {
          "output_type": "execute_result",
          "data": {
            "text/plain": [
              "0.8069484240687679"
            ]
          },
          "metadata": {
            "tags": []
          },
          "execution_count": 7
        }
      ]
    },
    {
      "cell_type": "code",
      "metadata": {
        "id": "HHA32_xVg81K",
        "colab": {
          "base_uri": "https://localhost:8080/",
          "height": 119
        },
        "outputId": "a6b6e07e-a8ab-47be-c06a-ee24f001749b"
      },
      "source": [
        "uni_tagger.tag(\"Yo soy una persona muy amable\".split(\" \"))"
      ],
      "execution_count": null,
      "outputs": [
        {
          "output_type": "execute_result",
          "data": {
            "text/plain": [
              "[('Yo', 'pp1csn00'),\n",
              " ('soy', 'vsip1s0'),\n",
              " ('una', 'di0fs0'),\n",
              " ('persona', 'ncfs000'),\n",
              " ('muy', 'rg'),\n",
              " ('amable', None)]"
            ]
          },
          "metadata": {
            "tags": []
          },
          "execution_count": 8
        }
      ]
    },
    {
      "cell_type": "code",
      "metadata": {
        "id": "kDIt1k1ubB9D",
        "colab": {
          "base_uri": "https://localhost:8080/",
          "height": 34
        },
        "outputId": "8f2e04f9-d5b1-43ef-b7cf-94e6b8d5d9c0"
      },
      "source": [
        "#@title Entrenamiento del tagger por bigramas\n",
        "fraction = int(len(cess_sents)*90/100)\n",
        "bi_tagger = bt(cess_sents[:fraction])\n",
        "bi_tagger.evaluate(cess_sents[fraction+1:])"
      ],
      "execution_count": null,
      "outputs": [
        {
          "output_type": "execute_result",
          "data": {
            "text/plain": [
              "0.1095272206303725"
            ]
          },
          "metadata": {
            "tags": []
          },
          "execution_count": 9
        }
      ]
    },
    {
      "cell_type": "code",
      "metadata": {
        "id": "nLCTRHeHfiY3",
        "colab": {
          "base_uri": "https://localhost:8080/",
          "height": 119
        },
        "outputId": "a58dc6b0-d9c8-4982-90f9-ab4fbfee5729"
      },
      "source": [
        "bi_tagger.tag(\"Yo soy una persona muy amable\".split(\" \"))"
      ],
      "execution_count": null,
      "outputs": [
        {
          "output_type": "execute_result",
          "data": {
            "text/plain": [
              "[('Yo', 'pp1csn00'),\n",
              " ('soy', 'vsip1s0'),\n",
              " ('una', None),\n",
              " ('persona', None),\n",
              " ('muy', None),\n",
              " ('amable', None)]"
            ]
          },
          "metadata": {
            "tags": []
          },
          "execution_count": 10
        }
      ]
    },
    {
      "cell_type": "markdown",
      "metadata": {
        "id": "m50bRKLlikbx"
      },
      "source": [
        "# Etiquetado mejorado con Stanza (StanfordNLP)\n",
        "\n",
        "**¿Que es Stanza?**\n",
        "\n",
        "* El grupo de investigacion en NLP de Stanford tenía una suite de librerias que ejecutaban varias tareas de NLP, esta suite se unifico en un solo servicio que llamaron **CoreNLP** con base en codigo java: https://stanfordnlp.github.io/CoreNLP/index.html\n",
        "\n",
        "* Para python existe **StanfordNLP**: https://stanfordnlp.github.io/stanfordnlp/index.html\n",
        "\n",
        "* Sin embargo, **StanfordNLP** ha sido deprecado y las nuevas versiones de la suite de NLP reciben mantenimiento bajo el nombre de **Stanza**: https://stanfordnlp.github.io/stanza/"
      ]
    },
    {
      "cell_type": "code",
      "metadata": {
        "id": "WY_YTM6TirMd",
        "colab": {
          "base_uri": "https://localhost:8080/",
          "height": 326
        },
        "outputId": "567e661e-c595-4b8a-de66-de7249ea96bf"
      },
      "source": [
        "!pip install stanza"
      ],
      "execution_count": null,
      "outputs": [
        {
          "output_type": "stream",
          "text": [
            "Collecting stanza\n",
            "\u001b[?25l  Downloading https://files.pythonhosted.org/packages/e7/8b/3a9e7a8d8cb14ad6afffc3983b7a7322a3a24d94ebc978a70746fcffc085/stanza-1.1.1-py3-none-any.whl (227kB)\n",
            "\r\u001b[K     |█▍                              | 10kB 16.9MB/s eta 0:00:01\r\u001b[K     |██▉                             | 20kB 1.7MB/s eta 0:00:01\r\u001b[K     |████▎                           | 30kB 2.2MB/s eta 0:00:01\r\u001b[K     |█████▊                          | 40kB 2.5MB/s eta 0:00:01\r\u001b[K     |███████▏                        | 51kB 1.9MB/s eta 0:00:01\r\u001b[K     |████████▋                       | 61kB 2.2MB/s eta 0:00:01\r\u001b[K     |██████████                      | 71kB 2.4MB/s eta 0:00:01\r\u001b[K     |███████████▌                    | 81kB 2.6MB/s eta 0:00:01\r\u001b[K     |█████████████                   | 92kB 2.9MB/s eta 0:00:01\r\u001b[K     |██████████████▍                 | 102kB 2.7MB/s eta 0:00:01\r\u001b[K     |███████████████▉                | 112kB 2.7MB/s eta 0:00:01\r\u001b[K     |█████████████████▎              | 122kB 2.7MB/s eta 0:00:01\r\u001b[K     |██████████████████▊             | 133kB 2.7MB/s eta 0:00:01\r\u001b[K     |████████████████████▏           | 143kB 2.7MB/s eta 0:00:01\r\u001b[K     |█████████████████████▋          | 153kB 2.7MB/s eta 0:00:01\r\u001b[K     |███████████████████████         | 163kB 2.7MB/s eta 0:00:01\r\u001b[K     |████████████████████████▌       | 174kB 2.7MB/s eta 0:00:01\r\u001b[K     |██████████████████████████      | 184kB 2.7MB/s eta 0:00:01\r\u001b[K     |███████████████████████████▍    | 194kB 2.7MB/s eta 0:00:01\r\u001b[K     |████████████████████████████▉   | 204kB 2.7MB/s eta 0:00:01\r\u001b[K     |██████████████████████████████▎ | 215kB 2.7MB/s eta 0:00:01\r\u001b[K     |███████████████████████████████▊| 225kB 2.7MB/s eta 0:00:01\r\u001b[K     |████████████████████████████████| 235kB 2.7MB/s \n",
            "\u001b[?25hRequirement already satisfied: tqdm in /usr/local/lib/python3.6/dist-packages (from stanza) (4.41.1)\n",
            "Requirement already satisfied: protobuf in /usr/local/lib/python3.6/dist-packages (from stanza) (3.12.4)\n",
            "Requirement already satisfied: requests in /usr/local/lib/python3.6/dist-packages (from stanza) (2.23.0)\n",
            "Requirement already satisfied: numpy in /usr/local/lib/python3.6/dist-packages (from stanza) (1.18.5)\n",
            "Requirement already satisfied: torch>=1.3.0 in /usr/local/lib/python3.6/dist-packages (from stanza) (1.6.0+cu101)\n",
            "Requirement already satisfied: setuptools in /usr/local/lib/python3.6/dist-packages (from protobuf->stanza) (50.3.0)\n",
            "Requirement already satisfied: six>=1.9 in /usr/local/lib/python3.6/dist-packages (from protobuf->stanza) (1.15.0)\n",
            "Requirement already satisfied: chardet<4,>=3.0.2 in /usr/local/lib/python3.6/dist-packages (from requests->stanza) (3.0.4)\n",
            "Requirement already satisfied: certifi>=2017.4.17 in /usr/local/lib/python3.6/dist-packages (from requests->stanza) (2020.6.20)\n",
            "Requirement already satisfied: urllib3!=1.25.0,!=1.25.1,<1.26,>=1.21.1 in /usr/local/lib/python3.6/dist-packages (from requests->stanza) (1.24.3)\n",
            "Requirement already satisfied: idna<3,>=2.5 in /usr/local/lib/python3.6/dist-packages (from requests->stanza) (2.10)\n",
            "Requirement already satisfied: future in /usr/local/lib/python3.6/dist-packages (from torch>=1.3.0->stanza) (0.16.0)\n",
            "Installing collected packages: stanza\n",
            "Successfully installed stanza-1.1.1\n"
          ],
          "name": "stdout"
        }
      ]
    },
    {
      "cell_type": "code",
      "metadata": {
        "id": "HG-Sdn6QmHgR",
        "colab": {
          "base_uri": "https://localhost:8080/",
          "height": 105
        },
        "outputId": "8e200420-8c68-47d1-8512-22f0f09bebe5"
      },
      "source": [
        "# esta parte puede demorar un poco ....\n",
        "import stanza\n",
        "stanza.download('es')"
      ],
      "execution_count": null,
      "outputs": [
        {
          "output_type": "stream",
          "text": [
            "Downloading https://raw.githubusercontent.com/stanfordnlp/stanza-resources/master/resources_1.1.0.json: 122kB [00:00, 10.4MB/s]                    \n",
            "2020-10-22 11:45:46 INFO: Downloading default packages for language: es (Spanish)...\n",
            "Downloading http://nlp.stanford.edu/software/stanza/1.1.0/es/default.zip: 100%|██████████| 583M/583M [01:18<00:00, 7.44MB/s]\n",
            "2020-10-22 11:47:15 INFO: Finished downloading models and saved to /root/stanza_resources.\n"
          ],
          "name": "stderr"
        }
      ]
    },
    {
      "cell_type": "code",
      "metadata": {
        "id": "B2sKNXawmWH7",
        "colab": {
          "base_uri": "https://localhost:8080/",
          "height": 221
        },
        "outputId": "cb714e6f-4334-4cb9-f466-f3b702b4c228"
      },
      "source": [
        "# Stanza funciona por medio de pipelines (pegar tareas una tras otra)\n",
        "nlp = stanza.Pipeline('es', processors='tokenize,pos')\n",
        "# pos indicar las categorias gramaticales\n",
        "doc = nlp('yo soy una persona muy amable')\n",
        "#nlp una instancia de pipeline"
      ],
      "execution_count": null,
      "outputs": [
        {
          "output_type": "stream",
          "text": [
            "2020-10-22 11:48:31 INFO: Loading these models for language: es (Spanish):\n",
            "=======================\n",
            "| Processor | Package |\n",
            "-----------------------\n",
            "| tokenize  | ancora  |\n",
            "| pos       | ancora  |\n",
            "=======================\n",
            "\n",
            "2020-10-22 11:48:31 INFO: Use device: cpu\n",
            "2020-10-22 11:48:31 INFO: Loading: tokenize\n",
            "2020-10-22 11:48:31 INFO: Loading: pos\n",
            "2020-10-22 11:48:33 INFO: Done loading processors!\n"
          ],
          "name": "stderr"
        }
      ]
    },
    {
      "cell_type": "code",
      "metadata": {
        "id": "86rL3IJRm1oI",
        "colab": {
          "base_uri": "https://localhost:8080/",
          "height": 119
        },
        "outputId": "dd014239-d3a0-4daa-e1de-2068646a59a9"
      },
      "source": [
        "for sentence in doc.sentences:\n",
        "  for word in sentence.words:\n",
        "    print(word.text, word.pos)"
      ],
      "execution_count": null,
      "outputs": [
        {
          "output_type": "stream",
          "text": [
            "yo PRON\n",
            "soy AUX\n",
            "una DET\n",
            "persona NOUN\n",
            "muy ADV\n",
            "amable ADJ\n"
          ],
          "name": "stdout"
        }
      ]
    },
    {
      "cell_type": "markdown",
      "metadata": {
        "id": "UsZF93NQodxX"
      },
      "source": [
        "# Referencias adicionales:\n",
        "\n",
        "* Etiquetado POS con Stanza https://stanfordnlp.github.io/stanza/pos.html#accessing-pos-and-morphological-feature-for-word\n",
        "\n",
        "* Stanza | Github: https://github.com/stanfordnlp/stanza\n",
        "\n",
        "* Articulo en ArXiv: https://arxiv.org/pdf/2003.07082.pdf"
      ]
    },
    {
      "cell_type": "markdown",
      "metadata": {
        "id": "hSAvAQeUboQH"
      },
      "source": [
        "# Entrenando un Modelo Markoviano Latente (HMM)"
      ]
    },
    {
      "cell_type": "markdown",
      "metadata": {
        "id": "apZTvqywabkM"
      },
      "source": [
        "## Corpus de español: \n",
        "\n",
        "* AnCora | Github: https://github.com/UniversalDependencies/UD_Spanish-AnCora\n",
        "\n",
        "* usamos el conllu parser para leer el corpus: https://pypi.org/project/conllu/\n",
        "\n",
        "* Etiquetas Universal POS (Documentación): https://universaldependencies.org/u/pos/"
      ]
    },
    {
      "cell_type": "code",
      "metadata": {
        "id": "7SyjRpNdXx6l",
        "colab": {
          "base_uri": "https://localhost:8080/",
          "height": 68
        },
        "outputId": "84bb69fb-2d8e-4ed1-bfb2-4a3e8081cca5"
      },
      "source": [
        "#@title dependencias previas\n",
        "!pip install conllu\n",
        "!git clone https://github.com/UniversalDependencies/UD_Spanish-AnCora.git"
      ],
      "execution_count": null,
      "outputs": [
        {
          "output_type": "stream",
          "text": [
            "Requirement already satisfied: conllu in /usr/local/lib/python3.6/dist-packages (4.2.1)\n",
            "\u001b[31mERROR: Operation cancelled by user\u001b[0m\n",
            "fatal: destination path 'UD_Spanish-AnCora' already exists and is not an empty directory.\n"
          ],
          "name": "stdout"
        }
      ]
    },
    {
      "cell_type": "code",
      "metadata": {
        "id": "2KxqUFhyXozz"
      },
      "source": [
        "#@title leyendo el corpus AnCora\n",
        "from conllu import parse_incr \n",
        "wordList = []\n",
        "data_file = open(\"UD_Spanish-AnCora/es_ancora-ud-dev.conllu\", \"r\", encoding=\"utf-8\")\n",
        "for tokenlist in parse_incr(data_file):\n",
        "    print(tokenlist.serialize())"
      ],
      "execution_count": null,
      "outputs": []
    },
    {
      "cell_type": "code",
      "metadata": {
        "id": "atcsH_bm9L6T",
        "colab": {
          "base_uri": "https://localhost:8080/",
          "height": 187
        },
        "outputId": "37f9066a-ec90-4636-94b2-466672be38a9"
      },
      "source": [
        "#@title Estructura de los tokens etiquetados del corpus\n",
        "tokenlist[1]"
      ],
      "execution_count": null,
      "outputs": [
        {
          "output_type": "execute_result",
          "data": {
            "text/plain": [
              "{'deprel': 'nsubj',\n",
              " 'deps': None,\n",
              " 'feats': {'Gender': 'Masc', 'Number': 'Sing'},\n",
              " 'form': 'cierto',\n",
              " 'head': 3,\n",
              " 'id': 2,\n",
              " 'lemma': 'cierto',\n",
              " 'misc': None,\n",
              " 'upos': 'ADJ',\n",
              " 'xpos': 'ADJ'}"
            ]
          },
          "metadata": {
            "tags": []
          },
          "execution_count": 16
        }
      ]
    },
    {
      "cell_type": "code",
      "metadata": {
        "id": "Ia8ZEUJmaQdw",
        "colab": {
          "base_uri": "https://localhost:8080/",
          "height": 35
        },
        "outputId": "810b129c-7a64-4437-dc2b-a00b0d2f6a19"
      },
      "source": [
        "tokenlist[1]['form']+'|'+tokenlist[1]['upos']\n",
        "\n",
        "# hacemos esto porque sera la forma en que haremos conteos sobre cada objeto condicionado"
      ],
      "execution_count": null,
      "outputs": [
        {
          "output_type": "execute_result",
          "data": {
            "application/vnd.google.colaboratory.intrinsic+json": {
              "type": "string"
            },
            "text/plain": [
              "'cierto|ADJ'"
            ]
          },
          "metadata": {
            "tags": []
          },
          "execution_count": 17
        }
      ]
    },
    {
      "cell_type": "markdown",
      "metadata": {
        "id": "g2F4mvQqN5Tm"
      },
      "source": [
        "## Entrenamiento del modelo - Calculo de conteos:\n",
        "\n",
        "* tags (tags) `tagCountDict`: $C(tag)$\n",
        "* emisiones (word|tag) `emissionProbDict`: $C(word|tag)$\n",
        "* transiciones (tag|prevtag) `transitionDict`: $C(tag|prevtag)$"
      ]
    },
    {
      "cell_type": "code",
      "metadata": {
        "id": "N04oYlQgeAW9"
      },
      "source": [
        "tagCountDict = {} \n",
        "emissionDict = {}\n",
        "transitionDict = {}\n",
        "\n",
        "#UPUS convesion de etiquetas universal\n",
        "tagtype = 'upos'\n",
        "data_file = open(\"UD_Spanish-AnCora/es_ancora-ud-dev.conllu\", \"r\", encoding=\"utf-8\")\n",
        "\n",
        "# Calculando conteos (pre-probabilidades)\n",
        "for tokenlist in parse_incr(data_file):\n",
        "  prevtag = None\n",
        "  # definimos prevtag no tenemos token previo\n",
        "  for token in tokenlist:\n",
        "\n",
        "    # C(tag)\n",
        "    tag = token[tagtype]\n",
        "    if tag in tagCountDict.keys():\n",
        "      tagCountDict[tag] += 1\n",
        "    else:\n",
        "      tagCountDict[tag] = 1\n",
        "\n",
        "    # C(word|tag) -> probabilidades emision\n",
        "    wordtag = token['form'].lower()+'|'+token[tagtype] # (word|tag)\n",
        "    if wordtag in emissionDict.keys():\n",
        "      emissionDict[wordtag] = emissionDict[wordtag] + 1\n",
        "    else:\n",
        "      emissionDict[wordtag] = 1\n",
        "\n",
        "    #  C(tag|tag_previo) -> probabilidades transición\n",
        "    if prevtag is None:\n",
        "      prevtag = tag\n",
        "      continue\n",
        "    transitiontags = tag+'|'+prevtag\n",
        "    if transitiontags in transitionDict.keys():\n",
        "      transitionDict[transitiontags] = transitionDict[transitiontags] + 1\n",
        "    else:\n",
        "      transitionDict[transitiontags] = 1\n",
        "    prevtag = tag\n",
        "    \n",
        "#transitionDict\n",
        "#emissionDict\n",
        "#tagCountDict"
      ],
      "execution_count": null,
      "outputs": []
    },
    {
      "cell_type": "markdown",
      "metadata": {
        "id": "XIXcZxSdOO__"
      },
      "source": [
        "## Entrenamiento del modelo - calculo de probabilidades\n",
        "* probabilidades de transición:\n",
        "$$P(tag|prevtag) = \\frac{C(prevtag, tag)}{C(prevtag)}$$\n",
        "\n",
        "* probabilidades de emisión:\n",
        " $$P(word|tag) = \\frac{C(word|tag)}{C(tag)}$$"
      ]
    },
    {
      "cell_type": "code",
      "metadata": {
        "id": "KznFFp2COzf7",
        "colab": {
          "base_uri": "https://localhost:8080/",
          "height": 34
        },
        "outputId": "c23ade01-6db7-48e7-b215-699fb4dc2f84"
      },
      "source": [
        "transitionProbDict = {} # matriz A\n",
        "emissionProbDict = {} # matriz B\n",
        "\n",
        "# transition Probabilities \n",
        "for key in transitionDict.keys():\n",
        "  tag, prevtag = key.split('|')\n",
        "  if tagCountDict[prevtag]>0:\n",
        "    transitionProbDict[key] = transitionDict[key]/(tagCountDict[prevtag])\n",
        "  else:\n",
        "    print(key)\n",
        "\n",
        "# emission Probabilities \n",
        "for key in emissionDict.keys():\n",
        "  word, tag = key.split('|')\n",
        "  if emissionDict[key]>0:\n",
        "    emissionProbDict[key] = emissionDict[key]/tagCountDict[tag]\n",
        "  else:\n",
        "    print(key)\n",
        "\n",
        "transitionProbDict['ADJ|ADJ']\n",
        "#emissionProbDict"
      ],
      "execution_count": null,
      "outputs": [
        {
          "output_type": "execute_result",
          "data": {
            "text/plain": [
              "0.030225988700564973"
            ]
          },
          "metadata": {
            "tags": []
          },
          "execution_count": 11
        }
      ]
    },
    {
      "cell_type": "code",
      "metadata": {
        "id": "pjC3Jl4BMrfn",
        "colab": {
          "base_uri": "https://localhost:8080/",
          "height": 1000
        },
        "outputId": "921f672d-dcf0-4ce2-bfcc-a0c8825d1997"
      },
      "source": [
        "emissionProbDict"
      ],
      "execution_count": null,
      "outputs": [
        {
          "output_type": "execute_result",
          "data": {
            "text/plain": [
              "{'el|DET': 0.2411214953271028,\n",
              " 'gobernante|NOUN': 0.00020835503698301907,\n",
              " ',|PUNCT': 0.45316979929913986,\n",
              " 'con|ADP': 0.05196480938416422,\n",
              " 'ganada|ADJ': 0.0002824858757062147,\n",
              " 'fama|NOUN': 0.00010417751849150954,\n",
              " 'desde|ADP': 0.008797653958944282,\n",
              " 'que|SCONJ': 0.6382042253521126,\n",
              " 'llegó|VERB': 0.0022411474675033617,\n",
              " 'hace|VERB': 0.009188704616763783,\n",
              " '16|NUM': 0.011428571428571429,\n",
              " 'meses|NOUN': 0.0028127929992707574,\n",
              " 'al|ADP': 0.04105571847507331,\n",
              " 'poder|NOUN': 0.0011459527034066049,\n",
              " 'de|ADP': 0.37478005865102637,\n",
              " 'explotar|VERB': 0.00044822949350067237,\n",
              " 'máximo|NOUN': 0.00020835503698301907,\n",
              " 'su|DET': 0.0503235082674335,\n",
              " 'oratoria|NOUN': 0.00010417751849150954,\n",
              " 'y|CCONJ': 0.7771664374140302,\n",
              " 'acusado|ADJ': 0.000847457627118644,\n",
              " 'por|ADP': 0.05970674486803519,\n",
              " 'sus|DET': 0.019985621854780734,\n",
              " 'detractores|NOUN': 0.0003125325554745286,\n",
              " 'incontinencia|NOUN': 0.00010417751849150954,\n",
              " 'verbal|ADJ': 0.0005649717514124294,\n",
              " 'enmudeció|VERB': 0.00022411474675033618,\n",
              " 'momento|NOUN': 0.0028127929992707574,\n",
              " 'en|ADP': 0.15249266862170088,\n",
              " 'que|PRON': 0.32481450948062657,\n",
              " 'tribunal|PROPN': 0.0009881422924901185,\n",
              " 'supremo|PROPN': 0.0007411067193675889,\n",
              " 'justicia|PROPN': 0.0014822134387351778,\n",
              " '(|PUNCT': 0.03488372093023256,\n",
              " 'tsj|PROPN': 0.0004940711462450593,\n",
              " ')|PUNCT': 0.034724434533290854,\n",
              " 'decidió|VERB': 0.0015688032272523531,\n",
              " 'suspender|VERB': 0.0011205737337516809,\n",
              " 'temporalmente|ADV': 0.0005988023952095808,\n",
              " 'los|DET': 0.11516894320632638,\n",
              " 'comicios|NOUN': 0.001771017814355662,\n",
              " 'múltiples|ADJ': 0.0011299435028248588,\n",
              " 'ante|ADP': 0.005513196480938416,\n",
              " 'la|DET': 0.2693026599568656,\n",
              " 'imposibilidad|NOUN': 0.00010417751849150954,\n",
              " '\"|PUNCT': 0.14319847085058937,\n",
              " 'técnica|ADJ': 0.0002824858757062147,\n",
              " 'celebrarlos|_': 0.005714285714285714,\n",
              " 'celebrar|VERB': 0.0015688032272523531,\n",
              " 'los|PRON': 0.006183017312448475,\n",
              " '28|NUM': 0.006857142857142857,\n",
              " 'mayo|NOUN': 0.0010417751849150954,\n",
              " '.|PUNCT': 0.2642561325262823,\n",
              " 'chávez|PROPN': 0.0009881422924901185,\n",
              " 'se|PRON': 0.2485572959604287,\n",
              " 'despidió|VERB': 0.00022411474675033618,\n",
              " 'del|ADP': 0.08645161290322581,\n",
              " 'mundanal|ADJ': 0.0002824858757062147,\n",
              " 'ruido|NOUN': 0.00020835503698301907,\n",
              " 'pasado|NOUN': 0.0005208875924575477,\n",
              " 'jueves|NOUN': 0.0007292426294405667,\n",
              " 'más|ADV': 0.10359281437125749,\n",
              " 'breve|ADJ': 0.0002824858757062147,\n",
              " 'discurso|NOUN': 0.0007292426294405667,\n",
              " 'televisión|NOUN': 0.0003125325554745286,\n",
              " 'tildado|ADJ': 0.0002824858757062147,\n",
              " 'institucional|ADJ': 0.0005649717514124294,\n",
              " 'observadores|NOUN': 0.0003125325554745286,\n",
              " 'aceptó|VERB': 0.00022411474675033618,\n",
              " 'aplazamiento|NOUN': 0.00041671007396603814,\n",
              " 'valoró|VERB': 0.00022411474675033618,\n",
              " 'pedagógica|ADJ': 0.0002824858757062147,\n",
              " 'medida|NOUN': 0.0009375976664235858,\n",
              " 'como|ADP': 0.0016422287390029325,\n",
              " 'un|DET': 0.07792954708842559,\n",
              " 'triunfo|NOUN': 0.0011459527034066049,\n",
              " 'democracia|NOUN': 0.0012501302218981144,\n",
              " 'venezolana|ADJ': 0.0002824858757062147,\n",
              " 'entonces|ADV': 0.00718562874251497,\n",
              " 'entró|VERB': 0.0006723442402510085,\n",
              " 'silencio|NOUN': 0.0003125325554745286,\n",
              " 'absoluto|ADJ': 0.0002824858757062147,\n",
              " 'nadie|PRON': 0.00494641384995878,\n",
              " 'sabe|VERB': 0.0017929179740026895,\n",
              " 'cuál|PRON': 0.0008244023083264633,\n",
              " 'es|AUX': 0.16538461538461538,\n",
              " 'nueva|ADJ': 0.005084745762711864,\n",
              " 'fecha|NOUN': 0.0007292426294405667,\n",
              " 'propone|VERB': 0.0006723442402510085,\n",
              " 'para|ADP': 0.04304985337243402,\n",
              " 'las|DET': 0.07663551401869159,\n",
              " 'votaciones|NOUN': 0.0007292426294405667,\n",
              " 'ni|CCONJ': 0.019944979367262722,\n",
              " 'si|SCONJ': 0.06426056338028169,\n",
              " 'las|PRON': 0.004534212695795548,\n",
              " 'quiere|VERB': 0.0020170327207530256,\n",
              " 'juntas|ADJ': 0.0002824858757062147,\n",
              " 'o|CCONJ': 0.06808803301237965,\n",
              " 'separadas|ADJ': 0.0002824858757062147,\n",
              " 'cuando|PRON': 0.0028854080791426216,\n",
              " 'va|AUX': 0.010769230769230769,\n",
              " 'a|ADP': 0.1110850439882698,\n",
              " 'reanudar|VERB': 0.00044822949350067237,\n",
              " 'campaña|NOUN': 0.001979372851338681,\n",
              " 'boca|NOUN': 0.0003125325554745286,\n",
              " 'suelen|VERB': 0.00022411474675033618,\n",
              " 'hablar|VERB': 0.001344688480502017,\n",
              " 'vez|NOUN': 0.003646213147202834,\n",
              " 'cuando|ADV': 0.0023952095808383233,\n",
              " 'tanto|ADV': 0.008383233532934131,\n",
              " 'ministro|NOUN': 0.00447963329513491,\n",
              " 'relaciones|PROPN': 0.00024703557312252963,\n",
              " 'exteriores|PROPN': 0.001976284584980237,\n",
              " 'josé|PROPN': 0.005681818181818182,\n",
              " 'vicente|PROPN': 0.0009881422924901185,\n",
              " 'rangel|PROPN': 0.00024703557312252963,\n",
              " 'verdadero|ADJ': 0.0011299435028248588,\n",
              " 'portavoz|NOUN': 0.0012501302218981144,\n",
              " 'gobierno|PROPN': 0.016057312252964428,\n",
              " 'como|SCONJ': 0.13380281690140844,\n",
              " 'presidente|NOUN': 0.006354828627982081,\n",
              " 'comisión|PROPN': 0.0029644268774703555,\n",
              " 'legislativa|PROPN': 0.00024703557312252963,\n",
              " 'nacional|PROPN': 0.002717391304347826,\n",
              " 'cln|PROPN': 0.00024703557312252963,\n",
              " 'congresillo|PROPN': 0.0009881422924901185,\n",
              " 'luis|PROPN': 0.0012351778656126482,\n",
              " 'miquilena|PROPN': 0.0009881422924901185,\n",
              " 'quien|PRON': 0.01483924154987634,\n",
              " 'aparentemente|ADV': 0.0005988023952095808,\n",
              " 'tiene|VERB': 0.011878081577767817,\n",
              " 'todos|DET': 0.0034507548526240116,\n",
              " 'resortes|NOUN': 0.00010417751849150954,\n",
              " 'nuevo|ADJ': 0.008192090395480226,\n",
              " 'escenario|NOUN': 0.00020835503698301907,\n",
              " 'electoral|ADJ': 0.005649717514124294,\n",
              " 'cancillería|PROPN': 0.00024703557312252963,\n",
              " 'gira|NOUN': 0.00041671007396603814,\n",
              " 'presidencial|ADJ': 0.000847457627118644,\n",
              " 'prevista|ADJ': 0.000847457627118644,\n",
              " 'entre|ADP': 0.011495601173020528,\n",
              " '25|NUM': 0.008,\n",
              " 'junio|NOUN': 0.0014584852588811334,\n",
              " 'varios|DET': 0.0017253774263120058,\n",
              " 'países|NOUN': 0.001771017814355662,\n",
              " 'organización|PROPN': 0.0012351778656126482,\n",
              " 'países|PROPN': 0.0004940711462450593,\n",
              " 'exportadores|PROPN': 0.0007411067193675889,\n",
              " 'petróleo|PROPN': 0.0004940711462450593,\n",
              " 'opep|PROPN': 0.0009881422924901185,\n",
              " 'fin|NOUN': 0.002396082925304719,\n",
              " 'afinar|VERB': 0.00022411474675033618,\n",
              " 'detalles|NOUN': 0.00041671007396603814,\n",
              " 'cara|NOUN': 0.00020835503698301907,\n",
              " 'ii|PROPN': 0.0009881422924901185,\n",
              " 'cumbre|PROPN': 0.00024703557312252963,\n",
              " 'ese|DET': 0.002156721782890007,\n",
              " 'cartel|NOUN': 0.0003125325554745286,\n",
              " 'petrolero|ADJ': 0.0005649717514124294,\n",
              " 'caracas|PROPN': 0.00024703557312252963,\n",
              " 'está|VERB': 0.0022411474675033617,\n",
              " 'alero|NOUN': 0.00020835503698301907,\n",
              " 'hasta|ADP': 0.007976539589442815,\n",
              " 'fijen|VERB': 0.00022411474675033618,\n",
              " 'mientras|CCONJ': 0.01031636863823934,\n",
              " 'tanto|NOUN': 0.0007292426294405667,\n",
              " 'ha|AUX': 0.15384615384615385,\n",
              " 'convertido|VERB': 0.0015688032272523531,\n",
              " 'una|DET': 0.05204888569374551,\n",
              " 'ocupa|VERB': 0.00044822949350067237,\n",
              " 'presidencia|PROPN': 0.0004940711462450593,\n",
              " 'comodín|NOUN': 0.00010417751849150954,\n",
              " 'partida|NOUN': 0.0007292426294405667,\n",
              " 'pues|SCONJ': 0.007042253521126761,\n",
              " 'marcará|VERB': 0.00022411474675033618,\n",
              " 'pauta|NOUN': 0.00010417751849150954,\n",
              " 'sobre|ADP': 0.00997067448680352,\n",
              " 'inmediato|ADJ': 0.0005649717514124294,\n",
              " 'futuro|NOUN': 0.0009375976664235858,\n",
              " 'político|ADJ': 0.002824858757062147,\n",
              " 'no|ADV': 0.18502994011976048,\n",
              " 'lo|PRON': 0.07914262159934048,\n",
              " 'remedia|VERB': 0.00022411474675033618,\n",
              " 'admitir|VERB': 0.00022411474675033618,\n",
              " 'recurso|NOUN': 0.0006250651109490572,\n",
              " 'defensoría|PROPN': 0.00024703557312252963,\n",
              " 'pueblo|PROPN': 0.0012351778656126482,\n",
              " 'evitar|VERB': 0.0022411474675033617,\n",
              " 'designe|VERB': 0.00022411474675033618,\n",
              " 'dedo|NOUN': 0.00010417751849150954,\n",
              " 'mañana|ADV': 0.007784431137724551,\n",
              " 'viernes|NOUN': 0.0013543077403896239,\n",
              " 'directiva|NOUN': 0.0009375976664235858,\n",
              " 'consejo|PROPN': 0.0029644268774703555,\n",
              " 'electoral|PROPN': 0.0009881422924901185,\n",
              " 'cne|PROPN': 0.0012351778656126482,\n",
              " 'nombrará|VERB': 0.00022411474675033618,\n",
              " 'criterio|NOUN': 0.00010417751849150954,\n",
              " 'autoridades|NOUN': 0.0007292426294405667,\n",
              " 'organismo|NOUN': 0.0003125325554745286,\n",
              " 'fue|AUX': 0.05307692307692308,\n",
              " 'acusado|VERB': 0.0008964589870013447,\n",
              " 'unos|DET': 0.002875629043853343,\n",
              " 'días|NOUN': 0.0030211480362537764,\n",
              " 'generalidad|NOUN': 0.00010417751849150954,\n",
              " 'fuerzas|NOUN': 0.0008334201479320763,\n",
              " 'políticas|ADJ': 0.0019774011299435027,\n",
              " 'venezolanas|ADJ': 0.0002824858757062147,\n",
              " 'ser|AUX': 0.031538461538461536,\n",
              " 'nico|ADJ': 0.0002824858757062147,\n",
              " 'causante|NOUN': 0.00010417751849150954,\n",
              " 'debido|ADJ': 0.002824858757062147,\n",
              " 'incompetencia|NOUN': 0.00020835503698301907,\n",
              " 'cinco|NUM': 0.027428571428571427,\n",
              " 'miembros|NOUN': 0.0011459527034066049,\n",
              " 'complicaron|VERB': 0.00022411474675033618,\n",
              " 'ya|ADV': 0.048502994011976046,\n",
              " 'sí|NOUN': 0.00041671007396603814,\n",
              " 'complejas|ADJ': 0.0005649717514124294,\n",
              " 'elecciones|NOUN': 0.0032295030732367954,\n",
              " 'continuas|ADJ': 0.0002824858757062147,\n",
              " 'rectificaciones|NOUN': 0.00020835503698301907,\n",
              " 'bases|NOUN': 0.0003125325554745286,\n",
              " 'datos|NOUN': 0.0016668402958641526,\n",
              " 'proceso|NOUN': 0.0014584852588811334,\n",
              " 'automatizado|ADJ': 0.0005649717514124294,\n",
              " 'anterior|ADJ': 0.0031073446327683617,\n",
              " 'elegido|ADJ': 0.0002824858757062147,\n",
              " 'también|ADV': 0.045508982035928146,\n",
              " 'dimitió|VERB': 0.00022411474675033618,\n",
              " 'pleno|ADJ': 0.0005649717514124294,\n",
              " 'lunes|NOUN': 0.0016668402958641526,\n",
              " 'tras|ADP': 0.004222873900293255,\n",
              " 'soportar|VERB': 0.00044822949350067237,\n",
              " 'lluvia|NOUN': 0.00020835503698301907,\n",
              " 'críticas|NOUN': 0.0003125325554745286,\n",
              " 'falta|NOUN': 0.0008334201479320763,\n",
              " 'experiencia|NOUN': 0.0007292426294405667,\n",
              " 'les|PRON': 0.015251442704039572,\n",
              " 'prohibido|VERB': 0.00022411474675033618,\n",
              " 'salida|NOUN': 0.0007292426294405667,\n",
              " 'país|NOUN': 0.004792165850609438,\n",
              " 'mientras|SCONJ': 0.01584507042253521,\n",
              " 'son|AUX': 0.03307692307692308,\n",
              " 'investigados|VERB': 0.00022411474675033618,\n",
              " 'judicialmente|ADV': 0.0005988023952095808,\n",
              " 'comportamiento|NOUN': 0.0005208875924575477,\n",
              " 'ahora|ADV': 0.025748502994011976,\n",
              " 'guardar|VERB': 0.00044822949350067237,\n",
              " 'formas|NOUN': 0.0003125325554745286,\n",
              " 'consultar|VERB': 0.00044822949350067237,\n",
              " 'sociedad|NOUN': 0.0013543077403896239,\n",
              " 'civil|ADJ': 0.0014124293785310734,\n",
              " 'iglesia|PROPN': 0.00024703557312252963,\n",
              " 'partidos|NOUN': 0.0030211480362537764,\n",
              " 'empresarios|NOUN': 0.0003125325554745286,\n",
              " 'sindicatos|NOUN': 0.0003125325554745286,\n",
              " 'sería|AUX': 0.008461538461538461,\n",
              " 'composición|NOUN': 0.00020835503698301907,\n",
              " 'idónea|ADJ': 0.0002824858757062147,\n",
              " 'equilibrada|ADJ': 0.0002824858757062147,\n",
              " 'supuestamente|ADV': 0.0011976047904191617,\n",
              " 'garante|ADJ': 0.0002824858757062147,\n",
              " 'imparcialidad|NOUN': 0.00010417751849150954,\n",
              " 'dar|VERB': 0.002465262214253698,\n",
              " 'tinte|NOUN': 0.00010417751849150954,\n",
              " 'democrático|ADJ': 0.000847457627118644,\n",
              " 'será|AUX': 0.014615384615384615,\n",
              " 'designación|NOUN': 0.00010417751849150954,\n",
              " 'elías|PROPN': 0.00024703557312252963,\n",
              " 'jaua|PROPN': 0.00024703557312252963,\n",
              " 'miembro|NOUN': 0.0008334201479320763,\n",
              " 'considera|VERB': 0.001344688480502017,\n",
              " 'nuevos|ADJ': 0.0019774011299435027,\n",
              " 'deben|AUX': 0.009230769230769232,\n",
              " 'tener|VERB': 0.00291349170775437,\n",
              " 'dirigir|VERB': 0.00022411474675033618,\n",
              " 'procesos|NOUN': 0.00020835503698301907,\n",
              " 'complejos|ADJ': 0.0002824858757062147,\n",
              " 'personas|NOUN': 0.001979372851338681,\n",
              " 'independencia|NOUN': 0.00041671007396603814,\n",
              " 'equilibrio|NOUN': 0.0006250651109490572,\n",
              " 'respetabilidad|NOUN': 0.00010417751849150954,\n",
              " 'reconocida|ADJ': 0.0002824858757062147,\n",
              " 'solvencia|NOUN': 0.00010417751849150954,\n",
              " 'moral|ADJ': 0.0002824858757062147,\n",
              " 'algo|PRON': 0.007831821929101401,\n",
              " 'puesto|VERB': 0.0011205737337516809,\n",
              " 'entredicho|NOUN': 0.00010417751849150954,\n",
              " 'mientras|ADV': 0.0011976047904191617,\n",
              " 'defensa|PROPN': 0.0009881422924901185,\n",
              " 'general|NOUN': 0.0003125325554745286,\n",
              " 'eliécer|PROPN': 0.00024703557312252963,\n",
              " 'hurtado|PROPN': 0.0004940711462450593,\n",
              " 'vio|VERB': 0.0006723442402510085,\n",
              " 'obligado|ADJ': 0.0005649717514124294,\n",
              " 'salir|VERB': 0.0011205737337516809,\n",
              " 'paso|NOUN': 0.0006250651109490572,\n",
              " 'casi|ADV': 0.012574850299401197,\n",
              " 'normales|ADJ': 0.0005649717514124294,\n",
              " 'permanentes|ADJ': 0.0002824858757062147,\n",
              " 'rumores|NOUN': 0.0003125325554745286,\n",
              " 'golpe|NOUN': 0.0003125325554745286,\n",
              " 'estado|PROPN': 0.005434782608695652,\n",
              " 'negó|VERB': 0.0015688032272523531,\n",
              " 'haya|AUX': 0.010769230769230769,\n",
              " 'división|NOUN': 0.0005208875924575477,\n",
              " 'filas|NOUN': 0.00041671007396603814,\n",
              " 'castrenses|ADJ': 0.0005649717514124294,\n",
              " 'mucho|ADV': 0.010179640718562874,\n",
              " 'menos|ADV': 0.015568862275449102,\n",
              " 'esté|AUX': 0.002307692307692308,\n",
              " 'marcha|NOUN': 0.0009375976664235858,\n",
              " 'conspiración|NOUN': 0.00020835503698301907,\n",
              " 'contra|ADP': 0.007976539589442815,\n",
              " 'pueblo|NOUN': 0.0010417751849150954,\n",
              " 'puede|AUX': 0.026153846153846153,\n",
              " 'estar|AUX': 0.009230769230769232,\n",
              " 'seguro|ADJ': 0.0011299435028248588,\n",
              " 'aquí|ADV': 0.004191616766467066,\n",
              " 'existe|VERB': 0.001344688480502017,\n",
              " 'nada|PRON': 0.009068425391591096,\n",
              " 'está|AUX': 0.026153846153846153,\n",
              " 'preso|ADJ': 0.0002824858757062147,\n",
              " 'esos|DET': 0.0012940330697340044,\n",
              " 'motivos|NOUN': 0.0003125325554745286,\n",
              " 'tampoco|ADV': 0.005988023952095809,\n",
              " 'declaró|VERB': 0.0008964589870013447,\n",
              " 'rueda|NOUN': 0.0003125325554745286,\n",
              " 'prensa|NOUN': 0.0005208875924575477,\n",
              " 'añadió|VERB': 0.003809950694755715,\n",
              " 'desconoce|VERB': 0.00044822949350067237,\n",
              " 'procedencia|NOUN': 0.00010417751849150954,\n",
              " 'estarían|AUX': 0.0007692307692307692,\n",
              " 'motivados|ADJ': 0.0002824858757062147,\n",
              " 'supuesta|ADJ': 0.0002824858757062147,\n",
              " 'milicia|NOUN': 0.00010417751849150954,\n",
              " 'partidarios|NOUN': 0.00020835503698301907,\n",
              " 'seguidores|NOUN': 0.0009375976664235858,\n",
              " 'aspirante|NOUN': 0.0003125325554745286,\n",
              " 'militar|NOUN': 0.00010417751849150954,\n",
              " 'retirado|ADJ': 0.0002824858757062147,\n",
              " 'francisco|PROPN': 0.001976284584980237,\n",
              " 'arias|PROPN': 0.00024703557312252963,\n",
              " 'cárdenas|PROPN': 0.00024703557312252963,\n",
              " 'sí|INTJ': 0.8,\n",
              " 'explayado|VERB': 0.00022411474675033618,\n",
              " 'opiniones|NOUN': 0.00020835503698301907,\n",
              " 'payasada|NOUN': 0.00010417751849150954,\n",
              " 'amnistía|NOUN': 0.0008334201479320763,\n",
              " 'favorece|VERB': 0.00044822949350067237,\n",
              " 'catorce|NUM': 0.001142857142857143,\n",
              " 'coroneles|NOUN': 0.00020835503698301907,\n",
              " 'detenidos|ADJ': 0.0002824858757062147,\n",
              " 'centenar|NOUN': 0.00010417751849150954,\n",
              " 'oficiales|NOUN': 0.0003125325554745286,\n",
              " 'menor|ADJ': 0.000847457627118644,\n",
              " 'rango|NOUN': 0.00010417751849150954,\n",
              " 'procesados|ADJ': 0.0005649717514124294,\n",
              " 'participar|VERB': 0.00044822949350067237,\n",
              " 'asonada|NOUN': 0.00010417751849150954,\n",
              " 'golpista|ADJ': 0.0002824858757062147,\n",
              " 'mahuad|PROPN': 0.0009881422924901185,\n",
              " 'facilitó|VERB': 0.00044822949350067237,\n",
              " 'sucesión|NOUN': 0.00010417751849150954,\n",
              " 'presidencia|NOUN': 0.0005208875924575477,\n",
              " 'gustavo|PROPN': 0.00024703557312252963,\n",
              " 'noboa|PROPN': 0.0004940711462450593,\n",
              " 'solicitada|ADJ': 0.0002824858757062147,\n",
              " 'congreso|PROPN': 0.0032114624505928855,\n",
              " 'propio|DET': 0.00100647016534867,\n",
              " 'jefe|NOUN': 0.0008334201479320763,\n",
              " 'sido|AUX': 0.024615384615384615,\n",
              " 'exigida|VERB': 0.00022411474675033618,\n",
              " 'frentes|NOUN': 0.00020835503698301907,\n",
              " 'sociales|ADJ': 0.0011299435028248588,\n",
              " 'han|AUX': 0.04923076923076923,\n",
              " 'anunciado|VERB': 0.0006723442402510085,\n",
              " 'incondicional|ADJ': 0.0002824858757062147,\n",
              " 'apoyo|NOUN': 0.0010417751849150954,\n",
              " 'militares|NOUN': 0.00041671007396603814,\n",
              " 'rebeldes|ADJ': 0.000847457627118644,\n",
              " 'vicepresidente|NOUN': 0.0008334201479320763,\n",
              " 'gobierno|NOUN': 0.0005208875924575477,\n",
              " 'le|PRON': 0.04204451772464963,\n",
              " 'sucedió|VERB': 0.00044822949350067237,\n",
              " 'cargo|NOUN': 0.0006250651109490572,\n",
              " 'caída|NOUN': 0.00041671007396603814,\n",
              " 'permitirá|VERB': 0.0008964589870013447,\n",
              " 'pacificación|NOUN': 0.00010417751849150954,\n",
              " 'nación|NOUN': 0.0005208875924575477,\n",
              " 'creación|NOUN': 0.0006250651109490572,\n",
              " 'ambiente|NOUN': 0.00020835503698301907,\n",
              " 'propicio|ADJ': 0.0002824858757062147,\n",
              " 'diálogo|NOUN': 0.0005208875924575477,\n",
              " 'concertación|NOUN': 0.00010417751849150954,\n",
              " 'gozan|VERB': 0.00022411474675033618,\n",
              " 'amplia|ADJ': 0.000847457627118644,\n",
              " 'simpatía|NOUN': 0.0003125325554745286,\n",
              " 'población|NOUN': 0.0009375976664235858,\n",
              " 'según|ADP': 0.004926686217008798,\n",
              " 'encuestas|NOUN': 0.00020835503698301907,\n",
              " 'mayoría|NOUN': 0.0014584852588811334,\n",
              " 'positivo|ADJ': 0.000847457627118644,\n",
              " 'hayan|AUX': 0.003076923076923077,\n",
              " 'apoyado|VERB': 0.00044822949350067237,\n",
              " 'movimientos|NOUN': 0.0005208875924575477,\n",
              " 'exigían|VERB': 0.00022411474675033618,\n",
              " 'haber|AUX': 0.02076923076923077,\n",
              " 'ahondado|VERB': 0.00022411474675033618,\n",
              " 'crisis|NOUN': 0.0010417751849150954,\n",
              " 'económica|ADJ': 0.0014124293785310734,\n",
              " 'afecta|VERB': 0.00044822949350067237,\n",
              " 'cabecilla|NOUN': 0.00010417751849150954,\n",
              " 'movimiento|NOUN': 0.0009375976664235858,\n",
              " 'militar|ADJ': 0.0014124293785310734,\n",
              " 'coronel|NOUN': 0.00020835503698301907,\n",
              " 'lucio|PROPN': 0.00024703557312252963,\n",
              " 'gutiérrez|PROPN': 0.0012351778656126482,\n",
              " 'apoyó|VERB': 0.00044822949350067237,\n",
              " 'miles|NUM': 0.005714285714285714,\n",
              " 'indígenas|NOUN': 0.00010417751849150954,\n",
              " 'ocuparon|VERB': 0.00022411474675033618,\n",
              " '21|NUM': 0.005714285714285714,\n",
              " 'enero|NOUN': 0.0011459527034066049,\n",
              " 'palacio|PROPN': 0.00024703557312252963,\n",
              " 'legislativo|PROPN': 0.0004940711462450593,\n",
              " 'luego|ADV': 0.008383233532934131,\n",
              " 'marcharon|VERB': 0.00022411474675033618,\n",
              " 'hacia|ADP': 0.0016422287390029325,\n",
              " 'centro|NOUN': 0.0006250651109490572,\n",
              " 'quito|PROPN': 0.00024703557312252963,\n",
              " 'tomar|VERB': 0.001344688480502017,\n",
              " 'posesión|NOUN': 0.00020835503698301907,\n",
              " 'casa|PROPN': 0.0007411067193675889,\n",
              " 'presidencial|PROPN': 0.00024703557312252963,\n",
              " 'arrepiente|VERB': 0.00022411474675033618,\n",
              " 'participado|VERB': 0.00022411474675033618,\n",
              " 'insurrección|NOUN': 0.00010417751849150954,\n",
              " 'actitud|NOUN': 0.0006250651109490572,\n",
              " 'debió|VERB': 0.00022411474675033618,\n",
              " 'elevado|ADJ': 0.000847457627118644,\n",
              " 'grado|NOUN': 0.00020835503698301907,\n",
              " 'corrupción|NOUN': 0.0006250651109490572,\n",
              " 'dice|VERB': 0.00291349170775437,\n",
              " 'hubo|AUX': 0.006153846153846154,\n",
              " 'durante|ADP': 0.004105571847507331,\n",
              " 'administración|NOUN': 0.0006250651109490572,\n",
              " 'concluir|VERB': 0.00022411474675033618,\n",
              " 'brillante|ADJ': 0.0011299435028248588,\n",
              " 'carrera|NOUN': 0.001771017814355662,\n",
              " 'aunque|SCONJ': 0.03345070422535211,\n",
              " 'aún|ADV': 0.010778443113772455,\n",
              " 'debe|AUX': 0.013846153846153847,\n",
              " 'esperar|VERB': 0.0011205737337516809,\n",
              " 'posibles|ADJ': 0.0011299435028248588,\n",
              " 'sanciones|NOUN': 0.0008334201479320763,\n",
              " 'disciplinarias|ADJ': 0.000847457627118644,\n",
              " 'podría|AUX': 0.009230769230769232,\n",
              " 'imponer|VERB': 0.0008964589870013447,\n",
              " 'mando|NOUN': 0.0003125325554745286,\n",
              " 'diputados|NOUN': 0.0008334201479320763,\n",
              " 'impide|VERB': 0.0006723442402510085,\n",
              " 'militares|ADJ': 0.0014124293785310734,\n",
              " 'impongan|VERB': 0.00044822949350067237,\n",
              " 'involucrados|ADJ': 0.0002824858757062147,\n",
              " 'sólo|ADV': 0.029940119760479042,\n",
              " 'establece|VERB': 0.0015688032272523531,\n",
              " 'suspensión|NOUN': 0.00010417751849150954,\n",
              " 'penales|ADJ': 0.0002824858757062147,\n",
              " 'civiles|ADJ': 0.0002824858757062147,\n",
              " 'seguidos|ADJ': 0.000847457627118644,\n",
              " 'corte|PROPN': 0.00024703557312252963,\n",
              " 'militar|PROPN': 0.00024703557312252963,\n",
              " 'populares|ADJ': 0.0005649717514124294,\n",
              " 'están|AUX': 0.012307692307692308,\n",
              " 'dispuestos|ADJ': 0.000847457627118644,\n",
              " 'fuerzas|PROPN': 0.0007411067193675889,\n",
              " 'armadas|PROPN': 0.0004940711462450593,\n",
              " 'acaso|ADV': 0.0011976047904191617,\n",
              " 'aplican|VERB': 0.00022411474675033618,\n",
              " 'convocarán|VERB': 0.00022411474675033618,\n",
              " 'protestas|NOUN': 0.0003125325554745286,\n",
              " 'mandos|NOUN': 0.00020835503698301907,\n",
              " 'según|SCONJ': 0.014964788732394365,\n",
              " 'aseguró|VERB': 0.00582698341550874,\n",
              " 'dirigente|NOUN': 0.0007292426294405667,\n",
              " 'coordinadora|PROPN': 0.00024703557312252963,\n",
              " 'movimientos|PROPN': 0.00024703557312252963,\n",
              " 'sociales|PROPN': 0.0004940711462450593,\n",
              " 'napoleón|PROPN': 0.00024703557312252963,\n",
              " 'saltos|PROPN': 0.00024703557312252963,\n",
              " 'vamos|AUX': 0.0038461538461538464,\n",
              " 'vigilantes|NOUN': 0.00010417751849150954,\n",
              " 'cumpla|VERB': 0.00044822949350067237,\n",
              " 'constitución|PROPN': 0.00024703557312252963,\n",
              " 'sea|AUX': 0.006153846153846154,\n",
              " 'total|ADJ': 0.0022598870056497176,\n",
              " 'es|CCONJ': 0.000687757909215956,\n",
              " 'tomen|VERB': 0.00022411474675033618,\n",
              " 'retaliaciones|NOUN': 0.00010417751849150954,\n",
              " 'venganzas|NOUN': 0.00010417751849150954,\n",
              " 'pretexto|NOUN': 0.00020835503698301907,\n",
              " 'sanción|NOUN': 0.0005208875924575477,\n",
              " 'disciplinaria|ADJ': 0.0002824858757062147,\n",
              " 'indicó|VERB': 0.0031376064545047063,\n",
              " 'agregó|VERB': 0.001344688480502017,\n",
              " 'acatan|VERB': 0.00022411474675033618,\n",
              " 'plenitud|NOUN': 0.00010417751849150954,\n",
              " 'posición|NOUN': 0.0009375976664235858,\n",
              " 'e|CCONJ': 0.024759284731774415,\n",
              " 'imponen|VERB': 0.00022411474675033618,\n",
              " 'podrían|AUX': 0.0015384615384615385,\n",
              " 'llegar|VERB': 0.002465262214253698,\n",
              " 'separación|NOUN': 0.00041671007396603814,\n",
              " 'rebeldes|NOUN': 0.00010417751849150954,\n",
              " 'grupos|NOUN': 0.0009375976664235858,\n",
              " 'retomarán|VERB': 0.00022411474675033618,\n",
              " 'movilizaciones|NOUN': 0.00020835503698301907,\n",
              " 'convulsión|NOUN': 0.00010417751849150954,\n",
              " 'mayor|ADJ': 0.0064971751412429375,\n",
              " 'juan|PROPN': 0.0024703557312252965,\n",
              " 'pons|PROPN': 0.0007411067193675889,\n",
              " 'coincidió|VERB': 0.0006723442402510085,\n",
              " 'objetivo|NOUN': 0.0009375976664235858,\n",
              " 'pacificar|VERB': 0.00022411474675033618,\n",
              " 'devolver|VERB': 0.00022411474675033618,\n",
              " 'tranquilidad|NOUN': 0.0003125325554745286,\n",
              " 'necesita|VERB': 0.001344688480502017,\n",
              " 'atender|VERB': 0.001344688480502017,\n",
              " 'otros|DET': 0.003882099209202013,\n",
              " 'problemas|NOUN': 0.0010417751849150954,\n",
              " 'urgentes|ADJ': 0.0005649717514124294,\n",
              " 'pobreza|NOUN': 0.0006250651109490572,\n",
              " 'aprobación|NOUN': 0.00020835503698301907,\n",
              " 'muestra|NOUN': 0.0003125325554745286,\n",
              " 'responsabilidad|NOUN': 0.00041671007396603814,\n",
              " 'cívica|ADJ': 0.0002824858757062147,\n",
              " 'ecuatoriano|ADJ': 0.0002824858757062147,\n",
              " 'olvidarnos|_': 0.005714285714285714,\n",
              " 'olvidar|VERB': 0.00044822949350067237,\n",
              " 'nos|PRON': 0.021846661170651278,\n",
              " 'hechos|NOUN': 0.00041671007396603814,\n",
              " 'pasados|ADJ': 0.0005649717514124294,\n",
              " 'construir|VERB': 0.0006723442402510085,\n",
              " 'historia|NOUN': 0.0013543077403896239,\n",
              " 'afirmó|VERB': 0.002465262214253698,\n",
              " 'par|NOUN': 0.0003125325554745286,\n",
              " 'nica|ADJ': 0.0005649717514124294,\n",
              " 'acera|NOUN': 0.0003125325554745286,\n",
              " 'vi|VERB': 0.00044822949350067237,\n",
              " 'contenedores|NOUN': 0.00010417751849150954,\n",
              " 'juntos|ADJ': 0.000847457627118644,\n",
              " ':|PUNCT': 0.008760751831793565,\n",
              " 'contenedor|NOUN': 0.00041671007396603814,\n",
              " 'metálico|ADJ': 0.0005649717514124294,\n",
              " 'verde|ADJ': 0.0005649717514124294,\n",
              " 'reciclar|VERB': 0.0008964589870013447,\n",
              " 'vidrio|NOUN': 0.00010417751849150954,\n",
              " ';|PUNCT': 0.0055750238929595415,\n",
              " 'amarillo|ADJ': 0.000847457627118644,\n",
              " 'papeles|NOUN': 0.00020835503698301907,\n",
              " '¡|PUNCT': 0.000955718381650207,\n",
              " 'pero|CCONJ': 0.08321870701513068,\n",
              " 'cartones|NOUN': 0.00010417751849150954,\n",
              " '!|PUNCT': 0.000955718381650207,\n",
              " 'aclaraba|VERB': 0.00022411474675033618,\n",
              " 'otro|DET': 0.00301941049604601,\n",
              " 'plástico|NOUN': 0.00010417751849150954,\n",
              " 'basura|NOUN': 0.00010417751849150954,\n",
              " 'normal|ADJ': 0.0005649717514124294,\n",
              " 'pequeño|ADJ': 0.001694915254237288,\n",
              " 'acoplado|ADJ': 0.0002824858757062147,\n",
              " 'papel|NOUN': 0.0005208875924575477,\n",
              " 'pilas|NOUN': 0.00020835503698301907,\n",
              " 'otro|PRON': 0.00247320692497939,\n",
              " 'colocado|ADJ': 0.0002824858757062147,\n",
              " 'botón|ADJ': 0.0002824858757062147,\n",
              " 'reciclaje|NOUN': 0.00010417751849150954,\n",
              " 'ahorro|NOUN': 0.0003125325554745286,\n",
              " 'aprovechamiento|NOUN': 0.00010417751849150954,\n",
              " 'residuos|NOUN': 0.00010417751849150954,\n",
              " 'lucha|NOUN': 0.0009375976664235858,\n",
              " 'despilfarro|NOUN': 0.00020835503698301907,\n",
              " 'energético|ADJ': 0.0002824858757062147,\n",
              " 'ricos|ADJ': 0.0005649717514124294,\n",
              " 'imbuido|ADJ': 0.0002824858757062147,\n",
              " 'espíritu|NOUN': 0.00041671007396603814,\n",
              " 'escritor|NOUN': 0.00010417751849150954,\n",
              " 'inglés|ADJ': 0.000847457627118644,\n",
              " '-|PUNCT': 0.04380375915896782,\n",
              " 'excepcional|ADJ': 0.0011299435028248588,\n",
              " 'sarcástico|ADJ': 0.0002824858757062147,\n",
              " 'proponía|VERB': 0.00022411474675033618,\n",
              " 'poco|ADV': 0.013173652694610778,\n",
              " 'tirase|VERB': 0.00044822949350067237,\n",
              " 'agua|NOUN': 0.0007292426294405667,\n",
              " 'bolsa|NOUN': 0.0006250651109490572,\n",
              " 'caliente|ADJ': 0.0002824858757062147,\n",
              " 'tirarla|_': 0.005714285714285714,\n",
              " 'tirar|VERB': 0.0011205737337516809,\n",
              " 'la|PRON': 0.011953833470733718,\n",
              " 'decía|VERB': 0.0006723442402510085,\n",
              " 'hay|AUX': 0.027692307692307693,\n",
              " 'hacer|VERB': 0.008516360376512775,\n",
              " 'reciclarla|_': 0.005714285714285714,\n",
              " 'guardarla|_': 0.005714285714285714,\n",
              " 'volverla|_': 0.005714285714285714,\n",
              " 'volver|VERB': 0.0008964589870013447,\n",
              " 'calentar|VERB': 0.00022411474675033618,\n",
              " 'día|NOUN': 0.003125325554745286,\n",
              " 'siguiente|ADJ': 0.000847457627118644,\n",
              " 'señor|NOUN': 0.00041671007396603814,\n",
              " 'mesa|NOUN': 0.0005208875924575477,\n",
              " 'acabó|VERB': 0.0006723442402510085,\n",
              " 'eso|PRON': 0.009068425391591096,\n",
              " 'usar|VERB': 0.0006723442402510085,\n",
              " 'palillos|NOUN': 0.00020835503698301907,\n",
              " 'sola|ADJ': 0.0011299435028248588,\n",
              " 'tirarlos|_': 0.011428571428571429,\n",
              " 'recogerlos|_': 0.005714285714285714,\n",
              " 'recoger|VERB': 0.0008964589870013447,\n",
              " 'usados|ADJ': 0.0002824858757062147,\n",
              " 'fregar|VERB': 0.00022411474675033618,\n",
              " 'restos|NOUN': 0.00010417751849150954,\n",
              " 'comida|NOUN': 0.00020835503698301907,\n",
              " 'quedado|VERB': 0.00044822949350067237,\n",
              " 'adheridos|ADJ': 0.0002824858757062147,\n",
              " 'ponerlos|_': 0.005714285714285714,\n",
              " 'poner|VERB': 0.00291349170775437,\n",
              " 'secar|VERB': 0.00022411474675033618,\n",
              " 'esta|DET': 0.012221423436376708,\n",
              " 'manera|NOUN': 0.0009375976664235858,\n",
              " 'cada|DET': 0.0027318475916606757,\n",
              " 'uno|PRON': 0.012778235779060182,\n",
              " 'nosotros|PRON': 0.0053586150041220115,\n",
              " 'evitará|VERB': 0.00022411474675033618,\n",
              " 'hectáreas|NOUN': 0.00041671007396603814,\n",
              " 'bosque|NOUN': 0.00010417751849150954,\n",
              " 'sean|AUX': 0.003076923076923077,\n",
              " 'diezmadas|VERB': 0.00022411474675033618,\n",
              " 'fabricar|VERB': 0.00022411474675033618,\n",
              " 'pequeñoburgueses|ADJ': 0.0002824858757062147,\n",
              " 'hurgamos|VERB': 0.00022411474675033618,\n",
              " 'caries|NOUN': 0.00010417751849150954,\n",
              " 'estamos|AUX': 0.009230769230769232,\n",
              " 'consejo|NOUN': 0.00020835503698301907,\n",
              " 'dientes|NOUN': 0.00010417751849150954,\n",
              " 'cariados|ADJ': 0.0002824858757062147,\n",
              " 'arranque|VERB': 0.00022411474675033618,\n",
              " 'dentista|NOUN': 0.00010417751849150954,\n",
              " 'nada|NOUN': 0.00020835503698301907,\n",
              " 'convenientemente|ADV': 0.0005988023952095808,\n",
              " 'ensartados|ADJ': 0.0002824858757062147,\n",
              " 'hilo|NOUN': 0.00010417751849150954,\n",
              " 'nylon|NOUN': 0.00010417751849150954,\n",
              " 'alternados|ADJ': 0.0002824858757062147,\n",
              " 'huesos|NOUN': 0.0003125325554745286,\n",
              " 'aceitunas|NOUN': 0.00010417751849150954,\n",
              " 'aperitivo|NOUN': 0.00010417751849150954,\n",
              " 'habremos|AUX': 0.0015384615384615385,\n",
              " 'guardado|VERB': 0.00022411474675033618,\n",
              " 'evidentemente|ADV': 0.0005988023952095808,\n",
              " 'tira|VERB': 0.00022411474675033618,\n",
              " 'conseguiremos|VERB': 0.00022411474675033618,\n",
              " 'bonito|ADJ': 0.0014124293785310734,\n",
              " 'collar|NOUN': 0.00010417751849150954,\n",
              " 'recycled|ADJ': 0.0002824858757062147,\n",
              " 'ecological|ADJ': 0.0002824858757062147,\n",
              " 'regalar|VERB': 0.00022411474675033618,\n",
              " 'ejemplo|NOUN': 0.0009375976664235858,\n",
              " 'asistenta|NOUN': 0.00010417751849150954,\n",
              " 'error|NOUN': 0.0003125325554745286,\n",
              " 'haberlo|_': 0.005714285714285714,\n",
              " 'comprado|VERB': 0.00044822949350067237,\n",
              " 'rebajas|NOUN': 0.0003125325554745286,\n",
              " 'terminar|VERB': 0.0006723442402510085,\n",
              " 'navidad|PROPN': 0.00024703557312252963,\n",
              " 'pasada|ADJ': 0.0019774011299435027,\n",
              " 'tienda|NOUN': 0.00010417751849150954,\n",
              " 'belenes|NOUN': 0.00020835503698301907,\n",
              " 'ofreció|VERB': 0.0006723442402510085,\n",
              " 'nacimientos|NOUN': 0.00010417751849150954,\n",
              " 'precio|NOUN': 0.0016668402958641526,\n",
              " 'quema|NOUN': 0.00010417751849150954,\n",
              " 'quemamos|VERB': 0.00022411474675033618,\n",
              " 'hemos|AUX': 0.004615384615384616,\n",
              " 'debido|AUX': 0.0015384615384615385,\n",
              " 'pensarlo|_': 0.011428571428571429,\n",
              " 'pensar|VERB': 0.001344688480502017,\n",
              " 'resultaban|VERB': 0.00022411474675033618,\n",
              " 'demasiado|ADV': 0.0023952095808383233,\n",
              " 'baratos|ADJ': 0.0005649717514124294,\n",
              " 'buenos|ADJ': 0.0014124293785310734,\n",
              " 'cuando|SCONJ': 0.03873239436619718,\n",
              " 'destapamos|VERB': 0.00022411474675033618,\n",
              " 'caja|NOUN': 0.00020835503698301907,\n",
              " 'algunos|DET': 0.0027318475916606757,\n",
              " 'descubrimos|VERB': 0.00022411474675033618,\n",
              " 'tres|NUM': 0.048,\n",
              " 'reyes|NOUN': 0.00010417751849150954,\n",
              " 'eran|AUX': 0.006153846153846154,\n",
              " 'blancos|ADJ': 0.0002824858757062147,\n",
              " 'niño|PROPN': 0.00024703557312252963,\n",
              " 'jesús|PROPN': 0.0007411067193675889,\n",
              " 'había|AUX': 0.026153846153846153,\n",
              " 'dos|NUM': 0.11657142857142858,\n",
              " 'idénticos|ADJ': 0.0005649717514124294,\n",
              " 'diferencia|NOUN': 0.0005208875924575477,\n",
              " 'estaba|AUX': 0.006923076923076923,\n",
              " 'color|NOUN': 0.0006250651109490572,\n",
              " 'pañal|NOUN': 0.00010417751849150954,\n",
              " 'era|AUX': 0.022307692307692306,\n",
              " 'blanco|ADJ': 0.000847457627118644,\n",
              " 'rojizo|ADJ': 0.0002824858757062147,\n",
              " 'ausencia|NOUN': 0.0006250651109490572,\n",
              " 'baltasar|PROPN': 0.00024703557312252963,\n",
              " 'explicable|ADJ': 0.0002824858757062147,\n",
              " 'alarmante|ADJ': 0.0002824858757062147,\n",
              " 'significaba|VERB': 0.00022411474675033618,\n",
              " 'ola|NOUN': 0.0003125325554745286,\n",
              " 'racista|ADJ': 0.0002824858757062147,\n",
              " 'acababa|VERB': 0.0006723442402510085,\n",
              " 'existencia|NOUN': 0.0007292426294405667,\n",
              " 'recién|ADV': 0.0023952095808383233,\n",
              " 'nacidos|ADJ': 0.0002824858757062147,\n",
              " 'misma|DET': 0.0008626887131560029,\n",
              " 'podía|AUX': 0.005384615384615384,\n",
              " 'deberse|_': 0.005714285714285714,\n",
              " 'deber|VERB': 0.00022411474675033618,\n",
              " 'descuido|NOUN': 0.00010417751849150954,\n",
              " 'fábrica|NOUN': 0.00010417751849150954,\n",
              " 'allí|ADV': 0.0023952095808383233,\n",
              " 'sé|VERB': 0.0011205737337516809,\n",
              " 'qué|PRON': 0.005770816158285243,\n",
              " 'ocurre|VERB': 0.0006723442402510085,\n",
              " 'explicó|VERB': 0.003809950694755715,\n",
              " 'una|PRON': 0.006183017312448475,\n",
              " 'mis|DET': 0.0002875629043853343,\n",
              " 'hijas|NOUN': 0.0003125325554745286,\n",
              " 'partido|NOUN': 0.005729763517033025,\n",
              " 'tumultuoso|ADJ': 0.0005649717514124294,\n",
              " 'enrabietado|ADJ': 0.0002824858757062147,\n",
              " 'bastante|ADV': 0.003592814371257485,\n",
              " 'cochambrosete|ADJ': 0.0002824858757062147,\n",
              " 'hizo|VERB': 0.0033617212012550424,\n",
              " 'anoche|ADV': 0.008383233532934131,\n",
              " 'madrid|PROPN': 0.012351778656126482,\n",
              " 'me|PRON': 0.013602638087386645,\n",
              " 'recordó|VERB': 0.001344688480502017,\n",
              " 'frecuencia|NOUN': 0.0005208875924575477,\n",
              " 'arrebatos|NOUN': 0.00010417751849150954,\n",
              " 'cinematográficos|ADJ': 0.0002824858757062147,\n",
              " 'ejército|PROPN': 0.0007411067193675889,\n",
              " 'pancho|PROPN': 0.00024703557312252963,\n",
              " 'villa|PROPN': 0.00024703557312252963,\n",
              " 'esa|DET': 0.004457225017972682,\n",
              " 'ética|NOUN': 0.00010417751849150954,\n",
              " 'populachera|ADJ': 0.0002824858757062147,\n",
              " 'emocionante|ADJ': 0.0002824858757062147,\n",
              " 'todas|DET': 0.001869158878504673,\n",
              " 'revoluciones|NOUN': 0.00010417751849150954,\n",
              " 'nobles|ADJ': 0.0002824858757062147,\n",
              " 'desarrapadas|ADJ': 0.0002824858757062147,\n",
              " 'evidente|ADJ': 0.0011299435028248588,\n",
              " 'últimos|ADJ': 0.00423728813559322,\n",
              " 'estilo|NOUN': 0.0003125325554745286,\n",
              " 'estética|NOUN': 0.00020835503698301907,\n",
              " 'dinero|NOUN': 0.0006250651109490572,\n",
              " 'brújula|NOUN': 0.00020835503698301907,\n",
              " 'ni|ADV': 0.0029940119760479044,\n",
              " 'césped|NOUN': 0.0003125325554745286,\n",
              " 've|VERB': 0.0008964589870013447,\n",
              " 'todavía|ADV': 0.005988023952095809,\n",
              " 'capaz|ADJ': 0.001694915254237288,\n",
              " 'ajeno|ADJ': 0.0005649717514124294,\n",
              " 'pegar|VERB': 0.00022411474675033618,\n",
              " 'bocados|NOUN': 0.00010417751849150954,\n",
              " 'sábado|NOUN': 0.0006250651109490572,\n",
              " 'pasado|ADJ': 0.011864406779661017,\n",
              " 'hierba|NOUN': 0.00020835503698301907,\n",
              " 'blaugrana|ADJ': 0.0005649717514124294,\n",
              " 'nou|NUM': 0.005714285714285714,\n",
              " 'camp|PROPN': 0.001976284584980237,\n",
              " 'yegua|NOUN': 0.00010417751849150954,\n",
              " 'viejorra|ADJ': 0.0002824858757062147,\n",
              " 'pendedera|ADJ': 0.0002824858757062147,\n",
              " 'real|PROPN': 0.006175889328063241,\n",
              " 'llevó|VERB': 0.0011205737337516809,\n",
              " 'puñado|NOUN': 0.00010417751849150954,\n",
              " 'zurriagazos|NOUN': 0.00010417751849150954,\n",
              " 'dejan|VERB': 0.00022411474675033618,\n",
              " 'mataduras|NOUN': 0.00010417751849150954,\n",
              " 'extremaunción|NOUN': 0.00010417751849150954,\n",
              " 'rojiblanco|ADJ': 0.0005649717514124294,\n",
              " 'burraca|NOUN': 0.00010417751849150954,\n",
              " 'maleada|ADJ': 0.0002824858757062147,\n",
              " 'retorcida|ADJ': 0.0002824858757062147,\n",
              " 'tuvo|VERB': 0.004258180188256387,\n",
              " 'coraje|NOUN': 0.00010417751849150954,\n",
              " 'vergüenza|NOUN': 0.00010417751849150954,\n",
              " 'necesaria|ADJ': 0.0005649717514124294,\n",
              " 'alzarse|_': 0.011428571428571429,\n",
              " 'alzar|VERB': 0.00044822949350067237,\n",
              " 'decrepitud|NOUN': 0.00020835503698301907,\n",
              " 'desnorte|NOUN': 0.00010417751849150954,\n",
              " 'mal|ADV': 0.0023952095808383233,\n",
              " 'fario|NOUN': 0.00010417751849150954,\n",
              " 'armas|NOUN': 0.0005208875924575477,\n",
              " 'desheredados|NOUN': 0.00010417751849150954,\n",
              " 'muchas|DET': 0.0007189072609633358,\n",
              " 'glándulas|NOUN': 0.00010417751849150954,\n",
              " 'mucho|DET': 0.0008626887131560029,\n",
              " 'nervio|NOUN': 0.00010417751849150954,\n",
              " 'mucha|DET': 0.0005751258087706686,\n",
              " 'embestida|NOUN': 0.00010417751849150954,\n",
              " 'arsenal|NOUN': 0.00010417751849150954,\n",
              " 'músculos|NOUN': 0.00020835503698301907,\n",
              " 'fulgores|NOUN': 0.00010417751849150954,\n",
              " 'tosquedades|NOUN': 0.00010417751849150954,\n",
              " 'desgracia|NOUN': 0.00020835503698301907,\n",
              " 'desesperación|NOUN': 0.00010417751849150954,\n",
              " 'pone|VERB': 0.0011205737337516809,\n",
              " 'mano|NOUN': 0.0005208875924575477,\n",
              " 'combatientes|NOUN': 0.00010417751849150954,\n",
              " 'campesinos|ADJ': 0.0002824858757062147,\n",
              " 'calderón|PROPN': 0.0004940711462450593,\n",
              " 'parecía|VERB': 0.001344688480502017,\n",
              " 'llegado|ADJ': 0.0005649717514124294,\n",
              " 'chiapas|PROPN': 0.00024703557312252963,\n",
              " 'encontró|VERB': 0.0006723442402510085,\n",
              " 'adversario|NOUN': 0.00010417751849150954,\n",
              " 'acalambrado|ADJ': 0.0002824858757062147,\n",
              " 'descoyuntado|ADJ': 0.0002824858757062147,\n",
              " 'frente|NOUN': 0.001771017814355662,\n",
              " 'atlético|PROPN': 0.002223320158102767,\n",
              " 'así|ADV': 0.023952095808383235,\n",
              " 'tiempos|NOUN': 0.0005208875924575477,\n",
              " 'aquel|DET': 0.0008626887131560029,\n",
              " 'quisimos|VERB': 0.00022411474675033618,\n",
              " 'habría|AUX': 0.004615384615384616,\n",
              " 'hecho|VERB': 0.003809950694755715,\n",
              " 'virguerías|NOUN': 0.00010417751849150954,\n",
              " 'desplegado|VERB': 0.00022411474675033618,\n",
              " 'lección|NOUN': 0.00020835503698301907,\n",
              " 'poderío|NOUN': 0.00010417751849150954,\n",
              " 'clase|NOUN': 0.0003125325554745286,\n",
              " 'antipático|ADJ': 0.0002824858757062147,\n",
              " 'ponerse|_': 0.011428571428571429,\n",
              " 'tan|ADV': 0.007784431137724551,\n",
              " 'terrenal|ADJ': 0.0002824858757062147,\n",
              " 'rural|ADJ': 0.0005649717514124294,\n",
              " 'incluso|ADV': 0.007784431137724551,\n",
              " 'despertaba|VERB': 0.00022411474675033618,\n",
              " 'sucedáneo|NOUN': 0.00010417751849150954,\n",
              " 'piedad|NOUN': 0.00010417751849150954,\n",
              " 'llamamos|VERB': 0.00022411474675033618,\n",
              " 'hasta|ADV': 0.0029940119760479044,\n",
              " 'butragueño|PROPN': 0.00024703557312252963,\n",
              " 'estuvo|VERB': 0.00022411474675033618,\n",
              " 'campo|NOUN': 0.0016668402958641526,\n",
              " 'haciendo|VERB': 0.0006723442402510085,\n",
              " 'novillos|NOUN': 0.00010417751849150954,\n",
              " 'pamplinoso|ADJ': 0.0002824858757062147,\n",
              " 'nirvana|NOUN': 0.00010417751849150954,\n",
              " 'lleno|ADJ': 0.0002824858757062147,\n",
              " 'ascetismo|NOUN': 0.00010417751849150954,\n",
              " 'resignación|NOUN': 0.00010417751849150954,\n",
              " 'lleva|VERB': 0.0020170327207530256,\n",
              " 'sumido|ADJ': 0.0002824858757062147,\n",
              " 'tiempo|NOUN': 0.0028127929992707574,\n",
              " 'todo|DET': 0.00201294033069734,\n",
              " 'haberse|_': 0.005714285714285714,\n",
              " 'olvidado|VERB': 0.00044822949350067237,\n",
              " 'salvo|NOUN': 0.00010417751849150954,\n",
              " 'no|PART': 1.0,\n",
              " 'calamidades|NOUN': 0.00010417751849150954,\n",
              " 'sino|CCONJ': 0.012379642365887207,\n",
              " 'también|NOUN': 0.00020835503698301907,\n",
              " 'portó|VERB': 0.00022411474675033618,\n",
              " 'hombre|NOUN': 0.0006250651109490572,\n",
              " 'supuesto|NOUN': 0.0003125325554745286,\n",
              " 'otra|DET': 0.0023005032350826744,\n",
              " 'ridículo|NOUN': 0.00020835503698301907,\n",
              " 'domingo|NOUN': 0.001771017814355662,\n",
              " 'viene|VERB': 0.00044822949350067237,\n",
              " 'porque|SCONJ': 0.0528169014084507,\n",
              " 'este|DET': 0.013946800862688713,\n",
              " 'fiar|VERB': 0.00022411474675033618,\n",
              " 'exhibir|VERB': 0.00044822949350067237,\n",
              " 'cuajo|NOUN': 0.00010417751849150954,\n",
              " 'bravío|ADJ': 0.0002824858757062147,\n",
              " 'compulsiva|ADJ': 0.0002824858757062147,\n",
              " 'insurgentes|NOUN': 0.00010417751849150954,\n",
              " 'concejala|NOUN': 0.00010417751849150954,\n",
              " 'medio|PROPN': 0.0014822134387351778,\n",
              " 'ambiente|PROPN': 0.0012351778656126482,\n",
              " 'ayuntamiento|PROPN': 0.0009881422924901185,\n",
              " 'doña|NOUN': 0.00010417751849150954,\n",
              " 'esperanza|PROPN': 0.0004940711462450593,\n",
              " 'aguirre|PROPN': 0.00024703557312252963,\n",
              " 'desgraciada|NOUN': 0.00010417751849150954,\n",
              " 'claro|ADV': 0.0017964071856287425,\n",
              " 'felipe|PROPN': 0.0004940711462450593,\n",
              " 'gonzález|PROPN': 0.0009881422924901185,\n",
              " 'parece|NOUN': 0.00010417751849150954,\n",
              " 'perdido|VERB': 0.00044822949350067237,\n",
              " 'todo|PRON': 0.011129431162407255,\n",
              " 'carisma|NOUN': 0.00010417751849150954,\n",
              " 'lanza|VERB': 0.00044822949350067237,\n",
              " 'piropos|NOUN': 0.00010417751849150954,\n",
              " 'aznar|PROPN': 0.0037055335968379445,\n",
              " 'seduce|VERB': 0.00022411474675033618,\n",
              " 'cenas|NOUN': 0.00010417751849150954,\n",
              " 'discursos|NOUN': 0.0003125325554745286,\n",
              " 'califica|VERB': 0.00022411474675033618,\n",
              " 'clara|ADJ': 0.000847457627118644,\n",
              " 'alternativa|NOUN': 0.00010417751849150954,\n",
              " 'clásico|ADJ': 0.0002824858757062147,\n",
              " 'sentido|NOUN': 0.0007292426294405667,\n",
              " 'claro|ADJ': 0.001694915254237288,\n",
              " '/|PUNCT': 0.00031857279388340236,\n",
              " 'ilustre|ADJ': 0.0002824858757062147,\n",
              " 'ocurriendo|VERB': 0.00022411474675033618,\n",
              " 'desolador|ADJ': 0.0002824858757062147,\n",
              " 'terrible|ADJ': 0.0005649717514124294,\n",
              " 'igual|ADJ': 0.0019774011299435027,\n",
              " 'maría|PROPN': 0.002223320158102767,\n",
              " 'volcase|VERB': 0.00022411474675033618,\n",
              " 'mieles|NOUN': 0.00010417751849150954,\n",
              " 'dialécticas|ADJ': 0.0002824858757062147,\n",
              " 'temporada|NOUN': 0.0013543077403896239,\n",
              " 'conceden|VERB': 0.00022411474675033618,\n",
              " 'demasiada|DET': 0.0002875629043853343,\n",
              " 'importancia|NOUN': 0.0005208875924575477,\n",
              " 'va|VERB': 0.001344688480502017,\n",
              " 'primero|ADJ': 0.0014124293785310734,\n",
              " 'solitario|ADJ': 0.000847457627118644,\n",
              " 'basket|NOUN': 0.00010417751849150954,\n",
              " 'average|NOUN': 0.00010417751849150954,\n",
              " 'piensan|VERB': 0.00044822949350067237,\n",
              " 'quizá|ADV': 0.0017964071856287425,\n",
              " 'lamentemos|VERB': 0.00022411474675033618,\n",
              " 'tarde|ADV': 0.0011976047904191617,\n",
              " 'reconocía|VERB': 0.00022411474675033618,\n",
              " 'chechu|PROPN': 0.00024703557312252963,\n",
              " 'biriukov|PROPN': 0.00024703557312252963,\n",
              " '...|PUNCT': 0.0011150047785919083,\n",
              " 'antemano|NOUN': 0.00020835503698301907,\n",
              " 'muy|ADV': 0.02874251497005988,\n",
              " 'barcelona|PROPN': 0.008152173913043478,\n",
              " 'tenía|VERB': 0.0017929179740026895,\n",
              " 'margen|NOUN': 0.0006250651109490572,\n",
              " 'mejorar|VERB': 0.0008964589870013447,\n",
              " 'defensa|NOUN': 0.0014584852588811334,\n",
              " 'denegando|VERB': 0.00022411474675033618,\n",
              " 'balón|NOUN': 0.00020835503698301907,\n",
              " 'hombres|NOUN': 0.001562662777372643,\n",
              " 'altos|ADJ': 0.000847457627118644,\n",
              " 'cosa|NOUN': 0.0008334201479320763,\n",
              " 'antes|ADV': 0.013173652694610778,\n",
              " 'conseguido|VERB': 0.001344688480502017,\n",
              " 'nunca|ADV': 0.008982035928143712,\n",
              " 'blancos|NOUN': 0.00010417751849150954,\n",
              " 'encestaban|VERB': 0.00022411474675033618,\n",
              " 'poco|PRON': 0.0028854080791426216,\n",
              " 'lejos|ADV': 0.005389221556886228,\n",
              " 'debería|AUX': 0.0038461538461538464,\n",
              " 'posible|ADJ': 0.0039548022598870055,\n",
              " 'flotar|VERB': 0.00022411474675033618,\n",
              " 'eficacia|NOUN': 0.00041671007396603814,\n",
              " 'pareja|NOUN': 0.00041671007396603814,\n",
              " 'sabonis-arlauckas|PROPN': 0.00024703557312252963,\n",
              " 'ataque|NOUN': 0.0009375976664235858,\n",
              " 'consiguiendo|VERB': 0.00022411474675033618,\n",
              " 'mirasen|VERB': 0.00022411474675033618,\n",
              " 'canasta|NOUN': 0.00020835503698301907,\n",
              " 'fred|PROPN': 0.00024703557312252963,\n",
              " 'roberts|PROPN': 0.0004940711462450593,\n",
              " 'encestase|VERB': 0.00022411474675033618,\n",
              " 'suspensiones|NOUN': 0.00010417751849150954,\n",
              " 'triples|NOUN': 0.00020835503698301907,\n",
              " 'crease|VERB': 0.00022411474675033618,\n",
              " 'parecido|ADJ': 0.0005649717514124294,\n",
              " 'interior|ADJ': 0.000847457627118644,\n",
              " 'equilibrar|VERB': 0.00022411474675033618,\n",
              " 'cosas|NOUN': 0.0009375976664235858,\n",
              " 'sabas|PROPN': 0.00024703557312252963,\n",
              " 'hacerle|_': 0.005714285714285714,\n",
              " 'cometer|VERB': 0.0006723442402510085,\n",
              " 'faltas|NOUN': 0.0003125325554745286,\n",
              " 'temía|VERB': 0.00022411474675033618,\n",
              " 'eficaz|ADJ': 0.0011299435028248588,\n",
              " 'líbero|NOUN': 0.00010417751849150954,\n",
              " 'garcía|PROPN': 0.0014822134387351778,\n",
              " 'coll|PROPN': 0.00024703557312252963,\n",
              " 'metido|ADJ': 0.0005649717514124294,\n",
              " 'zona|NOUN': 0.001979372851338681,\n",
              " 'robar|VERB': 0.00022411474675033618,\n",
              " 'balones|NOUN': 0.00010417751849150954,\n",
              " ...}"
            ]
          },
          "metadata": {
            "tags": []
          },
          "execution_count": 12
        }
      ]
    },
    {
      "cell_type": "markdown",
      "metadata": {
        "id": "_AyYqw1FZZ89"
      },
      "source": [
        "## Guardar parámetros del modelo"
      ]
    },
    {
      "cell_type": "code",
      "metadata": {
        "id": "Ido5QcAkY4OK",
        "colab": {
          "base_uri": "https://localhost:8080/",
          "height": 34
        },
        "outputId": "80614f32-ac7d-4fdb-ba46-54a519ee476b"
      },
      "source": [
        "import numpy as np\n",
        "np.save('transitionHMM.npy', transitionProbDict)\n",
        "np.save('emissionHMM.npy', emissionProbDict)\n",
        "transitionProbdict = np.load('transitionHMM.npy', allow_pickle='TRUE').item()\n",
        "transitionProbDict['ADJ|ADJ']"
      ],
      "execution_count": null,
      "outputs": [
        {
          "output_type": "execute_result",
          "data": {
            "text/plain": [
              "0.030225988700564973"
            ]
          },
          "metadata": {
            "tags": []
          },
          "execution_count": 13
        }
      ]
    },
    {
      "cell_type": "code",
      "metadata": {
        "id": "858EOFNBPxDs",
        "colab": {
          "base_uri": "https://localhost:8080/",
          "height": 51
        },
        "outputId": "ca96af30-3f09-4f72-8283-3566385dfb1b"
      },
      "source": [
        "# instalacion de dependencias previas\n",
        "!pip install conllu\n",
        "!git clone https://github.com/UniversalDependencies/UD_Spanish-AnCora.git"
      ],
      "execution_count": null,
      "outputs": [
        {
          "output_type": "stream",
          "text": [
            "Requirement already satisfied: conllu in /usr/local/lib/python3.6/dist-packages (4.2.1)\n",
            "fatal: destination path 'UD_Spanish-AnCora' already exists and is not an empty directory.\n"
          ],
          "name": "stdout"
        }
      ]
    },
    {
      "cell_type": "markdown",
      "metadata": {
        "id": "cAHDLyQQcboh"
      },
      "source": [
        "# Carga del modelo HMM previamente entrenado"
      ]
    },
    {
      "cell_type": "code",
      "metadata": {
        "id": "uNDR_Nj8nDJ0"
      },
      "source": [
        "from google.colab import drive\n",
        "drive.mount('/content/drive/')"
      ],
      "execution_count": null,
      "outputs": []
    },
    {
      "cell_type": "code",
      "metadata": {
        "id": "MggmVgmxoJ4C",
        "colab": {
          "base_uri": "https://localhost:8080/",
          "height": 88
        },
        "outputId": "3e123a35-271e-4f72-98d1-40ad8254be75"
      },
      "source": [
        "%cd 'drive/My Drive/Colab Notebooks/Curso Algoritmos de Clasificación de Texto'"
      ],
      "execution_count": null,
      "outputs": [
        {
          "output_type": "stream",
          "text": [
            "Drive already mounted at /content/drive/; to attempt to forcibly remount, call drive.mount(\"/content/drive/\", force_remount=True).\n",
            "[Errno 2] No such file or directory: 'drive/My Drive/Colab Notebooks/Curso Algoritmos de Clasificación de Texto'\n",
            "/content/drive/My Drive/Colab Notebooks/Curso Algoritmos de Clasificación de Texto\n"
          ],
          "name": "stdout"
        }
      ]
    },
    {
      "cell_type": "code",
      "metadata": {
        "id": "9jwZedC6RVJy"
      },
      "source": [
        "# cargamos las probabilidades del modelo HMM\n",
        "import numpy as np\n",
        "transitionProbdict = np.load('transitionHMM.npy', allow_pickle='TRUE').item()\n",
        "emissionProbdict = np.load('emissionHMM.npy', allow_pickle='TRUE').item()"
      ],
      "execution_count": null,
      "outputs": []
    },
    {
      "cell_type": "code",
      "metadata": {
        "id": "Ezi9gcquUw55",
        "colab": {
          "base_uri": "https://localhost:8080/",
          "height": 306
        },
        "outputId": "8cf6f74c-bdd0-4f31-c80f-5228a0775a4f"
      },
      "source": [
        "# identificamos las categorias gramaticales 'upos' unicas en el corpus\n",
        "stateSet = set([w.split('|')[1] for w in list(emissionProbdict.keys())])\n",
        "stateSet"
      ],
      "execution_count": null,
      "outputs": [
        {
          "output_type": "execute_result",
          "data": {
            "text/plain": [
              "{'ADJ',\n",
              " 'ADP',\n",
              " 'ADV',\n",
              " 'AUX',\n",
              " 'CCONJ',\n",
              " 'DET',\n",
              " 'INTJ',\n",
              " 'NOUN',\n",
              " 'NUM',\n",
              " 'PART',\n",
              " 'PRON',\n",
              " 'PROPN',\n",
              " 'PUNCT',\n",
              " 'SCONJ',\n",
              " 'SYM',\n",
              " 'VERB',\n",
              " '_'}"
            ]
          },
          "metadata": {
            "tags": []
          },
          "execution_count": 10
        }
      ]
    },
    {
      "cell_type": "code",
      "metadata": {
        "id": "-aVD0jboWKGh",
        "colab": {
          "base_uri": "https://localhost:8080/",
          "height": 306
        },
        "outputId": "af53dd65-3bbb-429b-b806-eb634705bdc7"
      },
      "source": [
        "# enumeramos las categorias con numeros para asignar a \n",
        "# las columnas de la matriz de Viterbi\n",
        "tagStateDict = {}\n",
        "for i, state in enumerate(stateSet):\n",
        "  tagStateDict[state] = i\n",
        "tagStateDict"
      ],
      "execution_count": null,
      "outputs": [
        {
          "output_type": "execute_result",
          "data": {
            "text/plain": [
              "{'ADJ': 15,\n",
              " 'ADP': 2,\n",
              " 'ADV': 5,\n",
              " 'AUX': 6,\n",
              " 'CCONJ': 10,\n",
              " 'DET': 0,\n",
              " 'INTJ': 16,\n",
              " 'NOUN': 14,\n",
              " 'NUM': 9,\n",
              " 'PART': 7,\n",
              " 'PRON': 4,\n",
              " 'PROPN': 8,\n",
              " 'PUNCT': 1,\n",
              " 'SCONJ': 3,\n",
              " 'SYM': 13,\n",
              " 'VERB': 11,\n",
              " '_': 12}"
            ]
          },
          "metadata": {
            "tags": []
          },
          "execution_count": 11
        }
      ]
    },
    {
      "cell_type": "markdown",
      "metadata": {
        "id": "9SNuWx-ScSTg"
      },
      "source": [
        "# Distribucion inicial de estados latentes"
      ]
    },
    {
      "cell_type": "code",
      "metadata": {
        "id": "put9Dyk1Yl2A",
        "colab": {
          "base_uri": "https://localhost:8080/",
          "height": 306
        },
        "outputId": "7016c144-cdb1-4b1b-b37c-88ae97922c0c"
      },
      "source": [
        "# Calculamos distribución inicial de estados (la primer palabra en cada frase del corpus)\n",
        "from conllu import parse_incr \n",
        "wordList = []\n",
        "data_file = open(\"UD_Spanish-AnCora/es_ancora-ud-dev.conllu\", \"r\", encoding=\"utf-8\")\n",
        "\n",
        "# realizamos el conteo de todas las categorias gramaticales al inifico del dataset\n",
        "initTagStateProb = {} # \\rho_i^{(0)}\n",
        "count = 0 # cuenta la longitud de frases del corpus \n",
        "for tokenlist in parse_incr(data_file):\n",
        "  count += 1\n",
        "  tag = tokenlist[0]['upos']\n",
        "  if tag in initTagStateProb.keys():\n",
        "    initTagStateProb[tag] += 1\n",
        "  else:\n",
        "    initTagStateProb[tag] = 1\n",
        "\n",
        "# Recorre initTagStateProb y divide cada llave entre la longitud del corpus\n",
        "for key in initTagStateProb.keys():\n",
        "  initTagStateProb[key] /= count\n",
        "\n",
        "# Expresa las probabilidades de cada etiqueta del estado inicial\n",
        "initTagStateProb"
      ],
      "execution_count": null,
      "outputs": [
        {
          "output_type": "execute_result",
          "data": {
            "text/plain": [
              "{'ADJ': 0.010882708585247884,\n",
              " 'ADP': 0.16384522370012092,\n",
              " 'ADV': 0.06287787182587666,\n",
              " 'AUX': 0.022370012091898428,\n",
              " 'CCONJ': 0.03325272067714631,\n",
              " 'DET': 0.3633615477629988,\n",
              " 'INTJ': 0.0006045949214026602,\n",
              " 'NOUN': 0.02720677146311971,\n",
              " 'NUM': 0.01995163240628779,\n",
              " 'PART': 0.0018137847642079807,\n",
              " 'PRON': 0.034461910519951636,\n",
              " 'PROPN': 0.1124546553808948,\n",
              " 'PUNCT': 0.07799274486094317,\n",
              " 'SCONJ': 0.02418379685610641,\n",
              " 'SYM': 0.0006045949214026602,\n",
              " 'VERB': 0.04353083434099154,\n",
              " '_': 0.0006045949214026602}"
            ]
          },
          "metadata": {
            "tags": []
          },
          "execution_count": 12
        }
      ]
    },
    {
      "cell_type": "code",
      "metadata": {
        "id": "J5Rltqj6bbcV",
        "colab": {
          "base_uri": "https://localhost:8080/",
          "height": 34
        },
        "outputId": "fe78d4df-81f8-4a4d-cda5-3398a8d4a5e9"
      },
      "source": [
        "# verificamos que la suma de las probabilidades es 1 (100%)\n",
        "np.array([initTagStateProb[k] for k in initTagStateProb.keys()]).sum()"
      ],
      "execution_count": null,
      "outputs": [
        {
          "output_type": "execute_result",
          "data": {
            "text/plain": [
              "1.0"
            ]
          },
          "metadata": {
            "tags": []
          },
          "execution_count": 13
        }
      ]
    },
    {
      "cell_type": "code",
      "metadata": {
        "id": "EzCsi9X4pdk_",
        "colab": {
          "base_uri": "https://localhost:8080/",
          "height": 34
        },
        "outputId": "de50a8cc-57e5-48a1-f67b-40c7c02cf003"
      },
      "source": [
        "sum(initTagStateProb.values())"
      ],
      "execution_count": null,
      "outputs": [
        {
          "output_type": "execute_result",
          "data": {
            "text/plain": [
              "1.0"
            ]
          },
          "metadata": {
            "tags": []
          },
          "execution_count": 60
        }
      ]
    },
    {
      "cell_type": "markdown",
      "metadata": {
        "id": "YjnAshwzxrKZ"
      },
      "source": [
        "# Construcción del algoritmo de Viterbi\n",
        "\n",
        "\n",
        "\n",
        "\n"
      ]
    },
    {
      "cell_type": "markdown",
      "metadata": {
        "id": "zX-_MnPexnm0"
      },
      "source": [
        "Dada una secuencia de palabras $\\{p_1, p_2, \\dots, p_n \\}$, y un conjunto de categorias gramaticales dadas por la convención `upos`, se considera la matriz de probabilidades de Viterbi así:\n",
        "\n",
        "$$\n",
        "\\begin{array}{c c}\n",
        "\\begin{array}{c c c c}\n",
        "\\text{ADJ} \\\\\n",
        "\\text{ADV}\\\\\n",
        "\\text{PRON} \\\\\n",
        "\\vdots \\\\\n",
        "{}\n",
        "\\end{array} \n",
        "&\n",
        "\\left[\n",
        "\\begin{array}{c c c c}\n",
        "\\nu_1(\\text{ADJ}) & \\nu_2(\\text{ADJ}) & \\dots  & \\nu_n(\\text{ADJ})\\\\\n",
        "\\nu_1(\\text{ADV}) & \\nu_2(\\text{ADV}) & \\dots  & \\nu_n(\\text{ADV})\\\\ \n",
        "\\nu_1(\\text{PRON}) & \\nu_2(\\text{PRON}) & \\dots  & \\nu_n(\\text{PRON})\\\\\n",
        "\\vdots & \\vdots & \\dots & \\vdots \\\\ \\hdashline\n",
        "p_1 & p_2 & \\dots & p_n \n",
        "\\end{array}\n",
        "\\right] \n",
        "\\end{array}\n",
        "$$\n",
        "\n",
        "Donde las probabilidades de la primera columna (para una categoria $i$) están dadas por: \n",
        "\n",
        "$$\n",
        "\\nu_1(i) = \\underbrace{\\rho_i^{(0)}}_{\\text{probabilidad inicial}} \\times \\underbrace{P(p_1 \\vert i)}_{\\text{emisión}}\n",
        "$$\n",
        "\n",
        "luego, para la segunda columna (dada una categoria $j$) serán: \n",
        "\n",
        "$$\n",
        "\\nu_2(j) = \\max_i \\{ \\nu_1(i) \\times \\underbrace{P(j \\vert i)}_{\\text{transición}} \\times \\underbrace{P(p_2 \\vert j)}_{\\text{emisión}} \\}\n",
        "$$\n",
        "\n",
        "así, en general las probabilidades para la columna $t$ estarán dadas por: \n",
        "\n",
        "$$\n",
        "\\nu_{t}(j) = \\max_i \\{ \\overbrace{\\nu_{t-1}(i)}^{\\text{estado anterior}} \\times \\underbrace{P(j \\vert i)}_{\\text{transición}} \\times \\underbrace{P(p_t \\vert j)}_{\\text{emisión}} \\}\n",
        "$$"
      ]
    },
    {
      "cell_type": "code",
      "metadata": {
        "id": "rAyO788xPKra",
        "colab": {
          "base_uri": "https://localhost:8080/",
          "height": 51
        },
        "outputId": "abfcf64c-1b6e-449b-ddf4-657b80235306"
      },
      "source": [
        "import nltk\n",
        "nltk.download('punkt')\n",
        "from nltk import word_tokenize"
      ],
      "execution_count": null,
      "outputs": [
        {
          "output_type": "stream",
          "text": [
            "[nltk_data] Downloading package punkt to /root/nltk_data...\n",
            "[nltk_data]   Unzipping tokenizers/punkt.zip.\n"
          ],
          "name": "stdout"
        }
      ]
    },
    {
      "cell_type": "code",
      "metadata": {
        "id": "9sJhQ35m5ASB",
        "colab": {
          "base_uri": "https://localhost:8080/",
          "height": 306
        },
        "outputId": "a5326fd5-8972-40ba-9ec4-8bdac1cf2fda"
      },
      "source": [
        "def ViterbiMatrix(secuencia, transitionProbdict=transitionProbdict, \n",
        "                  emissionProbdict=emissionProbdict, tagStateDict=tagStateDict, \n",
        "                  initTagStateProb=initTagStateProb):\n",
        "  \n",
        "  seq = word_tokenize(secuencia)\n",
        "  # creamos la matriz inicial \n",
        "  viterbiProb = np.zeros((17, len(seq)))  # upos tiene 17 categorias\n",
        "\n",
        "  # inicialización primera columna\n",
        "  for key in tagStateDict.keys():\n",
        "    tag_row = tagStateDict[key]\n",
        "    word_tag = seq[0].lower()+'|'+key\n",
        "    if word_tag in emissionProbdict.keys():\n",
        "      viterbiProb[tag_row, 0] = initTagStateProb[key]*emissionProbdict[word_tag]\n",
        "\n",
        "  # computo de las siguientes columnas\n",
        "  for col in range(1, len(seq)):\n",
        "    for key in tagStateDict.keys():\n",
        "      tag_row = tagStateDict[key]\n",
        "      word_tag = seq[col].lower()+'|'+key\n",
        "      if word_tag in emissionProbdict.keys():\n",
        "        # miramos estados de la col anterior\n",
        "        possible_probs = []\n",
        "        for key2 in tagStateDict.keys(): \n",
        "          tag_row2 = tagStateDict[key2]\n",
        "          tag_prevtag = key+'|'+key2\n",
        "      \n",
        "          if tag_prevtag in transitionProbdict.keys():\n",
        "            if viterbiProb[tag_row2, col-1]>0:\n",
        "              possible_probs.append(\n",
        "                  viterbiProb[tag_row2, col-1]*transitionProbdict[tag_prevtag]*emissionProbdict[word_tag])\n",
        "        \n",
        "        viterbiProb[tag_row, col] = max(possible_probs)\n",
        "  \n",
        "  return viterbiProb\n",
        "\n",
        "matrix = ViterbiMatrix('el mundo es pequeño')\n",
        "matrix"
      ],
      "execution_count": null,
      "outputs": [
        {
          "output_type": "execute_result",
          "data": {
            "text/plain": [
              "array([[8.76142797e-02, 0.00000000e+00, 0.00000000e+00, 0.00000000e+00],\n",
              "       [0.00000000e+00, 0.00000000e+00, 0.00000000e+00, 0.00000000e+00],\n",
              "       [0.00000000e+00, 0.00000000e+00, 0.00000000e+00, 0.00000000e+00],\n",
              "       [0.00000000e+00, 0.00000000e+00, 0.00000000e+00, 0.00000000e+00],\n",
              "       [0.00000000e+00, 0.00000000e+00, 0.00000000e+00, 0.00000000e+00],\n",
              "       [0.00000000e+00, 0.00000000e+00, 0.00000000e+00, 0.00000000e+00],\n",
              "       [0.00000000e+00, 0.00000000e+00, 4.97926792e-07, 0.00000000e+00],\n",
              "       [0.00000000e+00, 0.00000000e+00, 0.00000000e+00, 0.00000000e+00],\n",
              "       [0.00000000e+00, 2.00411724e-05, 0.00000000e+00, 0.00000000e+00],\n",
              "       [0.00000000e+00, 0.00000000e+00, 0.00000000e+00, 0.00000000e+00],\n",
              "       [0.00000000e+00, 0.00000000e+00, 5.02871314e-09, 0.00000000e+00],\n",
              "       [0.00000000e+00, 0.00000000e+00, 0.00000000e+00, 0.00000000e+00],\n",
              "       [0.00000000e+00, 0.00000000e+00, 0.00000000e+00, 0.00000000e+00],\n",
              "       [0.00000000e+00, 0.00000000e+00, 0.00000000e+00, 0.00000000e+00],\n",
              "       [0.00000000e+00, 1.47448483e-04, 2.91245828e-10, 0.00000000e+00],\n",
              "       [0.00000000e+00, 0.00000000e+00, 0.00000000e+00, 1.01922433e-10],\n",
              "       [0.00000000e+00, 0.00000000e+00, 0.00000000e+00, 0.00000000e+00]])"
            ]
          },
          "metadata": {
            "tags": []
          },
          "execution_count": 64
        }
      ]
    },
    {
      "cell_type": "code",
      "metadata": {
        "id": "J9CYMtNpuoKq",
        "colab": {
          "base_uri": "https://localhost:8080/",
          "height": 102
        },
        "outputId": "6503a444-6c32-403a-b425-a5ad82ba1590"
      },
      "source": [
        "def ViterbiTags(secuencia, transitionProbdict=transitionProbdict,\n",
        "                emissionProbdict=emissionProbdict, tagStateDict=tagStateDict, \n",
        "                initTagStateProb=initTagStateProb):\n",
        "  \n",
        "  seq = word_tokenize(secuencia)\n",
        "  viterbiProb = np.zeros((17, len(seq)))  # upos tiene 17 categorias\n",
        "\n",
        "  # inicialización primera columna\n",
        "  for key in tagStateDict.keys():\n",
        "    tag_row = tagStateDict[key]\n",
        "    word_tag = seq[0].lower()+'|'+key\n",
        "    if word_tag in emissionProbdict.keys():\n",
        "      viterbiProb[tag_row, 0] = initTagStateProb[key]*emissionProbdict[word_tag]\n",
        "\n",
        "  # computo de las siguientes columnas\n",
        "  for col in range(1, len(seq)):\n",
        "    for key in tagStateDict.keys():\n",
        "      tag_row = tagStateDict[key]\n",
        "      word_tag = seq[col].lower()+'|'+key\n",
        "      if word_tag in emissionProbdict.keys():\n",
        "        # miramos estados de la col anterior\n",
        "        possible_probs = []\n",
        "        for key2 in tagStateDict.keys(): \n",
        "          tag_row2 = tagStateDict[key2]\n",
        "          tag_prevtag = key+'|'+key2\n",
        "          if tag_prevtag in transitionProbdict.keys():\n",
        "            if viterbiProb[tag_row2, col-1]>0:\n",
        "              possible_probs.append(\n",
        "                  viterbiProb[tag_row2, col-1]*transitionProbdict[tag_prevtag]*emissionProbdict[word_tag])\n",
        "        viterbiProb[tag_row, col] = max(possible_probs)\n",
        "\n",
        "    # contruccion de secuencia de tags\n",
        "    res = []\n",
        "    for i, p in enumerate(seq):\n",
        "      for tag in tagStateDict.keys():\n",
        "        if tagStateDict[tag] == np.argmax(viterbiProb[:, i]): #i es indice de palabra enumerada\n",
        "          res.append((p, tag))\n",
        "      \n",
        "  return res\n",
        "\n",
        "ViterbiTags('el mundo es muy pequeño')"
      ],
      "execution_count": null,
      "outputs": [
        {
          "output_type": "execute_result",
          "data": {
            "text/plain": [
              "[('el', 'DET'),\n",
              " ('mundo', 'NOUN'),\n",
              " ('es', 'AUX'),\n",
              " ('muy', 'ADV'),\n",
              " ('pequeño', 'ADJ')]"
            ]
          },
          "metadata": {
            "tags": []
          },
          "execution_count": 65
        }
      ]
    },
    {
      "cell_type": "code",
      "metadata": {
        "id": "FwOk8ABlx13k",
        "colab": {
          "base_uri": "https://localhost:8080/",
          "height": 98
        },
        "outputId": "0dddea10-ed1c-4bc8-f4c7-7cfc16872f7d"
      },
      "source": [
        "ViterbiTags('estos instrumentos han de rasgar')"
      ],
      "execution_count": null,
      "outputs": [
        {
          "output_type": "execute_result",
          "data": {
            "text/plain": [
              "[('estos', 'DET'),\n",
              " ('instrumentos', 'NOUN'),\n",
              " ('han', 'AUX'),\n",
              " ('de', 'ADP'),\n",
              " ('rasgar', 'VERB')]"
            ]
          },
          "metadata": {
            "tags": []
          },
          "execution_count": 66
        }
      ]
    },
    {
      "cell_type": "markdown",
      "metadata": {
        "id": "BnLT12Qx5D78"
      },
      "source": [
        "# Entrenamiento directo de HMM con NLTK\n",
        "\n",
        "* clase en python (NLTK) de HMM: https://www.nltk.org/_modules/nltk/tag/hmm.html"
      ]
    },
    {
      "cell_type": "code",
      "metadata": {
        "id": "NVyCuawh5Eqj",
        "colab": {
          "base_uri": "https://localhost:8080/",
          "height": 51
        },
        "outputId": "523190f2-abef-4211-fcc0-c83ef95a81d7"
      },
      "source": [
        "#title ejemplo con el Corpus Treebank en ingles\n",
        "import nltk\n",
        "nltk.download('treebank')\n",
        "from nltk.corpus import treebank\n",
        "train_data = treebank.tagged_sents()[:3900]"
      ],
      "execution_count": null,
      "outputs": [
        {
          "output_type": "stream",
          "text": [
            "[nltk_data] Downloading package treebank to /root/nltk_data...\n",
            "[nltk_data]   Unzipping corpora/treebank.zip.\n"
          ],
          "name": "stdout"
        }
      ]
    },
    {
      "cell_type": "code",
      "metadata": {
        "id": "C_DomEIM5Hif",
        "colab": {
          "base_uri": "https://localhost:8080/",
          "height": 54
        },
        "outputId": "03b1cb47-ddba-4aec-dce4-a9b77c737fa9"
      },
      "source": [
        "#title estructura de la data de entrenamiento\n",
        "train_data"
      ],
      "execution_count": null,
      "outputs": [
        {
          "output_type": "execute_result",
          "data": {
            "text/plain": [
              "[[('Pierre', 'NNP'), ('Vinken', 'NNP'), (',', ','), ('61', 'CD'), ('years', 'NNS'), ('old', 'JJ'), (',', ','), ('will', 'MD'), ('join', 'VB'), ('the', 'DT'), ('board', 'NN'), ('as', 'IN'), ('a', 'DT'), ('nonexecutive', 'JJ'), ('director', 'NN'), ('Nov.', 'NNP'), ('29', 'CD'), ('.', '.')], [('Mr.', 'NNP'), ('Vinken', 'NNP'), ('is', 'VBZ'), ('chairman', 'NN'), ('of', 'IN'), ('Elsevier', 'NNP'), ('N.V.', 'NNP'), (',', ','), ('the', 'DT'), ('Dutch', 'NNP'), ('publishing', 'VBG'), ('group', 'NN'), ('.', '.')], ...]"
            ]
          },
          "metadata": {
            "tags": []
          },
          "execution_count": 68
        }
      ]
    },
    {
      "cell_type": "code",
      "metadata": {
        "id": "WtknnYIi5KdG",
        "colab": {
          "base_uri": "https://localhost:8080/",
          "height": 34
        },
        "outputId": "f1ea7b0c-3f05-4276-bfc1-118f8526e526"
      },
      "source": [
        "#title HMM pre-construido en NLTK\n",
        "from nltk.tag import hmm\n",
        "tagger = hmm.HiddenMarkovModelTrainer().train_supervised(train_data)\n",
        "tagger"
      ],
      "execution_count": null,
      "outputs": [
        {
          "output_type": "execute_result",
          "data": {
            "text/plain": [
              "<HiddenMarkovModelTagger 46 states and 12385 output symbols>"
            ]
          },
          "metadata": {
            "tags": []
          },
          "execution_count": 69
        }
      ]
    },
    {
      "cell_type": "code",
      "metadata": {
        "id": "tLG-QzKc5OM4",
        "colab": {
          "base_uri": "https://localhost:8080/",
          "height": 102
        },
        "outputId": "28ece825-fc2b-48d7-8789-68216c60d5a6"
      },
      "source": [
        "tagger.tag(\"Pierre Vinken will get old\".split())"
      ],
      "execution_count": null,
      "outputs": [
        {
          "output_type": "execute_result",
          "data": {
            "text/plain": [
              "[('Pierre', 'NNP'),\n",
              " ('Vinken', 'NNP'),\n",
              " ('will', 'MD'),\n",
              " ('get', 'VB'),\n",
              " ('old', 'JJ')]"
            ]
          },
          "metadata": {
            "tags": []
          },
          "execution_count": 70
        }
      ]
    },
    {
      "cell_type": "code",
      "metadata": {
        "id": "aGLYRUBb5Wni",
        "colab": {
          "base_uri": "https://localhost:8080/",
          "height": 34
        },
        "outputId": "00125a64-99ee-4f44-895a-818eb105e995"
      },
      "source": [
        "#title training accuracy\n",
        "tagger.evaluate(treebank.tagged_sents()[:3900])"
      ],
      "execution_count": null,
      "outputs": [
        {
          "output_type": "execute_result",
          "data": {
            "text/plain": [
              "0.9815403947224078"
            ]
          },
          "metadata": {
            "tags": []
          },
          "execution_count": 71
        }
      ]
    },
    {
      "cell_type": "markdown",
      "metadata": {
        "id": "FN-Bgfk-pI0m"
      },
      "source": [
        "## Ejercicio de práctica\n",
        "\n",
        "**Objetivo:** Entrena un HMM usando la clase `hmm.HiddenMarkovModelTrainer()` sobre el dataset `UD_Spanish_AnCora`."
      ]
    },
    {
      "cell_type": "markdown",
      "metadata": {
        "id": "ZrtTL4ihxfiq"
      },
      "source": [
        "1. **Pre-procesamiento:** En el ejemplo anterior usamos el dataset en ingles `treebank`, el cual viene con una estructura diferente a la de `AnCora`, en esta parte escribe código para transformar la estructura de `AnCora` de manera que quede igual al `treebank` que usamos así:\n",
        "\n",
        "$$\\left[ \\left[ (\\text{'El'}, \\text{'DET'}), (\\dots), \\dots\\right], \\left[\\dots \\right] \\right]$$"
      ]
    },
    {
      "cell_type": "code",
      "metadata": {
        "id": "1X8qg5Fc5ahS",
        "colab": {
          "base_uri": "https://localhost:8080/",
          "height": 51
        },
        "outputId": "68a22392-7f06-4b46-d778-5a2031472764"
      },
      "source": [
        "# Instalacion de dependencias\n",
        "!pip install conllu\n",
        "!git clone https://github.com/UniversalDependencies/UD_Spanish-AnCora.git"
      ],
      "execution_count": null,
      "outputs": [
        {
          "output_type": "stream",
          "text": [
            "Requirement already satisfied: conllu in /usr/local/lib/python3.6/dist-packages (4.2.1)\n",
            "fatal: destination path 'UD_Spanish-AnCora' already exists and is not an empty directory.\n"
          ],
          "name": "stdout"
        }
      ]
    },
    {
      "cell_type": "code",
      "metadata": {
        "id": "LdTkhpxu9Bsy"
      },
      "source": [
        "from conllu import parse_incr \n",
        "wordList = []\n",
        "data_file = open(\"UD_Spanish-AnCora/es_ancora-ud-dev.conllu\", \"r\", encoding=\"utf-8\")\n",
        "\n",
        "corpusphrases = [corpusphrases for corpusphrases in parse_incr(data_file)]\n",
        "tokenlist = [[(token['form'], token['upos']) for token in tokenlist] for tokenlist in corpusphrases]"
      ],
      "execution_count": null,
      "outputs": []
    },
    {
      "cell_type": "markdown",
      "metadata": {
        "id": "W_OYeCVQrZAK"
      },
      "source": [
        "2. **Entrenamiento:** Una vez que el dataset esta con la estructura correcta, utiliza la clase `hmm.HiddenMarkovModelTrainer()` para entrenar con el $80 \\%$ del dataset como conjunto de `entrenamiento` y $20 \\%$ para el conjunto de `test`.\n",
        "\n",
        "**Ayuda:** Para la separacion entre conjuntos de entrenamiento y test, puedes usar la funcion de Scikit Learn: \n",
        "\n",
        "https://scikit-learn.org/stable/modules/generated/sklearn.model_selection.train_test_split.html\n",
        "\n",
        "En este punto el curso de Machine Learning con Scikit Learn es un buen complemento para entender mejor las funcionalidades de Scikit Learn: https://platzi.com/cursos/scikitlearn-ml/ "
      ]
    },
    {
      "cell_type": "code",
      "metadata": {
        "id": "zAIMadij9C8X"
      },
      "source": [
        "from sklearn.model_selection import train_test_split\n",
        "\n",
        "# Dividiendo en train_data y test_data\n",
        "train_data, test_data = train_test_split(tokenlist, test_size=0.20)"
      ],
      "execution_count": null,
      "outputs": []
    },
    {
      "cell_type": "code",
      "metadata": {
        "id": "SIrY2VspEEen",
        "colab": {
          "base_uri": "https://localhost:8080/",
          "height": 34
        },
        "outputId": "30026fb6-3e88-4d26-eb3b-b2e00b83feee"
      },
      "source": [
        "# title HMM pre-construido en NLTK\n",
        "from nltk.tag import hmm\n",
        "tagger = hmm.HiddenMarkovModelTrainer().train_supervised(train_data)\n",
        "tagger"
      ],
      "execution_count": null,
      "outputs": [
        {
          "output_type": "execute_result",
          "data": {
            "text/plain": [
              "<HiddenMarkovModelTagger 17 states and 9065 output symbols>"
            ]
          },
          "metadata": {
            "tags": []
          },
          "execution_count": 187
        }
      ]
    },
    {
      "cell_type": "code",
      "metadata": {
        "id": "y226a7UEFE6w",
        "colab": {
          "base_uri": "https://localhost:8080/",
          "height": 238
        },
        "outputId": "50604f98-a619-473b-8199-c1f5ff5fe73b"
      },
      "source": [
        "tagger.tag(\"El gobernante, con ganada fama desde que llegó hace 16 meses al poder\".split())"
      ],
      "execution_count": null,
      "outputs": [
        {
          "output_type": "execute_result",
          "data": {
            "text/plain": [
              "[('El', 'DET'),\n",
              " ('gobernante,', 'DET'),\n",
              " ('con', 'DET'),\n",
              " ('ganada', 'DET'),\n",
              " ('fama', 'DET'),\n",
              " ('desde', 'DET'),\n",
              " ('que', 'DET'),\n",
              " ('llegó', 'DET'),\n",
              " ('hace', 'DET'),\n",
              " ('16', 'DET'),\n",
              " ('meses', 'DET'),\n",
              " ('al', 'DET'),\n",
              " ('poder', 'DET')]"
            ]
          },
          "metadata": {
            "tags": []
          },
          "execution_count": 188
        }
      ]
    },
    {
      "cell_type": "markdown",
      "metadata": {
        "id": "LLS54wqsu9OK"
      },
      "source": [
        "3. **Validación del modelo:** Un vez entrenado el `tagger`, calcula el rendimiento del modelo (usando `tagger.evaluate()`) para los conjuntos de `entrenamiento` y `test`.\n",
        "\n"
      ]
    },
    {
      "cell_type": "code",
      "metadata": {
        "id": "JEwZIG8Du98v",
        "colab": {
          "base_uri": "https://localhost:8080/",
          "height": 51
        },
        "outputId": "0db4d61f-052f-48c9-a93a-a434d63f9bf9"
      },
      "source": [
        "# Evaluacion del modelo \n",
        "print(f'Accuracy para test_Data {tagger.evaluate(test_data)}')\n",
        "print(f'Accuracy para train_Data {tagger.evaluate(train_data)}')"
      ],
      "execution_count": null,
      "outputs": [
        {
          "output_type": "stream",
          "text": [
            "Accuracy para test_Data 0.30348027842227376\n",
            "Accuracy para train_Data 0.9838748322790876\n"
          ],
          "name": "stdout"
        }
      ]
    },
    {
      "cell_type": "markdown",
      "metadata": {
        "id": "6YTaQq9dCh0E"
      },
      "source": [
        "# Clasificación de palabras (por género de nombre)"
      ]
    },
    {
      "cell_type": "code",
      "metadata": {
        "id": "5co_TuOhC4ze",
        "colab": {
          "base_uri": "https://localhost:8080/",
          "height": 51
        },
        "outputId": "ab87c148-641a-4314-eca5-cd103eebee85"
      },
      "source": [
        "import nltk, random\n",
        "nltk.download('names')\n",
        "from nltk.corpus import names "
      ],
      "execution_count": null,
      "outputs": [
        {
          "output_type": "stream",
          "text": [
            "[nltk_data] Downloading package names to /root/nltk_data...\n",
            "[nltk_data]   Package names is already up-to-date!\n"
          ],
          "name": "stdout"
        }
      ]
    },
    {
      "cell_type": "markdown",
      "metadata": {
        "id": "ijhsE2PBFYxm"
      },
      "source": [
        "**Función básica de extracción de atributos**"
      ]
    },
    {
      "cell_type": "code",
      "metadata": {
        "id": "b0kKV62lCZ55"
      },
      "source": [
        "# definición de atributos relevantes\n",
        "def atributos(palabra):\n",
        "\treturn {'ultima_letra': palabra[-1]}"
      ],
      "execution_count": null,
      "outputs": []
    },
    {
      "cell_type": "code",
      "metadata": {
        "id": "L-XrrAiCOd4U"
      },
      "source": [
        "# Creacion del tagset usando los archivos de texto generados por names\n",
        "tagset = ([(name, 'male') for name in names.words('male.txt')] + [(name, 'female') for name in names.words('female.txt')])"
      ],
      "execution_count": null,
      "outputs": []
    },
    {
      "cell_type": "code",
      "metadata": {
        "id": "IjfK5ZKwDL__",
        "colab": {
          "base_uri": "https://localhost:8080/",
          "height": 187
        },
        "outputId": "5f4e0977-d98d-4ed3-8a94-28c5e788d8ec"
      },
      "source": [
        "tagset[:10]"
      ],
      "execution_count": null,
      "outputs": [
        {
          "output_type": "execute_result",
          "data": {
            "text/plain": [
              "[('Aamir', 'male'),\n",
              " ('Aaron', 'male'),\n",
              " ('Abbey', 'male'),\n",
              " ('Abbie', 'male'),\n",
              " ('Abbot', 'male'),\n",
              " ('Abbott', 'male'),\n",
              " ('Abby', 'male'),\n",
              " ('Abdel', 'male'),\n",
              " ('Abdul', 'male'),\n",
              " ('Abdulkarim', 'male')]"
            ]
          },
          "metadata": {
            "tags": []
          },
          "execution_count": 4
        }
      ]
    },
    {
      "cell_type": "code",
      "metadata": {
        "id": "jZcAN-dmCrok",
        "colab": {
          "base_uri": "https://localhost:8080/",
          "height": 187
        },
        "outputId": "9d19ee37-cf87-4b5e-d372-dd295d383a65"
      },
      "source": [
        "random.shuffle(tagset)\n",
        "tagset[:10]"
      ],
      "execution_count": null,
      "outputs": [
        {
          "output_type": "execute_result",
          "data": {
            "text/plain": [
              "[('Bruce', 'male'),\n",
              " ('Godwin', 'male'),\n",
              " ('Lenore', 'female'),\n",
              " ('Ellene', 'female'),\n",
              " ('Lyndon', 'male'),\n",
              " ('Fiona', 'female'),\n",
              " ('Nadean', 'female'),\n",
              " ('Douglis', 'male'),\n",
              " ('Olia', 'female'),\n",
              " ('Kalila', 'female')]"
            ]
          },
          "metadata": {
            "tags": []
          },
          "execution_count": 5
        }
      ]
    },
    {
      "cell_type": "code",
      "metadata": {
        "id": "QzK97C8BDmHR"
      },
      "source": [
        "fset = [(atributos(n), g) for (n, g) in tagset]\n",
        "train, test = fset[500:], fset[:500]"
      ],
      "execution_count": null,
      "outputs": []
    },
    {
      "cell_type": "markdown",
      "metadata": {
        "id": "qQPv0tW4Fd2G"
      },
      "source": [
        "**Modelo de clasificación Naive Bayes**"
      ]
    },
    {
      "cell_type": "code",
      "metadata": {
        "id": "37jueg4nDQFs"
      },
      "source": [
        "# entrenamiento del modelo NaiveBayes\n",
        "classifier = nltk.NaiveBayesClassifier.train(train)"
      ],
      "execution_count": null,
      "outputs": []
    },
    {
      "cell_type": "markdown",
      "metadata": {
        "id": "BAWfUSHrEj3q"
      },
      "source": [
        " **Verificación de algunas predicciones**"
      ]
    },
    {
      "cell_type": "code",
      "metadata": {
        "id": "Mr8ytm8SEEZk",
        "colab": {
          "base_uri": "https://localhost:8080/",
          "height": 35
        },
        "outputId": "bf3acbe4-8d41-4ee1-88e6-5f60fe1552f2"
      },
      "source": [
        "classifier.classify(atributos('amanda'))"
      ],
      "execution_count": null,
      "outputs": [
        {
          "output_type": "execute_result",
          "data": {
            "application/vnd.google.colaboratory.intrinsic+json": {
              "type": "string"
            },
            "text/plain": [
              "'female'"
            ]
          },
          "metadata": {
            "tags": []
          },
          "execution_count": 8
        }
      ]
    },
    {
      "cell_type": "code",
      "metadata": {
        "id": "c0GG1Y1_EPaO",
        "colab": {
          "base_uri": "https://localhost:8080/",
          "height": 35
        },
        "outputId": "75648e3c-5772-4c3a-99d8-63cc06e92731"
      },
      "source": [
        "classifier.classify(atributos('peter'))"
      ],
      "execution_count": null,
      "outputs": [
        {
          "output_type": "execute_result",
          "data": {
            "application/vnd.google.colaboratory.intrinsic+json": {
              "type": "string"
            },
            "text/plain": [
              "'male'"
            ]
          },
          "metadata": {
            "tags": []
          },
          "execution_count": 9
        }
      ]
    },
    {
      "cell_type": "markdown",
      "metadata": {
        "id": "XSUK14XhEqLL"
      },
      "source": [
        "**Performance del modelo**"
      ]
    },
    {
      "cell_type": "code",
      "metadata": {
        "id": "lenwC5agEdvT",
        "colab": {
          "base_uri": "https://localhost:8080/",
          "height": 34
        },
        "outputId": "3048d989-0d7a-47ae-dded-5a41f2192706"
      },
      "source": [
        "print(nltk.classify.accuracy(classifier, test))"
      ],
      "execution_count": null,
      "outputs": [
        {
          "output_type": "stream",
          "text": [
            "0.764\n"
          ],
          "name": "stdout"
        }
      ]
    },
    {
      "cell_type": "code",
      "metadata": {
        "id": "p5S9qeCgsJSg",
        "colab": {
          "base_uri": "https://localhost:8080/",
          "height": 34
        },
        "outputId": "66b0edfd-e7dd-45ca-c292-06a55230ca6f"
      },
      "source": [
        "print(nltk.classify.accuracy(classifier, train))"
      ],
      "execution_count": null,
      "outputs": [
        {
          "output_type": "stream",
          "text": [
            "0.7627619559376679\n"
          ],
          "name": "stdout"
        }
      ]
    },
    {
      "cell_type": "markdown",
      "metadata": {
        "id": "aSNI7OFxGib0"
      },
      "source": [
        "**Mejores atributos**"
      ]
    },
    {
      "cell_type": "code",
      "metadata": {
        "id": "k5uaIAdDGlq8"
      },
      "source": [
        "def mas_atributos(nombre):\n",
        "    atrib = {}\n",
        "    atrib[\"primera_letra\"] = nombre[0].lower()\n",
        "    atrib[\"ultima_letra\"] = nombre[-1].lower()\n",
        "    for letra in 'abcdefghijklmnopqrstuvwxyz':\n",
        "        #atrib 3. numero de veces aparece la letra\n",
        "        atrib[\"count({})\".format(letra)] = nombre.lower().count(letra)\n",
        "        #atrib 4. si tiene o no la letra\n",
        "        atrib[\"has({})\".format(letra)] = (letra in nombre.lower())\n",
        "    return atrib"
      ],
      "execution_count": null,
      "outputs": []
    },
    {
      "cell_type": "code",
      "metadata": {
        "id": "6-gJIxKcHKvI",
        "colab": {
          "base_uri": "https://localhost:8080/",
          "height": 935
        },
        "outputId": "c2da6d48-c6e9-4bd0-aede-2b75959c381f"
      },
      "source": [
        "mas_atributos('jhon')"
      ],
      "execution_count": null,
      "outputs": [
        {
          "output_type": "execute_result",
          "data": {
            "text/plain": [
              "{'count(a)': 0,\n",
              " 'count(b)': 0,\n",
              " 'count(c)': 0,\n",
              " 'count(d)': 0,\n",
              " 'count(e)': 0,\n",
              " 'count(f)': 0,\n",
              " 'count(g)': 0,\n",
              " 'count(h)': 1,\n",
              " 'count(i)': 0,\n",
              " 'count(j)': 1,\n",
              " 'count(k)': 0,\n",
              " 'count(l)': 0,\n",
              " 'count(m)': 0,\n",
              " 'count(n)': 1,\n",
              " 'count(o)': 1,\n",
              " 'count(p)': 0,\n",
              " 'count(q)': 0,\n",
              " 'count(r)': 0,\n",
              " 'count(s)': 0,\n",
              " 'count(t)': 0,\n",
              " 'count(u)': 0,\n",
              " 'count(v)': 0,\n",
              " 'count(w)': 0,\n",
              " 'count(x)': 0,\n",
              " 'count(y)': 0,\n",
              " 'count(z)': 0,\n",
              " 'has(a)': False,\n",
              " 'has(b)': False,\n",
              " 'has(c)': False,\n",
              " 'has(d)': False,\n",
              " 'has(e)': False,\n",
              " 'has(f)': False,\n",
              " 'has(g)': False,\n",
              " 'has(h)': True,\n",
              " 'has(i)': False,\n",
              " 'has(j)': True,\n",
              " 'has(k)': False,\n",
              " 'has(l)': False,\n",
              " 'has(m)': False,\n",
              " 'has(n)': True,\n",
              " 'has(o)': True,\n",
              " 'has(p)': False,\n",
              " 'has(q)': False,\n",
              " 'has(r)': False,\n",
              " 'has(s)': False,\n",
              " 'has(t)': False,\n",
              " 'has(u)': False,\n",
              " 'has(v)': False,\n",
              " 'has(w)': False,\n",
              " 'has(x)': False,\n",
              " 'has(y)': False,\n",
              " 'has(z)': False,\n",
              " 'primera_letra': 'j',\n",
              " 'ultima_letra': 'n'}"
            ]
          },
          "metadata": {
            "tags": []
          },
          "execution_count": 13
        }
      ]
    },
    {
      "cell_type": "code",
      "metadata": {
        "id": "FBu25HHgHQtK"
      },
      "source": [
        "fset = [(mas_atributos(n), g) for (n, g) in tagset]\n",
        "train, test = fset[500:], fset[:500]\n",
        "classifier2 = nltk.NaiveBayesClassifier.train(train)"
      ],
      "execution_count": null,
      "outputs": []
    },
    {
      "cell_type": "code",
      "metadata": {
        "id": "8hWR9hOzHlNe"
      },
      "source": [
        "print(nltk.classify.accuracy(classifier2, test))"
      ],
      "execution_count": null,
      "outputs": []
    },
    {
      "cell_type": "markdown",
      "metadata": {
        "id": "rT7mmVnvFAcm"
      },
      "source": [
        "### Ejercicio de práctica\n",
        "\n",
        "**Objetivo:** Construye un classificador de nombres en español usando el siguiente dataset: \n",
        "https://github.com/jvalhondo/spanish-names-surnames"
      ]
    },
    {
      "cell_type": "markdown",
      "metadata": {
        "id": "NphJqahkFnjO"
      },
      "source": [
        "1. **Preparación de los datos**: con un `git clone` puedes traer el dataset indicado a tu directorio en Colab, luego asegurate de darle el formato adecuado a los datos y sus features para que tenga la misma estructura del ejemplo anterior con el dataset `names` de nombres en ingles. \n",
        "\n",
        "* **Piensa y analiza**: ¿los features en ingles aplican de la misma manera para los nombres en español?"
      ]
    },
    {
      "cell_type": "code",
      "metadata": {
        "id": "OhbOT6_zFGHM",
        "colab": {
          "base_uri": "https://localhost:8080/",
          "height": 34
        },
        "outputId": "b83bb0b3-7a14-4352-e901-5a1ee849658d"
      },
      "source": [
        "# escribe tu código aquí\n",
        "!git clone https://github.com/jvalhondo/spanish-names-surnames"
      ],
      "execution_count": null,
      "outputs": [
        {
          "output_type": "stream",
          "text": [
            "fatal: destination path 'spanish-names-surnames' already exists and is not an empty directory.\n"
          ],
          "name": "stdout"
        }
      ]
    },
    {
      "cell_type": "code",
      "metadata": {
        "id": "HtJiYGfGViOe"
      },
      "source": [
        "import pandas as pd\n",
        "from sklearn.model_selection import train_test_split\n",
        "\n",
        "male_names = pd.read_csv('/content/spanish-names-surnames/male_names.csv')\n",
        "female_names =  pd.read_csv('/content/spanish-names-surnames/female_names.csv')\n",
        "female_names.dropna(axis=0, inplace=True)\n",
        "\n",
        "tagnames = [(name.lower(), 'male') for name in male_names['name']] + [(name.lower(), 'female') for name in female_names['name']] \n",
        "random.shuffle(tagset)"
      ],
      "execution_count": null,
      "outputs": []
    },
    {
      "cell_type": "code",
      "metadata": {
        "id": "F3jEWoA_Y9Ad"
      },
      "source": [
        "# definición de atributos relevantes\n",
        "def atributos(palabra):\n",
        "\treturn {'ultima_letra': palabra[-1]}"
      ],
      "execution_count": null,
      "outputs": []
    },
    {
      "cell_type": "code",
      "metadata": {
        "id": "20wNSXMrjU00"
      },
      "source": [
        "# Creando dataset con atributos\n",
        "fset = [(atributos(n), g) for (n, g) in tagset]\n",
        "\n",
        "# Dividiendo en train_data y test_data\n",
        "train_data, test_data = train_test_split(fset, test_size=0.20)"
      ],
      "execution_count": null,
      "outputs": []
    },
    {
      "cell_type": "markdown",
      "metadata": {
        "id": "KuY1Ux30F9uZ"
      },
      "source": [
        "2. **Entrenamiento y performance del modelo**: usando el classificador de Naive Bayes de NLTK entrena un modelo sencillo usando el mismo feature de la última letra del nombre, prueba algunas predicciones y calcula el performance del modelo. "
      ]
    },
    {
      "cell_type": "code",
      "metadata": {
        "id": "CvHwHTS8GT9I",
        "colab": {
          "base_uri": "https://localhost:8080/",
          "height": 51
        },
        "outputId": "8626f489-4ea1-4d51-97e7-a10b769e6cc1"
      },
      "source": [
        "# escribe tu código aquí\n",
        "classifier = nltk.NaiveBayesClassifier.train(train_data)\n",
        "\n",
        "print(f'test_data accuracy: {nltk.classify.accuracy(classifier, test_data)}')\n",
        "print(f'train_data accuracy {nltk.classify.accuracy(classifier, train_data)}')"
      ],
      "execution_count": null,
      "outputs": [
        {
          "output_type": "stream",
          "text": [
            "test_data accuracy: 0.7715544367526747\n",
            "train_data accuracy 0.7594020456333596\n"
          ],
          "name": "stdout"
        }
      ]
    },
    {
      "cell_type": "markdown",
      "metadata": {
        "id": "f4a2jv85GXA_"
      },
      "source": [
        "3. **Mejores atributos:** Define una función como `atributos2()` donde puedas extraer mejores atributos con los cuales entrenar una mejor version del clasificador. Haz un segundo entrenamiento y verifica como mejora el performance de tu modelo. ¿Se te ocurren mejores maneras de definir atributos para esta tarea particular?"
      ]
    },
    {
      "cell_type": "code",
      "metadata": {
        "id": "ngCAK5pZoYiT"
      },
      "source": [
        "def atributos2(nombre):\n",
        "    atrib = {}\n",
        "    atrib[\"nombre\"] = nombre.lower()\n",
        "    atrib[\"primera_letra\"] = nombre[0].lower()\n",
        "    atrib[\"ultima_letra\"] = nombre[-1].lower()\n",
        "    atrib[\"primeras_dos_letras\"] = nombre[:2].lower()\n",
        "    atrib[\"ultimas_dos_letras\"] = nombre[-2:].lower()\n",
        "\n",
        "    for letra in 'abcdefghijklmnopqrstuvwxyz':\n",
        "        #atrib 3. numero de veces aparece la letra\n",
        "        atrib[\"count({})\".format(letra)] = nombre.lower().count(letra)\n",
        "        #atrib 4. si tiene o no la letra\n",
        "        atrib[\"has({})\".format(letra)] = (letra in nombre.lower())\n",
        "    return atrib"
      ],
      "execution_count": null,
      "outputs": []
    },
    {
      "cell_type": "code",
      "metadata": {
        "id": "jB0oz9Gqoac4"
      },
      "source": [
        "fset2 = [(mas_atributos(n), g) for (n, g) in tagset]\n",
        "\n",
        "# Dividiendo en train_data y test_data\n",
        "train_data2, test_data2 = train_test_split(fset2, test_size=0.20)"
      ],
      "execution_count": null,
      "outputs": []
    },
    {
      "cell_type": "code",
      "metadata": {
        "id": "EISQ8O3_oaj9",
        "colab": {
          "base_uri": "https://localhost:8080/",
          "height": 51
        },
        "outputId": "d225566c-808a-43b9-804a-548ad5214a84"
      },
      "source": [
        "classifier2 = nltk.NaiveBayesClassifier.train(train_data2)\n",
        "print(f'train_data accuracy: {nltk.classify.accuracy(classifier2, train_data2)}')\n",
        "print(f'test_data accuracy {nltk.classify.accuracy(classifier2, test_data2)}')"
      ],
      "execution_count": null,
      "outputs": [
        {
          "output_type": "stream",
          "text": [
            "train_data accuracy: 0.7801730920535012\n",
            "test_data accuracy 0.7734424166142227\n"
          ],
          "name": "stdout"
        }
      ]
    },
    {
      "cell_type": "markdown",
      "metadata": {
        "id": "K7CXFyfoGf4s"
      },
      "source": [
        "# Clasificación de documentos (email spam o no spam)"
      ]
    },
    {
      "cell_type": "code",
      "metadata": {
        "id": "Qfli08sgIzl_",
        "colab": {
          "base_uri": "https://localhost:8080/",
          "height": 85
        },
        "outputId": "fab30e8e-36fb-4d16-c733-48a66e0b0b6a"
      },
      "source": [
        "!git clone https://github.com/pachocamacho1990/datasets"
      ],
      "execution_count": null,
      "outputs": [
        {
          "output_type": "stream",
          "text": [
            "Cloning into 'datasets'...\n",
            "remote: Enumerating objects: 39, done.\u001b[K\n",
            "remote: Total 39 (delta 0), reused 0 (delta 0), pack-reused 39\u001b[K\n",
            "Unpacking objects: 100% (39/39), done.\n"
          ],
          "name": "stdout"
        }
      ]
    },
    {
      "cell_type": "code",
      "metadata": {
        "id": "bHFKXxclJ5LC",
        "colab": {
          "base_uri": "https://localhost:8080/",
          "height": 119
        },
        "outputId": "f105d167-89c2-4923-ebb6-4e1be7ec9e24"
      },
      "source": [
        "import pandas as pd\n",
        "import numpy as np\n",
        "import nltk\n",
        "import random\n",
        "nltk.download('punkt')\n",
        "nltk.download('averaged_perceptron_tagger')\n",
        "from nltk import word_tokenize"
      ],
      "execution_count": null,
      "outputs": [
        {
          "output_type": "stream",
          "text": [
            "[nltk_data] Downloading package punkt to /root/nltk_data...\n",
            "[nltk_data]   Package punkt is already up-to-date!\n",
            "[nltk_data] Downloading package averaged_perceptron_tagger to\n",
            "[nltk_data]     /root/nltk_data...\n",
            "[nltk_data]   Package averaged_perceptron_tagger is already up-to-\n",
            "[nltk_data]       date!\n"
          ],
          "name": "stdout"
        }
      ]
    },
    {
      "cell_type": "code",
      "metadata": {
        "id": "33oKcvcjKrlM",
        "colab": {
          "base_uri": "https://localhost:8080/",
          "height": 204
        },
        "outputId": "349023f4-41db-480d-c07b-51b7de9767cb"
      },
      "source": [
        "df = pd.read_csv('datasets/email/csv/spam-apache.csv', names = ['clase','contenido'])\n",
        "df['tokens'] = df['contenido'].apply(lambda x: word_tokenize(x))\n",
        "df.head()"
      ],
      "execution_count": null,
      "outputs": [
        {
          "output_type": "execute_result",
          "data": {
            "text/html": [
              "<div>\n",
              "<style scoped>\n",
              "    .dataframe tbody tr th:only-of-type {\n",
              "        vertical-align: middle;\n",
              "    }\n",
              "\n",
              "    .dataframe tbody tr th {\n",
              "        vertical-align: top;\n",
              "    }\n",
              "\n",
              "    .dataframe thead th {\n",
              "        text-align: right;\n",
              "    }\n",
              "</style>\n",
              "<table border=\"1\" class=\"dataframe\">\n",
              "  <thead>\n",
              "    <tr style=\"text-align: right;\">\n",
              "      <th></th>\n",
              "      <th>clase</th>\n",
              "      <th>contenido</th>\n",
              "      <th>tokens</th>\n",
              "    </tr>\n",
              "  </thead>\n",
              "  <tbody>\n",
              "    <tr>\n",
              "      <th>0</th>\n",
              "      <td>-1</td>\n",
              "      <td>&lt;!DOCTYPE HTML PUBLIC \"-//W3C//DTD HTML 4.0 Tr...</td>\n",
              "      <td>[&lt;, !, DOCTYPE, HTML, PUBLIC, ``, -//W3C//DTD,...</td>\n",
              "    </tr>\n",
              "    <tr>\n",
              "      <th>1</th>\n",
              "      <td>1</td>\n",
              "      <td>&gt; Russell Turpin:\\n&gt; &gt; That depends on how the...</td>\n",
              "      <td>[&gt;, Russell, Turpin, :, &gt;, &gt;, That, depends, o...</td>\n",
              "    </tr>\n",
              "    <tr>\n",
              "      <th>2</th>\n",
              "      <td>-1</td>\n",
              "      <td>Help wanted.  We are a 14 year old fortune 500...</td>\n",
              "      <td>[Help, wanted, ., We, are, a, 14, year, old, f...</td>\n",
              "    </tr>\n",
              "    <tr>\n",
              "      <th>3</th>\n",
              "      <td>-1</td>\n",
              "      <td>Request A Free No Obligation Consultation!\\nAc...</td>\n",
              "      <td>[Request, A, Free, No, Obligation, Consultatio...</td>\n",
              "    </tr>\n",
              "    <tr>\n",
              "      <th>4</th>\n",
              "      <td>1</td>\n",
              "      <td>Is there a way to look for a particular file o...</td>\n",
              "      <td>[Is, there, a, way, to, look, for, a, particul...</td>\n",
              "    </tr>\n",
              "  </tbody>\n",
              "</table>\n",
              "</div>"
            ],
            "text/plain": [
              "   clase  ...                                             tokens\n",
              "0     -1  ...  [<, !, DOCTYPE, HTML, PUBLIC, ``, -//W3C//DTD,...\n",
              "1      1  ...  [>, Russell, Turpin, :, >, >, That, depends, o...\n",
              "2     -1  ...  [Help, wanted, ., We, are, a, 14, year, old, f...\n",
              "3     -1  ...  [Request, A, Free, No, Obligation, Consultatio...\n",
              "4      1  ...  [Is, there, a, way, to, look, for, a, particul...\n",
              "\n",
              "[5 rows x 3 columns]"
            ]
          },
          "metadata": {
            "tags": []
          },
          "execution_count": 5
        }
      ]
    },
    {
      "cell_type": "code",
      "metadata": {
        "id": "OvHkYDylNMKP"
      },
      "source": [
        "df['tokens'].values[0]"
      ],
      "execution_count": null,
      "outputs": []
    },
    {
      "cell_type": "code",
      "metadata": {
        "id": "O4kw1BQUOe4-"
      },
      "source": [
        "#obtendremos la lista de palabras mas frecuentes para usarlas como aproximacion inicial\n",
        "\n",
        "all_words = nltk.FreqDist([w for tokenlist in df['tokens'].values for w in tokenlist])\n",
        "top_words = all_words.most_common(200)\n",
        "\n",
        "def document_features(document):\n",
        "    document_words = set(document)\n",
        "    features = {}\n",
        "    for word in top_words:\n",
        "        features['contains({})'.format(word)] = (word in document_words)\n",
        "    return features"
      ],
      "execution_count": null,
      "outputs": []
    },
    {
      "cell_type": "code",
      "metadata": {
        "id": "1g6F_qNfmRAW",
        "colab": {
          "base_uri": "https://localhost:8080/",
          "height": 1000
        },
        "outputId": "a9c31e7a-a5f5-485b-f4bc-367fbf956a78"
      },
      "source": [
        "document_features(df['tokens'].values[0])"
      ],
      "execution_count": null,
      "outputs": [
        {
          "output_type": "execute_result",
          "data": {
            "text/plain": [
              "{'contains((\"\\'\", 88))': False,\n",
              " 'contains((\"\\'\\'\", 438))': False,\n",
              " 'contains((\"\\'m\", 51))': False,\n",
              " 'contains((\"\\'re\", 41))': False,\n",
              " 'contains((\"\\'s\", 263))': False,\n",
              " 'contains((\"\\'ve\", 39))': False,\n",
              " 'contains((\"n\\'t\", 175))': False,\n",
              " \"contains(('!', 698))\": False,\n",
              " \"contains(('#', 521))\": False,\n",
              " \"contains(('$', 413))\": False,\n",
              " \"contains(('%', 677))\": False,\n",
              " \"contains(('&', 181))\": False,\n",
              " \"contains(('(', 380))\": False,\n",
              " \"contains((')', 463))\": False,\n",
              " \"contains(('*', 43))\": False,\n",
              " \"contains((',', 2173))\": False,\n",
              " \"contains(('-', 283))\": False,\n",
              " \"contains(('--', 1611))\": False,\n",
              " \"contains(('.', 2200))\": False,\n",
              " \"contains(('...', 327))\": False,\n",
              " \"contains(('//www.adclick.ws/p.cfm', 40))\": False,\n",
              " \"contains(('1', 123))\": False,\n",
              " \"contains(('2', 94))\": False,\n",
              " \"contains(('2002', 67))\": False,\n",
              " \"contains(('3', 72))\": False,\n",
              " \"contains(('30', 220))\": False,\n",
              " \"contains(('31', 255))\": False,\n",
              " \"contains(('4', 61))\": False,\n",
              " \"contains(('5', 116))\": False,\n",
              " \"contains((':', 1220))\": False,\n",
              " \"contains((';', 40))\": False,\n",
              " \"contains(('<', 718))\": False,\n",
              " \"contains(('=', 40))\": False,\n",
              " \"contains(('>', 1787))\": False,\n",
              " \"contains(('?', 360))\": False,\n",
              " \"contains(('@', 128))\": False,\n",
              " \"contains(('A', 91))\": False,\n",
              " \"contains(('AND', 77))\": False,\n",
              " \"contains(('And', 42))\": False,\n",
              " \"contains(('BR', 494))\": False,\n",
              " \"contains(('FOR', 41))\": False,\n",
              " \"contains(('FREE', 87))\": False,\n",
              " \"contains(('I', 741))\": False,\n",
              " \"contains(('If', 116))\": False,\n",
              " \"contains(('In', 44))\": False,\n",
              " \"contains(('It', 74))\": False,\n",
              " \"contains(('Linux', 39))\": False,\n",
              " \"contains(('NOT', 54))\": False,\n",
              " \"contains(('No', 88))\": False,\n",
              " \"contains(('OF', 67))\": False,\n",
              " \"contains(('On', 55))\": False,\n",
              " \"contains(('Please', 47))\": False,\n",
              " \"contains(('REPORT', 52))\": False,\n",
              " \"contains(('Report', 38))\": False,\n",
              " \"contains(('THE', 108))\": False,\n",
              " \"contains(('THIS', 44))\": False,\n",
              " \"contains(('TO', 75))\": False,\n",
              " \"contains(('The', 196))\": False,\n",
              " \"contains(('This', 125))\": False,\n",
              " \"contains(('To', 95))\": False,\n",
              " \"contains(('US', 39))\": False,\n",
              " \"contains(('We', 109))\": False,\n",
              " \"contains(('YOU', 72))\": False,\n",
              " \"contains(('YOUR', 63))\": False,\n",
              " \"contains(('You', 117))\": False,\n",
              " \"contains(('Your', 56))\": False,\n",
              " \"contains(('[', 71))\": False,\n",
              " \"contains((']', 81))\": False,\n",
              " \"contains(('``', 301))\": False,\n",
              " \"contains(('a', 879))\": False,\n",
              " \"contains(('about', 81))\": False,\n",
              " \"contains(('address', 73))\": False,\n",
              " \"contains(('all', 176))\": False,\n",
              " \"contains(('also', 57))\": False,\n",
              " \"contains(('am', 66))\": False,\n",
              " \"contains(('an', 129))\": False,\n",
              " \"contains(('and', 1064))\": False,\n",
              " \"contains(('any', 87))\": False,\n",
              " \"contains(('are', 257))\": False,\n",
              " \"contains(('as', 251))\": False,\n",
              " \"contains(('at', 199))\": False,\n",
              " \"contains(('be', 299))\": False,\n",
              " \"contains(('because', 53))\": False,\n",
              " \"contains(('been', 87))\": False,\n",
              " \"contains(('below', 51))\": False,\n",
              " \"contains(('but', 164))\": False,\n",
              " \"contains(('by', 156))\": False,\n",
              " \"contains(('can', 194))\": False,\n",
              " \"contains(('company', 44))\": False,\n",
              " \"contains(('could', 66))\": False,\n",
              " \"contains(('days', 40))\": False,\n",
              " \"contains(('did', 42))\": False,\n",
              " \"contains(('different', 38))\": False,\n",
              " \"contains(('do', 167))\": False,\n",
              " \"contains(('does', 54))\": False,\n",
              " \"contains(('e-mail', 51))\": False,\n",
              " \"contains(('e-mails', 45))\": False,\n",
              " \"contains(('each', 70))\": False,\n",
              " \"contains(('email', 80))\": False,\n",
              " \"contains(('even', 46))\": False,\n",
              " \"contains(('first', 48))\": False,\n",
              " \"contains(('for', 609))\": False,\n",
              " \"contains(('free', 50))\": False,\n",
              " \"contains(('from', 271))\": False,\n",
              " \"contains(('get', 107))\": False,\n",
              " \"contains(('go', 56))\": False,\n",
              " \"contains(('had', 54))\": False,\n",
              " \"contains(('has', 195))\": False,\n",
              " \"contains(('have', 351))\": False,\n",
              " \"contains(('he', 69))\": False,\n",
              " \"contains(('here', 57))\": False,\n",
              " \"contains(('his', 74))\": False,\n",
              " \"contains(('how', 60))\": False,\n",
              " \"contains(('http', 362))\": False,\n",
              " \"contains(('if', 152))\": False,\n",
              " \"contains(('in', 742))\": False,\n",
              " \"contains(('information', 39))\": False,\n",
              " \"contains(('is', 577))\": False,\n",
              " \"contains(('it', 458))\": False,\n",
              " \"contains(('just', 128))\": False,\n",
              " \"contains(('know', 41))\": False,\n",
              " \"contains(('like', 100))\": False,\n",
              " \"contains(('line', 40))\": False,\n",
              " \"contains(('list', 95))\": False,\n",
              " \"contains(('lists/l-k', 59))\": False,\n",
              " \"contains(('made', 38))\": False,\n",
              " \"contains(('mail', 56))\": False,\n",
              " \"contains(('make', 68))\": False,\n",
              " \"contains(('me', 110))\": False,\n",
              " \"contains(('message', 39))\": False,\n",
              " \"contains(('money', 72))\": False,\n",
              " \"contains(('more', 118))\": False,\n",
              " \"contains(('most', 47))\": False,\n",
              " \"contains(('msgs', 59))\": False,\n",
              " \"contains(('much', 43))\": False,\n",
              " \"contains(('my', 206))\": False,\n",
              " \"contains(('name', 67))\": False,\n",
              " \"contains(('nbsp=3B', 43))\": False,\n",
              " \"contains(('need', 43))\": False,\n",
              " \"contains(('new', 55))\": False,\n",
              " \"contains(('no', 75))\": False,\n",
              " \"contains(('not', 224))\": False,\n",
              " \"contains(('now', 49))\": False,\n",
              " \"contains(('of', 958))\": False,\n",
              " \"contains(('on', 378))\": False,\n",
              " \"contains(('one', 129))\": False,\n",
              " \"contains(('only', 100))\": False,\n",
              " \"contains(('or', 252))\": False,\n",
              " \"contains(('other', 92))\": False,\n",
              " \"contains(('our', 160))\": False,\n",
              " \"contains(('out', 166))\": False,\n",
              " \"contains(('over', 69))\": False,\n",
              " \"contains(('people', 110))\": False,\n",
              " \"contains(('please', 53))\": False,\n",
              " \"contains(('program', 55))\": False,\n",
              " \"contains(('receive', 56))\": False,\n",
              " \"contains(('received', 44))\": False,\n",
              " \"contains(('see', 63))\": False,\n",
              " \"contains(('send', 68))\": False,\n",
              " \"contains(('sent', 45))\": False,\n",
              " \"contains(('so', 99))\": False,\n",
              " \"contains(('some', 80))\": False,\n",
              " \"contains(('still', 41))\": False,\n",
              " \"contains(('than', 67))\": False,\n",
              " \"contains(('that', 477))\": False,\n",
              " \"contains(('the', 1963))\": False,\n",
              " \"contains(('their', 76))\": False,\n",
              " \"contains(('them', 68))\": False,\n",
              " \"contains(('then', 74))\": False,\n",
              " \"contains(('there', 86))\": False,\n",
              " \"contains(('they', 103))\": False,\n",
              " \"contains(('think', 49))\": False,\n",
              " \"contains(('this', 384))\": False,\n",
              " \"contains(('those', 38))\": False,\n",
              " \"contains(('through', 39))\": False,\n",
              " \"contains(('time', 114))\": False,\n",
              " \"contains(('to', 1435))\": False,\n",
              " \"contains(('unseen', 65))\": False,\n",
              " \"contains(('up', 108))\": False,\n",
              " \"contains(('us', 53))\": False,\n",
              " \"contains(('use', 73))\": False,\n",
              " \"contains(('using', 46))\": False,\n",
              " \"contains(('want', 54))\": False,\n",
              " \"contains(('was', 149))\": False,\n",
              " \"contains(('way', 60))\": False,\n",
              " \"contains(('we', 116))\": False,\n",
              " \"contains(('what', 79))\": False,\n",
              " \"contains(('when', 51))\": False,\n",
              " \"contains(('where', 40))\": False,\n",
              " \"contains(('which', 86))\": False,\n",
              " \"contains(('who', 87))\": False,\n",
              " \"contains(('will', 243))\": False,\n",
              " \"contains(('with', 334))\": False,\n",
              " \"contains(('within', 47))\": False,\n",
              " \"contains(('work', 70))\": False,\n",
              " \"contains(('would', 88))\": False,\n",
              " \"contains(('wrote', 58))\": False,\n",
              " \"contains(('you', 743))\": False,\n",
              " \"contains(('your', 359))\": False,\n",
              " \"contains(('|', 84))\": False}"
            ]
          },
          "metadata": {
            "tags": []
          },
          "execution_count": 7
        }
      ]
    },
    {
      "cell_type": "code",
      "metadata": {
        "id": "SrCXXGMCn3zz"
      },
      "source": [
        "fset = [(document_features(texto), clase) \n",
        "            for texto, clase in zip(df['tokens'].values, df['clase'].values)]\n",
        "            #zip() permite recorrer ambas columnas/listas al mismo tiempo, great hack\n",
        "random.shuffle(fset)\n",
        "train, test = fset[:200], fset[200:]"
      ],
      "execution_count": null,
      "outputs": []
    },
    {
      "cell_type": "code",
      "metadata": {
        "id": "r6FGZE4OqkEa"
      },
      "source": [
        "classifier = nltk.NaiveBayesClassifier.train(train)"
      ],
      "execution_count": null,
      "outputs": []
    },
    {
      "cell_type": "code",
      "metadata": {
        "id": "xIyVc6lBrGOy",
        "colab": {
          "base_uri": "https://localhost:8080/",
          "height": 34
        },
        "outputId": "bcfa057f-e411-434d-c5e5-25a90b8386f9"
      },
      "source": [
        "print(nltk.classify.accuracy(classifier, test))"
      ],
      "execution_count": null,
      "outputs": [
        {
          "output_type": "stream",
          "text": [
            "0.46\n"
          ],
          "name": "stdout"
        }
      ]
    },
    {
      "cell_type": "code",
      "metadata": {
        "id": "1x-R_PImrKIV",
        "colab": {
          "base_uri": "https://localhost:8080/",
          "height": 204
        },
        "outputId": "0310554e-0771-4ca3-f2c8-ac20b66f2377"
      },
      "source": [
        "classifier.show_most_informative_features(10)"
      ],
      "execution_count": null,
      "outputs": [
        {
          "output_type": "stream",
          "text": [
            "Most Informative Features\n",
            "  contains(('been', 87)) = False               1 : -1     =      1.0 : 1.0\n",
            "    contains(('-', 283)) = False               1 : -1     =      1.0 : 1.0\n",
            "contains(('Please', 47)) = False               1 : -1     =      1.0 : 1.0\n",
            " contains(('your', 359)) = False               1 : -1     =      1.0 : 1.0\n",
            " contains(('their', 76)) = False               1 : -1     =      1.0 : 1.0\n",
            "  contains(('THE', 108)) = False               1 : -1     =      1.0 : 1.0\n",
            "  contains(('get', 107)) = False               1 : -1     =      1.0 : 1.0\n",
            "    contains(('OF', 67)) = False               1 : -1     =      1.0 : 1.0\n",
            "contains(('within', 47)) = False               1 : -1     =      1.0 : 1.0\n",
            "    contains(('so', 99)) = False               1 : -1     =      1.0 : 1.0\n"
          ],
          "name": "stdout"
        }
      ]
    },
    {
      "cell_type": "code",
      "metadata": {
        "id": "wKzgha92up3l",
        "colab": {
          "base_uri": "https://localhost:8080/",
          "height": 221
        },
        "outputId": "eefa6df1-1e72-4877-f5ae-6d667ff22e13"
      },
      "source": [
        "df[df['clase']==-1]['contenido']"
      ],
      "execution_count": null,
      "outputs": [
        {
          "output_type": "execute_result",
          "data": {
            "text/plain": [
              "0      <!DOCTYPE HTML PUBLIC \"-//W3C//DTD HTML 4.0 Tr...\n",
              "2      Help wanted.  We are a 14 year old fortune 500...\n",
              "3      Request A Free No Obligation Consultation!\\nAc...\n",
              "10     >\\n>“µ×è¹µÑÇ ¡ÑºâÅ¡¸ØÃ¡Ô¨º¹ÍÔ¹àµÍÃìà¹çµ” \\n>àµ...\n",
              "11     ==============================================...\n",
              "                             ...                        \n",
              "243    ##############################################...\n",
              "244    Wanna see sexually curious teens playing with ...\n",
              "246    REQUEST FOR URGENT BUSINESS ASSISTANCE\\n------...\n",
              "248    Email marketing works!  There's no way around ...\n",
              "249    Email marketing works!  There's no way around ...\n",
              "Name: contenido, Length: 125, dtype: object"
            ]
          },
          "metadata": {
            "tags": []
          },
          "execution_count": 14
        }
      ]
    },
    {
      "cell_type": "markdown",
      "metadata": {
        "id": "YeBvifrnr3GY"
      },
      "source": [
        "## Ejercicio de práctica\n"
      ]
    },
    {
      "cell_type": "markdown",
      "metadata": {
        "id": "AR53vedlvd1O"
      },
      "source": [
        "¿Como podrías construir un mejor clasificador de documentos?\n",
        "\n",
        "0. **Dataset más grande:** El conjunto de datos que usamos fue muy pequeño, considera usar los archivos corpus que estan ubicados en la ruta: `datasets/email/plaintext/` \n",
        "\n",
        "1. **Limpieza:** como te diste cuenta no hicimos ningun tipo de limpieza de texto en los correos electrónicos. Considera usar expresiones regulares, filtros por categorias gramaticales, etc ... . \n",
        "\n",
        "---\n",
        "\n",
        "Con base en eso construye un dataset más grande y con un tokenizado más pulido. "
      ]
    },
    {
      "cell_type": "code",
      "metadata": {
        "id": "TOw2KrtnymVT",
        "colab": {
          "base_uri": "https://localhost:8080/",
          "height": 85
        },
        "outputId": "c1fd07f5-f706-4611-92c6-c4121c7caed2"
      },
      "source": [
        "# escribe tu código aquí\n",
        "!git clone https://github.com/jvalhondo/spanish-names-surnames"
      ],
      "execution_count": null,
      "outputs": [
        {
          "output_type": "stream",
          "text": [
            "Cloning into 'spanish-names-surnames'...\n",
            "remote: Enumerating objects: 36, done.\u001b[K\n",
            "remote: Total 36 (delta 0), reused 0 (delta 0), pack-reused 36\u001b[K\n",
            "Unpacking objects: 100% (36/36), done.\n"
          ],
          "name": "stdout"
        }
      ]
    },
    {
      "cell_type": "code",
      "metadata": {
        "id": "XT13XPDd3A1V",
        "colab": {
          "base_uri": "https://localhost:8080/",
          "height": 119
        },
        "outputId": "f258d7aa-9966-48df-85a5-d98e67bdb232"
      },
      "source": [
        "import zipfile\n",
        "import random\n",
        "\n",
        "import pandas as pd\n",
        "import numpy as np\n",
        "import nltk\n",
        "\n",
        "nltk.download('punkt')\n",
        "nltk.download('averaged_perceptron_tagger')\n",
        "from nltk import word_tokenize"
      ],
      "execution_count": null,
      "outputs": [
        {
          "output_type": "stream",
          "text": [
            "[nltk_data] Downloading package punkt to /root/nltk_data...\n",
            "[nltk_data]   Package punkt is already up-to-date!\n",
            "[nltk_data] Downloading package averaged_perceptron_tagger to\n",
            "[nltk_data]     /root/nltk_data...\n",
            "[nltk_data]   Package averaged_perceptron_tagger is already up-to-\n",
            "[nltk_data]       date!\n"
          ],
          "name": "stdout"
        }
      ]
    },
    {
      "cell_type": "code",
      "metadata": {
        "id": "v2ZO0aJyrTLx"
      },
      "source": [
        "unzip_files = zipfile.ZipFile('/content/datasets/email/plaintext/corpus1.zip')\n",
        "unzip_files.extractall('/content/datasets/email/plaintext')\n",
        "unzip_files.close()"
      ],
      "execution_count": null,
      "outputs": []
    },
    {
      "cell_type": "code",
      "metadata": {
        "id": "G7zkl2HH4LbY"
      },
      "source": [
        "from os import listdir"
      ],
      "execution_count": null,
      "outputs": []
    },
    {
      "cell_type": "code",
      "metadata": {
        "id": "Yzp64wWd4Ll4"
      },
      "source": [
        "path_ham = \"/content/datasets/email/plaintext/corpus1/ham/\"\n",
        "filepaths_ham = [path_ham+f for f in listdir(path_ham) if f.endswith('.txt')]\n",
        "\n",
        "path_spam = \"/content/datasets/email/plaintext/corpus1/spam/\"\n",
        "filepaths_spam = [path_spam+f for f in listdir(path_spam) if f.endswith('.txt')]"
      ],
      "execution_count": null,
      "outputs": []
    },
    {
      "cell_type": "code",
      "metadata": {
        "id": "E9-JUwMn4Lpp",
        "colab": {
          "base_uri": "https://localhost:8080/",
          "height": 51
        },
        "outputId": "cadef4b2-2a08-4265-9ab8-7c4b64a6fc4a"
      },
      "source": [
        "# Creamos la funcion para tokenizar y leer los archivos \n",
        "\n",
        "def abrir(texto):\n",
        "  with open(texto, 'r', errors='ignore') as f2:\n",
        "    data = f2.read()\n",
        "    data = word_tokenize(data)\n",
        "  return data\n",
        "\n",
        "# Creamos la lista tokenizada del ham\n",
        "list_ham = list(map(abrir, filepaths_ham))\n",
        "# Creamos la lista tokenizada del spam\n",
        "list_spam = list(map(abrir, filepaths_spam))\n",
        "\n",
        "nltk.download('stopwords')\n",
        "\n",
        "# Separamos las palabras mas comunes\n",
        "all_words = nltk.FreqDist([w for tokenlist in list_ham+list_spam for w in tokenlist])\n",
        "top_words = all_words.most_common(250)\n",
        "\n",
        "# Agregamos Bigramas\n",
        "bigram_text = nltk.Text([w for token in list_ham+list_spam for w in token])\n",
        "bigrams = list(nltk.bigrams(bigram_text))\n",
        "top_bigrams = (nltk.FreqDist(bigrams)).most_common(250)"
      ],
      "execution_count": null,
      "outputs": [
        {
          "output_type": "stream",
          "text": [
            "[nltk_data] Downloading package stopwords to /root/nltk_data...\n",
            "[nltk_data]   Unzipping corpora/stopwords.zip.\n"
          ],
          "name": "stdout"
        }
      ]
    },
    {
      "cell_type": "markdown",
      "metadata": {
        "id": "9V_KmDBHwiy8"
      },
      "source": [
        "2. **Validación del modelo anterior:**  \n",
        "---\n",
        "\n",
        "una vez tengas el nuevo conjunto de datos más pulido y de mayor tamaño, considera el mismo entrenamiento con el mismo tipo de atributos del ejemplo anterior, ¿mejora el accuracy del modelo resultante?"
      ]
    },
    {
      "cell_type": "code",
      "metadata": {
        "id": "AM6Vhy-Fw8oj"
      },
      "source": [
        "def document_features(document):\n",
        "    document_words = set(document)\n",
        "    bigram = set(list(nltk.bigrams(nltk.Text([token for token in document]))))\n",
        "    features = {}\n",
        "    for word, j in top_words:\n",
        "        features['contains({})'.format(word)] = (word in document_words)\n",
        "\n",
        "    for bigrams, i in top_bigrams:\n",
        "        features['contains_bigram({})'.format(bigrams)] = (bigrams in bigram)\n",
        "  \n",
        "    return features\n",
        "\n",
        "# Juntamos las listas indicando si tienen palabras de las mas comunes\n",
        "import random\n",
        "fset_ham = [(document_features(texto), 0) for texto in list_ham]\n",
        "fset_spam = [(document_features(texto), 1) for texto in list_spam]\n",
        "fset = fset_spam + fset_ham[:1500]\n",
        "random.shuffle(fset)\n",
        "\n"
      ],
      "execution_count": null,
      "outputs": []
    },
    {
      "cell_type": "code",
      "metadata": {
        "id": "QliDPpdK5ma4"
      },
      "source": [
        "# Separamos en las listas en train y test\n",
        "from sklearn.model_selection import train_test_split\n",
        "fset_train, fset_test = train_test_split(fset, test_size=0.20, random_state=45)\n"
      ],
      "execution_count": null,
      "outputs": []
    },
    {
      "cell_type": "code",
      "metadata": {
        "id": "_bgencX65pH5",
        "colab": {
          "base_uri": "https://localhost:8080/",
          "height": 34
        },
        "outputId": "5353919e-97f6-436a-c44a-ea24e7ae80a0"
      },
      "source": [
        "\n",
        "# Entrenamos el programa\n",
        "classifier = nltk.NaiveBayesClassifier.train(fset_train)\n",
        "\n",
        "# Probamos y calificamos\n",
        "classifier.classify(document_features(list_ham[34]))\n",
        "print(nltk.classify.accuracy(classifier, fset_test))\n"
      ],
      "execution_count": null,
      "outputs": [
        {
          "output_type": "stream",
          "text": [
            "0.8683333333333333\n"
          ],
          "name": "stdout"
        }
      ]
    },
    {
      "cell_type": "markdown",
      "metadata": {
        "id": "2lC72_CbxAoJ"
      },
      "source": [
        "3. **Construye mejores atributos**: A veces no solo se trata de las palabras más frecuentes sino de el contexto, y capturar contexto no es posible solo viendo los tokens de forma individual, ¿que tal si consideramos bi-gramas, tri-gramas ...?, ¿las secuencias de palabras podrián funcionar como mejores atributos para el modelo?. Para ver si es así,  podemos extraer n-gramas de nuestro corpus y obtener sus frecuencias de aparición con `FreqDist()`, desarrolla tu propia manera de hacerlo y entrena un modelo con esos nuevos atributos, no olvides compartir tus resultados en la sección de comentarios. "
      ]
    },
    {
      "cell_type": "code",
      "metadata": {
        "id": "wtMkQWpfxoy3"
      },
      "source": [
        "# escribe tu código aquí:\n"
      ],
      "execution_count": null,
      "outputs": []
    },
    {
      "cell_type": "code",
      "metadata": {
        "id": "iyAhmlbo24VQ"
      },
      "source": [
        "import math\n",
        "import os"
      ],
      "execution_count": null,
      "outputs": []
    },
    {
      "cell_type": "markdown",
      "metadata": {
        "id": "fSHovwBR1ZfA"
      },
      "source": [
        "## Preparación del corpus de emails"
      ]
    },
    {
      "cell_type": "code",
      "metadata": {
        "id": "w8P_ve0L0Gyu",
        "colab": {
          "base_uri": "https://localhost:8080/",
          "height": 34
        },
        "outputId": "3e9ea09c-8d06-44ea-fcfc-16268ca3e30e"
      },
      "source": [
        "!git clone https://github.com/pachocamacho1990/datasets"
      ],
      "execution_count": null,
      "outputs": [
        {
          "output_type": "stream",
          "text": [
            "fatal: destination path 'datasets' already exists and is not an empty directory.\n"
          ],
          "name": "stdout"
        }
      ]
    },
    {
      "cell_type": "code",
      "metadata": {
        "id": "MFrqDzfu04pJ"
      },
      "source": [
        "! unzip datasets/email/plaintext/corpus1.zip"
      ],
      "execution_count": null,
      "outputs": []
    },
    {
      "cell_type": "code",
      "metadata": {
        "id": "H7BKMjaR28jW"
      },
      "source": [
        "os.listdir('corpus1/spam')"
      ],
      "execution_count": null,
      "outputs": []
    },
    {
      "cell_type": "code",
      "metadata": {
        "id": "dJTtSZto1jC1",
        "colab": {
          "base_uri": "https://localhost:8080/",
          "height": 34
        },
        "outputId": "431200bf-70d7-4653-8eb4-9f22f6784582"
      },
      "source": [
        "data = []\n",
        "clases = []\n",
        "#lectura de spam data\n",
        "for file in os.listdir('corpus1/spam'):\n",
        "  with open('corpus1/spam/'+file, encoding='latin-1') as f:\n",
        "    data.append(f.read())\n",
        "    clases.append('spam')\n",
        "#lectura de ham data\n",
        "for file in os.listdir('corpus1/ham'):\n",
        "  with open('corpus1/ham/'+file, encoding='latin-1') as f:\n",
        "    data.append(f.read())\n",
        "    clases.append('ham')\n",
        "len(data)"
      ],
      "execution_count": null,
      "outputs": [
        {
          "output_type": "execute_result",
          "data": {
            "text/plain": [
              "5172"
            ]
          },
          "metadata": {
            "tags": []
          },
          "execution_count": 18
        }
      ]
    },
    {
      "cell_type": "code",
      "metadata": {
        "id": "-e0XWEmq5aGZ",
        "colab": {
          "base_uri": "https://localhost:8080/",
          "height": 34
        },
        "outputId": "28a6f706-23dc-4eea-c954-33a1016ade71"
      },
      "source": [
        "len(data), len(clases)"
      ],
      "execution_count": null,
      "outputs": [
        {
          "output_type": "execute_result",
          "data": {
            "text/plain": [
              "(5172, 5172)"
            ]
          },
          "metadata": {
            "tags": []
          },
          "execution_count": 19
        }
      ]
    },
    {
      "cell_type": "markdown",
      "metadata": {
        "id": "0NOb61Ik7MI-"
      },
      "source": [
        "## Construcción de modelo Naive Bayes"
      ]
    },
    {
      "cell_type": "markdown",
      "metadata": {
        "id": "IXXlUjrJ7DjR"
      },
      "source": [
        "### Tokenizador de Spacy\n",
        "\n",
        "* Documentación: https://spacy.io/api/tokenizer\n",
        "* ¿Cómo funciona el tokenizador? https://spacy.io/usage/linguistic-features#how-tokenizer-works"
      ]
    },
    {
      "cell_type": "code",
      "metadata": {
        "id": "ePmKCQpw4cqK"
      },
      "source": [
        "from spacy.tokenizer import Tokenizer\n",
        "from spacy.lang.en import English\n",
        "\n",
        "nlp = English()\n",
        "tokenizer = Tokenizer(nlp.vocab)"
      ],
      "execution_count": null,
      "outputs": []
    },
    {
      "cell_type": "code",
      "metadata": {
        "id": "oF1cGmZ293OA",
        "colab": {
          "base_uri": "https://localhost:8080/",
          "height": 54
        },
        "outputId": "23c13491-b493-4ea0-f4c7-97a43d9ddd61"
      },
      "source": [
        "print([t.text for t in tokenizer(data[0])])"
      ],
      "execution_count": null,
      "outputs": [
        {
          "output_type": "stream",
          "text": [
            "['Subject:', 'drug', 'turns', 'a', 'normal', 'guys', 'into', 'studs', '!', '\\n', 'cialls', 'delivered', 'discreetly', 'to', 'your', 'door', 'in', 'an', 'unmarked', 'envelope', '\\n', 'lasts', '8', 'x', 'times', 'longer', 'than', 'vlagra', ',', 'take', 'one', 'friday', ',', 'still', 'working', 'on', 'sunday', '!', '\\n', 'no', 'one', 'needs', 'to', 'know', '!', '\\n', 'buy', 'generic', '(', 'exactly', 'the', 'same', 'drug', ',', 'but', 'not', 'with', 'the', 'big', 'company', 'prices', '.', '.', ')', 'to', 'save', '70', '%', '!', '!', '\\n', 'check', 'it', 'out', 'here', '!', '\\n', 'fireball', 'abcdzhongguo', 'johnson', 'daddy', 'front', '242', 'gretchen', 'memory', '\\n', 'josie', 'buttonshorizon', 'buffy', 'preston', '\\n', 'josh', 'informix', 'diane', '\\n']\n"
          ],
          "name": "stdout"
        }
      ]
    },
    {
      "cell_type": "markdown",
      "metadata": {
        "id": "m4i6IQGx7Tul"
      },
      "source": [
        "### Clase principal para el algoritmo\n",
        "\n",
        "Recuerda que la clase más probable viene dada por (en espacio de cómputo logarítmico): \n",
        "\n",
        "\n",
        "$$\\hat{c} = {\\arg \\max}_{(c)}\\log{P(c)}\n",
        " +\\sum_{i=1}^n\n",
        "\\log{ P(f_i \\vert c)}\n",
        "$$\n",
        "\n",
        "Donde, para evitar casos atípicos, usaremos el suavizado de Laplace así:\n",
        "\n",
        "$$\n",
        "P(f_i \\vert c) = \\frac{C(f_i, c)+1}{C(c) + \\vert V \\vert}\n",
        "$$\n",
        "\n",
        "siendo $\\vert V \\vert$ la longitud del vocabulario de nuestro conjunto de entrenamiento. "
      ]
    },
    {
      "cell_type": "code",
      "metadata": {
        "id": "nTgbTusfyPHW"
      },
      "source": [
        "import numpy as np\n",
        "\n",
        "class NaiveBayesClassifier():\n",
        "  nlp = English()\n",
        "  tokenizer = Tokenizer(nlp.vocab)\n",
        "  \n",
        "  def tokenize(self, doc):\n",
        "    return  [t.text.lower() for t in tokenizer(doc)]\n",
        "\n",
        "  def word_counts(self, words):\n",
        "    '''hace el conteo de las palabras'''\n",
        "    wordCount = {}\n",
        "    for w in words: \n",
        "      if w in wordCount.keys():\n",
        "        wordCount[w] += 1\n",
        "      else:\n",
        "        wordCount[w] = 1\n",
        "    return wordCount\n",
        "\n",
        "  def fit(self, data, clases):\n",
        "    '''Calcula todas las probabilidades'''\n",
        "    n = len(data)\n",
        "    self.unique_clases = set(clases)\n",
        "    self.vocab = set()\n",
        "    self.classCount = {} #C(c)\n",
        "    self.log_classPriorProb = {} #P(c)\n",
        "    self.wordConditionalCounts = {} #C(w|c)\n",
        "    #conteos de clases\n",
        "    for c in clases:\n",
        "      if c in self.classCount.keys():\n",
        "        self.classCount[c] += 1\n",
        "      else:\n",
        "        self.classCount[c] = 1\n",
        "    # calculo de P(c)\n",
        "    for c in self.classCount.keys():\n",
        "      self.log_classPriorProb[c] = math.log(self.classCount[c]/n)\n",
        "      self.wordConditionalCounts[c] = {}\n",
        "    # calculo de C(w|c)\n",
        "    for text, c in zip(data, clases):\n",
        "      counts = self.word_counts(self.tokenize(text))\n",
        "      for word, count in counts.items():\n",
        "        # Agregamos palabra a vocab\n",
        "        if word not in self.vocab:\n",
        "          self.vocab.add(word)\n",
        "        if word not in self.wordConditionalCounts[c]:\n",
        "          self.wordConditionalCounts[c][word] = 0.0\n",
        "        self.wordConditionalCounts[c][word] += count\n",
        "\n",
        "  def predict(self, data):\n",
        "    results = []\n",
        "    for text in data:\n",
        "      words = set(self.tokenize(text))\n",
        "      scoreProb = {}\n",
        "      for word in words: \n",
        "        if word not in self.vocab: continue #ignoramos palabras nuevas\n",
        "        #suavizado Laplaciano para P(w|c)\n",
        "        for c in self.unique_clases:\n",
        "          log_wordClassProb = math.log(\n",
        "              (self.wordConditionalCounts[c].get(word, 0.0)+1)/(self.classCount[c]+len(self.vocab)))\n",
        "          scoreProb[c] = scoreProb.get(c, self.log_classPriorProb[c]) + log_wordClassProb\n",
        "      # obtenemos argumento de maxima probabilidad\n",
        "      arg_maxprob = np.argmax(np.array(list(scoreProb.values())))\n",
        "      results.append(list(scoreProb.keys())[arg_maxprob])\n",
        "    return results\n"
      ],
      "execution_count": null,
      "outputs": []
    },
    {
      "cell_type": "markdown",
      "metadata": {
        "id": "EE9Aus71bdUx"
      },
      "source": [
        "### Utilidades de Scikit Learn\n",
        "* `train_test_split`: https://scikit-learn.org/stable/modules/generated/sklearn.model_selection.train_test_split.html\n",
        "\n",
        "* `accuracy_score`: https://scikit-learn.org/stable/modules/generated/sklearn.metrics.accuracy_score.html\n",
        "\n",
        "* `precision_score`: https://scikit-learn.org/stable/modules/generated/sklearn.metrics.precision_score.html\n",
        "\n",
        "* `recall_score`: https://scikit-learn.org/stable/modules/generated/sklearn.metrics.recall_score.html"
      ]
    },
    {
      "cell_type": "code",
      "metadata": {
        "id": "m95539uQZaDZ"
      },
      "source": [
        "from sklearn.model_selection import train_test_split\n",
        "from sklearn.metrics import accuracy_score, precision_score, recall_score\n",
        "data_train, data_test, clases_train, clases_test = train_test_split(data, clases, test_size=0.10, random_state=42)"
      ],
      "execution_count": null,
      "outputs": []
    },
    {
      "cell_type": "code",
      "metadata": {
        "id": "1Qrb-42APpHM"
      },
      "source": [
        "classifier = NaiveBayesClassifier()\n",
        "classifier.fit(data_train, clases_train)"
      ],
      "execution_count": null,
      "outputs": []
    },
    {
      "cell_type": "code",
      "metadata": {
        "id": "fdzx7-5xXJfD"
      },
      "source": [
        "clases_predict = classifier.predict(data_test)"
      ],
      "execution_count": null,
      "outputs": []
    },
    {
      "cell_type": "code",
      "metadata": {
        "id": "0whDaiFwayf5",
        "colab": {
          "base_uri": "https://localhost:8080/",
          "height": 34
        },
        "outputId": "3b667b9c-5ce8-47e3-cd47-ceeae6fc97b4"
      },
      "source": [
        "accuracy_score(clases_test, clases_predict)"
      ],
      "execution_count": null,
      "outputs": [
        {
          "output_type": "execute_result",
          "data": {
            "text/plain": [
              "0.8397683397683398"
            ]
          },
          "metadata": {
            "tags": []
          },
          "execution_count": 26
        }
      ]
    },
    {
      "cell_type": "code",
      "metadata": {
        "id": "FQM3QjN1dlIu",
        "colab": {
          "base_uri": "https://localhost:8080/",
          "height": 34
        },
        "outputId": "3b93086f-34a0-4148-e98f-abb32f818c7f"
      },
      "source": [
        "precision_score(clases_test, clases_predict, average=None, zero_division=1)"
      ],
      "execution_count": null,
      "outputs": [
        {
          "output_type": "execute_result",
          "data": {
            "text/plain": [
              "array([0.81390135, 1.        ])"
            ]
          },
          "metadata": {
            "tags": []
          },
          "execution_count": 27
        }
      ]
    },
    {
      "cell_type": "code",
      "metadata": {
        "id": "aHvtasY3VBk8"
      },
      "source": [
        "# de todo lo que predije que era ham solo el 0.81% es ham | todo lo que predije como spam fue stpam"
      ],
      "execution_count": null,
      "outputs": []
    },
    {
      "cell_type": "code",
      "metadata": {
        "id": "KiWQMX0Jdmnt",
        "colab": {
          "base_uri": "https://localhost:8080/",
          "height": 34
        },
        "outputId": "3e8dac26-b6f6-4c87-c8c3-01caa431ac93"
      },
      "source": [
        "recall_score(clases_test, clases_predict, average=None, zero_division=1)"
      ],
      "execution_count": null,
      "outputs": [
        {
          "output_type": "execute_result",
          "data": {
            "text/plain": [
              "array([1.        , 0.46451613])"
            ]
          },
          "metadata": {
            "tags": []
          },
          "execution_count": 28
        }
      ]
    },
    {
      "cell_type": "code",
      "metadata": {
        "id": "62DQbR6PVOmM"
      },
      "source": [
        "# De todo lo que en el dataset realmente es ham capture el 100% | \n",
        "# de todo lo que en el dataset es spam logre capturar solo el 51% "
      ],
      "execution_count": null,
      "outputs": []
    }
  ]
}