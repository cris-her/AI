{
  "nbformat": 4,
  "nbformat_minor": 0,
  "metadata": {
    "kernelspec": {
      "display_name": "Python 3",
      "language": "python",
      "name": "python3"
    },
    "language_info": {
      "codemirror_mode": {
        "name": "ipython",
        "version": 3
      },
      "file_extension": ".py",
      "mimetype": "text/x-python",
      "name": "python",
      "nbconvert_exporter": "python",
      "pygments_lexer": "ipython3",
      "version": "3.6.0"
    },
    "latex_envs": {
      "LaTeX_envs_menu_present": true,
      "autocomplete": true,
      "bibliofile": "biblio.bib",
      "cite_by": "apalike",
      "current_citInitial": 1,
      "eqLabelWithNumbers": true,
      "eqNumInitial": 1,
      "hotkeys": {
        "equation": "Ctrl-E",
        "itemize": "Ctrl-I"
      },
      "labels_anchors": false,
      "latex_user_defs": false,
      "report_style_numbering": false,
      "user_envs_cfg": false
    },
    "colab": {
      "name": "gradient_boosting_01.ipynb",
      "provenance": [],
      "include_colab_link": true
    }
  },
  "cells": [
    {
      "cell_type": "markdown",
      "metadata": {
        "id": "view-in-github",
        "colab_type": "text"
      },
      "source": [
        "<a href=\"https://colab.research.google.com/github/cris-her/AI/blob/master/gradient_boosting_01.ipynb\" target=\"_parent\"><img src=\"https://colab.research.google.com/assets/colab-badge.svg\" alt=\"Open In Colab\"/></a>"
      ]
    },
    {
      "cell_type": "code",
      "metadata": {
        "id": "qktljd2h0z2A"
      },
      "source": [
        "import warnings\n",
        "warnings.simplefilter(\"ignore\")"
      ],
      "execution_count": 1,
      "outputs": []
    },
    {
      "cell_type": "code",
      "metadata": {
        "id": "q0yW-5-P0z2B"
      },
      "source": [
        "%matplotlib inline\n",
        "import numpy as np\n",
        "import pandas as pd\n",
        "import matplotlib.pyplot as plt"
      ],
      "execution_count": 2,
      "outputs": []
    },
    {
      "cell_type": "code",
      "metadata": {
        "id": "l7KV2Oza_FGn"
      },
      "source": [
        "X = pd.read_csv('https://raw.githubusercontent.com/cris-her/datasets-platzi-course/master/intermediate_results/X_opening.csv')\n",
        "y = X['worldwide_gross']\n",
        "X = X.drop('worldwide_gross',axis=1)"
      ],
      "execution_count": 3,
      "outputs": []
    },
    {
      "cell_type": "markdown",
      "metadata": {
        "id": "-4n8yafQ0z2E"
      },
      "source": [
        "## Gradient Boosted Trees"
      ]
    },
    {
      "cell_type": "code",
      "metadata": {
        "id": "6UyrsIHW0z2E"
      },
      "source": [
        "from sklearn.ensemble import GradientBoostingRegressor\n",
        "from sklearn.model_selection import cross_validate\n",
        "\n",
        "ensemble = GradientBoostingRegressor()\n",
        "results = cross_validate(ensemble,X,y,cv=5,scoring='r2')"
      ],
      "execution_count": 4,
      "outputs": []
    },
    {
      "cell_type": "code",
      "metadata": {
        "id": "zq3UHPlG0z2F",
        "colab": {
          "base_uri": "https://localhost:8080/"
        },
        "outputId": "00ad8d7a-0c36-44b4-f620-751c00f0efc8"
      },
      "source": [
        "test_scores = results['test_score']\n",
        "#train_scores = results['train_score']\n",
        "#print(np.mean(train_scores))\n",
        "print(np.mean(test_scores))"
      ],
      "execution_count": 5,
      "outputs": [
        {
          "output_type": "stream",
          "text": [
            "0.5231662496725721\n"
          ],
          "name": "stdout"
        }
      ]
    },
    {
      "cell_type": "markdown",
      "metadata": {
        "id": "fNg-Hfz80z2F"
      },
      "source": [
        "Cómo optimizamos los parametros de este último modelo?"
      ]
    },
    {
      "cell_type": "markdown",
      "metadata": {
        "id": "K0nt9oCj0z2F"
      },
      "source": [
        "## Optimización de hiperparametros"
      ]
    },
    {
      "cell_type": "markdown",
      "metadata": {
        "id": "Wn3Pdfah0z2F"
      },
      "source": [
        "- Fijar un learning rate alto\n",
        "- Fijar parametros de los arboles\n",
        "- Fijados estos parametros, elegir el mejor numero de estimadores que conforman el ensemble\n",
        "- (Tarea) Con el learning rate dado y el numero de estimadores óptimo, optimizar los parametros de los arboles"
      ]
    },
    {
      "cell_type": "markdown",
      "metadata": {
        "id": "VJ_SEaO50z2F"
      },
      "source": [
        "**Grid Search**"
      ]
    },
    {
      "cell_type": "markdown",
      "metadata": {
        "id": "lgtyFRR00z2F"
      },
      "source": [
        "Por ahora dijimos que:\n",
        "    \n",
        "- train_test_split servia para evaluaciones rapidas, testeos y prototipaje\n",
        "- cross_validate es un método más robusto para poder estimar el rendimiento de tu algoritmo\n",
        "\n",
        "Sin embargo una vez que hemos finalizado nuestra etapa de prototipaje y ya queremos establecer un modelo definitivo deberiamos seguir el flujo siguiente."
      ]
    },
    {
      "cell_type": "markdown",
      "metadata": {
        "id": "qHJLGyc10z2F"
      },
      "source": [
        "<img src=\"https://raw.githubusercontent.com/cris-her/machine-learning-platzi/master/img/grid_search_crossval.png\" width=700>"
      ]
    },
    {
      "cell_type": "code",
      "metadata": {
        "id": "issX9Uf90z2F"
      },
      "source": [
        "from sklearn.model_selection import train_test_split\n",
        "\n",
        "X_train, X_test, y_train, y_test = train_test_split(X,y,random_state=1)"
      ],
      "execution_count": 6,
      "outputs": []
    },
    {
      "cell_type": "code",
      "metadata": {
        "id": "dnAMl3Wv0z2F"
      },
      "source": [
        "from sklearn.model_selection import GridSearchCV\n",
        "\n",
        "param_test1 = {'n_estimators': range(20,501,20)}"
      ],
      "execution_count": 7,
      "outputs": []
    },
    {
      "cell_type": "code",
      "metadata": {
        "id": "l6ILYPyR0z2F",
        "colab": {
          "base_uri": "https://localhost:8080/"
        },
        "outputId": "42b3807e-80ca-4384-8ddf-b590adba3c4e"
      },
      "source": [
        "list(param_test1['n_estimators'])"
      ],
      "execution_count": 8,
      "outputs": [
        {
          "output_type": "execute_result",
          "data": {
            "text/plain": [
              "[20,\n",
              " 40,\n",
              " 60,\n",
              " 80,\n",
              " 100,\n",
              " 120,\n",
              " 140,\n",
              " 160,\n",
              " 180,\n",
              " 200,\n",
              " 220,\n",
              " 240,\n",
              " 260,\n",
              " 280,\n",
              " 300,\n",
              " 320,\n",
              " 340,\n",
              " 360,\n",
              " 380,\n",
              " 400,\n",
              " 420,\n",
              " 440,\n",
              " 460,\n",
              " 480,\n",
              " 500]"
            ]
          },
          "metadata": {
            "tags": []
          },
          "execution_count": 8
        }
      ]
    },
    {
      "cell_type": "code",
      "metadata": {
        "id": "YQEhB3tk0z2F"
      },
      "source": [
        "estimator = GradientBoostingRegressor(learning_rate=0.1,\n",
        "                                     min_samples_split=500,\n",
        "                                     min_samples_leaf=50,\n",
        "                                     max_depth=8,\n",
        "                                     max_features='sqrt',\n",
        "                                     subsample=0.8,\n",
        "                                     random_state=10)"
      ],
      "execution_count": 9,
      "outputs": []
    },
    {
      "cell_type": "code",
      "metadata": {
        "scrolled": false,
        "id": "akwRfm9R0z2F"
      },
      "source": [
        "gsearch1 = GridSearchCV(estimator,\n",
        "                       param_grid = param_test1,\n",
        "                       scoring='r2',\n",
        "                       cv=5)"
      ],
      "execution_count": 10,
      "outputs": []
    },
    {
      "cell_type": "code",
      "metadata": {
        "id": "TgOFdqSh0z2F",
        "colab": {
          "base_uri": "https://localhost:8080/"
        },
        "outputId": "69114446-90d1-4613-e89c-f52d80560256"
      },
      "source": [
        "gsearch1.fit(X_train,y_train)"
      ],
      "execution_count": 11,
      "outputs": [
        {
          "output_type": "execute_result",
          "data": {
            "text/plain": [
              "GridSearchCV(cv=5, error_score=nan,\n",
              "             estimator=GradientBoostingRegressor(alpha=0.9, ccp_alpha=0.0,\n",
              "                                                 criterion='friedman_mse',\n",
              "                                                 init=None, learning_rate=0.1,\n",
              "                                                 loss='ls', max_depth=8,\n",
              "                                                 max_features='sqrt',\n",
              "                                                 max_leaf_nodes=None,\n",
              "                                                 min_impurity_decrease=0.0,\n",
              "                                                 min_impurity_split=None,\n",
              "                                                 min_samples_leaf=50,\n",
              "                                                 min_samples_split=500,\n",
              "                                                 min_weight_fraction_leaf=0.0,\n",
              "                                                 n_estimators=100,\n",
              "                                                 n_iter_no_change=None,\n",
              "                                                 presort='deprecated',\n",
              "                                                 random_state=10, subsample=0.8,\n",
              "                                                 tol=0.0001,\n",
              "                                                 validation_fraction=0.1,\n",
              "                                                 verbose=0, warm_start=False),\n",
              "             iid='deprecated', n_jobs=None,\n",
              "             param_grid={'n_estimators': range(20, 501, 20)},\n",
              "             pre_dispatch='2*n_jobs', refit=True, return_train_score=False,\n",
              "             scoring='r2', verbose=0)"
            ]
          },
          "metadata": {
            "tags": []
          },
          "execution_count": 11
        }
      ]
    },
    {
      "cell_type": "code",
      "metadata": {
        "id": "qvD0zNpC0z2F",
        "colab": {
          "base_uri": "https://localhost:8080/"
        },
        "outputId": "b9bae4a9-31fa-42f9-ed26-96fc41d54f2c"
      },
      "source": [
        "gsearch1.cv_results_, gsearch1.best_params_, gsearch1.best_score_"
      ],
      "execution_count": 12,
      "outputs": [
        {
          "output_type": "execute_result",
          "data": {
            "text/plain": [
              "({'mean_fit_time': array([0.02890449, 0.05406265, 0.08080063, 0.11004753, 0.13504181,\n",
              "         0.16003218, 0.18966436, 0.21482196, 0.24103608, 0.2692225 ,\n",
              "         0.30340309, 0.32663245, 0.35684147, 0.38757143, 0.40976191,\n",
              "         0.44128838, 0.47087436, 0.49716163, 0.52265892, 0.56014495,\n",
              "         0.58686309, 0.62073998, 0.64571075, 0.67361197, 0.69332862]),\n",
              "  'mean_score_time': array([0.00150294, 0.00166564, 0.00179734, 0.00210733, 0.00216675,\n",
              "         0.00228114, 0.00253778, 0.00262918, 0.00279889, 0.00292892,\n",
              "         0.00326095, 0.00331416, 0.00345984, 0.00387669, 0.0037168 ,\n",
              "         0.00391922, 0.00437102, 0.00426006, 0.00437279, 0.0046391 ,\n",
              "         0.00540552, 0.00488133, 0.00507827, 0.00540609, 0.00536194]),\n",
              "  'mean_test_score': array([0.65533772, 0.71947072, 0.73472393, 0.73893391, 0.74204852,\n",
              "         0.74593224, 0.74954068, 0.75081976, 0.75256545, 0.7534906 ,\n",
              "         0.75456927, 0.75530597, 0.75517149, 0.75388522, 0.75460231,\n",
              "         0.75250064, 0.75350086, 0.75354341, 0.75258576, 0.75254213,\n",
              "         0.75185592, 0.75205363, 0.7515657 , 0.75050616, 0.75096087]),\n",
              "  'param_n_estimators': masked_array(data=[20, 40, 60, 80, 100, 120, 140, 160, 180, 200, 220, 240,\n",
              "                     260, 280, 300, 320, 340, 360, 380, 400, 420, 440, 460,\n",
              "                     480, 500],\n",
              "               mask=[False, False, False, False, False, False, False, False,\n",
              "                     False, False, False, False, False, False, False, False,\n",
              "                     False, False, False, False, False, False, False, False,\n",
              "                     False],\n",
              "         fill_value='?',\n",
              "              dtype=object),\n",
              "  'params': [{'n_estimators': 20},\n",
              "   {'n_estimators': 40},\n",
              "   {'n_estimators': 60},\n",
              "   {'n_estimators': 80},\n",
              "   {'n_estimators': 100},\n",
              "   {'n_estimators': 120},\n",
              "   {'n_estimators': 140},\n",
              "   {'n_estimators': 160},\n",
              "   {'n_estimators': 180},\n",
              "   {'n_estimators': 200},\n",
              "   {'n_estimators': 220},\n",
              "   {'n_estimators': 240},\n",
              "   {'n_estimators': 260},\n",
              "   {'n_estimators': 280},\n",
              "   {'n_estimators': 300},\n",
              "   {'n_estimators': 320},\n",
              "   {'n_estimators': 340},\n",
              "   {'n_estimators': 360},\n",
              "   {'n_estimators': 380},\n",
              "   {'n_estimators': 400},\n",
              "   {'n_estimators': 420},\n",
              "   {'n_estimators': 440},\n",
              "   {'n_estimators': 460},\n",
              "   {'n_estimators': 480},\n",
              "   {'n_estimators': 500}],\n",
              "  'rank_test_score': array([25, 24, 23, 22, 21, 20, 19, 17, 10,  8,  4,  1,  2,  5,  3, 12,  7,\n",
              "          6,  9, 11, 14, 13, 15, 18, 16], dtype=int32),\n",
              "  'split0_test_score': array([0.59752767, 0.66318962, 0.67799512, 0.68736261, 0.69407451,\n",
              "         0.69644295, 0.6990422 , 0.70000709, 0.70023325, 0.70254159,\n",
              "         0.7033932 , 0.70503564, 0.70421407, 0.70477118, 0.70456304,\n",
              "         0.70347179, 0.70591254, 0.70615844, 0.70549909, 0.70619335,\n",
              "         0.70641191, 0.70607005, 0.70488541, 0.70509459, 0.70606468]),\n",
              "  'split1_test_score': array([0.57597423, 0.62900787, 0.6424323 , 0.6465455 , 0.64650036,\n",
              "         0.65232314, 0.65522014, 0.65782511, 0.66077851, 0.66012628,\n",
              "         0.66283287, 0.66126336, 0.66186604, 0.66187646, 0.6613415 ,\n",
              "         0.6605033 , 0.66076393, 0.65800964, 0.65866955, 0.66006482,\n",
              "         0.65823844, 0.6586208 , 0.65890922, 0.65966929, 0.65999987]),\n",
              "  'split2_test_score': array([0.69278935, 0.76455418, 0.79716124, 0.79952293, 0.8100557 ,\n",
              "         0.81563534, 0.82510917, 0.82877848, 0.83334094, 0.83862217,\n",
              "         0.83775255, 0.84330169, 0.84772515, 0.8472231 , 0.84801138,\n",
              "         0.84870529, 0.84767823, 0.84913507, 0.84686398, 0.84695479,\n",
              "         0.84565689, 0.84729161, 0.844779  , 0.84384346, 0.84377605]),\n",
              "  'split3_test_score': array([0.72244447, 0.79285729, 0.79853015, 0.80412714, 0.79927652,\n",
              "         0.80102727, 0.80015696, 0.79786914, 0.79888451, 0.7983842 ,\n",
              "         0.79802751, 0.79674271, 0.79499869, 0.79126377, 0.79374111,\n",
              "         0.78697492, 0.78826422, 0.78952796, 0.7897137 , 0.78747139,\n",
              "         0.78725182, 0.78608141, 0.78645988, 0.78257718, 0.78215173]),\n",
              "  'split4_test_score': array([0.68795286, 0.74774462, 0.75750081, 0.75711135, 0.76033551,\n",
              "         0.76423249, 0.76817491, 0.76961897, 0.76959007, 0.76777876,\n",
              "         0.77084024, 0.77018645, 0.76705348, 0.76429162, 0.76535454,\n",
              "         0.76284789, 0.76488536, 0.76488593, 0.76218244, 0.76202628,\n",
              "         0.76172054, 0.76220427, 0.76279499, 0.76134627, 0.76281201]),\n",
              "  'std_fit_time': array([0.00451549, 0.00249875, 0.00444133, 0.00439179, 0.00380243,\n",
              "         0.00155855, 0.0020932 , 0.00053683, 0.00367745, 0.00846156,\n",
              "         0.00627376, 0.00582027, 0.0053697 , 0.00850825, 0.00736503,\n",
              "         0.00650231, 0.00675083, 0.00974471, 0.00542556, 0.01773497,\n",
              "         0.01245721, 0.02298505, 0.01291562, 0.01303978, 0.00744879]),\n",
              "  'std_score_time': array([9.15042182e-05, 1.45567646e-04, 3.99385209e-05, 1.88123071e-04,\n",
              "         1.15107048e-04, 7.31337323e-05, 1.07940746e-04, 2.70335971e-05,\n",
              "         1.69490398e-04, 6.65298747e-05, 2.18870053e-04, 6.35013194e-05,\n",
              "         4.13444490e-05, 5.40639076e-04, 3.41485325e-05, 7.18746568e-05,\n",
              "         1.80071389e-04, 7.55718451e-05, 9.92851685e-05, 1.15062931e-04,\n",
              "         9.15451066e-04, 5.98400047e-05, 8.82914443e-05, 2.30271739e-04,\n",
              "         3.99157420e-05]),\n",
              "  'std_test_score': array([0.05763723, 0.06255975, 0.06359928, 0.06236477, 0.06271426,\n",
              "         0.06235501, 0.0633503 , 0.06304688, 0.06344048, 0.06446653,\n",
              "         0.06341511, 0.06488882, 0.06572082, 0.06495415, 0.06568747,\n",
              "         0.06544955, 0.06491881, 0.06623193, 0.06541616, 0.06469005,\n",
              "         0.06477375, 0.06507746, 0.06449293, 0.06351607, 0.06327329])},\n",
              " {'n_estimators': 240},\n",
              " 0.7553059694284988)"
            ]
          },
          "metadata": {
            "tags": []
          },
          "execution_count": 12
        }
      ]
    },
    {
      "cell_type": "code",
      "metadata": {
        "id": "_CB4Fulo0z2G"
      },
      "source": [
        "final_results = cross_validate(gsearch1.best_estimator_,X_train,y_train)"
      ],
      "execution_count": 13,
      "outputs": []
    },
    {
      "cell_type": "code",
      "metadata": {
        "id": "7LHz_0N10z2G",
        "colab": {
          "base_uri": "https://localhost:8080/"
        },
        "outputId": "40b5e7e8-43b0-473e-8f30-4a3d8d37ddf4"
      },
      "source": [
        "test_scores = final_results['test_score']\n",
        "#train_scores = final_results['train_score']\n",
        "#print(np.mean(train_scores))\n",
        "print(np.mean(test_scores))"
      ],
      "execution_count": 14,
      "outputs": [
        {
          "output_type": "stream",
          "text": [
            "0.7553059694284988\n"
          ],
          "name": "stdout"
        }
      ]
    },
    {
      "cell_type": "code",
      "metadata": {
        "id": "y-6IR8eW0z2G"
      },
      "source": [
        "estimator = GradientBoostingRegressor(learning_rate=0.1,\n",
        "                                     min_samples_split=500,\n",
        "                                     min_samples_leaf=50,\n",
        "                                     max_depth=8,\n",
        "                                     max_features='sqrt',\n",
        "                                     subsample=0.8,\n",
        "                                     random_state=10,\n",
        "                                     n_estimators=240)"
      ],
      "execution_count": 15,
      "outputs": []
    },
    {
      "cell_type": "code",
      "metadata": {
        "id": "hiSk031q0z2G",
        "colab": {
          "base_uri": "https://localhost:8080/"
        },
        "outputId": "dd53f3df-5d32-47f2-b7af-b7144755140b"
      },
      "source": [
        "estimator.fit(X_train,y_train)"
      ],
      "execution_count": 16,
      "outputs": [
        {
          "output_type": "execute_result",
          "data": {
            "text/plain": [
              "GradientBoostingRegressor(alpha=0.9, ccp_alpha=0.0, criterion='friedman_mse',\n",
              "                          init=None, learning_rate=0.1, loss='ls', max_depth=8,\n",
              "                          max_features='sqrt', max_leaf_nodes=None,\n",
              "                          min_impurity_decrease=0.0, min_impurity_split=None,\n",
              "                          min_samples_leaf=50, min_samples_split=500,\n",
              "                          min_weight_fraction_leaf=0.0, n_estimators=240,\n",
              "                          n_iter_no_change=None, presort='deprecated',\n",
              "                          random_state=10, subsample=0.8, tol=0.0001,\n",
              "                          validation_fraction=0.1, verbose=0, warm_start=False)"
            ]
          },
          "metadata": {
            "tags": []
          },
          "execution_count": 16
        }
      ]
    },
    {
      "cell_type": "code",
      "metadata": {
        "id": "oAY-xh-m0z2G",
        "colab": {
          "base_uri": "https://localhost:8080/"
        },
        "outputId": "2a5682ad-f76f-426f-9a7f-6dfb1e2af295"
      },
      "source": [
        "estimator.score(X_test,y_test)"
      ],
      "execution_count": 17,
      "outputs": [
        {
          "output_type": "execute_result",
          "data": {
            "text/plain": [
              "0.8092888852563106"
            ]
          },
          "metadata": {
            "tags": []
          },
          "execution_count": 17
        }
      ]
    },
    {
      "cell_type": "markdown",
      "metadata": {
        "id": "c-_sRSYI0z2G"
      },
      "source": [
        "## Reflexiones de cierre"
      ]
    },
    {
      "cell_type": "markdown",
      "metadata": {
        "id": "b9FbJFNu0z2G"
      },
      "source": [
        "**Recursos**\n",
        "\n",
        "- Reddit /machinelearning y /learnmachinelearning\n",
        "- Analytics Vidhya y KD Nuggets\n",
        "- Kaggle.com y \"There is no Free Hunch\" Blog\n",
        "- Arxiv, papers\n",
        "- Libros: \"Pattern Recognition and Machine Learning\" C.Bishop y \"Elements of Statistical Learning\".\n",
        "\n",
        "**Próximos pasos**\n",
        "\n",
        "- Matemáticas\n",
        "- Praxis: Feature Engineering, Model Selection y Tuning\n",
        "- Deep Learning para NLP y Computer Vision\n",
        "- Machine Learning Bayesiano"
      ]
    }
  ]
}