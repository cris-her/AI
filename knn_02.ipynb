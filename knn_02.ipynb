{
  "nbformat": 4,
  "nbformat_minor": 0,
  "metadata": {
    "colab": {
      "name": "knn_02.ipynb",
      "provenance": [],
      "authorship_tag": "ABX9TyNsRb/VF5kEw3STS7zEjlew",
      "include_colab_link": true
    },
    "kernelspec": {
      "name": "python3",
      "display_name": "Python 3"
    }
  },
  "cells": [
    {
      "cell_type": "markdown",
      "metadata": {
        "id": "view-in-github",
        "colab_type": "text"
      },
      "source": [
        "<a href=\"https://colab.research.google.com/github/cris-her/AI/blob/master/knn_02.ipynb\" target=\"_parent\"><img src=\"https://colab.research.google.com/assets/colab-badge.svg\" alt=\"Open In Colab\"/></a>"
      ]
    },
    {
      "cell_type": "markdown",
      "metadata": {
        "id": "iPN-jZQJ71XE"
      },
      "source": [
        "*Métodos de ensambre (dos estrategias)*\n",
        "\n",
        "Bootstrap Aggregation (Bagging)\n",
        "- Random Forest\n",
        "- Voting Classifiers/Regressors\n",
        "- Cualquier familia de modelos de ML\n",
        "\n",
        "Boosting\n",
        "- AdaBoost\n",
        "- Gradient Tree Boosting\n",
        "- XGBoost"
      ]
    },
    {
      "cell_type": "code",
      "metadata": {
        "id": "S91ilQsHipGk"
      },
      "source": [
        "import pandas as pd\n",
        "\n",
        "from sklearn.neighbors import KNeighborsClassifier\n",
        "from sklearn.ensemble import BaggingClassifier\n",
        "\n",
        "from sklearn.model_selection import train_test_split\n",
        "from sklearn.metrics import accuracy_score"
      ],
      "execution_count": 1,
      "outputs": []
    },
    {
      "cell_type": "code",
      "metadata": {
        "colab": {
          "base_uri": "https://localhost:8080/"
        },
        "id": "Mc_JJWqgjDDc",
        "outputId": "8ca639fb-c122-4d43-b789-d1ecdb1c53f1"
      },
      "source": [
        "dt_heart = pd.read_csv('https://raw.githubusercontent.com/cris-her/AI/master/heart.csv')\n",
        "print(dt_heart['target'].describe())"
      ],
      "execution_count": 2,
      "outputs": [
        {
          "output_type": "stream",
          "text": [
            "count    1025.000000\n",
            "mean        0.513171\n",
            "std         0.500070\n",
            "min         0.000000\n",
            "25%         0.000000\n",
            "50%         1.000000\n",
            "75%         1.000000\n",
            "max         1.000000\n",
            "Name: target, dtype: float64\n"
          ],
          "name": "stdout"
        }
      ]
    },
    {
      "cell_type": "code",
      "metadata": {
        "id": "3Vq3gzc6jDBI"
      },
      "source": [
        "X = dt_heart.drop(['target'], axis=1)\n",
        "y = dt_heart['target']\n",
        "\n",
        "X_train, X_test, y_train, y_test = train_test_split(X,y,test_size=0.35)"
      ],
      "execution_count": 3,
      "outputs": []
    },
    {
      "cell_type": "code",
      "metadata": {
        "colab": {
          "base_uri": "https://localhost:8080/"
        },
        "id": "yqJ5X_rPjC9x",
        "outputId": "efce7261-720a-47db-a3b3-127c1ff3acb5"
      },
      "source": [
        "knn_class = KNeighborsClassifier().fit(X_train, y_train)\n",
        "knn_pred = knn_class.predict(X_test)\n",
        "print(\"=\"*64)\n",
        "print(accuracy_score(knn_pred, y_test))"
      ],
      "execution_count": 4,
      "outputs": [
        {
          "output_type": "stream",
          "text": [
            "================================================================\n",
            "0.7158774373259053\n"
          ],
          "name": "stdout"
        }
      ]
    },
    {
      "cell_type": "code",
      "metadata": {
        "colab": {
          "base_uri": "https://localhost:8080/"
        },
        "id": "gq39cVKhjfwE",
        "outputId": "c14b3be5-5bea-4fff-a063-769fa342fd44"
      },
      "source": [
        "bag_class = BaggingClassifier(base_estimator=KNeighborsClassifier(), n_estimators=50).fit(X_train, y_train)\n",
        "bag_pred = bag_class.predict(X_test)\n",
        "print(\"=\"*64)\n",
        "print(accuracy_score(bag_pred, y_test))"
      ],
      "execution_count": 6,
      "outputs": [
        {
          "output_type": "stream",
          "text": [
            "================================================================\n",
            "0.7688022284122563\n"
          ],
          "name": "stdout"
        }
      ]
    }
  ]
}