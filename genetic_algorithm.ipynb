{
  "nbformat": 4,
  "nbformat_minor": 0,
  "metadata": {
    "colab": {
      "name": "genetic_algorithm.ipynb",
      "provenance": [],
      "authorship_tag": "ABX9TyNu2MBfcQcM/3BmQMlPXkBf",
      "include_colab_link": true
    },
    "kernelspec": {
      "name": "python3",
      "display_name": "Python 3"
    }
  },
  "cells": [
    {
      "cell_type": "markdown",
      "metadata": {
        "id": "view-in-github",
        "colab_type": "text"
      },
      "source": [
        "<a href=\"https://colab.research.google.com/github/cris-her/AI/blob/master/genetic_algorithm.ipynb\" target=\"_parent\"><img src=\"https://colab.research.google.com/assets/colab-badge.svg\" alt=\"Open In Colab\"/></a>"
      ]
    },
    {
      "cell_type": "markdown",
      "metadata": {
        "id": "YdHDJlJfJp9g"
      },
      "source": [
        "Pueden emplearse diferentes criterios para clasificar los sistemas de minería de datos y, en general, los sistemas de aprendizaje inductivo en ordenadores:\n",
        "\n",
        "* Dependiendo del objetivo para el que se realiza el aprendizaje ( [Fayyad et al., 96b] ), pueden distinguirse sistemas para: clasificación (clasificar datos en clases predefinidas), regresión (función que convierte datos en valores de una función de predicción), agrupamiento de conceptos (búsqueda de conjuntos en los que agrupar los datos), compactación (búsqueda de descripciones más compactas de los datos), modelado de dependencias (dependencias entre las variables de los datos), detección de desviaciones (búsqueda de desviaciones importantes de los datos respecto de valores anteriores o medios), etc.\n",
        "\n",
        "* Dependiendo de la tendencia con que se aborde el problema, se pueden distinguir tres grandes líneas de investigación o paradigmas: sistemas conexionistas (redes neuronales), sistemas evolucionistas (algoritmos genéticos) y sistemas simbólicos.\n",
        "\n",
        "* Dependiendo del lenguaje utilizado para representar del conocimiento, se pueden distinguir: representaciones basadas en la lógica de proposiciones, representaciones basadas en lógica de predicados de primer orden, representaciones estructuradas, representaciones a través de ejemplos y representaciones no simbólicas como las redes neuronales."
      ]
    },
    {
      "cell_type": "code",
      "metadata": {
        "id": "ZoboxMmKKSil"
      },
      "source": [
        "import random"
      ],
      "execution_count": 1,
      "outputs": []
    },
    {
      "cell_type": "code",
      "metadata": {
        "colab": {
          "base_uri": "https://localhost:8080/"
        },
        "id": "3_nSbZchQCF-",
        "outputId": "fc396c8a-9ce9-475d-d6b4-ac468137df12"
      },
      "source": [
        "model = [1, 1, 1, 1, 1, 1, 1, 1, 1, 1]\n",
        "large = 10\n",
        "num = 10\n",
        "# numero de individuos que se usarán para la selección. Minimo 2\n",
        "pressure = 3\n",
        "# 20% de probabilidad de que haya una mutación.\n",
        "mutation_chance = 0.2\n",
        "\n",
        "print(\"\\nModelo: %s\\n\" % (model))"
      ],
      "execution_count": 2,
      "outputs": [
        {
          "output_type": "stream",
          "text": [
            "\n",
            "Modelo: [1, 1, 1, 1, 1, 1, 1, 1, 1, 1]\n",
            "\n"
          ],
          "name": "stdout"
        }
      ]
    },
    {
      "cell_type": "code",
      "metadata": {
        "id": "khPJbQJHQCQv"
      },
      "source": [
        "def individual(min, max):\n",
        "    return [random.randint(min, max) for i in range(large)]"
      ],
      "execution_count": 3,
      "outputs": []
    },
    {
      "cell_type": "code",
      "metadata": {
        "id": "92zQu0TOQCXN"
      },
      "source": [
        "def createPopulation():\n",
        "    return [individual(1, 9) for i in range(num)]"
      ],
      "execution_count": 4,
      "outputs": []
    },
    {
      "cell_type": "code",
      "metadata": {
        "id": "J0_sWXoYQCcY"
      },
      "source": [
        "def calculateFitness(individual):\n",
        "    fitness = 0\n",
        "    for i in range(len(individual)):\n",
        "        if individual[i] == model[i]:\n",
        "            fitness += 1\n",
        "    return fitness"
      ],
      "execution_count": 5,
      "outputs": []
    },
    {
      "cell_type": "code",
      "metadata": {
        "id": "dSZk5EloQChT"
      },
      "source": [
        "def selectionAndReproduction(population):\n",
        "    punctuated = [(calculateFitness(i), i) for i in population]\n",
        "    punctuated = [i[1] for i in sorted(punctuated)]\n",
        "    population = punctuated\n",
        "\n",
        "    selected = punctuated[(len(punctuated)-pressure):]\n",
        "\n",
        "    for i in range(len(population)-pressure):\n",
        "        point = random.randint(1, large-1)\n",
        "        parent = random.sample(selected, 2)\n",
        "\n",
        "        population[i][:point] = parent[0][:point]\n",
        "        population[i][point:] = parent[1][point:]\n",
        "\n",
        "    return population"
      ],
      "execution_count": 6,
      "outputs": []
    },
    {
      "cell_type": "code",
      "metadata": {
        "id": "zPU1lo7uQCmn"
      },
      "source": [
        "def mutation(population):\n",
        "    for i in range(len(population)-pressure):\n",
        "        if random.random() <= mutation_chance:\n",
        "            point = random.randint(0, large-1)\n",
        "            new_value = random.randint(1, 9)\n",
        "\n",
        "            while new_value == population[i][point]:\n",
        "                new_value = random.randint(1, 9)\n",
        "\n",
        "            population[i][point] = new_value\n",
        "\n",
        "    return population"
      ],
      "execution_count": 7,
      "outputs": []
    },
    {
      "cell_type": "code",
      "metadata": {
        "colab": {
          "base_uri": "https://localhost:8080/"
        },
        "id": "DhMvmKSyQi2A",
        "outputId": "a95cf60f-c9d4-49ea-c275-c6aa9aab3367"
      },
      "source": [
        "population = createPopulation()\n",
        "print(\"Población Inicial: \\n%s\" % (population))"
      ],
      "execution_count": 8,
      "outputs": [
        {
          "output_type": "stream",
          "text": [
            "Población Inicial: \n",
            "[[4, 7, 9, 5, 4, 4, 7, 9, 1, 3], [8, 1, 2, 5, 4, 2, 1, 2, 9, 8], [5, 7, 4, 4, 9, 7, 5, 2, 3, 1], [9, 9, 1, 6, 8, 6, 7, 4, 6, 1], [6, 2, 4, 7, 8, 5, 1, 1, 1, 1], [8, 6, 3, 1, 2, 5, 8, 4, 6, 2], [2, 2, 7, 9, 7, 5, 9, 9, 7, 6], [4, 2, 3, 4, 9, 7, 6, 9, 2, 6], [7, 8, 1, 7, 7, 7, 2, 6, 8, 4], [2, 2, 2, 7, 9, 7, 8, 1, 6, 2]]\n"
          ],
          "name": "stdout"
        }
      ]
    },
    {
      "cell_type": "code",
      "metadata": {
        "colab": {
          "base_uri": "https://localhost:8080/"
        },
        "id": "0dTkHFmzQCto",
        "outputId": "96ff077f-7e99-419c-d760-01f5c2f031b9"
      },
      "source": [
        "for i in range(100):\n",
        "    population = selectionAndReproduction(population)\n",
        "    population = mutation(population)\n",
        "print(\"\\nPoblación Final: \\n%s\" % (population))\n",
        "print(\"\\n\\n\")"
      ],
      "execution_count": 9,
      "outputs": [
        {
          "output_type": "stream",
          "text": [
            "\n",
            "Población Final: \n",
            "[[1, 1, 1, 9, 1, 9, 1, 1, 1, 1], [1, 1, 1, 9, 1, 9, 1, 1, 1, 1], [1, 1, 1, 9, 1, 9, 1, 1, 1, 1], [1, 1, 1, 9, 1, 9, 1, 1, 1, 1], [1, 1, 1, 9, 1, 9, 1, 1, 1, 1], [1, 3, 1, 9, 1, 9, 1, 1, 1, 1], [1, 1, 1, 9, 1, 9, 1, 1, 1, 1], [1, 1, 1, 9, 1, 9, 1, 1, 1, 1], [1, 1, 1, 9, 1, 9, 1, 1, 1, 1], [1, 1, 1, 9, 1, 9, 1, 1, 1, 1]]\n",
            "\n",
            "\n",
            "\n"
          ],
          "name": "stdout"
        }
      ]
    }
  ]
}