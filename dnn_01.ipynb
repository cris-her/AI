{
  "nbformat": 4,
  "nbformat_minor": 0,
  "metadata": {
    "colab": {
      "name": "dnn_01.ipynb",
      "provenance": [],
      "include_colab_link": true
    },
    "kernelspec": {
      "name": "python3",
      "display_name": "Python 3"
    }
  },
  "cells": [
    {
      "cell_type": "markdown",
      "metadata": {
        "id": "view-in-github",
        "colab_type": "text"
      },
      "source": [
        "<a href=\"https://colab.research.google.com/github/cris-her/AI/blob/master/dnn_01.ipynb\" target=\"_parent\"><img src=\"https://colab.research.google.com/assets/colab-badge.svg\" alt=\"Open In Colab\"/></a>"
      ]
    },
    {
      "cell_type": "code",
      "metadata": {
        "id": "-mQ4J4VKB1Eg"
      },
      "source": [
        "import torch\n",
        "import torch.nn as nn #neural networks\n",
        "import torch.optim as optim\n",
        "\n",
        "from torchvision import utils\n",
        "from torchvision import datasets\n",
        "from torchvision import transforms\n",
        "\n",
        "from PIL import Image\n",
        "import urllib.request as request\n",
        "from matplotlib import pyplot as plt"
      ],
      "execution_count": 1,
      "outputs": []
    },
    {
      "cell_type": "markdown",
      "metadata": {
        "id": "Ft7_0Yy9CTAw"
      },
      "source": [
        "# Construyendo un modelo"
      ]
    },
    {
      "cell_type": "code",
      "metadata": {
        "id": "3QRXBfcxChVA",
        "colab": {
          "base_uri": "https://localhost:8080/"
        },
        "outputId": "1e6181c3-cd71-4e29-9c95-c914a80ca81a"
      },
      "source": [
        "data_path = 'data/'\n",
        "\n",
        "full_data_set = datasets.CIFAR10(data_path, train=True, download=True,\n",
        "                                 transform = transforms.Compose(\n",
        "                                    [transforms.ToTensor(),\n",
        "                                    transforms.Normalize((0.4915, 0.4823, 0.4468), \n",
        "                                                         (0.2470, 0.2435, 0.2616))\n",
        "                                  ]))\n",
        "\n",
        "\n",
        "\n",
        "\n",
        "\n",
        "full_validation_set = datasets.CIFAR10(data_path, train=False, download=True, \n",
        "                                  transform = transforms.Compose(\n",
        "                                  [transforms.ToTensor(),\n",
        "                                  transforms.Normalize((0.4915, 0.4823, 0.4468), \n",
        "                                                       (0.2470, 0.2435, 0.2616))\n",
        "                                ]))"
      ],
      "execution_count": 2,
      "outputs": [
        {
          "output_type": "stream",
          "text": [
            "Files already downloaded and verified\n",
            "Files already downloaded and verified\n"
          ],
          "name": "stdout"
        }
      ]
    },
    {
      "cell_type": "code",
      "metadata": {
        "id": "vfCrA6kBCh99"
      },
      "source": [
        "# Vamos a usar un dataloader para cargar los datos en un tamaño de batch especifico\n",
        "size = 4\n",
        "dataloader = torch.utils.data.DataLoader(full_data_set, batch_size=size, shuffle = True, num_workers=2)"
      ],
      "execution_count": 3,
      "outputs": []
    },
    {
      "cell_type": "code",
      "metadata": {
        "id": "AbjchGtuCiBA",
        "colab": {
          "base_uri": "https://localhost:8080/"
        },
        "outputId": "4444dec8-a300-40ca-c097-e4d3c543da1f"
      },
      "source": [
        "len(full_data_set)"
      ],
      "execution_count": 4,
      "outputs": [
        {
          "output_type": "execute_result",
          "data": {
            "text/plain": [
              "50000"
            ]
          },
          "metadata": {
            "tags": []
          },
          "execution_count": 4
        }
      ]
    },
    {
      "cell_type": "code",
      "metadata": {
        "id": "9JUjfwm9EJLW",
        "colab": {
          "base_uri": "https://localhost:8080/"
        },
        "outputId": "0aa315bc-db4e-4720-9894-974310156010"
      },
      "source": [
        "len(full_validation_set)"
      ],
      "execution_count": 5,
      "outputs": [
        {
          "output_type": "execute_result",
          "data": {
            "text/plain": [
              "10000"
            ]
          },
          "metadata": {
            "tags": []
          },
          "execution_count": 5
        }
      ]
    },
    {
      "cell_type": "markdown",
      "metadata": {
        "id": "iiG3Fa_6EJRL"
      },
      "source": [
        "Vamos a crear un iterador sobre  el data loader para obtener las imagenes y las etiquetas"
      ]
    },
    {
      "cell_type": "code",
      "metadata": {
        "id": "hHFob_LnEJOl",
        "colab": {
          "base_uri": "https://localhost:8080/",
          "height": 226
        },
        "outputId": "7c7a3b6c-eb74-427f-ffb6-597e3013aaa7"
      },
      "source": [
        "data_iterator = iter(dataloader)\n",
        "imgs, labels = data_iterator.next()\n",
        "\n",
        "classes = ['plane','car','bird','cat','deer','dog','frog','horse','ship','truck']\n",
        "\n",
        "plt.imshow(utils.make_grid(imgs).permute(1, 2,0))\n",
        "\n",
        "for i in range(size):\n",
        "  print(classes[labels[i]])"
      ],
      "execution_count": 6,
      "outputs": [
        {
          "output_type": "stream",
          "text": [
            "Clipping input data to the valid range for imshow with RGB data ([0..1] for floats or [0..255] for integers).\n"
          ],
          "name": "stderr"
        },
        {
          "output_type": "stream",
          "text": [
            "dog\n",
            "truck\n",
            "truck\n",
            "ship\n"
          ],
          "name": "stdout"
        },
        {
          "output_type": "display_data",
          "data": {
            "image/png": "[encoded data removed]",
            "text/plain": [
              "<Figure size 432x288 with 1 Axes>"
            ]
          },
          "metadata": {
            "tags": [],
            "needs_background": "light"
          }
        }
      ]
    },
    {
      "cell_type": "markdown",
      "metadata": {
        "id": "Q3hf05QBEi1i"
      },
      "source": [
        "De todo este dataset nos vamos a quedar unicamente con dos clases: car (posicion 1) y cat (posicion 3), y vamos a crear un nuevo dataset "
      ]
    },
    {
      "cell_type": "code",
      "metadata": {
        "id": "MnwnmcCoEjrN"
      },
      "source": [
        "class_names = ['car', 'cat']\n",
        "\n",
        "label_map = {1: 0, 3: 1}\n",
        "\n",
        "data_set = [(img, label_map[label]) for img, label in full_data_set if label in [1,3]]\n",
        "validation_set = [(img, label_map[label]) for img, label in full_validation_set if label in [1,3]]"
      ],
      "execution_count": 7,
      "outputs": []
    },
    {
      "cell_type": "code",
      "metadata": {
        "id": "L3MYPOK1Ejup",
        "colab": {
          "base_uri": "https://localhost:8080/"
        },
        "outputId": "97261afc-c481-40a0-ab86-f90abd9cb0e8"
      },
      "source": [
        "img, label = data_set[20]\n",
        "img.shape"
      ],
      "execution_count": 8,
      "outputs": [
        {
          "output_type": "execute_result",
          "data": {
            "text/plain": [
              "torch.Size([3, 32, 32])"
            ]
          },
          "metadata": {
            "tags": []
          },
          "execution_count": 8
        }
      ]
    },
    {
      "cell_type": "markdown",
      "metadata": {
        "id": "HCB6iuDAEj0F"
      },
      "source": [
        "Vamos a crear un modelo basado en una transformacion lineal de 32 x 32 x 3, ya que estamos intentando realizar una red neuronal, debemos utilizar una funcion de activacion, arbitrariamente usaremos una tangente hiperbolica **tanH**, pero haremos varias pruebas para ver que nos funciona mejor, luego de tanH vamos a tener una salida que necesitamos sea un resultado de un clasificador binario."
      ]
    },
    {
      "cell_type": "code",
      "metadata": {
        "id": "O12vH_H_Ej5c"
      },
      "source": [
        "model = nn.Sequential(\n",
        "    nn.Linear(3 * 32 * 32, 512), \n",
        "    # dimension imagenes, numero de nodos de salidas de neuronas\n",
        "    nn.Tanh(),\n",
        "    nn.Linear(512, 2)\n",
        ")"
      ],
      "execution_count": 9,
      "outputs": []
    },
    {
      "cell_type": "markdown",
      "metadata": {
        "id": "k0spIhOaEj_A"
      },
      "source": [
        "El resultado final debe ser una probabilidad, por lo que puedo trabajar con el sigmoide o con softmax (vemos ejemplo)"
      ]
    },
    {
      "cell_type": "code",
      "metadata": {
        "id": "lyYhQBuwEj8u"
      },
      "source": [
        "def softmax(x):\n",
        "  return torch.exp(x) / torch.exp(x).sum()"
      ],
      "execution_count": 10,
      "outputs": []
    },
    {
      "cell_type": "code",
      "metadata": {
        "id": "x1CgViivEj3h"
      },
      "source": [
        "x = torch.tensor([1.0, 2.0, 3.0])"
      ],
      "execution_count": 11,
      "outputs": []
    },
    {
      "cell_type": "code",
      "metadata": {
        "id": "mzK1pIDhEjxQ",
        "colab": {
          "base_uri": "https://localhost:8080/"
        },
        "outputId": "99d83ac7-b8df-4af3-cf39-67b813a1ec0e"
      },
      "source": [
        "softmax(x).sum()\n",
        "# La suma de cada evaluacion nos da 1"
      ],
      "execution_count": 12,
      "outputs": [
        {
          "output_type": "execute_result",
          "data": {
            "text/plain": [
              "tensor(1.)"
            ]
          },
          "metadata": {
            "tags": []
          },
          "execution_count": 12
        }
      ]
    },
    {
      "cell_type": "markdown",
      "metadata": {
        "id": "I7mhLPyBHHlo"
      },
      "source": [
        "Agregamos al modelo la funcion softmax de pytorch"
      ]
    },
    {
      "cell_type": "code",
      "metadata": {
        "id": "eJBpeMzZHHgA"
      },
      "source": [
        "model = nn.Sequential(\n",
        "    nn.Linear(3 * 32 * 32, 512), \n",
        "    # dimension imagenes, numero de nodos de salidas de neuronas\n",
        "    nn.Tanh(),\n",
        "    nn.Linear(512, 2),\n",
        "    nn.Softmax(dim=1) # Usamos mas de una variable\n",
        ")"
      ],
      "execution_count": 13,
      "outputs": []
    },
    {
      "cell_type": "markdown",
      "metadata": {
        "id": "0pA5T4_GHH1m"
      },
      "source": [
        "Aplicamos el modelo a la imagen 20 del dataset"
      ]
    },
    {
      "cell_type": "code",
      "metadata": {
        "id": "NEgj6sAIHHz5",
        "colab": {
          "base_uri": "https://localhost:8080/",
          "height": 302
        },
        "outputId": "ebba9fff-1372-4e49-f7b2-1071bc9c3294"
      },
      "source": [
        "img, label = data_set[20]\n",
        "plt.imshow(img.permute(1, 2, 0))\n",
        "print(f'this image is a {class_names[label]}')"
      ],
      "execution_count": 14,
      "outputs": [
        {
          "output_type": "stream",
          "text": [
            "Clipping input data to the valid range for imshow with RGB data ([0..1] for floats or [0..255] for integers).\n"
          ],
          "name": "stderr"
        },
        {
          "output_type": "stream",
          "text": [
            "this image is a car\n"
          ],
          "name": "stdout"
        },
        {
          "output_type": "display_data",
          "data": {
            "image/png": "[encoded data removed]",
            "text/plain": [
              "<Figure size 432x288 with 1 Axes>"
            ]
          },
          "metadata": {
            "tags": [],
            "needs_background": "light"
          }
        }
      ]
    },
    {
      "cell_type": "code",
      "metadata": {
        "id": "Vcnl6W1ZHHx1",
        "colab": {
          "base_uri": "https://localhost:8080/"
        },
        "outputId": "43639b0f-db0b-467d-ab54-84256fba3776"
      },
      "source": [
        "out =model(img.view(-1).unsqueeze(0))\n",
        "out"
      ],
      "execution_count": 15,
      "outputs": [
        {
          "output_type": "execute_result",
          "data": {
            "text/plain": [
              "tensor([[0.5701, 0.4299]], grad_fn=<SoftmaxBackward>)"
            ]
          },
          "metadata": {
            "tags": []
          },
          "execution_count": 15
        }
      ]
    },
    {
      "cell_type": "markdown",
      "metadata": {
        "id": "czJLln5LHHpK"
      },
      "source": [
        "Obtenemos la posicion del indice con torch.max() en el dataset para la prediccion"
      ]
    },
    {
      "cell_type": "code",
      "metadata": {
        "id": "h-fUT4gJHHuG",
        "colab": {
          "base_uri": "https://localhost:8080/"
        },
        "outputId": "5697bdab-2dce-498c-ea18-277aeb6f81bb"
      },
      "source": [
        "_, index = torch.max(out, dim=1) \n",
        "print('train dataset:', class_names[label], '| model:', class_names[index])"
      ],
      "execution_count": 16,
      "outputs": [
        {
          "output_type": "stream",
          "text": [
            "train dataset: car | model: car\n"
          ],
          "name": "stdout"
        }
      ]
    },
    {
      "cell_type": "markdown",
      "metadata": {
        "id": "E8WgXqJ5IGJ6"
      },
      "source": [
        "# Implementando un clasificador totalmente conectado\n",
        "\n",
        "\n"
      ]
    },
    {
      "cell_type": "markdown",
      "metadata": {
        "id": "XSiVG6G3Tbeb"
      },
      "source": [
        "En esta seccion vamos a cambiar Softmax por una funcion logaritmica dadas sus limitantes"
      ]
    },
    {
      "cell_type": "code",
      "metadata": {
        "id": "-QhneN81IGIU"
      },
      "source": [
        "model = nn.Sequential(\n",
        "    nn.Linear(3 * 32 * 32, 512), \n",
        "    # dimension imagenes, numero de nodos de salidas de neuronas\n",
        "    nn.Tanh(),\n",
        "    nn.Linear(512, 2),\n",
        "    nn.LogSoftmax(dim=1) # Usamos mas de una variable\n",
        ")\n",
        "\n",
        "loss_function = nn.NLLLoss()"
      ],
      "execution_count": 17,
      "outputs": []
    },
    {
      "cell_type": "code",
      "metadata": {
        "id": "yxI4Oo1uTfUP",
        "colab": {
          "base_uri": "https://localhost:8080/",
          "height": 302
        },
        "outputId": "ea1d0f09-ef0f-47b1-81a1-1cee43501e00"
      },
      "source": [
        "img, label = data_set[20]\n",
        "plt.imshow(img.permute(1, 2, 0))\n",
        "print(f'this image is a {class_names[label]}')"
      ],
      "execution_count": 18,
      "outputs": [
        {
          "output_type": "stream",
          "text": [
            "Clipping input data to the valid range for imshow with RGB data ([0..1] for floats or [0..255] for integers).\n"
          ],
          "name": "stderr"
        },
        {
          "output_type": "stream",
          "text": [
            "this image is a car\n"
          ],
          "name": "stdout"
        },
        {
          "output_type": "display_data",
          "data": {
            "image/png": "[encoded data removed]",
            "text/plain": [
              "<Figure size 432x288 with 1 Axes>"
            ]
          },
          "metadata": {
            "tags": [],
            "needs_background": "light"
          }
        }
      ]
    },
    {
      "cell_type": "code",
      "metadata": {
        "id": "RAXsecbeVQFJ",
        "colab": {
          "base_uri": "https://localhost:8080/"
        },
        "outputId": "af3ef545-7f50-4387-d14c-87670ef0d7e7"
      },
      "source": [
        "out = model(img.view(-1).unsqueeze(0))\n",
        "print(out)\n",
        "\n",
        "print('train dataset:', class_names[label], '| model:', class_names[index])"
      ],
      "execution_count": 19,
      "outputs": [
        {
          "output_type": "stream",
          "text": [
            "tensor([[-0.9022, -0.5203]], grad_fn=<LogSoftmaxBackward>)\n",
            "train dataset: car | model: car\n"
          ],
          "name": "stdout"
        }
      ]
    },
    {
      "cell_type": "markdown",
      "metadata": {
        "id": "t1rB_vMFVQIn"
      },
      "source": [
        "Creamos un loop de entrenamiento"
      ]
    },
    {
      "cell_type": "code",
      "metadata": {
        "id": "q8cGygoRVQOJ",
        "colab": {
          "base_uri": "https://localhost:8080/"
        },
        "outputId": "0090c68b-c987-4bd1-a6b1-2d3c45e95bb8"
      },
      "source": [
        "model = nn.Sequential(\n",
        "    nn.Linear(3 * 32 * 32, 512), \n",
        "    # dimension imagenes, numero de nodos de salidas de neuronas\n",
        "    nn.Tanh(),\n",
        "    nn.Linear(512, 2),\n",
        "    nn.LogSoftmax(dim=1) # Usamos mas de una variable\n",
        ")\n",
        "\n",
        "loss_function = nn.NLLLoss()\n",
        "\n",
        "optimizer = optim.SGD(model.parameters(), lr=0.01)\n",
        "\n",
        "n_epochs = 5 #iteraciones\n",
        "\n",
        "for epoch in range(n_epochs):\n",
        "  for img, label in data_set:\n",
        "    out = model(img.view(-1).unsqueeze(0))\n",
        "    loss = loss_function(out, torch.tensor([label]))\n",
        "\n",
        "    optimizer.zero_grad()\n",
        "    loss.backward()\n",
        "    optimizer.step()\n",
        "\n",
        "  print(f\"Eoch: {epoch}, Loss: {float(loss)}\")"
      ],
      "execution_count": 20,
      "outputs": [
        {
          "output_type": "stream",
          "text": [
            "Eoch: 0, Loss: 0.06750672310590744\n",
            "Eoch: 1, Loss: 0.043289344757795334\n",
            "Eoch: 2, Loss: 0.015507824718952179\n",
            "Eoch: 3, Loss: 0.028583675622940063\n",
            "Eoch: 4, Loss: 1.6350032091140747\n"
          ],
          "name": "stdout"
        }
      ]
    },
    {
      "cell_type": "code",
      "metadata": {
        "id": "OuNc6SMbVQUy",
        "colab": {
          "base_uri": "https://localhost:8080/"
        },
        "outputId": "81fa4d10-04e3-447a-85b4-46f86cba22de"
      },
      "source": [
        "# Haciendo uno del train_loader\n",
        "train_loader = torch.utils.data.DataLoader(data_set, batch_size=64, shuffle=True)\n",
        "\n",
        "model = nn.Sequential(\n",
        "    nn.Linear(3 * 32 * 32, 512), \n",
        "    # dimension imagenes, numero de nodos de salidas de neuronas\n",
        "    nn.Tanh(),\n",
        "    nn.Linear(512, 2),\n",
        "    nn.LogSoftmax(dim=1) # Usamos mas de una variable\n",
        ")\n",
        "\n",
        "loss_function = nn.NLLLoss()\n",
        "\n",
        "optimizer = optim.SGD(model.parameters(), lr=0.01)\n",
        "\n",
        "n_epochs = 100 #iteraciones\n",
        "\n",
        "for epoch in range(n_epochs):\n",
        "  for img, label in train_loader:\n",
        "    out = model(img.view(img.shape[0], -1))\n",
        "    loss = loss_function(out, label)\n",
        "\n",
        "    optimizer.zero_grad()\n",
        "    loss.backward()\n",
        "    optimizer.step()\n",
        "\n",
        "  print(f\"Eoch: {epoch}, Loss: {float(loss)}\")"
      ],
      "execution_count": 21,
      "outputs": [
        {
          "output_type": "stream",
          "text": [
            "Eoch: 0, Loss: 0.44655171036720276\n",
            "Eoch: 1, Loss: 0.21530519425868988\n",
            "Eoch: 2, Loss: 0.3623921871185303\n",
            "Eoch: 3, Loss: 0.46866732835769653\n",
            "Eoch: 4, Loss: 0.30053311586380005\n",
            "Eoch: 5, Loss: 0.24547338485717773\n",
            "Eoch: 6, Loss: 0.25847023725509644\n",
            "Eoch: 7, Loss: 0.35348594188690186\n",
            "Eoch: 8, Loss: 0.22430333495140076\n",
            "Eoch: 9, Loss: 0.45388397574424744\n",
            "Eoch: 10, Loss: 0.32295048236846924\n",
            "Eoch: 11, Loss: 0.142139732837677\n",
            "Eoch: 12, Loss: 0.14621201157569885\n",
            "Eoch: 13, Loss: 0.1383470743894577\n",
            "Eoch: 14, Loss: 0.38279733061790466\n",
            "Eoch: 15, Loss: 0.34936150908470154\n",
            "Eoch: 16, Loss: 0.08860237151384354\n",
            "Eoch: 17, Loss: 0.11335628479719162\n",
            "Eoch: 18, Loss: 0.09283791482448578\n",
            "Eoch: 19, Loss: 0.15542766451835632\n",
            "Eoch: 20, Loss: 0.3550383448600769\n",
            "Eoch: 21, Loss: 0.22018121182918549\n",
            "Eoch: 22, Loss: 0.20984025299549103\n",
            "Eoch: 23, Loss: 0.09295820444822311\n",
            "Eoch: 24, Loss: 0.08948875963687897\n",
            "Eoch: 25, Loss: 0.33854734897613525\n",
            "Eoch: 26, Loss: 0.13313758373260498\n",
            "Eoch: 27, Loss: 0.12677577137947083\n",
            "Eoch: 28, Loss: 0.09471288323402405\n",
            "Eoch: 29, Loss: 0.05728936940431595\n",
            "Eoch: 30, Loss: 0.08423137664794922\n",
            "Eoch: 31, Loss: 0.07901497930288315\n",
            "Eoch: 32, Loss: 0.13249294459819794\n",
            "Eoch: 33, Loss: 0.04908334091305733\n",
            "Eoch: 34, Loss: 0.0487288199365139\n",
            "Eoch: 35, Loss: 0.1119757741689682\n",
            "Eoch: 36, Loss: 0.11014533042907715\n",
            "Eoch: 37, Loss: 0.02560395933687687\n",
            "Eoch: 38, Loss: 0.04087541252374649\n",
            "Eoch: 39, Loss: 0.0669189989566803\n",
            "Eoch: 40, Loss: 0.044098518788814545\n",
            "Eoch: 41, Loss: 0.04593302309513092\n",
            "Eoch: 42, Loss: 0.023168940097093582\n",
            "Eoch: 43, Loss: 0.010051215067505836\n",
            "Eoch: 44, Loss: 0.03906839340925217\n",
            "Eoch: 45, Loss: 0.047657936811447144\n",
            "Eoch: 46, Loss: 0.010396894998848438\n",
            "Eoch: 47, Loss: 0.029229963198304176\n",
            "Eoch: 48, Loss: 0.025961462408304214\n",
            "Eoch: 49, Loss: 0.016221847385168076\n",
            "Eoch: 50, Loss: 0.014437738806009293\n",
            "Eoch: 51, Loss: 0.0341818705201149\n",
            "Eoch: 52, Loss: 0.01235215738415718\n",
            "Eoch: 53, Loss: 0.029436593875288963\n",
            "Eoch: 54, Loss: 0.04307766258716583\n",
            "Eoch: 55, Loss: 0.012941707856953144\n",
            "Eoch: 56, Loss: 0.029877252876758575\n",
            "Eoch: 57, Loss: 0.01650766283273697\n",
            "Eoch: 58, Loss: 0.018176831305027008\n",
            "Eoch: 59, Loss: 0.0152269983664155\n",
            "Eoch: 60, Loss: 0.022840237244963646\n",
            "Eoch: 61, Loss: 0.015363735146820545\n",
            "Eoch: 62, Loss: 0.010727775283157825\n",
            "Eoch: 63, Loss: 0.008544383570551872\n",
            "Eoch: 64, Loss: 0.016184911131858826\n",
            "Eoch: 65, Loss: 0.00905852485448122\n",
            "Eoch: 66, Loss: 0.012819807045161724\n",
            "Eoch: 67, Loss: 0.013289660215377808\n",
            "Eoch: 68, Loss: 0.014507445506751537\n",
            "Eoch: 69, Loss: 0.016283495351672173\n",
            "Eoch: 70, Loss: 0.01637446880340576\n",
            "Eoch: 71, Loss: 0.025327760726213455\n",
            "Eoch: 72, Loss: 0.011963295750319958\n",
            "Eoch: 73, Loss: 0.008979732170701027\n",
            "Eoch: 74, Loss: 0.012425566092133522\n",
            "Eoch: 75, Loss: 0.01767193153500557\n",
            "Eoch: 76, Loss: 0.0034208172000944614\n",
            "Eoch: 77, Loss: 0.009286707267165184\n",
            "Eoch: 78, Loss: 0.0076833199709653854\n",
            "Eoch: 79, Loss: 0.005031562875956297\n",
            "Eoch: 80, Loss: 0.014918625354766846\n",
            "Eoch: 81, Loss: 0.007382686715573072\n",
            "Eoch: 82, Loss: 0.004492785315960646\n",
            "Eoch: 83, Loss: 0.00712666567414999\n",
            "Eoch: 84, Loss: 0.010918397456407547\n",
            "Eoch: 85, Loss: 0.0014694142155349255\n",
            "Eoch: 86, Loss: 0.007298404350876808\n",
            "Eoch: 87, Loss: 0.010826213285326958\n",
            "Eoch: 88, Loss: 0.006047092378139496\n",
            "Eoch: 89, Loss: 0.0035665782634168863\n",
            "Eoch: 90, Loss: 0.008485357277095318\n",
            "Eoch: 91, Loss: 0.011593163013458252\n",
            "Eoch: 92, Loss: 0.01298826839774847\n",
            "Eoch: 93, Loss: 0.00907557737082243\n",
            "Eoch: 94, Loss: 0.003320214804261923\n",
            "Eoch: 95, Loss: 0.004495651926845312\n",
            "Eoch: 96, Loss: 0.00901793409138918\n",
            "Eoch: 97, Loss: 0.0026767582166939974\n",
            "Eoch: 98, Loss: 0.0036327966954559088\n",
            "Eoch: 99, Loss: 0.014388390816748142\n"
          ],
          "name": "stdout"
        }
      ]
    },
    {
      "cell_type": "code",
      "metadata": {
        "id": "nLrB-eoKVQSB",
        "colab": {
          "base_uri": "https://localhost:8080/"
        },
        "outputId": "db76e00d-20f4-416b-965d-51b0fef80e7d"
      },
      "source": [
        "# Validamos el loss\n",
        "val_loader = torch.utils.data.DataLoader(validation_set, batch_size=64, shuffle=False)\n",
        "\n",
        "correct = 0\n",
        "total = 0\n",
        "\n",
        "with torch.no_grad():\n",
        "    for imgs, labels in val_loader:\n",
        "        outputs = model(imgs.view(imgs.shape[0], -1))\n",
        "        _, predicted = torch.max(outputs, dim=1)\n",
        "        total += labels.shape[0]\n",
        "\n",
        "        correct += int((predicted == labels).sum())\n",
        "\n",
        "print(\"Accuracy: %f\"% (correct / total))     "
      ],
      "execution_count": 22,
      "outputs": [
        {
          "output_type": "stream",
          "text": [
            "Accuracy: 0.864000\n"
          ],
          "name": "stdout"
        }
      ]
    },
    {
      "cell_type": "code",
      "metadata": {
        "id": "rnSjivB2eY2f",
        "colab": {
          "base_uri": "https://localhost:8080/"
        },
        "outputId": "27733215-67c1-4c1a-8377-25f5ecfcc523"
      },
      "source": [
        "img, label = validation_set[20]\n",
        "out = model(img.view(-1).unsqueeze(0))\n",
        "_, index = torch.max(out, dim=1)\n",
        "out"
      ],
      "execution_count": 23,
      "outputs": [
        {
          "output_type": "execute_result",
          "data": {
            "text/plain": [
              "tensor([[-3.6955e-06, -1.2493e+01]], grad_fn=<LogSoftmaxBackward>)"
            ]
          },
          "metadata": {
            "tags": []
          },
          "execution_count": 23
        }
      ]
    },
    {
      "cell_type": "code",
      "metadata": {
        "id": "EGLk2CVZeY-g",
        "colab": {
          "base_uri": "https://localhost:8080/",
          "height": 302
        },
        "outputId": "af1df162-9d1d-409b-ff5c-4e1e02cdccff"
      },
      "source": [
        "print('->: ',class_names[label],' model:',class_names[index])\n",
        "plt.imshow(img.permute(1, 2, 0))\n",
        "plt.show()"
      ],
      "execution_count": 24,
      "outputs": [
        {
          "output_type": "stream",
          "text": [
            "Clipping input data to the valid range for imshow with RGB data ([0..1] for floats or [0..255] for integers).\n"
          ],
          "name": "stderr"
        },
        {
          "output_type": "stream",
          "text": [
            "->:  car  model: car\n"
          ],
          "name": "stdout"
        },
        {
          "output_type": "display_data",
          "data": {
            "image/png": "[encoded data removed]",
            "text/plain": [
              "<Figure size 432x288 with 1 Axes>"
            ]
          },
          "metadata": {
            "tags": [],
            "needs_background": "light"
          }
        }
      ]
    },
    {
      "cell_type": "markdown",
      "metadata": {
        "id": "zfk4M_cjIGMu"
      },
      "source": [
        "# Mejoras, limitaciones y conclusiones"
      ]
    },
    {
      "cell_type": "code",
      "metadata": {
        "id": "7V90m59nf556",
        "colab": {
          "base_uri": "https://localhost:8080/"
        },
        "outputId": "918e487e-d68d-41f9-8188-41a0b1bc3ae1"
      },
      "source": [
        "train_loader = torch.utils.data.DataLoader(data_set, batch_size=64, shuffle=True)\n",
        "\n",
        "model = nn.Sequential(\n",
        "    nn.Linear(3072, 1024), #3072 = 3*32*32 \n",
        "    nn.Tanh(),\n",
        "    nn.Linear(1024, 512),\n",
        "    nn.Tanh(),\n",
        "    nn.Linear(512,128),\n",
        "    nn.Tanh(),\n",
        "    nn.Linear(128,2),\n",
        "\n",
        ")\n",
        "\n",
        "#LogSoftmax tiene un efecto CrossEntropyLoss\n",
        "loss_function = nn.CrossEntropyLoss()\n",
        "\n",
        "optimizer = optim.SGD(model.parameters(), lr=0.01)\n",
        "\n",
        "n_epochs = 100 #iteraciones\n",
        "\n",
        "for epoch in range(n_epochs):\n",
        "  for img, label in train_loader:\n",
        "    out = model(img.view(img.shape[0], -1))\n",
        "    loss = loss_function(out, label)\n",
        "\n",
        "    optimizer.zero_grad()\n",
        "    loss.backward()\n",
        "    optimizer.step()\n",
        "\n",
        "  print(f\"Eoch: {epoch}, Loss: {float(loss)}\")"
      ],
      "execution_count": 25,
      "outputs": [
        {
          "output_type": "stream",
          "text": [
            "Eoch: 0, Loss: 0.3990061283111572\n",
            "Eoch: 1, Loss: 0.40964001417160034\n",
            "Eoch: 2, Loss: 0.34644389152526855\n",
            "Eoch: 3, Loss: 0.49685680866241455\n",
            "Eoch: 4, Loss: 0.2760447859764099\n",
            "Eoch: 5, Loss: 0.46100038290023804\n",
            "Eoch: 6, Loss: 0.19625380635261536\n",
            "Eoch: 7, Loss: 0.3115905523300171\n",
            "Eoch: 8, Loss: 0.3731277287006378\n",
            "Eoch: 9, Loss: 0.15172570943832397\n",
            "Eoch: 10, Loss: 0.33926481008529663\n",
            "Eoch: 11, Loss: 0.08962305635213852\n",
            "Eoch: 12, Loss: 0.26877057552337646\n",
            "Eoch: 13, Loss: 0.21506033837795258\n",
            "Eoch: 14, Loss: 0.2925530970096588\n",
            "Eoch: 15, Loss: 0.3265080451965332\n",
            "Eoch: 16, Loss: 0.06549909710884094\n",
            "Eoch: 17, Loss: 0.1620686948299408\n",
            "Eoch: 18, Loss: 0.10301922261714935\n",
            "Eoch: 19, Loss: 0.044864729046821594\n",
            "Eoch: 20, Loss: 0.057774193584918976\n",
            "Eoch: 21, Loss: 0.11112896353006363\n",
            "Eoch: 22, Loss: 0.17947198450565338\n",
            "Eoch: 23, Loss: 0.30100345611572266\n",
            "Eoch: 24, Loss: 0.2832184433937073\n",
            "Eoch: 25, Loss: 0.08003514260053635\n",
            "Eoch: 26, Loss: 0.2981334626674652\n",
            "Eoch: 27, Loss: 0.16270297765731812\n",
            "Eoch: 28, Loss: 0.22592803835868835\n",
            "Eoch: 29, Loss: 0.022572530433535576\n",
            "Eoch: 30, Loss: 0.06360812485218048\n",
            "Eoch: 31, Loss: 0.019768759608268738\n",
            "Eoch: 32, Loss: 0.015091821551322937\n",
            "Eoch: 33, Loss: 0.09897683560848236\n",
            "Eoch: 34, Loss: 0.009153272956609726\n",
            "Eoch: 35, Loss: 0.006052440032362938\n",
            "Eoch: 36, Loss: 0.040081143379211426\n",
            "Eoch: 37, Loss: 0.008609538897871971\n",
            "Eoch: 38, Loss: 0.006678989622741938\n",
            "Eoch: 39, Loss: 0.003378828288987279\n",
            "Eoch: 40, Loss: 0.0024561858735978603\n",
            "Eoch: 41, Loss: 0.001444777357392013\n",
            "Eoch: 42, Loss: 0.006237994413822889\n",
            "Eoch: 43, Loss: 0.002271580044180155\n",
            "Eoch: 44, Loss: 0.0055158729664981365\n",
            "Eoch: 45, Loss: 0.0008422051323577762\n",
            "Eoch: 46, Loss: 0.0005771422293037176\n",
            "Eoch: 47, Loss: 0.0033897222019732\n",
            "Eoch: 48, Loss: 0.00835218746215105\n",
            "Eoch: 49, Loss: 0.002219653455540538\n",
            "Eoch: 50, Loss: 0.0034428134094923735\n",
            "Eoch: 51, Loss: 0.0005196751444600523\n",
            "Eoch: 52, Loss: 0.001567763858474791\n",
            "Eoch: 53, Loss: 0.0005529774934984744\n",
            "Eoch: 54, Loss: 0.0009591418784111738\n",
            "Eoch: 55, Loss: 0.0013009427348151803\n",
            "Eoch: 56, Loss: 0.0011368133127689362\n",
            "Eoch: 57, Loss: 0.0023977479431778193\n",
            "Eoch: 58, Loss: 0.004193078726530075\n",
            "Eoch: 59, Loss: 0.0006380478735081851\n",
            "Eoch: 60, Loss: 0.00043082304182462394\n",
            "Eoch: 61, Loss: 0.0002500038535799831\n",
            "Eoch: 62, Loss: 0.00048221254837699234\n",
            "Eoch: 63, Loss: 0.00017608326743356884\n",
            "Eoch: 64, Loss: 0.0007129200967028737\n",
            "Eoch: 65, Loss: 0.0015331855975091457\n",
            "Eoch: 66, Loss: 0.0015877624973654747\n",
            "Eoch: 67, Loss: 0.00044013228034600616\n",
            "Eoch: 68, Loss: 0.0012036249972879887\n",
            "Eoch: 69, Loss: 0.0007844165666028857\n",
            "Eoch: 70, Loss: 0.0007215271471068263\n",
            "Eoch: 71, Loss: 0.0010954454774037004\n",
            "Eoch: 72, Loss: 0.0005733908619731665\n",
            "Eoch: 73, Loss: 0.0006951016839593649\n",
            "Eoch: 74, Loss: 0.00030357178184203804\n",
            "Eoch: 75, Loss: 0.0006172952707856894\n",
            "Eoch: 76, Loss: 0.0003360059636179358\n",
            "Eoch: 77, Loss: 0.0004768471699208021\n",
            "Eoch: 78, Loss: 0.00031636175117455423\n",
            "Eoch: 79, Loss: 0.00040489615639671683\n",
            "Eoch: 80, Loss: 0.0006942349718883634\n",
            "Eoch: 81, Loss: 0.0016105026006698608\n",
            "Eoch: 82, Loss: 0.00017541414126753807\n",
            "Eoch: 83, Loss: 9.897976269712672e-05\n",
            "Eoch: 84, Loss: 0.0005986953037790954\n",
            "Eoch: 85, Loss: 0.0007299931603483856\n",
            "Eoch: 86, Loss: 0.0004990668967366219\n",
            "Eoch: 87, Loss: 0.0005203370237722993\n",
            "Eoch: 88, Loss: 0.0002456285583321005\n",
            "Eoch: 89, Loss: 0.0005157561972737312\n",
            "Eoch: 90, Loss: 0.0004104974213987589\n",
            "Eoch: 91, Loss: 0.0006986497319303453\n",
            "Eoch: 92, Loss: 8.154499664669856e-05\n",
            "Eoch: 93, Loss: 0.00013864041829947382\n",
            "Eoch: 94, Loss: 0.0005950920167379081\n",
            "Eoch: 95, Loss: 0.0007424428476952016\n",
            "Eoch: 96, Loss: 0.0002638890000525862\n",
            "Eoch: 97, Loss: 0.000175826033228077\n",
            "Eoch: 98, Loss: 0.0009148594690486789\n",
            "Eoch: 99, Loss: 0.00011539587285369635\n"
          ],
          "name": "stdout"
        }
      ]
    },
    {
      "cell_type": "code",
      "metadata": {
        "colab": {
          "base_uri": "https://localhost:8080/"
        },
        "id": "LZXQWa5mzWxB",
        "outputId": "d46647f8-7442-4f79-94ad-d726e35c2f69"
      },
      "source": [
        "# Validamos el loss\n",
        "val_loader = torch.utils.data.DataLoader(validation_set, batch_size=64, shuffle=False)\n",
        "\n",
        "correct = 0\n",
        "total = 0\n",
        "\n",
        "with torch.no_grad():\n",
        "    for imgs, labels in val_loader:\n",
        "        outputs = model(imgs.view(imgs.shape[0], -1))\n",
        "        _, predicted = torch.max(outputs, dim=1)\n",
        "        total += labels.shape[0]\n",
        "\n",
        "        correct += int((predicted == labels).sum())\n",
        "\n",
        "print(\"Accuracy: %f\"% (correct / total)) "
      ],
      "execution_count": 26,
      "outputs": [
        {
          "output_type": "stream",
          "text": [
            "Accuracy: 0.861000\n"
          ],
          "name": "stdout"
        }
      ]
    },
    {
      "cell_type": "code",
      "metadata": {
        "id": "2mhX1YG0hoc3",
        "colab": {
          "base_uri": "https://localhost:8080/"
        },
        "outputId": "f87b3a40-d3bf-4056-9718-ef6484bda88d"
      },
      "source": [
        "# Validamos el loss\n",
        "train_loader = torch.utils.data.DataLoader(data_set, batch_size=64, shuffle=False)\n",
        "\n",
        "correct = 0\n",
        "total = 0\n",
        "\n",
        "with torch.no_grad():\n",
        "    for imgs, labels in train_loader:\n",
        "        outputs = model(imgs.view(imgs.shape[0], -1))\n",
        "        _, predicted = torch.max(outputs, dim=1)\n",
        "        total += labels.shape[0]\n",
        "\n",
        "        correct += int((predicted == labels).sum())\n",
        "\n",
        "print(\"Accuracy: %f\"% (correct / total)) "
      ],
      "execution_count": 27,
      "outputs": [
        {
          "output_type": "stream",
          "text": [
            "Accuracy: 1.000000\n"
          ],
          "name": "stdout"
        }
      ]
    },
    {
      "cell_type": "markdown",
      "metadata": {
        "id": "gr-yYqAFk3Uk"
      },
      "source": [
        "Nos encontramos con un modelo con overfiting sobre entrenado"
      ]
    },
    {
      "cell_type": "code",
      "metadata": {
        "id": "_N2wg1aklYLC",
        "colab": {
          "base_uri": "https://localhost:8080/"
        },
        "outputId": "6b7e7174-cca5-4163-cce4-8d089f08322c"
      },
      "source": [
        "### realizamos una suma de parametros (pesos)\n",
        "sum([p.numel() for p in model.parameters() if p.requires_grad == True])"
      ],
      "execution_count": 28,
      "outputs": [
        {
          "output_type": "execute_result",
          "data": {
            "text/plain": [
              "3737474"
            ]
          },
          "metadata": {
            "tags": []
          },
          "execution_count": 28
        }
      ]
    },
    {
      "cell_type": "markdown",
      "metadata": {
        "id": "QBo0P8Sllvk1"
      },
      "source": [
        "El numero de parametros es muy grande para un dataset tan pequeño\n"
      ]
    },
    {
      "cell_type": "code",
      "metadata": {
        "id": "8hr9Cv3unCLS",
        "colab": {
          "base_uri": "https://localhost:8080/",
          "height": 319
        },
        "outputId": "938aad6e-c39e-4cee-8be8-27096ced47e1"
      },
      "source": [
        "image = request.urlretrieve('https://i.pinimg.com/originals/43/bc/47/43bc47066bb8b2fa4fe7cc8e82cc3714.jpg','test,jpg')\n",
        "                            \n",
        "img = Image.open(image[0])\n",
        "\n",
        "preprocess = transforms.Compose([\n",
        "        transforms.Resize(48),\n",
        "        transforms.CenterCrop(32),\n",
        "        transforms.ToTensor(),\n",
        "        transforms.Normalize(\n",
        "            mean=[0.4915, 0.4823, 0.4468],\n",
        "            std=[0.2470, 0.2435, 0.2616]\n",
        "        )])\n",
        "\n",
        "img_t = preprocess(img)\n",
        "out = model(img_t.view(-1).unsqueeze(0))\n",
        "_, index = torch.max(out, dim=1)\n",
        "print('correct: car ',' model:',class_names[index])\n",
        "plt.imshow(img_t.permute(1, 2, 0))"
      ],
      "execution_count": 29,
      "outputs": [
        {
          "output_type": "stream",
          "text": [
            "Clipping input data to the valid range for imshow with RGB data ([0..1] for floats or [0..255] for integers).\n"
          ],
          "name": "stderr"
        },
        {
          "output_type": "stream",
          "text": [
            "correct: car   model: cat\n"
          ],
          "name": "stdout"
        },
        {
          "output_type": "execute_result",
          "data": {
            "text/plain": [
              "<matplotlib.image.AxesImage at 0x7f402cb91780>"
            ]
          },
          "metadata": {
            "tags": []
          },
          "execution_count": 29
        },
        {
          "output_type": "display_data",
          "data": {
            "image/png": "[encoded data removed]",
            "text/plain": [
              "<Figure size 432x288 with 1 Axes>"
            ]
          },
          "metadata": {
            "tags": [],
            "needs_background": "light"
          }
        }
      ]
    },
    {
      "cell_type": "markdown",
      "metadata": {
        "id": "6RQXGeXsnEGR"
      },
      "source": [
        "Subir un grado de mejora seria trabajar con convulucion"
      ]
    }
  ]
}