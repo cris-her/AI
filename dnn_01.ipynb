{
  "nbformat": 4,
  "nbformat_minor": 0,
  "metadata": {
    "colab": {
      "name": "dnn_01.ipynb",
      "provenance": [],
      "include_colab_link": true
    },
    "kernelspec": {
      "name": "python3",
      "display_name": "Python 3"
    },
    "widgets": {
      "application/vnd.jupyter.widget-state+json": {
        "ff65e34c6bdd42c4999844fa04b70398": {
          "model_module": "@jupyter-widgets/controls",
          "model_name": "HBoxModel",
          "state": {
            "_view_name": "HBoxView",
            "_dom_classes": [],
            "_model_name": "HBoxModel",
            "_view_module": "@jupyter-widgets/controls",
            "_model_module_version": "1.5.0",
            "_view_count": null,
            "_view_module_version": "1.5.0",
            "box_style": "",
            "layout": "IPY_MODEL_437c62d57d0a43588ca691bb2c756018",
            "_model_module": "@jupyter-widgets/controls",
            "children": [
              "IPY_MODEL_73bcc788d63641cfa65ea05ffa41a55f",
              "IPY_MODEL_38d8b8d51ac04a77bc335a25e1bfc552"
            ]
          }
        },
        "437c62d57d0a43588ca691bb2c756018": {
          "model_module": "@jupyter-widgets/base",
          "model_name": "LayoutModel",
          "state": {
            "_view_name": "LayoutView",
            "grid_template_rows": null,
            "right": null,
            "justify_content": null,
            "_view_module": "@jupyter-widgets/base",
            "overflow": null,
            "_model_module_version": "1.2.0",
            "_view_count": null,
            "flex_flow": null,
            "width": null,
            "min_width": null,
            "border": null,
            "align_items": null,
            "bottom": null,
            "_model_module": "@jupyter-widgets/base",
            "top": null,
            "grid_column": null,
            "overflow_y": null,
            "overflow_x": null,
            "grid_auto_flow": null,
            "grid_area": null,
            "grid_template_columns": null,
            "flex": null,
            "_model_name": "LayoutModel",
            "justify_items": null,
            "grid_row": null,
            "max_height": null,
            "align_content": null,
            "visibility": null,
            "align_self": null,
            "height": null,
            "min_height": null,
            "padding": null,
            "grid_auto_rows": null,
            "grid_gap": null,
            "max_width": null,
            "order": null,
            "_view_module_version": "1.2.0",
            "grid_template_areas": null,
            "object_position": null,
            "object_fit": null,
            "grid_auto_columns": null,
            "margin": null,
            "display": null,
            "left": null
          }
        },
        "73bcc788d63641cfa65ea05ffa41a55f": {
          "model_module": "@jupyter-widgets/controls",
          "model_name": "FloatProgressModel",
          "state": {
            "_view_name": "ProgressView",
            "style": "IPY_MODEL_c7ac8094c3f4475ab5c047fe04170982",
            "_dom_classes": [],
            "description": "",
            "_model_name": "FloatProgressModel",
            "bar_style": "success",
            "max": 1,
            "_view_module": "@jupyter-widgets/controls",
            "_model_module_version": "1.5.0",
            "value": 1,
            "_view_count": null,
            "_view_module_version": "1.5.0",
            "orientation": "horizontal",
            "min": 0,
            "description_tooltip": null,
            "_model_module": "@jupyter-widgets/controls",
            "layout": "IPY_MODEL_990e12b55bdf4599b786e1735005a600"
          }
        },
        "38d8b8d51ac04a77bc335a25e1bfc552": {
          "model_module": "@jupyter-widgets/controls",
          "model_name": "HTMLModel",
          "state": {
            "_view_name": "HTMLView",
            "style": "IPY_MODEL_65f6c473b5e34cf8bdad6f6229cfe570",
            "_dom_classes": [],
            "description": "",
            "_model_name": "HTMLModel",
            "placeholder": "​",
            "_view_module": "@jupyter-widgets/controls",
            "_model_module_version": "1.5.0",
            "value": " 170500096/? [00:07&lt;00:00, 24020893.35it/s]",
            "_view_count": null,
            "_view_module_version": "1.5.0",
            "description_tooltip": null,
            "_model_module": "@jupyter-widgets/controls",
            "layout": "IPY_MODEL_dc49ac3563894c368ef20c6c6412deab"
          }
        },
        "c7ac8094c3f4475ab5c047fe04170982": {
          "model_module": "@jupyter-widgets/controls",
          "model_name": "ProgressStyleModel",
          "state": {
            "_view_name": "StyleView",
            "_model_name": "ProgressStyleModel",
            "description_width": "initial",
            "_view_module": "@jupyter-widgets/base",
            "_model_module_version": "1.5.0",
            "_view_count": null,
            "_view_module_version": "1.2.0",
            "bar_color": null,
            "_model_module": "@jupyter-widgets/controls"
          }
        },
        "990e12b55bdf4599b786e1735005a600": {
          "model_module": "@jupyter-widgets/base",
          "model_name": "LayoutModel",
          "state": {
            "_view_name": "LayoutView",
            "grid_template_rows": null,
            "right": null,
            "justify_content": null,
            "_view_module": "@jupyter-widgets/base",
            "overflow": null,
            "_model_module_version": "1.2.0",
            "_view_count": null,
            "flex_flow": null,
            "width": null,
            "min_width": null,
            "border": null,
            "align_items": null,
            "bottom": null,
            "_model_module": "@jupyter-widgets/base",
            "top": null,
            "grid_column": null,
            "overflow_y": null,
            "overflow_x": null,
            "grid_auto_flow": null,
            "grid_area": null,
            "grid_template_columns": null,
            "flex": null,
            "_model_name": "LayoutModel",
            "justify_items": null,
            "grid_row": null,
            "max_height": null,
            "align_content": null,
            "visibility": null,
            "align_self": null,
            "height": null,
            "min_height": null,
            "padding": null,
            "grid_auto_rows": null,
            "grid_gap": null,
            "max_width": null,
            "order": null,
            "_view_module_version": "1.2.0",
            "grid_template_areas": null,
            "object_position": null,
            "object_fit": null,
            "grid_auto_columns": null,
            "margin": null,
            "display": null,
            "left": null
          }
        },
        "65f6c473b5e34cf8bdad6f6229cfe570": {
          "model_module": "@jupyter-widgets/controls",
          "model_name": "DescriptionStyleModel",
          "state": {
            "_view_name": "StyleView",
            "_model_name": "DescriptionStyleModel",
            "description_width": "",
            "_view_module": "@jupyter-widgets/base",
            "_model_module_version": "1.5.0",
            "_view_count": null,
            "_view_module_version": "1.2.0",
            "_model_module": "@jupyter-widgets/controls"
          }
        },
        "dc49ac3563894c368ef20c6c6412deab": {
          "model_module": "@jupyter-widgets/base",
          "model_name": "LayoutModel",
          "state": {
            "_view_name": "LayoutView",
            "grid_template_rows": null,
            "right": null,
            "justify_content": null,
            "_view_module": "@jupyter-widgets/base",
            "overflow": null,
            "_model_module_version": "1.2.0",
            "_view_count": null,
            "flex_flow": null,
            "width": null,
            "min_width": null,
            "border": null,
            "align_items": null,
            "bottom": null,
            "_model_module": "@jupyter-widgets/base",
            "top": null,
            "grid_column": null,
            "overflow_y": null,
            "overflow_x": null,
            "grid_auto_flow": null,
            "grid_area": null,
            "grid_template_columns": null,
            "flex": null,
            "_model_name": "LayoutModel",
            "justify_items": null,
            "grid_row": null,
            "max_height": null,
            "align_content": null,
            "visibility": null,
            "align_self": null,
            "height": null,
            "min_height": null,
            "padding": null,
            "grid_auto_rows": null,
            "grid_gap": null,
            "max_width": null,
            "order": null,
            "_view_module_version": "1.2.0",
            "grid_template_areas": null,
            "object_position": null,
            "object_fit": null,
            "grid_auto_columns": null,
            "margin": null,
            "display": null,
            "left": null
          }
        }
      }
    }
  },
  "cells": [
    {
      "cell_type": "markdown",
      "metadata": {
        "id": "view-in-github",
        "colab_type": "text"
      },
      "source": [
        "<a href=\"https://colab.research.google.com/github/cris-her/AI/blob/master/dnn_01.ipynb\" target=\"_parent\"><img src=\"https://colab.research.google.com/assets/colab-badge.svg\" alt=\"Open In Colab\"/></a>"
      ]
    },
    {
      "cell_type": "code",
      "metadata": {
        "id": "-mQ4J4VKB1Eg"
      },
      "source": [
        "import torch\n",
        "import torch.nn as nn #neural networks\n",
        "import torch.optim as optim\n",
        "\n",
        "from torchvision import utils\n",
        "from torchvision import datasets\n",
        "from torchvision import transforms\n",
        "\n",
        "from PIL import Image\n",
        "import urllib.request as request\n",
        "from matplotlib import pyplot as plt"
      ],
      "execution_count": 1,
      "outputs": []
    },
    {
      "cell_type": "markdown",
      "metadata": {
        "id": "Ft7_0Yy9CTAw"
      },
      "source": [
        "# Construyendo un modelo"
      ]
    },
    {
      "cell_type": "code",
      "metadata": {
        "id": "3QRXBfcxChVA",
        "colab": {
          "base_uri": "https://localhost:8080/",
          "height": 102,
          "referenced_widgets": [
            "ff65e34c6bdd42c4999844fa04b70398",
            "437c62d57d0a43588ca691bb2c756018",
            "73bcc788d63641cfa65ea05ffa41a55f",
            "38d8b8d51ac04a77bc335a25e1bfc552",
            "c7ac8094c3f4475ab5c047fe04170982",
            "990e12b55bdf4599b786e1735005a600",
            "65f6c473b5e34cf8bdad6f6229cfe570",
            "dc49ac3563894c368ef20c6c6412deab"
          ]
        },
        "outputId": "f9c97a3d-f66b-4b52-ba8e-b03af5f341ee"
      },
      "source": [
        "data_path = 'data/'\n",
        "\n",
        "full_data_set = datasets.CIFAR10(data_path, train=True, download=True,\n",
        "                                 transform = transforms.Compose(\n",
        "                                    [transforms.ToTensor(),\n",
        "                                    transforms.Normalize((0.4915, 0.4823, 0.4468), \n",
        "                                                         (0.2470, 0.2435, 0.2616))\n",
        "                                  ]))\n",
        "\n",
        "\n",
        "\n",
        "\n",
        "\n",
        "full_validation_set = datasets.CIFAR10(data_path, train=False, download=True, \n",
        "                                  transform = transforms.Compose(\n",
        "                                  [transforms.ToTensor(),\n",
        "                                  transforms.Normalize((0.4915, 0.4823, 0.4468), \n",
        "                                                       (0.2470, 0.2435, 0.2616))\n",
        "                                ]))"
      ],
      "execution_count": 2,
      "outputs": [
        {
          "output_type": "stream",
          "text": [
            "Downloading https://www.cs.toronto.edu/~kriz/cifar-10-python.tar.gz to data/cifar-10-python.tar.gz\n"
          ],
          "name": "stdout"
        },
        {
          "output_type": "display_data",
          "data": {
            "application/vnd.jupyter.widget-view+json": {
              "model_id": "ff65e34c6bdd42c4999844fa04b70398",
              "version_minor": 0,
              "version_major": 2
            },
            "text/plain": [
              "HBox(children=(FloatProgress(value=1.0, bar_style='info', max=1.0), HTML(value='')))"
            ]
          },
          "metadata": {
            "tags": []
          }
        },
        {
          "output_type": "stream",
          "text": [
            "Extracting data/cifar-10-python.tar.gz to data/\n",
            "Files already downloaded and verified\n"
          ],
          "name": "stdout"
        }
      ]
    },
    {
      "cell_type": "code",
      "metadata": {
        "id": "vfCrA6kBCh99"
      },
      "source": [
        "# Vamos a usar un dataloader para cargar los datos en un tamaño de batch especifico\n",
        "size = 4\n",
        "dataloader = torch.utils.data.DataLoader(full_data_set, batch_size=size, shuffle = True, num_workers=2)"
      ],
      "execution_count": 3,
      "outputs": []
    },
    {
      "cell_type": "code",
      "metadata": {
        "id": "AbjchGtuCiBA",
        "colab": {
          "base_uri": "https://localhost:8080/"
        },
        "outputId": "b7f8778d-de74-45ae-d902-91fd7ae985f5"
      },
      "source": [
        "len(full_data_set)"
      ],
      "execution_count": 4,
      "outputs": [
        {
          "output_type": "execute_result",
          "data": {
            "text/plain": [
              "50000"
            ]
          },
          "metadata": {
            "tags": []
          },
          "execution_count": 4
        }
      ]
    },
    {
      "cell_type": "code",
      "metadata": {
        "id": "9JUjfwm9EJLW",
        "colab": {
          "base_uri": "https://localhost:8080/"
        },
        "outputId": "58c18e1b-9ab3-4a7d-a62f-1ea04aabd45c"
      },
      "source": [
        "len(full_validation_set)"
      ],
      "execution_count": 5,
      "outputs": [
        {
          "output_type": "execute_result",
          "data": {
            "text/plain": [
              "10000"
            ]
          },
          "metadata": {
            "tags": []
          },
          "execution_count": 5
        }
      ]
    },
    {
      "cell_type": "markdown",
      "metadata": {
        "id": "iiG3Fa_6EJRL"
      },
      "source": [
        "Vamos a crear un iterador sobre  el data loader para obtener las imagenes y las etiquetas"
      ]
    },
    {
      "cell_type": "code",
      "metadata": {
        "id": "hHFob_LnEJOl",
        "colab": {
          "base_uri": "https://localhost:8080/",
          "height": 244
        },
        "outputId": "308e87d0-9336-4eb9-d03b-ca300607fa4d"
      },
      "source": [
        "data_iterator = iter(dataloader)\n",
        "imgs, labels = data_iterator.next()\n",
        "\n",
        "classes = ['plane','car','bird','cat','deer','dog','frog','horse','ship','truck']\n",
        "\n",
        "plt.imshow(utils.make_grid(imgs).permute(1, 2,0))\n",
        "\n",
        "for i in range(size):\n",
        "  print(classes[labels[i]])"
      ],
      "execution_count": 6,
      "outputs": [
        {
          "output_type": "stream",
          "text": [
            "Clipping input data to the valid range for imshow with RGB data ([0..1] for floats or [0..255] for integers).\n"
          ],
          "name": "stderr"
        },
        {
          "output_type": "stream",
          "text": [
            "plane\n",
            "plane\n",
            "deer\n",
            "bird\n"
          ],
          "name": "stdout"
        },
        {
          "output_type": "display_data",
          "data": {
            "image/png": "[encoded data removed]",
            "text/plain": [
              "<Figure size 432x288 with 1 Axes>"
            ]
          },
          "metadata": {
            "tags": [],
            "needs_background": "light"
          }
        },
        {
          "output_type": "stream",
          "text": [
            "\n"
          ],
          "name": "stdout"
        }
      ]
    },
    {
      "cell_type": "markdown",
      "metadata": {
        "id": "Q3hf05QBEi1i"
      },
      "source": [
        "De todo este dataset nos vamos a quedar unicamente con dos clases: car (posicion 1) y cat (posicion 3), y vamos a crear un nuevo dataset "
      ]
    },
    {
      "cell_type": "code",
      "metadata": {
        "id": "MnwnmcCoEjrN"
      },
      "source": [
        "class_names = ['car', 'cat']\n",
        "\n",
        "label_map = {1: 0, 3: 1}\n",
        "\n",
        "data_set = [(img, label_map[label]) for img, label in full_data_set if label in [1,3]]\n",
        "validation_set = [(img, label_map[label]) for img, label in full_validation_set if label in [1,3]]"
      ],
      "execution_count": 7,
      "outputs": []
    },
    {
      "cell_type": "code",
      "metadata": {
        "id": "L3MYPOK1Ejup",
        "colab": {
          "base_uri": "https://localhost:8080/"
        },
        "outputId": "49f55953-1713-48fe-9459-b26f9b66368f"
      },
      "source": [
        "img, label = data_set[20]\n",
        "img.shape"
      ],
      "execution_count": 8,
      "outputs": [
        {
          "output_type": "execute_result",
          "data": {
            "text/plain": [
              "torch.Size([3, 32, 32])"
            ]
          },
          "metadata": {
            "tags": []
          },
          "execution_count": 8
        }
      ]
    },
    {
      "cell_type": "markdown",
      "metadata": {
        "id": "HCB6iuDAEj0F"
      },
      "source": [
        "Vamos a crear un modelo basado en una transformacion lineal de 32 x 32 x 3, ya que estamos intentando realizar una red neuronal, debemos utilizar una funcion de activacion, arbitrariamente usaremos una tangente hiperbolica **tanH**, pero haremos varias pruebas para ver que nos funciona mejor, luego de tanH vamos a tener una salida que necesitamos sea un resultado de un clasificador binario."
      ]
    },
    {
      "cell_type": "code",
      "metadata": {
        "id": "O12vH_H_Ej5c"
      },
      "source": [
        "model = nn.Sequential(\n",
        "    nn.Linear(3 * 32 * 32, 512), \n",
        "    # dimension imagenes, numero de nodos de salidas de neuronas\n",
        "    nn.Tanh(),\n",
        "    nn.Linear(512, 2)\n",
        ")"
      ],
      "execution_count": 9,
      "outputs": []
    },
    {
      "cell_type": "markdown",
      "metadata": {
        "id": "k0spIhOaEj_A"
      },
      "source": [
        "El resultado final debe ser una probabilidad, por lo que puedo trabajar con el sigmoide o con softmax (vemos ejemplo)"
      ]
    },
    {
      "cell_type": "code",
      "metadata": {
        "id": "lyYhQBuwEj8u"
      },
      "source": [
        "def softmax(x):\n",
        "  return torch.exp(x) / torch.exp(x).sum()"
      ],
      "execution_count": 10,
      "outputs": []
    },
    {
      "cell_type": "code",
      "metadata": {
        "id": "x1CgViivEj3h"
      },
      "source": [
        "x = torch.tensor([1.0, 2.0, 3.0])"
      ],
      "execution_count": 11,
      "outputs": []
    },
    {
      "cell_type": "code",
      "metadata": {
        "id": "mzK1pIDhEjxQ",
        "colab": {
          "base_uri": "https://localhost:8080/"
        },
        "outputId": "4dc20f4c-d3df-4ff2-96b2-1ead5a18c90a"
      },
      "source": [
        "softmax(x).sum()\n",
        "# La suma de cada evaluacion nos da 1"
      ],
      "execution_count": 12,
      "outputs": [
        {
          "output_type": "execute_result",
          "data": {
            "text/plain": [
              "tensor(1.)"
            ]
          },
          "metadata": {
            "tags": []
          },
          "execution_count": 12
        }
      ]
    },
    {
      "cell_type": "markdown",
      "metadata": {
        "id": "I7mhLPyBHHlo"
      },
      "source": [
        "Agregamos al modelo la funcion softmax de pytorch"
      ]
    },
    {
      "cell_type": "code",
      "metadata": {
        "id": "eJBpeMzZHHgA"
      },
      "source": [
        "model = nn.Sequential(\n",
        "    nn.Linear(3 * 32 * 32, 512), \n",
        "    # dimension imagenes, numero de nodos de salidas de neuronas\n",
        "    nn.Tanh(),\n",
        "    nn.Linear(512, 2),\n",
        "    nn.Softmax(dim=1) # Usamos mas de una variable\n",
        ")"
      ],
      "execution_count": 13,
      "outputs": []
    },
    {
      "cell_type": "markdown",
      "metadata": {
        "id": "0pA5T4_GHH1m"
      },
      "source": [
        "Aplicamos el modelo a la imagen 20 del dataset"
      ]
    },
    {
      "cell_type": "code",
      "metadata": {
        "id": "NEgj6sAIHHz5",
        "colab": {
          "base_uri": "https://localhost:8080/",
          "height": 302
        },
        "outputId": "c9a0207b-fe36-4d5e-b182-c3c8344992fa"
      },
      "source": [
        "img, label = data_set[20]\n",
        "plt.imshow(img.permute(1, 2, 0))\n",
        "print(f'this image is a {class_names[label]}')"
      ],
      "execution_count": 14,
      "outputs": [
        {
          "output_type": "stream",
          "text": [
            "Clipping input data to the valid range for imshow with RGB data ([0..1] for floats or [0..255] for integers).\n"
          ],
          "name": "stderr"
        },
        {
          "output_type": "stream",
          "text": [
            "this image is a car\n"
          ],
          "name": "stdout"
        },
        {
          "output_type": "display_data",
          "data": {
            "image/png": "[encoded data removed]",
            "text/plain": [
              "<Figure size 432x288 with 1 Axes>"
            ]
          },
          "metadata": {
            "tags": [],
            "needs_background": "light"
          }
        }
      ]
    },
    {
      "cell_type": "code",
      "metadata": {
        "id": "Vcnl6W1ZHHx1",
        "colab": {
          "base_uri": "https://localhost:8080/"
        },
        "outputId": "a10a04f2-9733-4936-8bb4-6e9180eb69a5"
      },
      "source": [
        "out =model(img.view(-1).unsqueeze(0))\n",
        "out"
      ],
      "execution_count": 15,
      "outputs": [
        {
          "output_type": "execute_result",
          "data": {
            "text/plain": [
              "tensor([[0.4631, 0.5369]], grad_fn=<SoftmaxBackward>)"
            ]
          },
          "metadata": {
            "tags": []
          },
          "execution_count": 15
        }
      ]
    },
    {
      "cell_type": "markdown",
      "metadata": {
        "id": "czJLln5LHHpK"
      },
      "source": [
        "Obtenemos la posicion del indice con torch.max() en el dataset para la prediccion"
      ]
    },
    {
      "cell_type": "code",
      "metadata": {
        "id": "h-fUT4gJHHuG",
        "colab": {
          "base_uri": "https://localhost:8080/"
        },
        "outputId": "4ca6283d-5498-4b51-e516-c5303166a1b9"
      },
      "source": [
        "_, index = torch.max(out, dim=1) \n",
        "print('train dataset:', class_names[label], '| model:', class_names[index])"
      ],
      "execution_count": 16,
      "outputs": [
        {
          "output_type": "stream",
          "text": [
            "train dataset: car | model: cat\n"
          ],
          "name": "stdout"
        }
      ]
    },
    {
      "cell_type": "markdown",
      "metadata": {
        "id": "E8WgXqJ5IGJ6"
      },
      "source": [
        "# Implementando un clasificador totalmente conectado\n",
        "\n",
        "\n"
      ]
    },
    {
      "cell_type": "markdown",
      "metadata": {
        "id": "XSiVG6G3Tbeb"
      },
      "source": [
        "En esta seccion vamos a cambiar Softmax por una funcion logaritmica dadas sus limitantes"
      ]
    },
    {
      "cell_type": "code",
      "metadata": {
        "id": "-QhneN81IGIU"
      },
      "source": [
        "model = nn.Sequential(\n",
        "    nn.Linear(3 * 32 * 32, 512), \n",
        "    # dimension imagenes, numero de nodos de salidas de neuronas\n",
        "    nn.Tanh(),\n",
        "    nn.Linear(512, 2),\n",
        "    nn.LogSoftmax(dim=1) # Usamos mas de una variable\n",
        ")\n",
        "\n",
        "loss_function = nn.NLLLoss()"
      ],
      "execution_count": 17,
      "outputs": []
    },
    {
      "cell_type": "code",
      "metadata": {
        "id": "yxI4Oo1uTfUP",
        "colab": {
          "base_uri": "https://localhost:8080/",
          "height": 302
        },
        "outputId": "6f6b215e-0f9f-442c-d9de-1252b82f5b1d"
      },
      "source": [
        "img, label = data_set[20]\n",
        "plt.imshow(img.permute(1, 2, 0))\n",
        "print(f'this image is a {class_names[label]}')"
      ],
      "execution_count": 18,
      "outputs": [
        {
          "output_type": "stream",
          "text": [
            "Clipping input data to the valid range for imshow with RGB data ([0..1] for floats or [0..255] for integers).\n"
          ],
          "name": "stderr"
        },
        {
          "output_type": "stream",
          "text": [
            "this image is a car\n"
          ],
          "name": "stdout"
        },
        {
          "output_type": "display_data",
          "data": {
            "image/png": "[encoded data removed]",
            "text/plain": [
              "<Figure size 432x288 with 1 Axes>"
            ]
          },
          "metadata": {
            "tags": [],
            "needs_background": "light"
          }
        }
      ]
    },
    {
      "cell_type": "code",
      "metadata": {
        "id": "RAXsecbeVQFJ",
        "colab": {
          "base_uri": "https://localhost:8080/"
        },
        "outputId": "afce3369-6573-4ab7-f588-6390c4cdcf53"
      },
      "source": [
        "out = model(img.view(-1).unsqueeze(0))\n",
        "print(out)\n",
        "\n",
        "print('train dataset:', class_names[label], '| model:', class_names[index])"
      ],
      "execution_count": 19,
      "outputs": [
        {
          "output_type": "stream",
          "text": [
            "tensor([[-0.7146, -0.6722]], grad_fn=<LogSoftmaxBackward>)\n",
            "train dataset: car | model: cat\n"
          ],
          "name": "stdout"
        }
      ]
    },
    {
      "cell_type": "markdown",
      "metadata": {
        "id": "t1rB_vMFVQIn"
      },
      "source": [
        "Creamos un loop de entrenamiento"
      ]
    },
    {
      "cell_type": "code",
      "metadata": {
        "id": "q8cGygoRVQOJ",
        "colab": {
          "base_uri": "https://localhost:8080/"
        },
        "outputId": "a8e0b92d-5582-4358-e749-7212064cd612"
      },
      "source": [
        "model = nn.Sequential(\n",
        "    nn.Linear(3 * 32 * 32, 512), \n",
        "    # dimension imagenes, numero de nodos de salidas de neuronas\n",
        "    nn.Tanh(),\n",
        "    nn.Linear(512, 2),\n",
        "    nn.LogSoftmax(dim=1) # Usamos mas de una variable\n",
        ")\n",
        "\n",
        "loss_function = nn.NLLLoss()\n",
        "\n",
        "optimizer = optim.SGD(model.parameters(), lr=0.01)\n",
        "\n",
        "n_epochs = 5 #iteraciones\n",
        "\n",
        "for epoch in range(n_epochs):\n",
        "  for img, label in data_set:\n",
        "    out = model(img.view(-1).unsqueeze(0))\n",
        "    loss = loss_function(out, torch.tensor([label]))\n",
        "\n",
        "    optimizer.zero_grad()\n",
        "    loss.backward()\n",
        "    optimizer.step()\n",
        "\n",
        "  print(f\"Eoch: {epoch}, Loss: {float(loss)}\")"
      ],
      "execution_count": 20,
      "outputs": [
        {
          "output_type": "stream",
          "text": [
            "Eoch: 0, Loss: 0.011598535813391209\n",
            "Eoch: 1, Loss: 0.0029223139863461256\n",
            "Eoch: 2, Loss: 0.00018463814922142774\n",
            "Eoch: 3, Loss: 2.738476037979126\n",
            "Eoch: 4, Loss: 0.8798630833625793\n"
          ],
          "name": "stdout"
        }
      ]
    },
    {
      "cell_type": "code",
      "metadata": {
        "id": "OuNc6SMbVQUy",
        "colab": {
          "base_uri": "https://localhost:8080/"
        },
        "outputId": "40998be5-c0ff-4400-8b80-c42bee257d84"
      },
      "source": [
        "# Haciendo uno del train_loader\n",
        "train_loader = torch.utils.data.DataLoader(data_set, batch_size=64, shuffle=True)\n",
        "\n",
        "model = nn.Sequential(\n",
        "    nn.Linear(3 * 32 * 32, 512), \n",
        "    # dimension imagenes, numero de nodos de salidas de neuronas\n",
        "    nn.Tanh(),\n",
        "    nn.Linear(512, 2),\n",
        "    nn.LogSoftmax(dim=1) # Usamos mas de una variable\n",
        ")\n",
        "\n",
        "loss_function = nn.NLLLoss()\n",
        "\n",
        "optimizer = optim.SGD(model.parameters(), lr=0.01)\n",
        "\n",
        "n_epochs = 100 #iteraciones\n",
        "\n",
        "for epoch in range(n_epochs):\n",
        "  for img, label in train_loader:\n",
        "    out = model(img.view(img.shape[0], -1))\n",
        "    loss = loss_function(out, label)\n",
        "\n",
        "    optimizer.zero_grad()\n",
        "    loss.backward()\n",
        "    optimizer.step()\n",
        "\n",
        "  print(f\"Eoch: {epoch}, Loss: {float(loss)}\")"
      ],
      "execution_count": 21,
      "outputs": [
        {
          "output_type": "stream",
          "text": [
            "Eoch: 0, Loss: 0.7981480956077576\n",
            "Eoch: 1, Loss: 0.38919055461883545\n",
            "Eoch: 2, Loss: 0.3137369453907013\n",
            "Eoch: 3, Loss: 0.13955727219581604\n",
            "Eoch: 4, Loss: 0.6608052849769592\n",
            "Eoch: 5, Loss: 0.1853976547718048\n",
            "Eoch: 6, Loss: 0.3408593237400055\n",
            "Eoch: 7, Loss: 0.936850905418396\n",
            "Eoch: 8, Loss: 0.8437159061431885\n",
            "Eoch: 9, Loss: 0.2870207726955414\n",
            "Eoch: 10, Loss: 0.49025794863700867\n",
            "Eoch: 11, Loss: 0.27423983812332153\n",
            "Eoch: 12, Loss: 0.2681231200695038\n",
            "Eoch: 13, Loss: 0.2755594849586487\n",
            "Eoch: 14, Loss: 0.2803255021572113\n",
            "Eoch: 15, Loss: 0.14475277066230774\n",
            "Eoch: 16, Loss: 0.34893858432769775\n",
            "Eoch: 17, Loss: 0.3096768260002136\n",
            "Eoch: 18, Loss: 0.2661784887313843\n",
            "Eoch: 19, Loss: 0.11490392684936523\n",
            "Eoch: 20, Loss: 0.14385369420051575\n",
            "Eoch: 21, Loss: 0.057695839554071426\n",
            "Eoch: 22, Loss: 0.09106038510799408\n",
            "Eoch: 23, Loss: 0.18689198791980743\n",
            "Eoch: 24, Loss: 0.12779565155506134\n",
            "Eoch: 25, Loss: 0.13341204822063446\n",
            "Eoch: 26, Loss: 0.06085164099931717\n",
            "Eoch: 27, Loss: 0.15740245580673218\n",
            "Eoch: 28, Loss: 0.1800343096256256\n",
            "Eoch: 29, Loss: 0.07348645478487015\n",
            "Eoch: 30, Loss: 0.038828086107969284\n",
            "Eoch: 31, Loss: 0.1181027963757515\n",
            "Eoch: 32, Loss: 0.05001693591475487\n",
            "Eoch: 33, Loss: 0.03386123478412628\n",
            "Eoch: 34, Loss: 0.05815776810050011\n",
            "Eoch: 35, Loss: 0.061857424676418304\n",
            "Eoch: 36, Loss: 0.06028572842478752\n",
            "Eoch: 37, Loss: 0.021193675696849823\n",
            "Eoch: 38, Loss: 0.06321004033088684\n",
            "Eoch: 39, Loss: 0.02537737973034382\n",
            "Eoch: 40, Loss: 0.08656585961580276\n",
            "Eoch: 41, Loss: 0.05151195079088211\n",
            "Eoch: 42, Loss: 0.02667122520506382\n",
            "Eoch: 43, Loss: 0.018388958647847176\n",
            "Eoch: 44, Loss: 0.020976409316062927\n",
            "Eoch: 45, Loss: 0.05914284288883209\n",
            "Eoch: 46, Loss: 0.039124444127082825\n",
            "Eoch: 47, Loss: 0.016881141811609268\n",
            "Eoch: 48, Loss: 0.05087989941239357\n",
            "Eoch: 49, Loss: 0.035059455782175064\n",
            "Eoch: 50, Loss: 0.03795202076435089\n",
            "Eoch: 51, Loss: 0.03501024842262268\n",
            "Eoch: 52, Loss: 0.01414360199123621\n",
            "Eoch: 53, Loss: 0.01408130768686533\n",
            "Eoch: 54, Loss: 0.009514130651950836\n",
            "Eoch: 55, Loss: 0.02834373340010643\n",
            "Eoch: 56, Loss: 0.016862668097019196\n",
            "Eoch: 57, Loss: 0.015730472281575203\n",
            "Eoch: 58, Loss: 0.004898885264992714\n",
            "Eoch: 59, Loss: 0.014010501094162464\n",
            "Eoch: 60, Loss: 0.006263731978833675\n",
            "Eoch: 61, Loss: 0.01590166613459587\n",
            "Eoch: 62, Loss: 0.00915544480085373\n",
            "Eoch: 63, Loss: 0.012773607857525349\n",
            "Eoch: 64, Loss: 0.011235256679356098\n",
            "Eoch: 65, Loss: 0.009773089550435543\n",
            "Eoch: 66, Loss: 0.05403207615017891\n",
            "Eoch: 67, Loss: 0.029471812769770622\n",
            "Eoch: 68, Loss: 0.005884139332920313\n",
            "Eoch: 69, Loss: 0.00420629046857357\n",
            "Eoch: 70, Loss: 0.005533292889595032\n",
            "Eoch: 71, Loss: 0.021050065755844116\n",
            "Eoch: 72, Loss: 0.009372392669320107\n",
            "Eoch: 73, Loss: 0.01303593534976244\n",
            "Eoch: 74, Loss: 0.008248439989984035\n",
            "Eoch: 75, Loss: 0.006361301988363266\n",
            "Eoch: 76, Loss: 0.008210865780711174\n",
            "Eoch: 77, Loss: 0.005087047349661589\n",
            "Eoch: 78, Loss: 0.007856055162847042\n",
            "Eoch: 79, Loss: 0.012835242785513401\n",
            "Eoch: 80, Loss: 0.005527395289391279\n",
            "Eoch: 81, Loss: 0.008056220598518848\n",
            "Eoch: 82, Loss: 0.006261489354074001\n",
            "Eoch: 83, Loss: 0.0036349149886518717\n",
            "Eoch: 84, Loss: 0.00612451508641243\n",
            "Eoch: 85, Loss: 0.015396337024867535\n",
            "Eoch: 86, Loss: 0.006635026074945927\n",
            "Eoch: 87, Loss: 0.0061831106431782246\n",
            "Eoch: 88, Loss: 0.007599372882395983\n",
            "Eoch: 89, Loss: 0.009120756760239601\n",
            "Eoch: 90, Loss: 0.006592158228158951\n",
            "Eoch: 91, Loss: 0.006418601609766483\n",
            "Eoch: 92, Loss: 0.004013712052255869\n",
            "Eoch: 93, Loss: 0.009931963868439198\n",
            "Eoch: 94, Loss: 0.012713904492557049\n",
            "Eoch: 95, Loss: 0.007175835780799389\n",
            "Eoch: 96, Loss: 0.009941045194864273\n",
            "Eoch: 97, Loss: 0.009409718215465546\n",
            "Eoch: 98, Loss: 0.0036807600408792496\n",
            "Eoch: 99, Loss: 0.00470711337402463\n"
          ],
          "name": "stdout"
        }
      ]
    },
    {
      "cell_type": "code",
      "metadata": {
        "id": "nLrB-eoKVQSB",
        "colab": {
          "base_uri": "https://localhost:8080/"
        },
        "outputId": "3730468b-66fe-4862-fee5-34a8c4f19bf6"
      },
      "source": [
        "# Validamos el loss\n",
        "val_loader = torch.utils.data.DataLoader(validation_set, batch_size=64, shuffle=False)\n",
        "\n",
        "correct = 0\n",
        "total = 0\n",
        "\n",
        "with torch.no_grad():\n",
        "    for imgs, labels in val_loader:\n",
        "        outputs = model(imgs.view(imgs.shape[0], -1))\n",
        "        _, predicted = torch.max(outputs, dim=1)\n",
        "        total += labels.shape[0]\n",
        "\n",
        "        correct += int((predicted == labels).sum())\n",
        "\n",
        "print(\"Accuracy: %f\"% (correct / total))     "
      ],
      "execution_count": 22,
      "outputs": [
        {
          "output_type": "stream",
          "text": [
            "Accuracy: 0.874000\n"
          ],
          "name": "stdout"
        }
      ]
    },
    {
      "cell_type": "code",
      "metadata": {
        "id": "rnSjivB2eY2f",
        "colab": {
          "base_uri": "https://localhost:8080/"
        },
        "outputId": "63dde52f-580b-438e-9def-7a11dfba9d2b"
      },
      "source": [
        "img, label = validation_set[20]\n",
        "out = model(img.view(-1).unsqueeze(0))\n",
        "_, index = torch.max(out, dim=1)\n",
        "out"
      ],
      "execution_count": 23,
      "outputs": [
        {
          "output_type": "execute_result",
          "data": {
            "text/plain": [
              "tensor([[-3.3378e-05, -1.0308e+01]], grad_fn=<LogSoftmaxBackward>)"
            ]
          },
          "metadata": {
            "tags": []
          },
          "execution_count": 23
        }
      ]
    },
    {
      "cell_type": "code",
      "metadata": {
        "id": "EGLk2CVZeY-g",
        "colab": {
          "base_uri": "https://localhost:8080/",
          "height": 302
        },
        "outputId": "65db4406-8221-4b36-8b40-11424e850cf1"
      },
      "source": [
        "print('->: ',class_names[label],' model:',class_names[index])\n",
        "plt.imshow(img.permute(1, 2, 0))\n",
        "plt.show()"
      ],
      "execution_count": 24,
      "outputs": [
        {
          "output_type": "stream",
          "text": [
            "Clipping input data to the valid range for imshow with RGB data ([0..1] for floats or [0..255] for integers).\n"
          ],
          "name": "stderr"
        },
        {
          "output_type": "stream",
          "text": [
            "->:  car  model: car\n"
          ],
          "name": "stdout"
        },
        {
          "output_type": "display_data",
          "data": {
            "image/png": "[encoded data removed]",
            "text/plain": [
              "<Figure size 432x288 with 1 Axes>"
            ]
          },
          "metadata": {
            "tags": [],
            "needs_background": "light"
          }
        }
      ]
    },
    {
      "cell_type": "markdown",
      "metadata": {
        "id": "zfk4M_cjIGMu"
      },
      "source": [
        "# Mejoras, limitaciones y conclusiones"
      ]
    },
    {
      "cell_type": "code",
      "metadata": {
        "id": "7V90m59nf556",
        "colab": {
          "base_uri": "https://localhost:8080/"
        },
        "outputId": "097fcdfd-0ab1-406c-e588-fb574afa1cad"
      },
      "source": [
        "train_loader = torch.utils.data.DataLoader(data_set, batch_size=64, shuffle=True)\n",
        "\n",
        "model = nn.Sequential(\n",
        "    nn.Linear(3072, 1024), #3072 = 3*32*32 \n",
        "    nn.Tanh(),\n",
        "    nn.Linear(1024, 512),\n",
        "    nn.Tanh(),\n",
        "    nn.Linear(512,128),\n",
        "    nn.Tanh(),\n",
        "    nn.Linear(128,2),\n",
        "\n",
        ")\n",
        "\n",
        "#LogSoftmax tiene un efecto CrossEntropyLoss\n",
        "loss_function = nn.CrossEntropyLoss()\n",
        "\n",
        "optimizer = optim.SGD(model.parameters(), lr=0.01)\n",
        "\n",
        "n_epochs = 100 #iteraciones\n",
        "\n",
        "for epoch in range(n_epochs):\n",
        "  for img, label in train_loader:\n",
        "    out = model(img.view(img.shape[0], -1))\n",
        "    loss = loss_function(out, label)\n",
        "\n",
        "    optimizer.zero_grad()\n",
        "    loss.backward()\n",
        "    optimizer.step()\n",
        "\n",
        "  print(f\"Eoch: {epoch}, Loss: {float(loss)}\")"
      ],
      "execution_count": 25,
      "outputs": [
        {
          "output_type": "stream",
          "text": [
            "Eoch: 0, Loss: 0.4784146249294281\n",
            "Eoch: 1, Loss: 0.5297339558601379\n",
            "Eoch: 2, Loss: 0.30498120188713074\n",
            "Eoch: 3, Loss: 0.30666667222976685\n",
            "Eoch: 4, Loss: 0.20819248259067535\n",
            "Eoch: 5, Loss: 0.4358029067516327\n",
            "Eoch: 6, Loss: 0.3289766311645508\n",
            "Eoch: 7, Loss: 0.15222826600074768\n",
            "Eoch: 8, Loss: 0.27457311749458313\n",
            "Eoch: 9, Loss: 0.2518095076084137\n",
            "Eoch: 10, Loss: 0.266091525554657\n",
            "Eoch: 11, Loss: 0.26826509833335876\n",
            "Eoch: 12, Loss: 0.17525827884674072\n",
            "Eoch: 13, Loss: 0.21480593085289001\n",
            "Eoch: 14, Loss: 0.10604345053434372\n",
            "Eoch: 15, Loss: 0.2675420641899109\n",
            "Eoch: 16, Loss: 0.2905176281929016\n",
            "Eoch: 17, Loss: 0.19976942241191864\n",
            "Eoch: 18, Loss: 0.16239158809185028\n",
            "Eoch: 19, Loss: 0.08500850945711136\n",
            "Eoch: 20, Loss: 0.12642021477222443\n",
            "Eoch: 21, Loss: 0.23014028370380402\n",
            "Eoch: 22, Loss: 0.04110947251319885\n",
            "Eoch: 23, Loss: 0.06363316625356674\n",
            "Eoch: 24, Loss: 0.10527723282575607\n",
            "Eoch: 25, Loss: 0.16920727491378784\n",
            "Eoch: 26, Loss: 0.11040087044239044\n",
            "Eoch: 27, Loss: 0.0886845737695694\n",
            "Eoch: 28, Loss: 0.13608606159687042\n",
            "Eoch: 29, Loss: 0.026967577636241913\n",
            "Eoch: 30, Loss: 0.05126356706023216\n",
            "Eoch: 31, Loss: 0.013813487254083157\n",
            "Eoch: 32, Loss: 0.021336359903216362\n",
            "Eoch: 33, Loss: 0.031106868758797646\n",
            "Eoch: 34, Loss: 0.20715944468975067\n",
            "Eoch: 35, Loss: 0.03339183330535889\n",
            "Eoch: 36, Loss: 0.003658255795016885\n",
            "Eoch: 37, Loss: 0.003781628794968128\n",
            "Eoch: 38, Loss: 0.018362892791628838\n",
            "Eoch: 39, Loss: 0.04467290639877319\n",
            "Eoch: 40, Loss: 0.04178006201982498\n",
            "Eoch: 41, Loss: 0.00583270937204361\n",
            "Eoch: 42, Loss: 0.004727715160697699\n",
            "Eoch: 43, Loss: 0.005966127850115299\n",
            "Eoch: 44, Loss: 0.004624483175575733\n",
            "Eoch: 45, Loss: 0.006390341091901064\n",
            "Eoch: 46, Loss: 0.0027291174046695232\n",
            "Eoch: 47, Loss: 0.002521144226193428\n",
            "Eoch: 48, Loss: 0.002517882501706481\n",
            "Eoch: 49, Loss: 0.003922812640666962\n",
            "Eoch: 50, Loss: 0.0036098496057093143\n",
            "Eoch: 51, Loss: 0.0008431412279605865\n",
            "Eoch: 52, Loss: 0.0024577968288213015\n",
            "Eoch: 53, Loss: 0.0020169855561107397\n",
            "Eoch: 54, Loss: 0.0024729990400373936\n",
            "Eoch: 55, Loss: 0.001263512996956706\n",
            "Eoch: 56, Loss: 0.0013196829240769148\n",
            "Eoch: 57, Loss: 0.001710802665911615\n",
            "Eoch: 58, Loss: 0.0015118580777198076\n",
            "Eoch: 59, Loss: 0.0018489222275093198\n",
            "Eoch: 60, Loss: 0.00021385765285231173\n",
            "Eoch: 61, Loss: 0.0007322016172111034\n",
            "Eoch: 62, Loss: 0.0016668394673615694\n",
            "Eoch: 63, Loss: 0.0009565476793795824\n",
            "Eoch: 64, Loss: 0.0007479596533812582\n",
            "Eoch: 65, Loss: 0.000256420491496101\n",
            "Eoch: 66, Loss: 0.00037002519820816815\n",
            "Eoch: 67, Loss: 0.0014618565328419209\n",
            "Eoch: 68, Loss: 0.001981458393856883\n",
            "Eoch: 69, Loss: 0.0009229590650647879\n",
            "Eoch: 70, Loss: 0.0021222089417278767\n",
            "Eoch: 71, Loss: 0.00010180034587392583\n",
            "Eoch: 72, Loss: 0.0008452942129224539\n",
            "Eoch: 73, Loss: 0.0010360856540501118\n",
            "Eoch: 74, Loss: 0.0007781808380968869\n",
            "Eoch: 75, Loss: 0.0009577691089361906\n",
            "Eoch: 76, Loss: 0.0006736018694937229\n",
            "Eoch: 77, Loss: 0.0005118032568134367\n",
            "Eoch: 78, Loss: 0.00021731438755523413\n",
            "Eoch: 79, Loss: 3.965551877627149e-05\n",
            "Eoch: 80, Loss: 0.00047316719428636134\n",
            "Eoch: 81, Loss: 0.0008278281311504543\n",
            "Eoch: 82, Loss: 0.00029278761940076947\n",
            "Eoch: 83, Loss: 0.0004863716312684119\n",
            "Eoch: 84, Loss: 0.000232922044233419\n",
            "Eoch: 85, Loss: 0.00023666750348638743\n",
            "Eoch: 86, Loss: 0.0003643627860583365\n",
            "Eoch: 87, Loss: 0.0001891064312076196\n",
            "Eoch: 88, Loss: 0.00039155918057076633\n",
            "Eoch: 89, Loss: 0.00036522248410619795\n",
            "Eoch: 90, Loss: 0.00037749295006506145\n",
            "Eoch: 91, Loss: 0.0011877791257575154\n",
            "Eoch: 92, Loss: 0.00016352106467820704\n",
            "Eoch: 93, Loss: 0.0005088049219921231\n",
            "Eoch: 94, Loss: 0.0003107250959146768\n",
            "Eoch: 95, Loss: 0.00027644317015074193\n",
            "Eoch: 96, Loss: 0.0008533740183338523\n",
            "Eoch: 97, Loss: 0.0009056074777618051\n",
            "Eoch: 98, Loss: 0.0001553154579596594\n",
            "Eoch: 99, Loss: 0.00035453925374895334\n"
          ],
          "name": "stdout"
        }
      ]
    },
    {
      "cell_type": "code",
      "metadata": {
        "id": "2mhX1YG0hoc3",
        "colab": {
          "base_uri": "https://localhost:8080/"
        },
        "outputId": "eec688a3-a524-488a-bd71-8ae1c45eb466"
      },
      "source": [
        "# Validamos el loss\n",
        "train_loader = torch.utils.data.DataLoader(data_set, batch_size=64, shuffle=False)\n",
        "\n",
        "correct = 0\n",
        "total = 0\n",
        "\n",
        "with torch.no_grad():\n",
        "    for imgs, labels in train_loader:\n",
        "        outputs = model(imgs.view(imgs.shape[0], -1))\n",
        "        _, predicted = torch.max(outputs, dim=1)\n",
        "        total += labels.shape[0]\n",
        "\n",
        "        correct += int((predicted == labels).sum())\n",
        "\n",
        "print(\"Accuracy: %f\"% (correct / total)) "
      ],
      "execution_count": 26,
      "outputs": [
        {
          "output_type": "stream",
          "text": [
            "Accuracy: 1.000000\n"
          ],
          "name": "stdout"
        }
      ]
    },
    {
      "cell_type": "markdown",
      "metadata": {
        "id": "gr-yYqAFk3Uk"
      },
      "source": [
        "Nos encontramos con un modelo con overfiting sobre entrenado"
      ]
    },
    {
      "cell_type": "code",
      "metadata": {
        "id": "_N2wg1aklYLC",
        "colab": {
          "base_uri": "https://localhost:8080/"
        },
        "outputId": "8ca4240b-e425-43e4-aed2-24da842cb903"
      },
      "source": [
        "### realizamos una suma de parametros (pesos)\n",
        "sum([p.numel() for p in model.parameters() if p.requires_grad == True])"
      ],
      "execution_count": 27,
      "outputs": [
        {
          "output_type": "execute_result",
          "data": {
            "text/plain": [
              "3737474"
            ]
          },
          "metadata": {
            "tags": []
          },
          "execution_count": 27
        }
      ]
    },
    {
      "cell_type": "markdown",
      "metadata": {
        "id": "QBo0P8Sllvk1"
      },
      "source": [
        "El numero de parametros es muy grande para un dataset tan pequeño\n"
      ]
    },
    {
      "cell_type": "code",
      "metadata": {
        "id": "8hr9Cv3unCLS",
        "colab": {
          "base_uri": "https://localhost:8080/",
          "height": 319
        },
        "outputId": "5d43888e-0158-4918-b3aa-e53f810fe013"
      },
      "source": [
        "image = request.urlretrieve('https://i.pinimg.com/originals/43/bc/47/43bc47066bb8b2fa4fe7cc8e82cc3714.jpg','test,jpg')\n",
        "                            \n",
        "img = Image.open(image[0])\n",
        "\n",
        "preprocess = transforms.Compose([\n",
        "        transforms.Resize(48),\n",
        "        transforms.CenterCrop(32),\n",
        "        transforms.ToTensor(),\n",
        "        transforms.Normalize(\n",
        "            mean=[0.4915, 0.4823, 0.4468],\n",
        "            std=[0.2470, 0.2435, 0.2616]\n",
        "        )])\n",
        "\n",
        "img_t = preprocess(img)\n",
        "out = model(img_t.view(-1).unsqueeze(0))\n",
        "_, index = torch.max(out, dim=1)\n",
        "print('correct: car ',' model:',class_names[index])\n",
        "plt.imshow(img_t.permute(1, 2, 0))"
      ],
      "execution_count": 28,
      "outputs": [
        {
          "output_type": "stream",
          "text": [
            "Clipping input data to the valid range for imshow with RGB data ([0..1] for floats or [0..255] for integers).\n"
          ],
          "name": "stderr"
        },
        {
          "output_type": "stream",
          "text": [
            "correct: car   model: cat\n"
          ],
          "name": "stdout"
        },
        {
          "output_type": "execute_result",
          "data": {
            "text/plain": [
              "<matplotlib.image.AxesImage at 0x7f28a2afadd8>"
            ]
          },
          "metadata": {
            "tags": []
          },
          "execution_count": 28
        },
        {
          "output_type": "display_data",
          "data": {
            "image/png": "[encoded data removed]",
            "text/plain": [
              "<Figure size 432x288 with 1 Axes>"
            ]
          },
          "metadata": {
            "tags": [],
            "needs_background": "light"
          }
        }
      ]
    },
    {
      "cell_type": "markdown",
      "metadata": {
        "id": "6RQXGeXsnEGR"
      },
      "source": [
        "Subir un grado de mejora seria trabajar con convulucion"
      ]
    }
  ]
}