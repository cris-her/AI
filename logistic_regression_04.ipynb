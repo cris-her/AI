{
  "nbformat": 4,
  "nbformat_minor": 0,
  "metadata": {
    "colab": {
      "name": "logistic_regression_04.ipynb",
      "provenance": [],
      "authorship_tag": "ABX9TyNU9hMUjv9ZuWm93lK0X6Y5",
      "include_colab_link": true
    },
    "kernelspec": {
      "name": "python3",
      "display_name": "Python 3"
    }
  },
  "cells": [
    {
      "cell_type": "markdown",
      "metadata": {
        "id": "view-in-github",
        "colab_type": "text"
      },
      "source": [
        "<a href=\"https://colab.research.google.com/github/cris-her/AI/blob/master/logistic_regression_04.ipynb\" target=\"_parent\"><img src=\"https://colab.research.google.com/assets/colab-badge.svg\" alt=\"Open In Colab\"/></a>"
      ]
    },
    {
      "cell_type": "markdown",
      "metadata": {
        "id": "QWQf8i8Tx-tH"
      },
      "source": [
        "Contra sesgo y varianza: técnicas de feature selection y feature extraction (PCA), regularizacion y balanceo (oversampling y undersampling).\n",
        "\n",
        "Kernels comunes: lineales, polinomiales y gaussianos (RGF)."
      ]
    },
    {
      "cell_type": "code",
      "metadata": {
        "id": "z_tMHMOnSJF8"
      },
      "source": [
        "import pandas as pd\n",
        "import sklearn \n",
        "import matplotlib.pyplot as plt\n",
        "\n",
        "from sklearn.decomposition import PCA\n",
        "from sklearn.decomposition import IncrementalPCA\n",
        "from sklearn.decomposition import KernelPCA\n",
        "\n",
        "from sklearn.linear_model import LogisticRegression\n",
        "\n",
        "from sklearn.preprocessing import StandardScaler\n",
        "from sklearn.model_selection import train_test_split"
      ],
      "execution_count": 1,
      "outputs": []
    },
    {
      "cell_type": "code",
      "metadata": {
        "colab": {
          "base_uri": "https://localhost:8080/"
        },
        "id": "VgImohYESY0U",
        "outputId": "f1e2dcdf-e878-43e6-c0ff-83240f1af479"
      },
      "source": [
        "dt_heart = pd.read_csv('https://raw.githubusercontent.com/cris-her/AI/master/heart.csv')\n",
        "print(dt_heart.head(5))"
      ],
      "execution_count": 2,
      "outputs": [
        {
          "output_type": "stream",
          "text": [
            "   age  sex  cp  trestbps  chol  fbs  ...  exang  oldpeak  slope  ca  thal  target\n",
            "0   52    1   0       125   212    0  ...      0      1.0      2   2     3       0\n",
            "1   53    1   0       140   203    1  ...      1      3.1      0   0     3       0\n",
            "2   70    1   0       145   174    0  ...      1      2.6      0   0     3       0\n",
            "3   61    1   0       148   203    0  ...      0      0.0      2   1     3       0\n",
            "4   62    0   0       138   294    1  ...      0      1.9      1   3     2       0\n",
            "\n",
            "[5 rows x 14 columns]\n"
          ],
          "name": "stdout"
        }
      ]
    },
    {
      "cell_type": "code",
      "metadata": {
        "colab": {
          "base_uri": "https://localhost:8080/"
        },
        "id": "hnDl0IYvS2kn",
        "outputId": "2bb1b835-767e-4ecf-c5dd-683080907d35"
      },
      "source": [
        "dt_features  = dt_heart.drop(['target'], axis=1)\n",
        "dt_target = dt_heart['target']\n",
        "\n",
        "dt_features = StandardScaler().fit_transform(dt_features)\n",
        "\n",
        "X_train, X_test, y_train, y_test = train_test_split(dt_features, dt_target, test_size=0.3, random_state=42)\n",
        "\n",
        "print(X_train.shape)\n",
        "print(y_train.shape)"
      ],
      "execution_count": 3,
      "outputs": [
        {
          "output_type": "stream",
          "text": [
            "(717, 13)\n",
            "(717,)\n"
          ],
          "name": "stdout"
        }
      ]
    },
    {
      "cell_type": "code",
      "metadata": {
        "colab": {
          "base_uri": "https://localhost:8080/",
          "height": 265
        },
        "id": "KwzHUb7xS-hK",
        "outputId": "37d23659-7370-4f9a-8983-9d58184a28c7"
      },
      "source": [
        "#n_components = min(n_muestras, n_features)\n",
        "pca = PCA(n_components=3)\n",
        "pca.fit(X_train)\n",
        "\n",
        "ipca = IncrementalPCA(n_components=3, batch_size=10)\n",
        "ipca.fit(X_train)\n",
        "\n",
        "plt.plot(range(len(pca.explained_variance_)), pca.explained_variance_ratio_)\n",
        "plt.show()"
      ],
      "execution_count": 4,
      "outputs": [
        {
          "output_type": "display_data",
          "data": {
            "image/png": "[encoded data removed]",
            "text/plain": [
              "<Figure size 432x288 with 1 Axes>"
            ]
          },
          "metadata": {
            "tags": [],
            "needs_background": "light"
          }
        }
      ]
    },
    {
      "cell_type": "code",
      "metadata": {
        "colab": {
          "base_uri": "https://localhost:8080/"
        },
        "id": "vpEbYtcgTzuc",
        "outputId": "c3e5561d-beed-4e21-86a1-db36661e3062"
      },
      "source": [
        "kpca = KernelPCA(n_components=4, kernel='poly' )\n",
        "kpca.fit(X_train)"
      ],
      "execution_count": 5,
      "outputs": [
        {
          "output_type": "execute_result",
          "data": {
            "text/plain": [
              "KernelPCA(alpha=1.0, coef0=1, copy_X=True, degree=3, eigen_solver='auto',\n",
              "          fit_inverse_transform=False, gamma=None, kernel='poly',\n",
              "          kernel_params=None, max_iter=None, n_components=4, n_jobs=None,\n",
              "          random_state=None, remove_zero_eig=False, tol=0)"
            ]
          },
          "metadata": {
            "tags": []
          },
          "execution_count": 5
        }
      ]
    },
    {
      "cell_type": "code",
      "metadata": {
        "id": "uJxlyc_jTz5n"
      },
      "source": [
        "logistic = LogisticRegression(solver='lbfgs')"
      ],
      "execution_count": 6,
      "outputs": []
    },
    {
      "cell_type": "code",
      "metadata": {
        "colab": {
          "base_uri": "https://localhost:8080/"
        },
        "id": "lhGiHoTRTz-w",
        "outputId": "1e5c208e-a5e4-485d-f835-a10ac135ef5b"
      },
      "source": [
        "dt_train = pca.transform(X_train)\n",
        "dt_test = pca.transform(X_test)\n",
        "logistic.fit(dt_train,y_train)\n",
        "print(\"SCORE PCA: \", logistic.score(dt_test, y_test))"
      ],
      "execution_count": 7,
      "outputs": [
        {
          "output_type": "stream",
          "text": [
            "SCORE PCA:  0.7857142857142857\n"
          ],
          "name": "stdout"
        }
      ]
    },
    {
      "cell_type": "code",
      "metadata": {
        "colab": {
          "base_uri": "https://localhost:8080/"
        },
        "id": "fmfBF4-mT0Bt",
        "outputId": "7eee15ce-b632-48e7-98a2-523ec1e61463"
      },
      "source": [
        "dt_train = ipca.transform(X_train)\n",
        "dt_test = ipca.transform(X_test)\n",
        "logistic.fit(dt_train, y_train)\n",
        "print(\"SCORE IPCA: \", logistic.score(dt_test, y_test))"
      ],
      "execution_count": 8,
      "outputs": [
        {
          "output_type": "stream",
          "text": [
            "SCORE IPCA:  0.8051948051948052\n"
          ],
          "name": "stdout"
        }
      ]
    },
    {
      "cell_type": "code",
      "metadata": {
        "colab": {
          "base_uri": "https://localhost:8080/"
        },
        "id": "qA-R70XOT0En",
        "outputId": "de33dada-de39-4b23-e9a5-65e9eafce630"
      },
      "source": [
        "dt_train = kpca.transform(X_train)\n",
        "dt_test = kpca.transform(X_test)\n",
        "logistic.fit(dt_train, y_train)\n",
        "print(\"SCORE KPCA: \", logistic.score(dt_test, y_test))"
      ],
      "execution_count": 9,
      "outputs": [
        {
          "output_type": "stream",
          "text": [
            "SCORE KPCA:  0.7987012987012987\n"
          ],
          "name": "stdout"
        }
      ]
    }
  ]
}