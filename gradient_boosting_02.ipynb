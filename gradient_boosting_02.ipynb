{
  "nbformat": 4,
  "nbformat_minor": 0,
  "metadata": {
    "colab": {
      "name": "gradient_boosting_02.ipynb",
      "provenance": [],
      "authorship_tag": "ABX9TyN974UbiaN3w9xIG/FM/Cyv",
      "include_colab_link": true
    },
    "kernelspec": {
      "name": "python3",
      "display_name": "Python 3"
    }
  },
  "cells": [
    {
      "cell_type": "markdown",
      "metadata": {
        "id": "view-in-github",
        "colab_type": "text"
      },
      "source": [
        "<a href=\"https://colab.research.google.com/github/cris-her/AI/blob/master/gradient_boosting_02.ipynb\" target=\"_parent\"><img src=\"https://colab.research.google.com/assets/colab-badge.svg\" alt=\"Open In Colab\"/></a>"
      ]
    },
    {
      "cell_type": "code",
      "metadata": {
        "id": "oh8oxc5glLZS"
      },
      "source": [
        "import pandas as pd\n",
        "import sklearn\n",
        "\n",
        "from sklearn.ensemble import GradientBoostingClassifier\n",
        "\n",
        "from sklearn.model_selection import train_test_split\n",
        "from sklearn.metrics import accuracy_score"
      ],
      "execution_count": 1,
      "outputs": []
    },
    {
      "cell_type": "code",
      "metadata": {
        "colab": {
          "base_uri": "https://localhost:8080/"
        },
        "id": "J8dSULralWKD",
        "outputId": "10951fe7-a912-4abd-80e7-aae76d8a912c"
      },
      "source": [
        "dt_heart = pd.read_csv('https://raw.githubusercontent.com/cris-her/AI/master/heart.csv')\n",
        "\n",
        "print(dt_heart['target'].describe())"
      ],
      "execution_count": 2,
      "outputs": [
        {
          "output_type": "stream",
          "text": [
            "count    1025.000000\n",
            "mean        0.513171\n",
            "std         0.500070\n",
            "min         0.000000\n",
            "25%         0.000000\n",
            "50%         1.000000\n",
            "75%         1.000000\n",
            "max         1.000000\n",
            "Name: target, dtype: float64\n"
          ],
          "name": "stdout"
        }
      ]
    },
    {
      "cell_type": "code",
      "metadata": {
        "id": "viHL7qHBlWSI"
      },
      "source": [
        "X = dt_heart.drop(['target'], axis=1)\n",
        "y = dt_heart['target']\n",
        "\n",
        "X_train, X_test, y_train, y_test = train_test_split(X,y, test_size=0.3)"
      ],
      "execution_count": 3,
      "outputs": []
    },
    {
      "cell_type": "code",
      "metadata": {
        "colab": {
          "base_uri": "https://localhost:8080/"
        },
        "id": "gA4CdB1mlWOj",
        "outputId": "f3360f44-651f-464a-c003-01c69de87658"
      },
      "source": [
        "boost = GradientBoostingClassifier(n_estimators=50).fit(X_train, y_train)\n",
        "boost_pred = boost.predict(X_test)\n",
        "print(\"=\"*64)\n",
        "print(accuracy_score(boost_pred, y_test))"
      ],
      "execution_count": 4,
      "outputs": [
        {
          "output_type": "stream",
          "text": [
            "================================================================\n",
            "0.9642857142857143\n"
          ],
          "name": "stdout"
        }
      ]
    }
  ]
}