{
  "nbformat": 4,
  "nbformat_minor": 0,
  "metadata": {
    "colab": {
      "name": "svm_02.ipynb",
      "provenance": [],
      "authorship_tag": "ABX9TyNktdhtXBfXkneU1FnXWFu8",
      "include_colab_link": true
    },
    "kernelspec": {
      "name": "python3",
      "display_name": "Python 3"
    }
  },
  "cells": [
    {
      "cell_type": "markdown",
      "metadata": {
        "id": "view-in-github",
        "colab_type": "text"
      },
      "source": [
        "<a href=\"https://colab.research.google.com/github/cris-her/AI/blob/master/svm_02.ipynb\" target=\"_parent\"><img src=\"https://colab.research.google.com/assets/colab-badge.svg\" alt=\"Open In Colab\"/></a>"
      ]
    },
    {
      "cell_type": "markdown",
      "metadata": {
        "id": "Jr25vmt52LEx"
      },
      "source": [
        "¿Cómo identificar valores atípicos?\n",
        "- Z-Score\n",
        "- DBSCAN\n",
        "- Si q< Q1-1.5 *IQR ó q> Q3+1.5 *IQR\n",
        "\n",
        "Regresiones robustas.\n",
        "- Random Sample Consensus (RANSAC)\n",
        "- Huber Reggresor"
      ]
    },
    {
      "cell_type": "code",
      "metadata": {
        "id": "XpeDMqm-YgtX"
      },
      "source": [
        "import pandas as pd\n",
        "\n",
        "from sklearn.linear_model import (\n",
        "    RANSACRegressor, HuberRegressor\n",
        ")\n",
        "from sklearn.svm import SVR\n",
        "\n",
        "from sklearn.model_selection import train_test_split\n",
        "from sklearn.metrics  import mean_squared_error"
      ],
      "execution_count": 1,
      "outputs": []
    },
    {
      "cell_type": "code",
      "metadata": {
        "colab": {
          "base_uri": "https://localhost:8080/"
        },
        "id": "Dvy5eKGQYkB6",
        "outputId": "637d1948-04bd-4595-ca6e-b20749b6921a"
      },
      "source": [
        "dataset =  pd.read_csv('https://raw.githubusercontent.com/cris-her/AI/master/felicidad_corrupt.csv')\n",
        "print(dataset.head(5))"
      ],
      "execution_count": 2,
      "outputs": [
        {
          "output_type": "stream",
          "text": [
            "       country  rank  score  ...  generosity  corruption  dystopia\n",
            "0       Norway     1  7.537  ...    0.362012    0.315964  2.277027\n",
            "1      Denmark     2  7.522  ...    0.355280    0.400770  2.313707\n",
            "2      Iceland     3  7.504  ...    0.475540    0.153527  2.322715\n",
            "3  Switzerland     4  7.494  ...    0.290549    0.367007  2.276716\n",
            "4      Finland     5  7.469  ...    0.245483    0.382612  2.430182\n",
            "\n",
            "[5 rows x 12 columns]\n"
          ],
          "name": "stdout"
        }
      ]
    },
    {
      "cell_type": "code",
      "metadata": {
        "id": "vc0nLblIYkFQ"
      },
      "source": [
        "X = dataset.drop(['country', 'score'], axis=1)\n",
        "y = dataset[['score']]\n",
        "\n",
        "X_train, X_test, y_train, y_test = train_test_split(X,y, test_size=0.3, random_state=42)"
      ],
      "execution_count": 3,
      "outputs": []
    },
    {
      "cell_type": "code",
      "metadata": {
        "id": "3qgeUAf9YkID"
      },
      "source": [
        "estimators = {\n",
        "    'SVR' : SVR(gamma= 'auto', C=1.0, epsilon=0.1),\n",
        "    'RANSAC' : RANSACRegressor(),\n",
        "    'HUBER' : HuberRegressor(epsilon=1.35)\n",
        "}"
      ],
      "execution_count": 4,
      "outputs": []
    },
    {
      "cell_type": "code",
      "metadata": {
        "colab": {
          "base_uri": "https://localhost:8080/"
        },
        "id": "4AQ-v0a-YkK8",
        "outputId": "f1557029-5d79-43d6-aca2-46b6005e0134"
      },
      "source": [
        "for name, estimator in estimators.items():\n",
        "    estimator.fit(X_train, y_train)\n",
        "    predictions = estimator.predict(X_test)\n",
        "    print(\"=\"*64)\n",
        "    print(name)\n",
        "    print(\"MSE: \", mean_squared_error(y_test, predictions))"
      ],
      "execution_count": 5,
      "outputs": [
        {
          "output_type": "stream",
          "text": [
            "================================================================\n",
            "SVR\n",
            "MSE:  0.0745577130188853\n",
            "================================================================\n",
            "RANSAC\n",
            "MSE:  1.2756407570133312e-19\n",
            "================================================================\n",
            "HUBER\n",
            "MSE:  7.638511305649558e-07\n"
          ],
          "name": "stdout"
        },
        {
          "output_type": "stream",
          "text": [
            "/usr/local/lib/python3.6/dist-packages/sklearn/utils/validation.py:760: DataConversionWarning: A column-vector y was passed when a 1d array was expected. Please change the shape of y to (n_samples, ), for example using ravel().\n",
            "  y = column_or_1d(y, warn=True)\n",
            "/usr/local/lib/python3.6/dist-packages/sklearn/utils/validation.py:760: DataConversionWarning: A column-vector y was passed when a 1d array was expected. Please change the shape of y to (n_samples, ), for example using ravel().\n",
            "  y = column_or_1d(y, warn=True)\n",
            "/usr/local/lib/python3.6/dist-packages/sklearn/linear_model/_huber.py:296: ConvergenceWarning: lbfgs failed to converge (status=1):\n",
            "STOP: TOTAL NO. of ITERATIONS REACHED LIMIT.\n",
            "\n",
            "Increase the number of iterations (max_iter) or scale the data as shown in:\n",
            "    https://scikit-learn.org/stable/modules/preprocessing.html\n",
            "  self.n_iter_ = _check_optimize_result(\"lbfgs\", opt_res, self.max_iter)\n"
          ],
          "name": "stderr"
        }
      ]
    }
  ]
}