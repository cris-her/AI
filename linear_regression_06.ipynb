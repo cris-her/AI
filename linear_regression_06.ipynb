{
  "nbformat": 4,
  "nbformat_minor": 0,
  "metadata": {
    "colab": {
      "name": "linear_regression_06.ipynb",
      "provenance": [],
      "authorship_tag": "ABX9TyPYTDZuzXR+A4CBa7rPGyuN",
      "include_colab_link": true
    },
    "kernelspec": {
      "name": "python3",
      "display_name": "Python 3"
    }
  },
  "cells": [
    {
      "cell_type": "markdown",
      "metadata": {
        "id": "view-in-github",
        "colab_type": "text"
      },
      "source": [
        "<a href=\"https://colab.research.google.com/github/cris-her/AI/blob/master/linear_regression_06.ipynb\" target=\"_parent\"><img src=\"https://colab.research.google.com/assets/colab-badge.svg\" alt=\"Open In Colab\"/></a>"
      ]
    },
    {
      "cell_type": "markdown",
      "metadata": {
        "id": "Ecr2cCU906LE"
      },
      "source": [
        "Regularización --> +sesgo por -varianza\n",
        "\n",
        "L1 Lasso, L2 Ridge y ElasticNet.\n"
      ]
    },
    {
      "cell_type": "code",
      "metadata": {
        "id": "z831SDQmWs0l"
      },
      "source": [
        "import pandas as pd\n",
        "import sklearn\n",
        "\n",
        "from sklearn.linear_model import LinearRegression\n",
        "from sklearn.linear_model import Lasso\n",
        "from sklearn.linear_model import Ridge\n",
        "\n",
        "from sklearn.model_selection import train_test_split\n",
        "from sklearn.metrics import mean_squared_error"
      ],
      "execution_count": 1,
      "outputs": []
    },
    {
      "cell_type": "code",
      "metadata": {
        "colab": {
          "base_uri": "https://localhost:8080/"
        },
        "id": "I_8678TDXMnn",
        "outputId": "2b96770b-0c19-4d8d-bd30-7207d3ffbd86"
      },
      "source": [
        "dataset = pd.read_csv('https://raw.githubusercontent.com/cris-her/AI/master/felicidad.csv')\n",
        "print(dataset.describe())"
      ],
      "execution_count": 2,
      "outputs": [
        {
          "output_type": "stream",
          "text": [
            "             rank       score        high  ...  generosity  corruption    dystopia\n",
            "count  155.000000  155.000000  155.000000  ...  155.000000  155.000000  155.000000\n",
            "mean    78.000000    5.354019    5.452326  ...    0.246883    0.123120    1.850238\n",
            "std     44.888751    1.131230    1.118542  ...    0.134780    0.101661    0.500028\n",
            "min      1.000000    2.693000    2.864884  ...    0.000000    0.000000    0.377914\n",
            "25%     39.500000    4.505500    4.608172  ...    0.154106    0.057271    1.591291\n",
            "50%     78.000000    5.279000    5.370032  ...    0.231538    0.089848    1.832910\n",
            "75%    116.500000    6.101500    6.194600  ...    0.323762    0.153296    2.144654\n",
            "max    155.000000    7.537000    7.622030  ...    0.838075    0.464308    3.117485\n",
            "\n",
            "[8 rows x 11 columns]\n"
          ],
          "name": "stdout"
        }
      ]
    },
    {
      "cell_type": "code",
      "metadata": {
        "colab": {
          "base_uri": "https://localhost:8080/"
        },
        "id": "ow3seybZXMrK",
        "outputId": "a49892f7-f0fd-4afa-d8fd-4b0af06bc9ea"
      },
      "source": [
        "X = dataset[['gdp', 'family', 'lifexp', 'freedom' , 'corruption' , 'generosity', 'dystopia']]\n",
        "y = dataset[['score']]\n",
        "\n",
        "print(X.shape)\n",
        "print(y.shape)"
      ],
      "execution_count": 3,
      "outputs": [
        {
          "output_type": "stream",
          "text": [
            "(155, 7)\n",
            "(155, 1)\n"
          ],
          "name": "stdout"
        }
      ]
    },
    {
      "cell_type": "code",
      "metadata": {
        "id": "Tn3pUud5XMuU"
      },
      "source": [
        "X_train, X_test, y_train, y_test = train_test_split(X,y, test_size=0.25)\n",
        "\n",
        "modelLinear = LinearRegression().fit(X_train, y_train)\n",
        "y_predict_linear =  modelLinear.predict(X_test)\n",
        "\n",
        "modelLasso = Lasso(alpha=0.02).fit(X_train, y_train)\n",
        "y_predict_lasso = modelLasso.predict(X_test)\n",
        "\n",
        "modelRidge = Ridge(alpha=1).fit(X_train, y_train)\n",
        "y_predict_ridge = modelRidge.predict(X_test)"
      ],
      "execution_count": 4,
      "outputs": []
    },
    {
      "cell_type": "code",
      "metadata": {
        "colab": {
          "base_uri": "https://localhost:8080/"
        },
        "id": "ISxuKQ3WXMxM",
        "outputId": "345dc93b-8647-44cd-814f-51effa84b3a5"
      },
      "source": [
        "linear_loss = mean_squared_error(y_test, y_predict_linear)\n",
        "print(\"Linear Loss:\", linear_loss)"
      ],
      "execution_count": 5,
      "outputs": [
        {
          "output_type": "stream",
          "text": [
            "Linear Loss: 1.1824008253526237e-07\n"
          ],
          "name": "stdout"
        }
      ]
    },
    {
      "cell_type": "code",
      "metadata": {
        "colab": {
          "base_uri": "https://localhost:8080/"
        },
        "id": "FzL7bnjdXMzs",
        "outputId": "3ea17d92-6bb3-4010-abb4-f7d78ab0e1e6"
      },
      "source": [
        "lasso_loss = mean_squared_error(y_test, y_predict_lasso)\n",
        "print(\"Lasso Loss: \", lasso_loss)"
      ],
      "execution_count": 6,
      "outputs": [
        {
          "output_type": "stream",
          "text": [
            "Lasso Loss:  0.03323803866462378\n"
          ],
          "name": "stdout"
        }
      ]
    },
    {
      "cell_type": "code",
      "metadata": {
        "colab": {
          "base_uri": "https://localhost:8080/"
        },
        "id": "MegNAUxFXuF3",
        "outputId": "b05eff97-a6ec-4ff9-e5b6-0cc1e3636666"
      },
      "source": [
        "ridge_loss = mean_squared_error(y_test, y_predict_ridge)\n",
        "print(\"Ridge Loss: \", ridge_loss)"
      ],
      "execution_count": 7,
      "outputs": [
        {
          "output_type": "stream",
          "text": [
            "Ridge Loss:  0.00445620493884354\n"
          ],
          "name": "stdout"
        }
      ]
    },
    {
      "cell_type": "code",
      "metadata": {
        "colab": {
          "base_uri": "https://localhost:8080/"
        },
        "id": "RX_yjuHBXuPy",
        "outputId": "6ec0414a-2a45-431b-fc77-6b82f30d01e6"
      },
      "source": [
        "print(\"=\"*32)\n",
        "print(\"Coef LASSO\")\n",
        "print(modelLasso.coef_)"
      ],
      "execution_count": 8,
      "outputs": [
        {
          "output_type": "stream",
          "text": [
            "================================\n",
            "Coef LASSO\n",
            "[1.30498602 0.85471684 0.54707589 0.73347656 0.         0.38164679\n",
            " 0.88778337]\n"
          ],
          "name": "stdout"
        }
      ]
    },
    {
      "cell_type": "code",
      "metadata": {
        "colab": {
          "base_uri": "https://localhost:8080/"
        },
        "id": "gHk77oFtX5iX",
        "outputId": "e8a73541-1a33-4ae4-b5de-fe02b0ced74f"
      },
      "source": [
        "print(\"=\"*32)\n",
        "print(\"Coef RIDGE\")\n",
        "print(modelRidge.coef_)"
      ],
      "execution_count": 9,
      "outputs": [
        {
          "output_type": "stream",
          "text": [
            "================================\n",
            "Coef RIDGE\n",
            "[[1.07897    0.95099537 0.87730989 0.88334003 0.6412718  0.79202554\n",
            "  0.95624068]]\n"
          ],
          "name": "stdout"
        }
      ]
    }
  ]
}