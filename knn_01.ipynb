{
  "nbformat": 4,
  "nbformat_minor": 0,
  "metadata": {
    "kernelspec": {
      "display_name": "Python 3",
      "language": "python",
      "name": "python3"
    },
    "language_info": {
      "codemirror_mode": {
        "name": "ipython",
        "version": 3
      },
      "file_extension": ".py",
      "mimetype": "text/x-python",
      "name": "python",
      "nbconvert_exporter": "python",
      "pygments_lexer": "ipython3",
      "version": "3.5.2"
    },
    "colab": {
      "name": "knn_01.ipynb",
      "provenance": [],
      "include_colab_link": true
    }
  },
  "cells": [
    {
      "cell_type": "markdown",
      "metadata": {
        "id": "view-in-github",
        "colab_type": "text"
      },
      "source": [
        "<a href=\"https://colab.research.google.com/github/cris-her/AI/blob/master/knn_01.ipynb\" target=\"_parent\"><img src=\"https://colab.research.google.com/assets/colab-badge.svg\" alt=\"Open In Colab\"/></a>"
      ]
    },
    {
      "cell_type": "code",
      "metadata": {
        "id": "YGmyJl9v0teR"
      },
      "source": [
        "import warnings\n",
        "warnings.simplefilter(\"ignore\")"
      ],
      "execution_count": 1,
      "outputs": []
    },
    {
      "cell_type": "code",
      "metadata": {
        "id": "ATp9-tPP0teS"
      },
      "source": [
        "%matplotlib inline\n",
        "import numpy as np\n",
        "import pandas as pd\n",
        "import matplotlib.pyplot as plt"
      ],
      "execution_count": 2,
      "outputs": []
    },
    {
      "cell_type": "markdown",
      "metadata": {
        "id": "S9wwuB7V0teS"
      },
      "source": [
        "## Métodos de evaluación "
      ]
    },
    {
      "cell_type": "code",
      "metadata": {
        "id": "azMdJ7bO74H9"
      },
      "source": [
        "X = pd.read_csv('https://raw.githubusercontent.com/cris-her/datasets-platzi-course/master/intermediate_results/X_opening.csv')\n",
        "y = X['worldwide_gross']\n",
        "X = X.drop('worldwide_gross',axis=1)"
      ],
      "execution_count": 3,
      "outputs": []
    },
    {
      "cell_type": "markdown",
      "metadata": {
        "id": "pTsstYdJ0teV"
      },
      "source": [
        "**Validation Curves y Learning Curves**"
      ]
    },
    {
      "cell_type": "code",
      "metadata": {
        "colab": {
          "base_uri": "https://localhost:8080/"
        },
        "id": "3SOOt6cO0teV",
        "outputId": "78656de3-33dd-40c0-c4b5-c3e037712061"
      },
      "source": [
        "from sklearn.model_selection import cross_validate\n",
        "from sklearn.neighbors import KNeighborsRegressor\n",
        "\n",
        "cross_validate(KNeighborsRegressor(), X, y, cv=5)"
      ],
      "execution_count": 4,
      "outputs": [
        {
          "output_type": "execute_result",
          "data": {
            "text/plain": [
              "{'fit_time': array([0.00343108, 0.0027957 , 0.00267053, 0.00266504, 0.00266433]),\n",
              " 'score_time': array([0.00340104, 0.0042479 , 0.0040319 , 0.00385642, 0.00327706]),\n",
              " 'test_score': array([0.3647382 , 0.59274527, 0.21545625, 0.15143495, 0.25635077])}"
            ]
          },
          "metadata": {
            "tags": []
          },
          "execution_count": 4
        }
      ]
    },
    {
      "cell_type": "code",
      "metadata": {
        "colab": {
          "base_uri": "https://localhost:8080/"
        },
        "id": "s__AYnnd0teW",
        "outputId": "0f469300-eb74-4ba9-ad10-43bca85a1428"
      },
      "source": [
        "cross_validate(KNeighborsRegressor(n_neighbors=10), X, y, cv=5)"
      ],
      "execution_count": 5,
      "outputs": [
        {
          "output_type": "execute_result",
          "data": {
            "text/plain": [
              "{'fit_time': array([0.0058744 , 0.00291061, 0.00273705, 0.00268698, 0.00285554]),\n",
              " 'score_time': array([0.00620675, 0.00500822, 0.00477028, 0.00461197, 0.0040462 ]),\n",
              " 'test_score': array([0.23553954, 0.61921355, 0.24881301, 0.1209604 , 0.2466995 ])}"
            ]
          },
          "metadata": {
            "tags": []
          },
          "execution_count": 5
        }
      ]
    },
    {
      "cell_type": "code",
      "metadata": {
        "colab": {
          "base_uri": "https://localhost:8080/"
        },
        "id": "vdIMZERt0teW",
        "outputId": "81f42708-de3b-4c0b-9b70-3d1ecce77e2a"
      },
      "source": [
        "n = np.arange(2,50,2)\n",
        "n"
      ],
      "execution_count": 6,
      "outputs": [
        {
          "output_type": "execute_result",
          "data": {
            "text/plain": [
              "array([ 2,  4,  6,  8, 10, 12, 14, 16, 18, 20, 22, 24, 26, 28, 30, 32, 34,\n",
              "       36, 38, 40, 42, 44, 46, 48])"
            ]
          },
          "metadata": {
            "tags": []
          },
          "execution_count": 6
        }
      ]
    },
    {
      "cell_type": "code",
      "metadata": {
        "colab": {
          "base_uri": "https://localhost:8080/"
        },
        "id": "s8YfJkyJ0teW",
        "outputId": "90ea595c-9076-4be1-daa3-fdc7104da4e8"
      },
      "source": [
        "n.shape"
      ],
      "execution_count": 7,
      "outputs": [
        {
          "output_type": "execute_result",
          "data": {
            "text/plain": [
              "(24,)"
            ]
          },
          "metadata": {
            "tags": []
          },
          "execution_count": 7
        }
      ]
    },
    {
      "cell_type": "code",
      "metadata": {
        "id": "xS3FsCxe0teW"
      },
      "source": [
        "from sklearn.model_selection import validation_curve\n",
        "\n",
        "train_scores, test_scores = validation_curve(KNeighborsRegressor(),\n",
        "                                            X,\n",
        "                                            y,\n",
        "                                            param_name='n_neighbors',\n",
        "                                            param_range=n,\n",
        "                                            cv=5)"
      ],
      "execution_count": 8,
      "outputs": []
    },
    {
      "cell_type": "code",
      "metadata": {
        "colab": {
          "base_uri": "https://localhost:8080/"
        },
        "id": "LRS-65lO0teW",
        "outputId": "46e79843-9edc-473f-bcd7-d802770c619d"
      },
      "source": [
        "np.mean(train_scores,axis=1)"
      ],
      "execution_count": 9,
      "outputs": [
        {
          "output_type": "execute_result",
          "data": {
            "text/plain": [
              "array([0.86831591, 0.79120817, 0.7593398 , 0.7498298 , 0.74238245,\n",
              "       0.73284018, 0.72586058, 0.71779833, 0.71281982, 0.70976325,\n",
              "       0.70723469, 0.70502429, 0.70174649, 0.69741543, 0.69379214,\n",
              "       0.69163113, 0.68955146, 0.6862285 , 0.68321376, 0.68018032,\n",
              "       0.67885534, 0.67522056, 0.67135123, 0.66953759])"
            ]
          },
          "metadata": {
            "tags": []
          },
          "execution_count": 9
        }
      ]
    },
    {
      "cell_type": "code",
      "metadata": {
        "scrolled": false,
        "colab": {
          "base_uri": "https://localhost:8080/",
          "height": 268
        },
        "id": "JlhwhKE10teX",
        "outputId": "ac9c2618-efa5-4090-f6fc-32bdea00b5e9"
      },
      "source": [
        "plt.plot(np.mean(train_scores,axis=1))\n",
        "plt.plot(np.mean(test_scores,axis=1))\n",
        "plt.xticks(np.arange(24),n);"
      ],
      "execution_count": 10,
      "outputs": [
        {
          "output_type": "display_data",
          "data": {
            "image/png": "[encoded data removed]",
            "text/plain": [
              "<Figure size 432x288 with 1 Axes>"
            ]
          },
          "metadata": {
            "tags": [],
            "needs_background": "light"
          }
        }
      ]
    },
    {
      "cell_type": "code",
      "metadata": {
        "id": "eP0f6aVk0teX"
      },
      "source": [
        "from sklearn.model_selection import learning_curve\n",
        "\n",
        "lc = learning_curve(KNeighborsRegressor(n_neighbors=6),X,y,cv=5)\n",
        "samples, train, test = lc[0], lc[1], lc[2]"
      ],
      "execution_count": 11,
      "outputs": []
    },
    {
      "cell_type": "code",
      "metadata": {
        "colab": {
          "base_uri": "https://localhost:8080/",
          "height": 281
        },
        "id": "K-stsw2o0teX",
        "outputId": "4c07c634-4cb2-4d95-e342-fdc7752622b5"
      },
      "source": [
        "plt.plot(samples[1:],np.mean(train,axis=1)[1:])\n",
        "plt.plot(samples[1:],np.mean(test,axis=1)[1:])"
      ],
      "execution_count": 12,
      "outputs": [
        {
          "output_type": "execute_result",
          "data": {
            "text/plain": [
              "[<matplotlib.lines.Line2D at 0x7f8ab61a4320>]"
            ]
          },
          "metadata": {
            "tags": []
          },
          "execution_count": 12
        },
        {
          "output_type": "display_data",
          "data": {
            "image/png": "[encoded data removed]",
            "text/plain": [
              "<Figure size 432x288 with 1 Axes>"
            ]
          },
          "metadata": {
            "tags": [],
            "needs_background": "light"
          }
        }
      ]
    },
    {
      "cell_type": "markdown",
      "metadata": {
        "id": "A8mEgjqr0teX"
      },
      "source": [
        "---"
      ]
    },
    {
      "cell_type": "markdown",
      "metadata": {
        "id": "ykzds1f50teX"
      },
      "source": [
        "<img src=\"https://raw.githubusercontent.com/cris-her/machine-learning-platzi/master/img/learning_curve.png\" width=500>"
      ]
    },
    {
      "cell_type": "markdown",
      "metadata": {
        "id": "KBGCqFNQ0teY"
      },
      "source": [
        "El modelo aún está aprendiendo, sin embargo no tenemos como obtener datos adicionales."
      ]
    },
    {
      "cell_type": "markdown",
      "metadata": {
        "id": "4lV-krA60teY"
      },
      "source": [
        "**Como solucionar el overfitting y el underfitting?**\n",
        "\n",
        "Viarianza Alta:\n",
        "\n",
        "- Conseguir más ejemplos\n",
        "- Reducir cantidad de features\n",
        "- Aumentar coeficiente de regularización\n",
        "\n",
        "Bias Alto:\n",
        "\n",
        "- Más features\n",
        "- Modelo más complejo\n",
        "\n",
        "Mal resultado general:\n",
        "\n",
        "- Probar otro algoritmo/familia de modelos, quizás las hipotesis del modelo no son cumplidad por tu dataset"
      ]
    }
  ]
}